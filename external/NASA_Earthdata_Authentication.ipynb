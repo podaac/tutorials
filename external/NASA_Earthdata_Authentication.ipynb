{
 "cells": [
  {
   "cell_type": "markdown",
   "id": "a9a9639d-1c8d-430b-928f-953367060252",
   "metadata": {},
   "source": [
    "> From the PO.DAAC Cookbook, to access the GitHub version of the notebook, follow [this link](https://github.com/podaac/tutorials/blob/master/external/NASA_Earthdata_Authentication.ipynb)."
   ]
  },
  {
   "cell_type": "markdown",
   "id": "760a499e",
   "metadata": {},
   "source": [
    "# How to Authenticate for NASA Earthdata Programmatically\n",
    "\n",
    "## Earthdata Login\n",
    "An Earthdata Login account is required to access data, as well as discover restricted data, from the NASA Earthdata system. Thus, to access NASA data, you need Earthdata Login. Please visit https://urs.earthdata.nasa.gov to register and manage your Earthdata Login account. This account is free to create and only takes a moment to set up.\n",
    "\n",
    "#### We recommend programmatic authentication with a few lines of code using the [`earthaccess` python package](https://github.com/nsidc/earthaccess)."
   ]
  },
  {
   "cell_type": "code",
   "execution_count": null,
   "id": "064bbab8-88a5-4804-bfac-6d8e588e68cc",
   "metadata": {},
   "outputs": [],
   "source": [
    "import earthaccess\n",
    "\n",
    "auth = earthaccess.login(strategy=\"interactive\", persist=True)"
   ]
  },
  {
   "cell_type": "markdown",
   "id": "ff8f97bd-046f-4c86-8a05-f7ad9eb9edb7",
   "metadata": {},
   "source": [
    "The line above has you login to Earthdata and persists the credentials in a netrc file in your home directory behind the scenes. If you know you already have a netrc file, you can also authenticate with the following, without typing in your login credentials each time:"
   ]
  },
  {
   "cell_type": "code",
   "execution_count": null,
   "id": "d0fe4d5e-61b6-48b4-853c-89981086b9dc",
   "metadata": {},
   "outputs": [],
   "source": [
    "auth = earthaccess.login(strategy=\"netrc\")"
   ]
  },
  {
   "cell_type": "markdown",
   "id": "1da63d54-546e-4fd3-8fe5-03a0a92cf1c8",
   "metadata": {},
   "source": [
    "#### Authentication is also possible without the `earthaccess` package; please review [this 2021 Cloud Hackathon Authentication tutorial](https://nasa-openscapes.github.io/2021-Cloud-Workshop-AGU/tutorials/02_NASA_Earthdata_Authentication.html) for more details."
   ]
  }
 ],
 "metadata": {
  "kernelspec": {
   "display_name": "Python 3 (ipykernel)",
   "language": "python",
   "name": "python3"
  },
  "language_info": {
   "codemirror_mode": {
    "name": "ipython",
    "version": 3
   },
   "file_extension": ".py",
   "mimetype": "text/x-python",
   "name": "python",
   "nbconvert_exporter": "python",
   "pygments_lexer": "ipython3",
   "version": "3.8.13"
  }
 },
 "nbformat": 4,
 "nbformat_minor": 5
}
