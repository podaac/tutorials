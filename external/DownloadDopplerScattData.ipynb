{
 "cells": [
  {
   "cell_type": "markdown",
   "id": "50af517a",
   "metadata": {},
   "source": [
    "# S-MODE Workshop: Science Case Study Airborne Part 1\n",
    "\n",
    "imported on: **2023-03-02**\n",
    "\n",
    "<p>This notebook is from a different repository in NASA's PO.DAAC, 2022-SMODE-Open-Data-Workshop</p>\n",
    "\n",
    "> The original source for this document is [https://github.com/podaac/2022-SMODE-Open-Data-Workshop/blob/main/notebooks/DownloadDopplerScattData.ipynb](https://github.com/podaac/2022-SMODE-Open-Data-Workshop/blob/main/notebooks/DownloadDopplerScattData.ipynb)"
   ]
  },
  {
   "cell_type": "markdown",
   "id": "b52ffd66-6902-4a17-8925-75c8df881cf1",
   "metadata": {},
   "source": [
    "# Downloading DopplerScatt Data\n",
    "\n",
    "Use this notebook, appropriately modified for the dates of interest and the location where you want to store the data, to download DopplerScatt data from the [S-MODE](https://smode.whoi.edu/) Pilot experiment that occurred in October and November 2021.\n",
    "\n",
    "Since this notebook installs packages via pip, you may want to run it in a separate environment to avoid conflicts with your existing installations."
   ]
  },
  {
   "cell_type": "code",
   "execution_count": 1,
   "id": "14051dd3-06fa-4ec4-9cb0-26279aebb32b",
   "metadata": {
    "tags": []
   },
   "outputs": [],
   "source": [
    "import sys\n",
    "sys.path.append('../src')"
   ]
  },
  {
   "cell_type": "code",
   "execution_count": 2,
   "id": "114fa93c-d204-4da8-b5d5-4fc19e4a33af",
   "metadata": {},
   "outputs": [],
   "source": [
    "from download_dopplerscatt_data import setup_netrc_file, download_dopplerscatt_data"
   ]
  },
  {
   "cell_type": "markdown",
   "id": "c4947f34-7370-4421-a426-8725047f5a7b",
   "metadata": {},
   "source": [
    "## Create a netrc file, if non-existent.\n",
    "\n",
    "Prior to doing this, you must obtain an account with [NASA Earthdata](https://urs.earthdata.nasa.gov)."
   ]
  },
  {
   "cell_type": "code",
   "execution_count": 3,
   "id": "a3027f10-259f-4f2a-81bf-53a258599cab",
   "metadata": {},
   "outputs": [
    {
     "name": "stdout",
     "output_type": "stream",
     "text": [
      "netrc file not found, please login into NASA Earthdata:\n"
     ]
    },
    {
     "name": "stdin",
     "output_type": "stream",
     "text": [
      "Enter NASA Earthdata Login Username:  ········\n",
      "Enter NASA Earthdata Login Password:  ········\n"
     ]
    },
    {
     "name": "stdout",
     "output_type": "stream",
     "text": [
      "nterc file written to /Users/erodrigu/.netrc\n"
     ]
    }
   ],
   "source": [
    "netrc_file = setup_netrc_file()"
   ]
  },
  {
   "cell_type": "markdown",
   "id": "868d7b3a-f036-41c8-b288-b05594f87805",
   "metadata": {},
   "source": [
    "## Install the PODAAC download ustility using pip"
   ]
  },
  {
   "cell_type": "code",
   "execution_count": 4,
   "id": "9599666a-e321-4b77-bfc0-bc80ddf67256",
   "metadata": {},
   "outputs": [],
   "source": [
    "!pip install podaac-data-subscriber > pip.log"
   ]
  },
  {
   "cell_type": "markdown",
   "id": "54a66d76-39a1-4c97-bbc4-4454c9f503a2",
   "metadata": {},
   "source": [
    "## Use the DopplerScatt utility program to download the data\n",
    "\n",
    "Modify the destination directory, starting and ending dates (using the same format shown), and the download utility path (although this should not need to be modified)."
   ]
  },
  {
   "cell_type": "code",
   "execution_count": 5,
   "id": "aef57c60-2b82-4afb-9370-4ee6eb0e548b",
   "metadata": {},
   "outputs": [
    {
     "name": "stdout",
     "output_type": "stream",
     "text": [
      "[2022-11-27 10:44:34,150] {podaac_data_downloader.py:155} INFO - NOTE: Making new data directory at ../data/SMODE_L2_DOPPLERSCATT_WINDS_CURRENT_V1(This is the first run.)\n",
      "[2022-11-27 10:44:35,376] {podaac_data_downloader.py:243} INFO - Found 1 total files to download\n",
      "[2022-11-27 10:44:58,149] {podaac_data_downloader.py:276} INFO - 2022-11-27 10:44:58.149797 SUCCESS: https://archive.podaac.earthdata.nasa.gov/podaac-ops-cumulus-protected/SMODE_L2_DOPPLERSCATT_WINDS_CURRENT_V1/dopplerscatt_20211103_125259.tomoL2CF.nc\n",
      "[2022-11-27 10:44:58,150] {podaac_data_downloader.py:287} INFO - Downloaded Files: 1\n",
      "[2022-11-27 10:44:58,150] {podaac_data_downloader.py:288} INFO - Failed Files:     0\n",
      "[2022-11-27 10:44:58,150] {podaac_data_downloader.py:289} INFO - Skipped Files:    0\n",
      "[2022-11-27 10:44:59,026] {podaac_access.py:122} INFO - CMR token successfully deleted\n",
      "[2022-11-27 10:44:59,026] {podaac_data_downloader.py:299} INFO - END\n",
      "\n",
      "\n",
      "Succesfully downloaded desired DopplerScatt data.\n"
     ]
    }
   ],
   "source": [
    "download_dopplerscatt_data(data_dir = '../data/SMODE_L2_DOPPLERSCATT_WINDS_CURRENT_V1',\n",
    "                           start_date = '2021-11-03T00:00:00Z',\n",
    "                           end_date = '2021-11-04T00:00:00Z',\n",
    "                           downloader='podaac-data-downloader')"
   ]
  },
  {
   "cell_type": "markdown",
   "id": "90cb095f-65e2-44f9-9d2a-64631f02d47e",
   "metadata": {},
   "source": [
    "## Cleanup auxiliary files, if desired\n",
    "\n",
    "The netrc file is not secure, so you may want to remove it if you are concerned about the security of your Earthdata credentials. **WARNING** *This will remove your existing netrc file, which may already contain other information in addition to your Earthdata credentials.*"
   ]
  },
  {
   "cell_type": "code",
   "execution_count": 6,
   "id": "27cabfbf-a4c0-4a03-930a-b045444d7bfa",
   "metadata": {},
   "outputs": [],
   "source": [
    "!rm pip.log $netrc_file"
   ]
  }
 ],
 "metadata": {
  "kernelspec": {
   "display_name": "Python 3 (ipykernel)",
   "language": "python",
   "name": "python3"
  },
  "language_info": {
   "codemirror_mode": {
    "name": "ipython",
    "version": 3
   },
   "file_extension": ".py",
   "mimetype": "text/x-python",
   "name": "python",
   "nbconvert_exporter": "python",
   "pygments_lexer": "ipython3",
   "version": "3.11.0"
  }
 },
 "nbformat": 4,
 "nbformat_minor": 5
}
