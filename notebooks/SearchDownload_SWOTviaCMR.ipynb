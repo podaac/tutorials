{
 "cells": [
  {
   "cell_type": "markdown",
   "metadata": {},
   "source": [
    "> From the PO.DAAC Cookbook, to access the GitHub version of the notebook, follow [this link](https://github.com/podaac/tutorials/blob/master/notebooks/SearchDownload_SWOTviaCMR.ipynb)."
   ]
  },
  {
   "cell_type": "markdown",
   "metadata": {},
   "source": [
    "# Search and Download SWOT Data via `earthaccess`\n",
    "#### *Author: Cassandra Nickles, PO.DAAC*\n",
    "\n",
    "## Summary\n",
    "This notebook will find and download beta pre-validated SWOT hydrology data programmatically via earthaccess python library. For more information about earthaccess visit: https://nsidc.github.io/earthaccess/\n",
    "\n",
    "## Requirements\n",
    "### 1. Compute environment \n",
    "This tutorial can be run in the following environments:\n",
    "- **Local compute environment** e.g. laptop, server: this tutorial can be run on your local machine\n",
    "\n",
    "### 2. Earthdata Login\n",
    "\n",
    "An Earthdata Login account is required to access data, as well as discover restricted data, from the NASA Earthdata system. Thus, to access NASA data, you need Earthdata Login. Please visit https://urs.earthdata.nasa.gov to register and manage your Earthdata Login account. This account is free to create and only takes a moment to set up.\n",
    "\n",
    "### Import libraries"
   ]
  },
  {
   "cell_type": "code",
   "execution_count": 1,
   "metadata": {
    "tags": []
   },
   "outputs": [],
   "source": [
    "import geopandas as gpd\n",
    "import glob\n",
    "from pathlib import Path\n",
    "import pandas as pd\n",
    "import os\n",
    "import zipfile\n",
    "import earthaccess\n",
    "from earthaccess import Auth, DataCollections, DataGranules, Store"
   ]
  },
  {
   "cell_type": "markdown",
   "metadata": {},
   "source": [
    "In this notebook, we will be calling the authentication in the below cell."
   ]
  },
  {
   "cell_type": "code",
   "execution_count": 2,
   "metadata": {
    "tags": []
   },
   "outputs": [
    {
     "name": "stdout",
     "output_type": "stream",
     "text": [
      "EARTHDATA_USERNAME and EARTHDATA_PASSWORD are not set in the current environment, try setting them or use a different strategy (netrc, interactive)\n",
      "You're now authenticated with NASA Earthdata Login\n",
      "Using token with expiration date: 12/22/2023\n",
      "Using .netrc file for EDL\n"
     ]
    }
   ],
   "source": [
    "auth = earthaccess.login() "
   ]
  },
  {
   "cell_type": "markdown",
   "metadata": {},
   "source": [
    "### Search for SWOT data links\n",
    "We want to find the SWOT files for a particular pass over North America. \n",
    "\n",
    "Each dataset has it's own unique shortname, which can be used to search earthaccess. Shortnames can be found on dataset landing pages or [Earthdata Search](https://search.earthdata.nasa.gov/search) Collections.\n",
    "\n",
    "#### SWOT Level 2 KaRIn High Rate Version 1.1 Datasets from calibration phase, 4/8 through 4/22:\n",
    "\n",
    "- **Water Mask Pixel Cloud NetCDF** - SWOT_L2_HR_PIXC_1.1 (DOI: 10.5067/SWOT-PIXC-1.1)\n",
    "- **Water Mask Pixel Cloud Vector Attribute NetCDF** - SWOT_L2_HR_PIXCVec_1.1 (DOI: 10.5067/SWOT-PIXCVEC-1.1)\n",
    "- **River Vector Shapefile** - SWOT_L2_HR_RiverSP_1.1 (DOI: 10.5067/SWOT-RIVERSP-1.1)  \n",
    "- **Lake Vector Shapefile** - SWOT_L2_HR_LakeSP_1.1 (DOI: 10.5067/SWOT-LAKESP-1.1)\n",
    "- **Raster NetCDF** - SWOT_L2_HR_Raster_1.1 (DOI: 10.5067/SWOT-RASTER-1.1)\n",
    "\n",
    "Let's start our search for River Vector Shapefiles in April 2023 with a particular pass, pass 013. SWOT files come in \"reach\" and \"node\" versions in the same collection, here we want the 10km reaches rather than the nodes. We will also only get files for North America, or 'NA' and call out a specific pass number that we want."
   ]
  },
  {
   "cell_type": "code",
   "execution_count": 3,
   "metadata": {
    "tags": []
   },
   "outputs": [
    {
     "name": "stdout",
     "output_type": "stream",
     "text": [
      "Granules found: 17\n"
     ]
    }
   ],
   "source": [
    "#Retrieves granule from the day we want, in this case by passing to `earthdata.search_data` function the data collection shortname, temporal bounds, filter by wildcards, and for restricted data one must specify the search count\n",
    "results = earthaccess.search_data(short_name = 'SWOT_L2_HR_RIVERSP_1.1', \n",
    "                                  temporal = ('2023-04-08 00:00:00', '2023-04-25 23:59:59'),\n",
    "                                  granule_name = '*Reach*_013_NA*', # here we filter by Reach files (not node), pass #13 and continent code=NA\n",
    "                                  count=2000) #for restricted datasets, need to specify count number (1-2000)"
   ]
  },
  {
   "cell_type": "markdown",
   "metadata": {},
   "source": [
    "During the fast sampling orbit for SWOT, the same passes were observed daily, thus 18 files makes sense! During the science orbit, a pass will be repeated once every 21 days. A particular location may have different passes observe it within the 21 days, however. See the [SWOT swath visualizer](https://swot.jpl.nasa.gov/mission/swath-visualizer/) for your location!"
   ]
  },
  {
   "cell_type": "markdown",
   "metadata": {},
   "source": [
    "### Download the Data into a folder"
   ]
  },
  {
   "cell_type": "code",
   "execution_count": 9,
   "metadata": {
    "tags": []
   },
   "outputs": [
    {
     "name": "stdout",
     "output_type": "stream",
     "text": [
      " Getting 17 granules, approx download size: 0.04 GB\n"
     ]
    },
    {
     "data": {
      "application/vnd.jupyter.widget-view+json": {
       "model_id": "981618af703c4e2483a4a27d0751bcc9",
       "version_major": 2,
       "version_minor": 0
      },
      "text/plain": [
       "QUEUEING TASKS | :   0%|          | 0/17 [00:00<?, ?it/s]"
      ]
     },
     "metadata": {},
     "output_type": "display_data"
    },
    {
     "data": {
      "application/vnd.jupyter.widget-view+json": {
       "model_id": "eac1cbb44d294110ab737f58db695590",
       "version_major": 2,
       "version_minor": 0
      },
      "text/plain": [
       "PROCESSING TASKS | :   0%|          | 0/17 [00:00<?, ?it/s]"
      ]
     },
     "metadata": {},
     "output_type": "display_data"
    },
    {
     "data": {
      "application/vnd.jupyter.widget-view+json": {
       "model_id": "fddb58557ebc42218ea659157ce01c5f",
       "version_major": 2,
       "version_minor": 0
      },
      "text/plain": [
       "COLLECTING RESULTS | :   0%|          | 0/17 [00:00<?, ?it/s]"
      ]
     },
     "metadata": {},
     "output_type": "display_data"
    }
   ],
   "source": [
    "earthaccess.download(results, \"./datasets/data_downloads/SWOT_files\")\n",
    "folder = Path(\"./datasets/data_downloads/SWOT_files\")"
   ]
  },
  {
   "cell_type": "markdown",
   "metadata": {},
   "source": [
    "### Shapefiles come in a .zip format, and need to be unzipped in the existing folder"
   ]
  },
  {
   "cell_type": "code",
   "execution_count": 7,
   "metadata": {
    "tags": []
   },
   "outputs": [],
   "source": [
    "for item in os.listdir(folder): # loop through items in dir\n",
    "    if item.endswith(\".zip\"): # check for \".zip\" extension\n",
    "        zip_ref = zipfile.ZipFile(f\"{folder}/{item}\") # create zipfile object\n",
    "        zip_ref.extractall(folder) # extract file to dir\n",
    "        zip_ref.close() # close file"
   ]
  },
  {
   "cell_type": "code",
   "execution_count": 8,
   "metadata": {
    "tags": []
   },
   "outputs": [
    {
     "data": {
      "text/plain": [
       "['SWOT_L2_HR_RiverSP_Reach_484_013_NA_20230408T071821_20230408T071832_PIB0_01.dbf',\n",
       " 'SWOT_L2_HR_RiverSP_Reach_484_013_NA_20230408T071821_20230408T071832_PIB0_01.prj',\n",
       " 'SWOT_L2_HR_RiverSP_Reach_484_013_NA_20230408T071821_20230408T071832_PIB0_01.shp',\n",
       " 'SWOT_L2_HR_RiverSP_Reach_484_013_NA_20230408T071821_20230408T071832_PIB0_01.shp.xml',\n",
       " 'SWOT_L2_HR_RiverSP_Reach_484_013_NA_20230408T071821_20230408T071832_PIB0_01.shx',\n",
       " 'SWOT_L2_HR_RiverSP_Reach_484_013_NA_20230408T071821_20230408T071832_PIB0_01.zip',\n",
       " 'SWOT_L2_HR_RiverSP_Reach_485_013_NA_20230409T070859_20230409T070910_PIB0_01.dbf',\n",
       " 'SWOT_L2_HR_RiverSP_Reach_485_013_NA_20230409T070859_20230409T070910_PIB0_01.prj',\n",
       " 'SWOT_L2_HR_RiverSP_Reach_485_013_NA_20230409T070859_20230409T070910_PIB0_01.shp',\n",
       " 'SWOT_L2_HR_RiverSP_Reach_485_013_NA_20230409T070859_20230409T070910_PIB0_01.shp.xml',\n",
       " 'SWOT_L2_HR_RiverSP_Reach_485_013_NA_20230409T070859_20230409T070910_PIB0_01.shx',\n",
       " 'SWOT_L2_HR_RiverSP_Reach_485_013_NA_20230409T070859_20230409T070910_PIB0_01.zip',\n",
       " 'SWOT_L2_HR_RiverSP_Reach_486_013_NA_20230410T065937_20230410T065948_PIB0_01.dbf',\n",
       " 'SWOT_L2_HR_RiverSP_Reach_486_013_NA_20230410T065937_20230410T065948_PIB0_01.prj',\n",
       " 'SWOT_L2_HR_RiverSP_Reach_486_013_NA_20230410T065937_20230410T065948_PIB0_01.shp',\n",
       " 'SWOT_L2_HR_RiverSP_Reach_486_013_NA_20230410T065937_20230410T065948_PIB0_01.shp.xml',\n",
       " 'SWOT_L2_HR_RiverSP_Reach_486_013_NA_20230410T065937_20230410T065948_PIB0_01.shx',\n",
       " 'SWOT_L2_HR_RiverSP_Reach_486_013_NA_20230410T065937_20230410T065948_PIB0_01.zip',\n",
       " 'SWOT_L2_HR_RiverSP_Reach_487_013_NA_20230411T065015_20230411T065026_PIB0_01.dbf',\n",
       " 'SWOT_L2_HR_RiverSP_Reach_487_013_NA_20230411T065015_20230411T065026_PIB0_01.prj',\n",
       " 'SWOT_L2_HR_RiverSP_Reach_487_013_NA_20230411T065015_20230411T065026_PIB0_01.shp',\n",
       " 'SWOT_L2_HR_RiverSP_Reach_487_013_NA_20230411T065015_20230411T065026_PIB0_01.shp.xml',\n",
       " 'SWOT_L2_HR_RiverSP_Reach_487_013_NA_20230411T065015_20230411T065026_PIB0_01.shx',\n",
       " 'SWOT_L2_HR_RiverSP_Reach_487_013_NA_20230411T065015_20230411T065026_PIB0_01.zip',\n",
       " 'SWOT_L2_HR_RiverSP_Reach_488_013_NA_20230412T064053_20230412T064104_PIB0_01.dbf',\n",
       " 'SWOT_L2_HR_RiverSP_Reach_488_013_NA_20230412T064053_20230412T064104_PIB0_01.prj',\n",
       " 'SWOT_L2_HR_RiverSP_Reach_488_013_NA_20230412T064053_20230412T064104_PIB0_01.shp',\n",
       " 'SWOT_L2_HR_RiverSP_Reach_488_013_NA_20230412T064053_20230412T064104_PIB0_01.shp.xml',\n",
       " 'SWOT_L2_HR_RiverSP_Reach_488_013_NA_20230412T064053_20230412T064104_PIB0_01.shx',\n",
       " 'SWOT_L2_HR_RiverSP_Reach_488_013_NA_20230412T064053_20230412T064104_PIB0_01.zip',\n",
       " 'SWOT_L2_HR_RiverSP_Reach_489_013_NA_20230413T063131_20230413T063142_PIB0_01.dbf',\n",
       " 'SWOT_L2_HR_RiverSP_Reach_489_013_NA_20230413T063131_20230413T063142_PIB0_01.prj',\n",
       " 'SWOT_L2_HR_RiverSP_Reach_489_013_NA_20230413T063131_20230413T063142_PIB0_01.shp',\n",
       " 'SWOT_L2_HR_RiverSP_Reach_489_013_NA_20230413T063131_20230413T063142_PIB0_01.shp.xml',\n",
       " 'SWOT_L2_HR_RiverSP_Reach_489_013_NA_20230413T063131_20230413T063142_PIB0_01.shx',\n",
       " 'SWOT_L2_HR_RiverSP_Reach_489_013_NA_20230413T063131_20230413T063142_PIB0_01.zip',\n",
       " 'SWOT_L2_HR_RiverSP_Reach_490_013_NA_20230414T062209_20230414T062220_PIB0_01.dbf',\n",
       " 'SWOT_L2_HR_RiverSP_Reach_490_013_NA_20230414T062209_20230414T062220_PIB0_01.prj',\n",
       " 'SWOT_L2_HR_RiverSP_Reach_490_013_NA_20230414T062209_20230414T062220_PIB0_01.shp',\n",
       " 'SWOT_L2_HR_RiverSP_Reach_490_013_NA_20230414T062209_20230414T062220_PIB0_01.shp.xml',\n",
       " 'SWOT_L2_HR_RiverSP_Reach_490_013_NA_20230414T062209_20230414T062220_PIB0_01.shx',\n",
       " 'SWOT_L2_HR_RiverSP_Reach_490_013_NA_20230414T062209_20230414T062220_PIB0_01.zip',\n",
       " 'SWOT_L2_HR_RiverSP_Reach_492_013_NA_20230416T060325_20230416T060336_PIB0_01.dbf',\n",
       " 'SWOT_L2_HR_RiverSP_Reach_492_013_NA_20230416T060325_20230416T060336_PIB0_01.prj',\n",
       " 'SWOT_L2_HR_RiverSP_Reach_492_013_NA_20230416T060325_20230416T060336_PIB0_01.shp',\n",
       " 'SWOT_L2_HR_RiverSP_Reach_492_013_NA_20230416T060325_20230416T060336_PIB0_01.shp.xml',\n",
       " 'SWOT_L2_HR_RiverSP_Reach_492_013_NA_20230416T060325_20230416T060336_PIB0_01.shx',\n",
       " 'SWOT_L2_HR_RiverSP_Reach_492_013_NA_20230416T060325_20230416T060336_PIB0_01.zip',\n",
       " 'SWOT_L2_HR_RiverSP_Reach_493_013_NA_20230417T055403_20230417T055414_PIB0_01.dbf',\n",
       " 'SWOT_L2_HR_RiverSP_Reach_493_013_NA_20230417T055403_20230417T055414_PIB0_01.prj',\n",
       " 'SWOT_L2_HR_RiverSP_Reach_493_013_NA_20230417T055403_20230417T055414_PIB0_01.shp',\n",
       " 'SWOT_L2_HR_RiverSP_Reach_493_013_NA_20230417T055403_20230417T055414_PIB0_01.shp.xml',\n",
       " 'SWOT_L2_HR_RiverSP_Reach_493_013_NA_20230417T055403_20230417T055414_PIB0_01.shx',\n",
       " 'SWOT_L2_HR_RiverSP_Reach_493_013_NA_20230417T055403_20230417T055414_PIB0_01.zip',\n",
       " 'SWOT_L2_HR_RiverSP_Reach_494_013_NA_20230418T054441_20230418T054452_PIB0_02.dbf',\n",
       " 'SWOT_L2_HR_RiverSP_Reach_494_013_NA_20230418T054441_20230418T054452_PIB0_02.prj',\n",
       " 'SWOT_L2_HR_RiverSP_Reach_494_013_NA_20230418T054441_20230418T054452_PIB0_02.shp',\n",
       " 'SWOT_L2_HR_RiverSP_Reach_494_013_NA_20230418T054441_20230418T054452_PIB0_02.shp.xml',\n",
       " 'SWOT_L2_HR_RiverSP_Reach_494_013_NA_20230418T054441_20230418T054452_PIB0_02.shx',\n",
       " 'SWOT_L2_HR_RiverSP_Reach_494_013_NA_20230418T054441_20230418T054452_PIB0_02.zip',\n",
       " 'SWOT_L2_HR_RiverSP_Reach_495_013_NA_20230419T053519_20230419T053530_PIB0_01.dbf',\n",
       " 'SWOT_L2_HR_RiverSP_Reach_495_013_NA_20230419T053519_20230419T053530_PIB0_01.prj',\n",
       " 'SWOT_L2_HR_RiverSP_Reach_495_013_NA_20230419T053519_20230419T053530_PIB0_01.shp',\n",
       " 'SWOT_L2_HR_RiverSP_Reach_495_013_NA_20230419T053519_20230419T053530_PIB0_01.shp.xml',\n",
       " 'SWOT_L2_HR_RiverSP_Reach_495_013_NA_20230419T053519_20230419T053530_PIB0_01.shx',\n",
       " 'SWOT_L2_HR_RiverSP_Reach_495_013_NA_20230419T053519_20230419T053530_PIB0_01.zip',\n",
       " 'SWOT_L2_HR_RiverSP_Reach_496_013_NA_20230420T052556_20230420T052607_PIB0_01.dbf',\n",
       " 'SWOT_L2_HR_RiverSP_Reach_496_013_NA_20230420T052556_20230420T052607_PIB0_01.prj',\n",
       " 'SWOT_L2_HR_RiverSP_Reach_496_013_NA_20230420T052556_20230420T052607_PIB0_01.shp',\n",
       " 'SWOT_L2_HR_RiverSP_Reach_496_013_NA_20230420T052556_20230420T052607_PIB0_01.shp.xml',\n",
       " 'SWOT_L2_HR_RiverSP_Reach_496_013_NA_20230420T052556_20230420T052607_PIB0_01.shx',\n",
       " 'SWOT_L2_HR_RiverSP_Reach_496_013_NA_20230420T052556_20230420T052607_PIB0_01.zip',\n",
       " 'SWOT_L2_HR_RiverSP_Reach_497_013_NA_20230421T051634_20230421T051645_PIB0_01.dbf',\n",
       " 'SWOT_L2_HR_RiverSP_Reach_497_013_NA_20230421T051634_20230421T051645_PIB0_01.prj',\n",
       " 'SWOT_L2_HR_RiverSP_Reach_497_013_NA_20230421T051634_20230421T051645_PIB0_01.shp',\n",
       " 'SWOT_L2_HR_RiverSP_Reach_497_013_NA_20230421T051634_20230421T051645_PIB0_01.shp.xml',\n",
       " 'SWOT_L2_HR_RiverSP_Reach_497_013_NA_20230421T051634_20230421T051645_PIB0_01.shx',\n",
       " 'SWOT_L2_HR_RiverSP_Reach_497_013_NA_20230421T051634_20230421T051645_PIB0_01.zip',\n",
       " 'SWOT_L2_HR_RiverSP_Reach_498_013_NA_20230422T050712_20230422T050723_PIB0_01.dbf',\n",
       " 'SWOT_L2_HR_RiverSP_Reach_498_013_NA_20230422T050712_20230422T050723_PIB0_01.prj',\n",
       " 'SWOT_L2_HR_RiverSP_Reach_498_013_NA_20230422T050712_20230422T050723_PIB0_01.shp',\n",
       " 'SWOT_L2_HR_RiverSP_Reach_498_013_NA_20230422T050712_20230422T050723_PIB0_01.shp.xml',\n",
       " 'SWOT_L2_HR_RiverSP_Reach_498_013_NA_20230422T050712_20230422T050723_PIB0_01.shx',\n",
       " 'SWOT_L2_HR_RiverSP_Reach_498_013_NA_20230422T050712_20230422T050723_PIB0_01.zip',\n",
       " 'SWOT_L2_HR_RiverSP_Reach_499_013_NA_20230423T045750_20230423T045801_PIB0_01.dbf',\n",
       " 'SWOT_L2_HR_RiverSP_Reach_499_013_NA_20230423T045750_20230423T045801_PIB0_01.prj',\n",
       " 'SWOT_L2_HR_RiverSP_Reach_499_013_NA_20230423T045750_20230423T045801_PIB0_01.shp',\n",
       " 'SWOT_L2_HR_RiverSP_Reach_499_013_NA_20230423T045750_20230423T045801_PIB0_01.shp.xml',\n",
       " 'SWOT_L2_HR_RiverSP_Reach_499_013_NA_20230423T045750_20230423T045801_PIB0_01.shx',\n",
       " 'SWOT_L2_HR_RiverSP_Reach_499_013_NA_20230423T045750_20230423T045801_PIB0_01.zip',\n",
       " 'SWOT_L2_HR_RiverSP_Reach_500_013_NA_20230424T044828_20230424T044839_PIB0_01.dbf',\n",
       " 'SWOT_L2_HR_RiverSP_Reach_500_013_NA_20230424T044828_20230424T044839_PIB0_01.prj',\n",
       " 'SWOT_L2_HR_RiverSP_Reach_500_013_NA_20230424T044828_20230424T044839_PIB0_01.shp',\n",
       " 'SWOT_L2_HR_RiverSP_Reach_500_013_NA_20230424T044828_20230424T044839_PIB0_01.shp.xml',\n",
       " 'SWOT_L2_HR_RiverSP_Reach_500_013_NA_20230424T044828_20230424T044839_PIB0_01.shx',\n",
       " 'SWOT_L2_HR_RiverSP_Reach_500_013_NA_20230424T044828_20230424T044839_PIB0_01.zip',\n",
       " 'SWOT_L2_HR_RiverSP_Reach_501_013_NA_20230425T043906_20230425T043917_PIB0_01.dbf',\n",
       " 'SWOT_L2_HR_RiverSP_Reach_501_013_NA_20230425T043906_20230425T043917_PIB0_01.prj',\n",
       " 'SWOT_L2_HR_RiverSP_Reach_501_013_NA_20230425T043906_20230425T043917_PIB0_01.shp',\n",
       " 'SWOT_L2_HR_RiverSP_Reach_501_013_NA_20230425T043906_20230425T043917_PIB0_01.shp.xml',\n",
       " 'SWOT_L2_HR_RiverSP_Reach_501_013_NA_20230425T043906_20230425T043917_PIB0_01.shx',\n",
       " 'SWOT_L2_HR_RiverSP_Reach_501_013_NA_20230425T043906_20230425T043917_PIB0_01.zip']"
      ]
     },
     "execution_count": 8,
     "metadata": {},
     "output_type": "execute_result"
    }
   ],
   "source": [
    "os.listdir(folder)"
   ]
  }
 ],
 "metadata": {
  "kernelspec": {
   "display_name": "Python 3 (ipykernel)",
   "language": "python",
   "name": "python3"
  },
  "language_info": {
   "codemirror_mode": {
    "name": "ipython",
    "version": 3
   },
   "file_extension": ".py",
   "mimetype": "text/x-python",
   "name": "python",
   "nbconvert_exporter": "python",
   "pygments_lexer": "ipython3",
   "version": "3.8.13"
  },
  "vscode": {
   "interpreter": {
    "hash": "c5773edd8cfec1b980765f45592751359f797d5bc2e0f18319f112bb9ed701f9"
   }
  }
 },
 "nbformat": 4,
 "nbformat_minor": 4
}
