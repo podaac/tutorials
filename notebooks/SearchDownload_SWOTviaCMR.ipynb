{
 "cells": [
  {
   "cell_type": "markdown",
   "metadata": {},
   "source": [
    "> From the PO.DAAC Cookbook, to access the GitHub version of the notebook, follow [this link](https://github.com/podaac/tutorials/blob/master/notebooks/SearchDownload_SWOTviaCMR.ipynb)."
   ]
  },
  {
   "cell_type": "markdown",
   "metadata": {},
   "source": [
    "# Search and Download Simulated SWOT Data via `earthaccess`\n",
    "#### *Author: Cassandra Nickles, PO.DAAC*\n",
    "\n",
    "## Summary\n",
    "This notebook will find and download simulated SWOT data programmatically via earthaccess. For more information about earthaccess visit: https://nsidc.github.io/earthaccess/\n",
    "\n",
    "## Requirements\n",
    "### 1. Compute environment \n",
    "This tutorial can be run in the following environments:\n",
    "- **Local compute environment** e.g. laptop, server: this tutorial can be run on your local machine\n",
    "\n",
    "### 2. Earthdata Login\n",
    "\n",
    "An Earthdata Login account is required to access data, as well as discover restricted data, from the NASA Earthdata system. Thus, to access NASA data, you need Earthdata Login. Please visit https://urs.earthdata.nasa.gov to register and manage your Earthdata Login account. This account is free to create and only takes a moment to set up.\n",
    "\n",
    "### Import libraries"
   ]
  },
  {
   "cell_type": "code",
   "execution_count": 1,
   "metadata": {},
   "outputs": [],
   "source": [
    "import requests\n",
    "import json\n",
    "import geopandas as gpd\n",
    "import glob\n",
    "from pathlib import Path\n",
    "import pandas as pd\n",
    "import os\n",
    "import zipfile\n",
    "from urllib.request import urlretrieve\n",
    "from json import dumps\n",
    "import earthaccess\n",
    "from earthaccess import Auth, DataCollections, DataGranules, Store"
   ]
  },
  {
   "cell_type": "markdown",
   "metadata": {},
   "source": [
    "In this notebook, we will be calling the authentication in the below cell."
   ]
  },
  {
   "cell_type": "code",
   "execution_count": null,
   "metadata": {},
   "outputs": [],
   "source": [
    "auth = earthaccess.login(strategy=\"interactive\", persist=True)"
   ]
  },
  {
   "cell_type": "markdown",
   "metadata": {},
   "source": [
    "### Search for SWOT sample data links\n",
    "We want to find the SWOT sample files that will cross over our region of interest, in the case, a bounding box of the United States. \n",
    "\n",
    "Each dataset has it's own unique collection ID. For the SWOT_SIMULATED_NA_CONTINENT_L2_HR_RIVERSP_V1 dataset, we find the collection ID [here](https://podaac.jpl.nasa.gov/dataset/SWOT_SIMULATED_NA_CONTINENT_L2_HR_RIVERSP_V1).\n",
    "\n",
    "**Sample SWOT Hydrology Datasets and Associated Collection IDs:**\n",
    "1. **River Vector Shapefile** - SWOT_SIMULATED_NA_CONTINENT_L2_HR_RIVERSP_V1 - **C2263384307-POCLOUD**\n",
    "\n",
    "2. **Lake Vector Shapefile** - SWOT_SIMULATED_NA_CONTINENT_L2_HR_LAKESP_V1 - **C2263384453-POCLOUD**\n",
    "    \n",
    "3. **Raster NetCDF** - SWOT_SIMULATED_NA_CONTINENT_L2_HR_RASTER_V1 - **C2263383790-POCLOUD**\n",
    "\n",
    "4. **Water Mask Pixel Cloud NetCDF** - SWOT_SIMULATED_NA_CONTINENT_L2_HR_PIXC_V1 - **C2263383386-POCLOUD**\n",
    "    \n",
    "5. **Water Mask Pixel Cloud Vector Attribute NetCDF** - SWOT_SIMULATED_NA_CONTINENT_L2_HR_PIXCVEC_V1 - **C2263383657-POCLOUD**"
   ]
  },
  {
   "cell_type": "code",
   "execution_count": 3,
   "metadata": {},
   "outputs": [
    {
     "name": "stdout",
     "output_type": "stream",
     "text": [
      "Granules found: 46\n"
     ]
    }
   ],
   "source": [
    "#earthaccess data search\n",
    "results = earthaccess.search_data(concept_id=\"C2263384307-POCLOUD\", bounding_box=(-124.848974,24.396308,-66.885444,49.384358))"
   ]
  },
  {
   "cell_type": "markdown",
   "metadata": {},
   "source": [
    "### Get Download links from `earthaccess` search results"
   ]
  },
  {
   "cell_type": "code",
   "execution_count": 4,
   "metadata": {},
   "outputs": [
    {
     "name": "stdout",
     "output_type": "stream",
     "text": [
      "23\n"
     ]
    }
   ],
   "source": [
    "#add desired links to a list\n",
    "#if the link has \"Reach\" instead of \"Node\" in the name, we want to download it for the swath use case\n",
    "downloads = []\n",
    "for g in results:\n",
    "    for l in earthaccess.results.DataGranule.data_links(g):\n",
    "        if 'https://archive.podaac.earthdata.nasa.gov/podaac-ops-cumulus-protected/' in l:\n",
    "            if 'Reach' in l:\n",
    "                downloads.append(l)\n",
    "            \n",
    "print(len(downloads))"
   ]
  },
  {
   "cell_type": "markdown",
   "metadata": {},
   "source": [
    "This leaves us with half of the original links from our search."
   ]
  },
  {
   "cell_type": "markdown",
   "metadata": {},
   "source": [
    "### Download the Data into a folder"
   ]
  },
  {
   "cell_type": "code",
   "execution_count": 5,
   "metadata": {},
   "outputs": [],
   "source": [
    "#Create folder to house downloaded data \n",
    "folder = Path(\"SWOT_sample_files\")\n",
    "#newpath = r'SWOT_sample_files' \n",
    "if not os.path.exists(folder):\n",
    "    os.makedirs(folder)"
   ]
  },
  {
   "cell_type": "code",
   "execution_count": 6,
   "metadata": {},
   "outputs": [
    {
     "data": {
      "application/vnd.jupyter.widget-view+json": {
       "model_id": "dabab9a409d146f98ee7a8f99f0ff814",
       "version_major": 2,
       "version_minor": 0
      },
      "text/plain": [
       "QUEUEING TASKS | :   0%|          | 0/23 [00:00<?, ?it/s]"
      ]
     },
     "metadata": {},
     "output_type": "display_data"
    },
    {
     "name": "stdout",
     "output_type": "stream",
     "text": [
      "File SWOT_L2_HR_RiverSP_Reach_007_022_NA_20220804T224145_20220804T224402_PGA0_01.zip already downloadedFile SWOT_L2_HR_RiverSP_Reach_007_037_NA_20220805T115553_20220805T120212_PGA0_01.zip already downloaded\n",
      "\n",
      "File SWOT_L2_HR_RiverSP_Reach_007_104_NA_20220807T205936_20220807T210016_PGA0_01.zip already downloaded\n",
      "File SWOT_L2_HR_RiverSP_Reach_007_121_NA_20220808T115628_20220808T120311_PGA0_01.zip already downloaded\n",
      "File SWOT_L2_HR_RiverSP_Reach_007_065_NA_20220806T115630_20220806T120114_PGA0_01.zip already downloaded\n",
      "File SWOT_L2_HR_RiverSP_Reach_007_147_NA_20220809T101525_20220809T101639_PGA0_01.zip already downloaded\n",
      "File SWOT_L2_HR_RiverSP_Reach_007_162_NA_20220809T224722_20220809T225058_PGA0_01.zip already downloaded\n",
      "File SWOT_L2_HR_RiverSP_Reach_007_175_NA_20220810T101607_20220810T101940_PGA0_01.zip already downloaded\n",
      "File SWOT_L2_HR_RiverSP_Reach_007_132_NA_20220808T210018_20220808T210252_PGA0_01.zip already downloaded\n",
      "File SWOT_L2_HR_RiverSP_Reach_007_177_NA_20220810T120102_20220810T120420_PGA0_01.zip already downloaded\n",
      "File SWOT_L2_HR_RiverSP_Reach_007_203_NA_20220811T101614_20220811T102211_PGA0_01.zip already downloaded\n",
      "File SWOT_L2_HR_RiverSP_Reach_007_287_NA_20220814T101759_20220814T102333_PGA0_01.zip already downloaded\n",
      "File SWOT_L2_HR_RiverSP_Reach_007_300_NA_20220814T210504_20220814T210907_PGA0_01.zip already downloaded\n",
      "File SWOT_L2_HR_RiverSP_Reach_007_315_NA_20220815T101757_20220815T102414_PGA0_01.zip already downloaded\n",
      "File SWOT_L2_HR_RiverSP_Reach_007_205_NA_20220811T120350_20220811T120457_PGA0_01.zip already downloaded\n",
      "File SWOT_L2_HR_RiverSP_Reach_007_371_NA_20220817T101846_20220817T102530_PGA0_01.zip already downloaded\n",
      "File SWOT_L2_HR_RiverSP_Reach_007_427_NA_20220819T101956_20220819T102559_PGA0_01.zip already downloaded\n",
      "File SWOT_L2_HR_RiverSP_Reach_007_343_NA_20220816T101844_20220816T102323_PGA0_01.zip already downloaded\n",
      "File SWOT_L2_HR_RiverSP_Reach_007_440_NA_20220819T210905_20220819T211311_PGA0_01.zip already downloaded\n",
      "File SWOT_L2_HR_RiverSP_Reach_007_453_NA_20220820T083815_20220820T084053_PGA0_01.zip already downloaded\n",
      "File SWOT_L2_HR_RiverSP_Reach_007_522_NA_20220822T192441_20220822T193037_PGA0_01.zip already downloaded\n",
      "File SWOT_L2_HR_RiverSP_Reach_007_483_NA_20220821T102527_20220821T102706_PGA0_01.zip already downloaded\n",
      "File SWOT_L2_HR_RiverSP_Reach_007_468_NA_20220820T211105_20220820T211330_PGA0_01.zip already downloaded\n"
     ]
    },
    {
     "data": {
      "application/vnd.jupyter.widget-view+json": {
       "model_id": "9710958abb644faf9ee4078f8606f994",
       "version_major": 2,
       "version_minor": 0
      },
      "text/plain": [
       "PROCESSING TASKS | :   0%|          | 0/23 [00:00<?, ?it/s]"
      ]
     },
     "metadata": {},
     "output_type": "display_data"
    },
    {
     "data": {
      "application/vnd.jupyter.widget-view+json": {
       "model_id": "c3a79b963290455f8ed625d9f0167b2e",
       "version_major": 2,
       "version_minor": 0
      },
      "text/plain": [
       "COLLECTING RESULTS | :   0%|          | 0/23 [00:00<?, ?it/s]"
      ]
     },
     "metadata": {},
     "output_type": "display_data"
    },
    {
     "data": {
      "text/plain": [
       "['SWOT_L2_HR_RiverSP_Reach_007_022_NA_20220804T224145_20220804T224402_PGA0_01.zip',\n",
       " 'SWOT_L2_HR_RiverSP_Reach_007_037_NA_20220805T115553_20220805T120212_PGA0_01.zip',\n",
       " 'SWOT_L2_HR_RiverSP_Reach_007_065_NA_20220806T115630_20220806T120114_PGA0_01.zip',\n",
       " 'SWOT_L2_HR_RiverSP_Reach_007_104_NA_20220807T205936_20220807T210016_PGA0_01.zip',\n",
       " 'SWOT_L2_HR_RiverSP_Reach_007_121_NA_20220808T115628_20220808T120311_PGA0_01.zip',\n",
       " 'SWOT_L2_HR_RiverSP_Reach_007_132_NA_20220808T210018_20220808T210252_PGA0_01.zip',\n",
       " 'SWOT_L2_HR_RiverSP_Reach_007_147_NA_20220809T101525_20220809T101639_PGA0_01.zip',\n",
       " 'SWOT_L2_HR_RiverSP_Reach_007_162_NA_20220809T224722_20220809T225058_PGA0_01.zip',\n",
       " 'SWOT_L2_HR_RiverSP_Reach_007_175_NA_20220810T101607_20220810T101940_PGA0_01.zip',\n",
       " 'SWOT_L2_HR_RiverSP_Reach_007_177_NA_20220810T120102_20220810T120420_PGA0_01.zip',\n",
       " 'SWOT_L2_HR_RiverSP_Reach_007_203_NA_20220811T101614_20220811T102211_PGA0_01.zip',\n",
       " 'SWOT_L2_HR_RiverSP_Reach_007_205_NA_20220811T120350_20220811T120457_PGA0_01.zip',\n",
       " 'SWOT_L2_HR_RiverSP_Reach_007_287_NA_20220814T101759_20220814T102333_PGA0_01.zip',\n",
       " 'SWOT_L2_HR_RiverSP_Reach_007_300_NA_20220814T210504_20220814T210907_PGA0_01.zip',\n",
       " 'SWOT_L2_HR_RiverSP_Reach_007_315_NA_20220815T101757_20220815T102414_PGA0_01.zip',\n",
       " 'SWOT_L2_HR_RiverSP_Reach_007_343_NA_20220816T101844_20220816T102323_PGA0_01.zip',\n",
       " 'SWOT_L2_HR_RiverSP_Reach_007_371_NA_20220817T101846_20220817T102530_PGA0_01.zip',\n",
       " 'SWOT_L2_HR_RiverSP_Reach_007_427_NA_20220819T101956_20220819T102559_PGA0_01.zip',\n",
       " 'SWOT_L2_HR_RiverSP_Reach_007_440_NA_20220819T210905_20220819T211311_PGA0_01.zip',\n",
       " 'SWOT_L2_HR_RiverSP_Reach_007_453_NA_20220820T083815_20220820T084053_PGA0_01.zip',\n",
       " 'SWOT_L2_HR_RiverSP_Reach_007_468_NA_20220820T211105_20220820T211330_PGA0_01.zip',\n",
       " 'SWOT_L2_HR_RiverSP_Reach_007_483_NA_20220821T102527_20220821T102706_PGA0_01.zip',\n",
       " 'SWOT_L2_HR_RiverSP_Reach_007_522_NA_20220822T192441_20220822T193037_PGA0_01.zip']"
      ]
     },
     "execution_count": 6,
     "metadata": {},
     "output_type": "execute_result"
    }
   ],
   "source": [
    "#download data\n",
    "earthaccess.download(downloads, \"./SWOT_sample_files\")"
   ]
  },
  {
   "cell_type": "markdown",
   "metadata": {},
   "source": [
    "### Shapefiles come in a .zip format, and need to be unzipped in the existing folder"
   ]
  },
  {
   "cell_type": "code",
   "execution_count": 7,
   "metadata": {},
   "outputs": [],
   "source": [
    "for item in os.listdir(folder): # loop through items in dir\n",
    "    if item.endswith(\".zip\"): # check for \".zip\" extension\n",
    "        zip_ref = zipfile.ZipFile(f\"{folder}/{item}\") # create zipfile object\n",
    "        zip_ref.extractall(folder) # extract file to dir\n",
    "        zip_ref.close() # close file"
   ]
  },
  {
   "cell_type": "code",
   "execution_count": 8,
   "metadata": {},
   "outputs": [
    {
     "data": {
      "text/plain": [
       "['SWOT_L2_HR_RiverSP_Reach_007_147_NA_20220809T101525_20220809T101639_PGA0_01.shx',\n",
       " 'SWOT_L2_HR_RiverSP_Reach_007_205_NA_20220811T120350_20220811T120457_PGA0_01.shx',\n",
       " 'SWOT_L2_HR_RiverSP_Reach_007_175_NA_20220810T101607_20220810T101940_PGA0_01.zip',\n",
       " 'SWOT_L2_HR_RiverSP_Reach_007_440_NA_20220819T210905_20220819T211311_PGA0_01.zip',\n",
       " 'SWOT_L2_HR_RiverSP_Reach_007_300_NA_20220814T210504_20220814T210907_PGA0_01.zip',\n",
       " 'SWOT_L2_HR_RiverSP_Reach_007_483_NA_20220821T102527_20220821T102706_PGA0_01.shp.xml',\n",
       " 'SWOT_L2_HR_RiverSP_Reach_007_177_NA_20220810T120102_20220810T120420_PGA0_01.prj',\n",
       " 'SWOT_L2_HR_RiverSP_Reach_007_427_NA_20220819T101956_20220819T102559_PGA0_01.zip',\n",
       " 'SWOT_L2_HR_RiverSP_Reach_007_483_NA_20220821T102527_20220821T102706_PGA0_01.zip',\n",
       " 'SWOT_L2_HR_RiverSP_Reach_007_147_NA_20220809T101525_20220809T101639_PGA0_01.shp',\n",
       " 'SWOT_L2_HR_RiverSP_Reach_007_104_NA_20220807T205936_20220807T210016_PGA0_01.shp.xml',\n",
       " 'SWOT_L2_HR_RiverSP_Reach_007_162_NA_20220809T224722_20220809T225058_PGA0_01.dbf',\n",
       " 'SWOT_L2_HR_RiverSP_Reach_007_287_NA_20220814T101759_20220814T102333_PGA0_01.zip',\n",
       " 'SWOT_L2_HR_RiverSP_Reach_007_205_NA_20220811T120350_20220811T120457_PGA0_01.shp',\n",
       " 'SWOT_L2_HR_RiverSP_Reach_007_147_NA_20220809T101525_20220809T101639_PGA0_01.shp.xml',\n",
       " 'SWOT_L2_HR_RiverSP_Reach_007_037_NA_20220805T115553_20220805T120212_PGA0_01.prj',\n",
       " 'SWOT_L2_HR_RiverSP_Reach_007_104_NA_20220807T205936_20220807T210016_PGA0_01.zip',\n",
       " 'SWOT_L2_HR_RiverSP_Reach_007_132_NA_20220808T210018_20220808T210252_PGA0_01.dbf',\n",
       " 'SWOT_L2_HR_RiverSP_Reach_007_037_NA_20220805T115553_20220805T120212_PGA0_01.zip',\n",
       " 'SWOT_L2_HR_RiverSP_Reach_007_065_NA_20220806T115630_20220806T120114_PGA0_01.shp',\n",
       " 'SWOT_L2_HR_RiverSP_Reach_007_343_NA_20220816T101844_20220816T102323_PGA0_01.dbf',\n",
       " 'SWOT_L2_HR_RiverSP_Reach_007_104_NA_20220807T205936_20220807T210016_PGA0_01.prj',\n",
       " 'SWOT_L2_HR_RiverSP_Reach_007_315_NA_20220815T101757_20220815T102414_PGA0_01.shp',\n",
       " 'SWOT_L2_HR_RiverSP_Reach_007_121_NA_20220808T115628_20220808T120311_PGA0_01.shp',\n",
       " 'SWOT_L2_HR_RiverSP_Reach_007_287_NA_20220814T101759_20220814T102333_PGA0_01.prj',\n",
       " 'SWOT_L2_HR_RiverSP_Reach_007_203_NA_20220811T101614_20220811T102211_PGA0_01.shp.xml',\n",
       " 'SWOT_L2_HR_RiverSP_Reach_007_483_NA_20220821T102527_20220821T102706_PGA0_01.prj',\n",
       " 'SWOT_L2_HR_RiverSP_Reach_007_440_NA_20220819T210905_20220819T211311_PGA0_01.prj',\n",
       " 'SWOT_L2_HR_RiverSP_Reach_007_300_NA_20220814T210504_20220814T210907_PGA0_01.prj',\n",
       " 'SWOT_L2_HR_RiverSP_Reach_007_315_NA_20220815T101757_20220815T102414_PGA0_01.shx',\n",
       " 'SWOT_L2_HR_RiverSP_Reach_007_177_NA_20220810T120102_20220810T120420_PGA0_01.zip',\n",
       " 'SWOT_L2_HR_RiverSP_Reach_007_065_NA_20220806T115630_20220806T120114_PGA0_01.shx',\n",
       " 'SWOT_L2_HR_RiverSP_Reach_007_427_NA_20220819T101956_20220819T102559_PGA0_01.prj',\n",
       " 'SWOT_L2_HR_RiverSP_Reach_007_121_NA_20220808T115628_20220808T120311_PGA0_01.shx',\n",
       " 'SWOT_L2_HR_RiverSP_Reach_007_175_NA_20220810T101607_20220810T101940_PGA0_01.prj',\n",
       " 'SWOT_L2_HR_RiverSP_Reach_007_037_NA_20220805T115553_20220805T120212_PGA0_01.shp.xml',\n",
       " 'SWOT_L2_HR_RiverSP_Reach_007_453_NA_20220820T083815_20220820T084053_PGA0_01.shp.xml',\n",
       " 'SWOT_L2_HR_RiverSP_Reach_007_315_NA_20220815T101757_20220815T102414_PGA0_01.shp.xml',\n",
       " 'SWOT_L2_HR_RiverSP_Reach_007_371_NA_20220817T101846_20220817T102530_PGA0_01.prj',\n",
       " 'SWOT_L2_HR_RiverSP_Reach_007_343_NA_20220816T101844_20220816T102323_PGA0_01.shx',\n",
       " 'SWOT_L2_HR_RiverSP_Reach_007_453_NA_20220820T083815_20220820T084053_PGA0_01.prj',\n",
       " 'SWOT_L2_HR_RiverSP_Reach_007_132_NA_20220808T210018_20220808T210252_PGA0_01.shx',\n",
       " 'SWOT_L2_HR_RiverSP_Reach_007_343_NA_20220816T101844_20220816T102323_PGA0_01.shp.xml',\n",
       " 'SWOT_L2_HR_RiverSP_Reach_007_468_NA_20220820T211105_20220820T211330_PGA0_01.zip',\n",
       " 'SWOT_L2_HR_RiverSP_Reach_007_203_NA_20220811T101614_20220811T102211_PGA0_01.prj',\n",
       " 'SWOT_L2_HR_RiverSP_Reach_007_022_NA_20220804T224145_20220804T224402_PGA0_01.prj',\n",
       " 'SWOT_L2_HR_RiverSP_Reach_007_522_NA_20220822T192441_20220822T193037_PGA0_01.prj',\n",
       " 'SWOT_L2_HR_RiverSP_Reach_007_121_NA_20220808T115628_20220808T120311_PGA0_01.shp.xml',\n",
       " 'SWOT_L2_HR_RiverSP_Reach_007_065_NA_20220806T115630_20220806T120114_PGA0_01.dbf',\n",
       " 'SWOT_L2_HR_RiverSP_Reach_007_315_NA_20220815T101757_20220815T102414_PGA0_01.dbf',\n",
       " 'SWOT_L2_HR_RiverSP_Reach_007_343_NA_20220816T101844_20220816T102323_PGA0_01.shp',\n",
       " 'SWOT_L2_HR_RiverSP_Reach_007_132_NA_20220808T210018_20220808T210252_PGA0_01.shp',\n",
       " 'SWOT_L2_HR_RiverSP_Reach_007_121_NA_20220808T115628_20220808T120311_PGA0_01.dbf',\n",
       " 'SWOT_L2_HR_RiverSP_Reach_007_147_NA_20220809T101525_20220809T101639_PGA0_01.dbf',\n",
       " 'SWOT_L2_HR_RiverSP_Reach_007_522_NA_20220822T192441_20220822T193037_PGA0_01.zip',\n",
       " 'SWOT_L2_HR_RiverSP_Reach_007_205_NA_20220811T120350_20220811T120457_PGA0_01.dbf',\n",
       " 'SWOT_L2_HR_RiverSP_Reach_007_162_NA_20220809T224722_20220809T225058_PGA0_01.shp',\n",
       " 'SWOT_L2_HR_RiverSP_Reach_007_468_NA_20220820T211105_20220820T211330_PGA0_01.prj',\n",
       " 'SWOT_L2_HR_RiverSP_Reach_007_203_NA_20220811T101614_20220811T102211_PGA0_01.zip',\n",
       " 'SWOT_L2_HR_RiverSP_Reach_007_022_NA_20220804T224145_20220804T224402_PGA0_01.zip',\n",
       " 'SWOT_L2_HR_RiverSP_Reach_007_453_NA_20220820T083815_20220820T084053_PGA0_01.zip',\n",
       " 'SWOT_L2_HR_RiverSP_Reach_007_371_NA_20220817T101846_20220817T102530_PGA0_01.zip',\n",
       " 'SWOT_L2_HR_RiverSP_Reach_007_162_NA_20220809T224722_20220809T225058_PGA0_01.shx',\n",
       " 'SWOT_L2_HR_RiverSP_Reach_007_522_NA_20220822T192441_20220822T193037_PGA0_01.shp.xml',\n",
       " 'SWOT_L2_HR_RiverSP_Reach_007_468_NA_20220820T211105_20220820T211330_PGA0_01.dbf',\n",
       " 'SWOT_L2_HR_RiverSP_Reach_007_037_NA_20220805T115553_20220805T120212_PGA0_01.shx',\n",
       " 'SWOT_L2_HR_RiverSP_Reach_007_177_NA_20220810T120102_20220810T120420_PGA0_01.shp',\n",
       " 'SWOT_L2_HR_RiverSP_Reach_007_147_NA_20220809T101525_20220809T101639_PGA0_01.prj',\n",
       " 'SWOT_L2_HR_RiverSP_Reach_007_205_NA_20220811T120350_20220811T120457_PGA0_01.prj',\n",
       " 'SWOT_L2_HR_RiverSP_Reach_007_121_NA_20220808T115628_20220808T120311_PGA0_01.zip',\n",
       " 'SWOT_L2_HR_RiverSP_Reach_007_132_NA_20220808T210018_20220808T210252_PGA0_01.shp.xml',\n",
       " 'SWOT_L2_HR_RiverSP_Reach_007_037_NA_20220805T115553_20220805T120212_PGA0_01.shp',\n",
       " 'SWOT_L2_HR_RiverSP_Reach_007_287_NA_20220814T101759_20220814T102333_PGA0_01.shp.xml',\n",
       " 'SWOT_L2_HR_RiverSP_Reach_007_315_NA_20220815T101757_20220815T102414_PGA0_01.zip',\n",
       " 'SWOT_L2_HR_RiverSP_Reach_007_177_NA_20220810T120102_20220810T120420_PGA0_01.shx',\n",
       " 'SWOT_L2_HR_RiverSP_Reach_007_065_NA_20220806T115630_20220806T120114_PGA0_01.zip',\n",
       " 'SWOT_L2_HR_RiverSP_Reach_007_440_NA_20220819T210905_20220819T211311_PGA0_01.shx',\n",
       " 'SWOT_L2_HR_RiverSP_Reach_007_300_NA_20220814T210504_20220814T210907_PGA0_01.shx',\n",
       " 'SWOT_L2_HR_RiverSP_Reach_007_315_NA_20220815T101757_20220815T102414_PGA0_01.prj',\n",
       " 'SWOT_L2_HR_RiverSP_Reach_007_104_NA_20220807T205936_20220807T210016_PGA0_01.shp',\n",
       " 'SWOT_L2_HR_RiverSP_Reach_007_065_NA_20220806T115630_20220806T120114_PGA0_01.prj',\n",
       " 'SWOT_L2_HR_RiverSP_Reach_007_427_NA_20220819T101956_20220819T102559_PGA0_01.shx',\n",
       " 'SWOT_L2_HR_RiverSP_Reach_007_121_NA_20220808T115628_20220808T120311_PGA0_01.prj',\n",
       " 'SWOT_L2_HR_RiverSP_Reach_007_022_NA_20220804T224145_20220804T224402_PGA0_01.shp.xml',\n",
       " 'SWOT_L2_HR_RiverSP_Reach_007_177_NA_20220810T120102_20220810T120420_PGA0_01.shp.xml',\n",
       " 'SWOT_L2_HR_RiverSP_Reach_007_175_NA_20220810T101607_20220810T101940_PGA0_01.shx',\n",
       " 'SWOT_L2_HR_RiverSP_Reach_007_205_NA_20220811T120350_20220811T120457_PGA0_01.shp.xml',\n",
       " 'SWOT_L2_HR_RiverSP_Reach_007_287_NA_20220814T101759_20220814T102333_PGA0_01.shp',\n",
       " 'SWOT_L2_HR_RiverSP_Reach_007_205_NA_20220811T120350_20220811T120457_PGA0_01.zip',\n",
       " 'SWOT_L2_HR_RiverSP_Reach_007_522_NA_20220822T192441_20220822T193037_PGA0_01.dbf',\n",
       " 'SWOT_L2_HR_RiverSP_Reach_007_147_NA_20220809T101525_20220809T101639_PGA0_01.zip',\n",
       " 'SWOT_L2_HR_RiverSP_Reach_007_483_NA_20220821T102527_20220821T102706_PGA0_01.shp',\n",
       " 'SWOT_L2_HR_RiverSP_Reach_007_300_NA_20220814T210504_20220814T210907_PGA0_01.shp',\n",
       " 'SWOT_L2_HR_RiverSP_Reach_007_440_NA_20220819T210905_20220819T211311_PGA0_01.shp',\n",
       " 'SWOT_L2_HR_RiverSP_Reach_007_427_NA_20220819T101956_20220819T102559_PGA0_01.shp',\n",
       " 'SWOT_L2_HR_RiverSP_Reach_007_453_NA_20220820T083815_20220820T084053_PGA0_01.dbf',\n",
       " 'SWOT_L2_HR_RiverSP_Reach_007_104_NA_20220807T205936_20220807T210016_PGA0_01.shx',\n",
       " 'SWOT_L2_HR_RiverSP_Reach_007_022_NA_20220804T224145_20220804T224402_PGA0_01.dbf',\n",
       " 'SWOT_L2_HR_RiverSP_Reach_007_203_NA_20220811T101614_20220811T102211_PGA0_01.dbf',\n",
       " 'SWOT_L2_HR_RiverSP_Reach_007_175_NA_20220810T101607_20220810T101940_PGA0_01.shp',\n",
       " 'SWOT_L2_HR_RiverSP_Reach_007_287_NA_20220814T101759_20220814T102333_PGA0_01.shx',\n",
       " 'SWOT_L2_HR_RiverSP_Reach_007_162_NA_20220809T224722_20220809T225058_PGA0_01.shp.xml',\n",
       " 'SWOT_L2_HR_RiverSP_Reach_007_371_NA_20220817T101846_20220817T102530_PGA0_01.dbf',\n",
       " 'SWOT_L2_HR_RiverSP_Reach_007_483_NA_20220821T102527_20220821T102706_PGA0_01.shx',\n",
       " 'SWOT_L2_HR_RiverSP_Reach_007_522_NA_20220822T192441_20220822T193037_PGA0_01.shx',\n",
       " 'SWOT_L2_HR_RiverSP_Reach_007_371_NA_20220817T101846_20220817T102530_PGA0_01.shp',\n",
       " 'SWOT_L2_HR_RiverSP_Reach_007_453_NA_20220820T083815_20220820T084053_PGA0_01.shp',\n",
       " 'SWOT_L2_HR_RiverSP_Reach_007_427_NA_20220819T101956_20220819T102559_PGA0_01.dbf',\n",
       " 'SWOT_L2_HR_RiverSP_Reach_007_300_NA_20220814T210504_20220814T210907_PGA0_01.dbf',\n",
       " 'SWOT_L2_HR_RiverSP_Reach_007_371_NA_20220817T101846_20220817T102530_PGA0_01.shp.xml',\n",
       " 'SWOT_L2_HR_RiverSP_Reach_007_440_NA_20220819T210905_20220819T211311_PGA0_01.dbf',\n",
       " 'SWOT_L2_HR_RiverSP_Reach_007_203_NA_20220811T101614_20220811T102211_PGA0_01.shp',\n",
       " 'SWOT_L2_HR_RiverSP_Reach_007_175_NA_20220810T101607_20220810T101940_PGA0_01.dbf',\n",
       " 'SWOT_L2_HR_RiverSP_Reach_007_022_NA_20220804T224145_20220804T224402_PGA0_01.shp',\n",
       " 'SWOT_L2_HR_RiverSP_Reach_007_522_NA_20220822T192441_20220822T193037_PGA0_01.shp',\n",
       " 'SWOT_L2_HR_RiverSP_Reach_007_162_NA_20220809T224722_20220809T225058_PGA0_01.zip',\n",
       " 'SWOT_L2_HR_RiverSP_Reach_007_287_NA_20220814T101759_20220814T102333_PGA0_01.dbf',\n",
       " 'SWOT_L2_HR_RiverSP_Reach_007_483_NA_20220821T102527_20220821T102706_PGA0_01.dbf',\n",
       " 'SWOT_L2_HR_RiverSP_Reach_007_175_NA_20220810T101607_20220810T101940_PGA0_01.shp.xml',\n",
       " 'SWOT_L2_HR_RiverSP_Reach_007_371_NA_20220817T101846_20220817T102530_PGA0_01.shx',\n",
       " 'SWOT_L2_HR_RiverSP_Reach_007_343_NA_20220816T101844_20220816T102323_PGA0_01.prj',\n",
       " 'SWOT_L2_HR_RiverSP_Reach_007_065_NA_20220806T115630_20220806T120114_PGA0_01.shp.xml',\n",
       " 'SWOT_L2_HR_RiverSP_Reach_007_104_NA_20220807T205936_20220807T210016_PGA0_01.dbf',\n",
       " 'SWOT_L2_HR_RiverSP_Reach_007_453_NA_20220820T083815_20220820T084053_PGA0_01.shx',\n",
       " 'SWOT_L2_HR_RiverSP_Reach_007_132_NA_20220808T210018_20220808T210252_PGA0_01.prj',\n",
       " 'SWOT_L2_HR_RiverSP_Reach_007_203_NA_20220811T101614_20220811T102211_PGA0_01.shx',\n",
       " 'SWOT_L2_HR_RiverSP_Reach_007_022_NA_20220804T224145_20220804T224402_PGA0_01.shx',\n",
       " 'SWOT_L2_HR_RiverSP_Reach_007_468_NA_20220820T211105_20220820T211330_PGA0_01.shx',\n",
       " 'SWOT_L2_HR_RiverSP_Reach_007_343_NA_20220816T101844_20220816T102323_PGA0_01.zip',\n",
       " 'SWOT_L2_HR_RiverSP_Reach_007_037_NA_20220805T115553_20220805T120212_PGA0_01.dbf',\n",
       " 'SWOT_L2_HR_RiverSP_Reach_007_132_NA_20220808T210018_20220808T210252_PGA0_01.zip',\n",
       " 'SWOT_L2_HR_RiverSP_Reach_007_300_NA_20220814T210504_20220814T210907_PGA0_01.shp.xml',\n",
       " 'SWOT_L2_HR_RiverSP_Reach_007_162_NA_20220809T224722_20220809T225058_PGA0_01.prj',\n",
       " 'SWOT_L2_HR_RiverSP_Reach_007_440_NA_20220819T210905_20220819T211311_PGA0_01.shp.xml',\n",
       " 'SWOT_L2_HR_RiverSP_Reach_007_468_NA_20220820T211105_20220820T211330_PGA0_01.shp',\n",
       " 'SWOT_L2_HR_RiverSP_Reach_007_177_NA_20220810T120102_20220810T120420_PGA0_01.dbf',\n",
       " 'SWOT_L2_HR_RiverSP_Reach_007_468_NA_20220820T211105_20220820T211330_PGA0_01.shp.xml',\n",
       " 'SWOT_L2_HR_RiverSP_Reach_007_427_NA_20220819T101956_20220819T102559_PGA0_01.shp.xml']"
      ]
     },
     "execution_count": 8,
     "metadata": {},
     "output_type": "execute_result"
    }
   ],
   "source": [
    "os.listdir(folder)"
   ]
  },
  {
   "cell_type": "code",
   "execution_count": null,
   "metadata": {},
   "outputs": [],
   "source": []
  }
 ],
 "metadata": {
  "kernelspec": {
   "display_name": "Python 3 (ipykernel)",
   "language": "python",
   "name": "python3"
  },
  "language_info": {
   "codemirror_mode": {
    "name": "ipython",
    "version": 3
   },
   "file_extension": ".py",
   "mimetype": "text/x-python",
   "name": "python",
   "nbconvert_exporter": "python",
   "pygments_lexer": "ipython3",
   "version": "3.10.9"
  },
  "vscode": {
   "interpreter": {
    "hash": "c5773edd8cfec1b980765f45592751359f797d5bc2e0f18319f112bb9ed701f9"
   }
  }
 },
 "nbformat": 4,
 "nbformat_minor": 4
}
