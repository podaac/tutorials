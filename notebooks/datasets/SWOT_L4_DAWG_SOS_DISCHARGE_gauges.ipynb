{
 "cells": [
  {
   "cell_type": "markdown",
   "metadata": {},
   "source": [
    "![](https://img.shields.io/badge/PO.DAAC-Contribution-%20?color=grey&labelColor=blue)\n",
    "\n",
    "> From the PO.DAAC Cookbook, to access the GitHub version of the notebook, follow [this link](https://github.com/podaac/tutorials/blob/master/notebooks/datasets/SWOT_L4_DAWG_SOS_DISCHARGE_gauges.ipynb)."
   ]
  },
  {
   "cell_type": "markdown",
   "metadata": {},
   "source": [
    "# Exploring gauges and river discharge in the SWORD of Science (SoS) dataset\n",
    "#### *Author: Nikki Tebaldi, NASA JPL PO.DAAC*"
   ]
  },
  {
   "cell_type": "markdown",
   "metadata": {},
   "source": [
    "## Summary\n",
    "\n",
    "### Looking at discharge in the SoS\n",
    "\n",
    "It can be helpful to plot the flow law parameter estimation (FLPE) algorithm discharge alongside the integrator (MOI) discharge produced for that algorithm PLUS overlapping in situ gauge data. Note that not all rivers have gauge data associated with them. In this notebook we will look at the steps to plot SoS discharge values produced from running the Confluence workflow alongside in situ gauge data gathered and stored in the priors.\n",
    "\n",
    "### Granule structure (background)\n",
    "\n",
    "The SWORD of Science (SoS) is a community-driven dataset produced for and from the execution of the Confluence workflow in the cloud which enables quick data access and compute on SWOT data. Data granules contain two files, priors and results. The priors file contains prior information, such as in-situ gage data and model output that is used to generate the discharge products. The results file contains the resulting river discharge data products.\n",
    "\n",
    "The cloud-based workflow (\"Confluence\") that produces the SoS will produce discharge parameter estimates which the SWOT mission will use to produce discharge. This discharge will be stored in the SWOT shapefiles as the official SWOT discharge. However, the Confluence workflow produces discharge time series alongside the discharge parameter estimates in order to preview what will eventually stored in the SWOT shapefiles. Users can reference the SoS for the latest discharge time series recognizing that the official SWOT discharge data product lives in the SWOT shapefiles.\n",
    "\n",
    "The SoS is organized by continent following [SWOT River Database (SWORD)](https://www.swordexplorer.com/) structure and naming conventions. It is indexed on the same reach and node identifier dimensions found in SWORD. Time series data is stored by cycle and pass on an observation dimension.\n",
    "\n",
    "More information is available in the SWOT-Confluence Github repository:\n",
    "* [Documentation for priors](https://github.com/SWOT-Confluence/documentation/blob/main/documentation/confluence_data_description-priors.pdf)\n",
    "* [Documentation for results](https://github.com/SWOT-Confluence/documentation/blob/main/documentation/confluence_data_description-results.pdf)\n",
    "\n",
    "Results are organized into groups corresponding to modules in the SWOT-Confluence processing software. Modules are described in the [Confluence Module Documentation](https://github.com/SWOT-Confluence/documentation/blob/main/documentation/confluence_module_documentation_v1.0.pdf).\n",
    "\n",
    "You can explore the SoS further in this notebook: [https://podaac.github.io/tutorials/notebooks/datasets/SWOT_L4_DAWG_SOS_DISCHARGE.html](https://podaac.github.io/tutorials/notebooks/datasets/SWOT_L4_DAWG_SOS_DISCHARGE.html)\n",
    "\n",
    "### Locate data for a river that has gauges\n",
    "\n",
    "We will select the Ohio River as we know it has gauge data associated with it from the USGS but feel free to modify the constants below for your river of choice!\n",
    "\n",
    "### Table of Gauge Agencies by Continent\n",
    "\n",
    "The following list the continent with associated gauge agency and group name of the gauge agency as it is stored in the SoS.\n",
    "\n",
    "| Continent     | Group Name | Gauge Agency                                          |\n",
    "|---------------|-----------|-------------------------------------------------------|\n",
    "| Africa        | GRDC       | Global Runoff Data Centre                             |\n",
    "| Asia          | GRDC       | Global Runoff Data Centre                             |\n",
    "| Asia          | MLIT       | Ministry of Land, Infrastructure, Transport, Tourism  |\n",
    "| Europe        | GRDC       | Global Runoff Data Centre                             |\n",
    "| Europe        | DEFRA      | Department of Environment Food & Rural Affairs        |\n",
    "| Europe        | EAU        | Hub'Eau France                                        |\n",
    "| North America | GRDC       | Global Runoff Data Centre                             |\n",
    "| North America | USGS       | United State Geological Survey                        |\n",
    "| North America | WSC        | Water Survey Canada                                   |\n",
    "| Oceania       | GRDC       | Global Runoff Data Centre                             |\n",
    "| Oceania       | ABOM       | Australian Government Bureau of Meteorology           |\n",
    "| South America | GRDC       | Global Runoff Data Centre                             |\n",
    "| South America | DGA        | Direccion General de Aguas                            |\n",
    "| South America | Hidroweb   | Hidroweb                                              |"
   ]
  },
  {
   "cell_type": "markdown",
   "metadata": {},
   "source": [
    "## Requirements\n",
    "\n",
    "### 1. Compute environment \n",
    "\n",
    "This tutorial can be run in the following environments:\n",
    "- **Local compute environment** e.g. laptop, server: this tutorial can be run on your local machine\n",
    "\n",
    "### 2. Earthdata Login\n",
    "\n",
    "An Earthdata Login account is required to access data, as well as discover restricted data, from the NASA Earthdata system. Thus, to access NASA data, you need Earthdata Login. Please visit https://urs.earthdata.nasa.gov to register and manage your Earthdata Login account. This account is free to create and only takes a moment to set up."
   ]
  },
  {
   "cell_type": "markdown",
   "metadata": {},
   "source": [
    "## Learning Objectives\n",
    "- To locate in situ gauge data stored in the SoS.\n",
    "- To locate overlap between in situ observations and times where discharge values were produced.\n",
    "- Plot gauge data alongside river discharge.\n",
    "\n",
    "\n",
    "------"
   ]
  },
  {
   "cell_type": "markdown",
   "metadata": {},
   "source": [
    "## Import Packages"
   ]
  },
  {
   "cell_type": "code",
   "execution_count": 1,
   "metadata": {},
   "outputs": [],
   "source": [
    "import datetime\n",
    "import pathlib\n",
    "\n",
    "import cartopy.crs as ccrs\n",
    "import cartopy.feature as cfeature\n",
    "from cartopy.mpl.gridliner import LONGITUDE_FORMATTER, LATITUDE_FORMATTER\n",
    "import earthaccess\n",
    "import matplotlib.pyplot as plt\n",
    "import netCDF4 as nc\n",
    "import numpy as np\n",
    "import pandas as pd"
   ]
  },
  {
   "cell_type": "markdown",
   "metadata": {},
   "source": [
    "## Authenticate\n",
    "Authenticate your Earthdata Login (EDL) information using the `earthaccess` python package as follows:"
   ]
  },
  {
   "cell_type": "code",
   "execution_count": 2,
   "metadata": {},
   "outputs": [
    {
     "data": {
      "text/plain": [
       "<earthaccess.auth.Auth at 0x31276f1d0>"
      ]
     },
     "execution_count": 2,
     "metadata": {},
     "output_type": "execute_result"
    }
   ],
   "source": [
    "earthaccess.login() # Login with your EDL credentials if asked\n"
   ]
  },
  {
   "cell_type": "markdown",
   "metadata": {},
   "source": [
    "## Search and Access SoS data\n",
    "Locate the SoS data of interest and then download for access."
   ]
  },
  {
   "cell_type": "code",
   "execution_count": 3,
   "metadata": {},
   "outputs": [
    {
     "name": "stdout",
     "output_type": "stream",
     "text": [
      "Granules found: 3\n"
     ]
    },
    {
     "data": {
      "text/plain": [
       "[Collection: {'Version': '1', 'ShortName': 'SWOT_L4_DAWG_SOS_DISCHARGE'}\n",
       " Spatial coverage: {'HorizontalSpatialDomain': {'Geometry': {'BoundingRectangles': [{'WestBoundingCoordinate': -21.794, 'SouthBoundingCoordinate': 25.382, 'EastBoundingCoordinate': 25.382, 'NorthBoundingCoordinate': 81.115}]}}}\n",
       " Temporal coverage: {'RangeDateTime': {'EndingDateTime': '2023-04-25T20:01:59.000Z', 'BeginningDateTime': '2023-04-07T22:49:35.000Z'}}\n",
       " Size(MB): 983.0999364852905\n",
       " Data: ['https://archive.podaac.earthdata.nasa.gov/podaac-ops-cumulus-protected/SWOT_L4_DAWG_SOS_DISCHARGE/eu_sword_v15_SOS_unconstrained_0001_20240228T205029_results.nc', 'https://archive.podaac.earthdata.nasa.gov/podaac-ops-cumulus-protected/SWOT_L4_DAWG_SOS_DISCHARGE/eu_sword_v15_SOS_unconstrained_0001_20240228T205029_priors.nc'],\n",
       " Collection: {'Version': '1', 'ShortName': 'SWOT_L4_DAWG_SOS_DISCHARGE'}\n",
       " Spatial coverage: {'HorizontalSpatialDomain': {'Geometry': {'BoundingRectangles': [{'WestBoundingCoordinate': -81.139, 'SouthBoundingCoordinate': -52, 'EastBoundingCoordinate': -52, 'NorthBoundingCoordinate': 11.097}]}}}\n",
       " Temporal coverage: {'RangeDateTime': {'EndingDateTime': '2023-04-26T12:04:55.000Z', 'BeginningDateTime': '2023-04-08T01:51:07.000Z'}}\n",
       " Size(MB): 1700.4334163665771\n",
       " Data: ['https://archive.podaac.earthdata.nasa.gov/podaac-ops-cumulus-protected/SWOT_L4_DAWG_SOS_DISCHARGE/sa_sword_v15_SOS_unconstrained_0001_20240228T205034_results.nc', 'https://archive.podaac.earthdata.nasa.gov/podaac-ops-cumulus-protected/SWOT_L4_DAWG_SOS_DISCHARGE/sa_sword_v15_SOS_unconstrained_0001_20240228T205034_priors.nc'],\n",
       " Collection: {'Version': '1', 'ShortName': 'SWOT_L4_DAWG_SOS_DISCHARGE'}\n",
       " Spatial coverage: {'HorizontalSpatialDomain': {'Geometry': {'BoundingRectangles': [{'WestBoundingCoordinate': -166.397, 'SouthBoundingCoordinate': 8.09, 'EastBoundingCoordinate': 8.09, 'NorthBoundingCoordinate': 82.311}]}}}\n",
       " Temporal coverage: {'RangeDateTime': {'EndingDateTime': '2023-04-26T13:28:35.000Z', 'BeginningDateTime': '2023-04-08T05:36:12.000Z'}}\n",
       " Size(MB): 1613.2776679992676\n",
       " Data: ['https://archive.podaac.earthdata.nasa.gov/podaac-ops-cumulus-protected/SWOT_L4_DAWG_SOS_DISCHARGE/na_sword_v15_SOS_unconstrained_0001_20240228T205032_results.nc', 'https://archive.podaac.earthdata.nasa.gov/podaac-ops-cumulus-protected/SWOT_L4_DAWG_SOS_DISCHARGE/na_sword_v15_SOS_unconstrained_0001_20240228T205032_priors.nc']]"
      ]
     },
     "execution_count": 3,
     "metadata": {},
     "output_type": "execute_result"
    }
   ],
   "source": [
    "# Search and locate granules\n",
    "granule_info = earthaccess.search_data(\n",
    "    short_name=\"SWOT_L4_DAWG_SOS_DISCHARGE\",\n",
    "    temporal=(\"2023-04-07\", \"2023-04-26\"),\n",
    ")\n",
    "granule_info"
   ]
  },
  {
   "cell_type": "code",
   "execution_count": 4,
   "metadata": {},
   "outputs": [
    {
     "name": "stdout",
     "output_type": "stream",
     "text": [
      "Select a priors and results file to explore:\n",
      "https://archive.podaac.earthdata.nasa.gov/podaac-ops-cumulus-protected/SWOT_L4_DAWG_SOS_DISCHARGE/eu_sword_v15_SOS_unconstrained_0001_20240228T205029_priors.nc\n",
      "https://archive.podaac.earthdata.nasa.gov/podaac-ops-cumulus-protected/SWOT_L4_DAWG_SOS_DISCHARGE/sa_sword_v15_SOS_unconstrained_0001_20240228T205034_priors.nc\n",
      "https://archive.podaac.earthdata.nasa.gov/podaac-ops-cumulus-protected/SWOT_L4_DAWG_SOS_DISCHARGE/na_sword_v15_SOS_unconstrained_0001_20240228T205032_priors.nc\n"
     ]
    }
   ],
   "source": [
    "# Enter a directory path to store downloaded data in\n",
    "downloads_dir = pathlib.Path(\"data_downloads\")\n",
    "downloads_dir.mkdir(parents=True, exist_ok=True)\n",
    "\n",
    "# Select a priors and results pair to explore\n",
    "download_links = [[link for link in earthaccess.results.DataGranule.data_links(granule)] for granule in granule_info]\n",
    "print(\"Select a priors and results file to explore:\")\n",
    "for downloads in download_links: \n",
    "    for download in downloads:\n",
    "        if \"priors\" in download: print(download)"
   ]
  },
  {
   "cell_type": "code",
   "execution_count": 5,
   "metadata": {},
   "outputs": [
    {
     "data": {
      "application/vnd.jupyter.widget-view+json": {
       "model_id": "6f0d46a1451b4648b966239108232381",
       "version_major": 2,
       "version_minor": 0
      },
      "text/plain": [
       "QUEUEING TASKS | :   0%|          | 0/1 [00:00<?, ?it/s]"
      ]
     },
     "metadata": {},
     "output_type": "display_data"
    },
    {
     "name": "stdout",
     "output_type": "stream",
     "text": [
      "File eu_sword_v15_SOS_unconstrained_0001_20240228T205029_priors.nc already downloaded\n"
     ]
    },
    {
     "data": {
      "application/vnd.jupyter.widget-view+json": {
       "model_id": "21a14a5cc5c34ac1a63ae4aa5663004e",
       "version_major": 2,
       "version_minor": 0
      },
      "text/plain": [
       "PROCESSING TASKS | :   0%|          | 0/1 [00:00<?, ?it/s]"
      ]
     },
     "metadata": {},
     "output_type": "display_data"
    },
    {
     "data": {
      "application/vnd.jupyter.widget-view+json": {
       "model_id": "16a7868e833b4942b91a314ffde61667",
       "version_major": 2,
       "version_minor": 0
      },
      "text/plain": [
       "COLLECTING RESULTS | :   0%|          | 0/1 [00:00<?, ?it/s]"
      ]
     },
     "metadata": {},
     "output_type": "display_data"
    },
    {
     "data": {
      "application/vnd.jupyter.widget-view+json": {
       "model_id": "18d4343f892d446a8e36ce6aaaba1d64",
       "version_major": 2,
       "version_minor": 0
      },
      "text/plain": [
       "QUEUEING TASKS | :   0%|          | 0/1 [00:00<?, ?it/s]"
      ]
     },
     "metadata": {},
     "output_type": "display_data"
    },
    {
     "name": "stdout",
     "output_type": "stream",
     "text": [
      "File eu_sword_v15_SOS_unconstrained_0001_20240228T205029_results.nc already downloaded\n"
     ]
    },
    {
     "data": {
      "application/vnd.jupyter.widget-view+json": {
       "model_id": "c7ae7d948f4b4583b1f228de516a69de",
       "version_major": 2,
       "version_minor": 0
      },
      "text/plain": [
       "PROCESSING TASKS | :   0%|          | 0/1 [00:00<?, ?it/s]"
      ]
     },
     "metadata": {},
     "output_type": "display_data"
    },
    {
     "data": {
      "application/vnd.jupyter.widget-view+json": {
       "model_id": "c8b1e6aeea0042ccb610aac9cc26aa0d",
       "version_major": 2,
       "version_minor": 0
      },
      "text/plain": [
       "COLLECTING RESULTS | :   0%|          | 0/1 [00:00<?, ?it/s]"
      ]
     },
     "metadata": {},
     "output_type": "display_data"
    },
    {
     "data": {
      "text/plain": [
       "['data_downloads/eu_sword_v15_SOS_unconstrained_0001_20240228T205029_results.nc']"
      ]
     },
     "execution_count": 5,
     "metadata": {},
     "output_type": "execute_result"
    }
   ],
   "source": [
    "# Select Europe (\"eu\") priors file to work with\n",
    "priors_link = \"https://archive.podaac.earthdata.nasa.gov/podaac-ops-cumulus-protected/SWOT_L4_DAWG_SOS_DISCHARGE/eu_sword_v15_SOS_unconstrained_0001_20240228T205029_priors.nc\"\n",
    "\n",
    "# Select results\n",
    "results_link = priors_link.replace(\"priors\", \"results\")\n",
    "\n",
    "earthaccess.download(priors_link, downloads_dir)\n",
    "earthaccess.download(results_link, downloads_dir)"
   ]
  },
  {
   "cell_type": "code",
   "execution_count": 6,
   "metadata": {},
   "outputs": [],
   "source": [
    "# Open downloaded files to access SoS granule data\n",
    "priors_download = priors_link.split('/')[-1]\n",
    "results_download = results_link.split('/')[-1]\n",
    "\n",
    "priors = nc.Dataset(downloads_dir.joinpath(priors_download), format=\"NETCDF4\")\n",
    "results = nc.Dataset(downloads_dir.joinpath(results_download), format=\"NETCDF4\")"
   ]
  },
  {
   "cell_type": "markdown",
   "metadata": {},
   "source": [
    "## Locate gauge and rive discharge data.\n",
    "We can now locate gauge and river discharge data from the SoS using either the data read directly from S3 or downloaded to your local computer."
   ]
  },
  {
   "cell_type": "code",
   "execution_count": 7,
   "metadata": {},
   "outputs": [],
   "source": [
    "# Constants\n",
    "\n",
    "# Select a river\n",
    "RIVER_NAME = \"Rhine\"\n",
    "\n",
    "# Select a discharge algorithm (hivdi, neobam, metroman, momma, sad, sic4dvar)\n",
    "DISCHARGE_ALGORITHM = \"hivdi\"\n",
    "DISCHARGE_VARIABLE = \"Q\"\n",
    "\n",
    "# Select a gauge agency\n",
    "GAUGE_AGENCY = \"EAU\""
   ]
  },
  {
   "cell_type": "markdown",
   "metadata": {},
   "source": [
    "## Locate overlapping identifiers \n",
    "Locate overlapping identifiers for reach and gauge data."
   ]
  },
  {
   "cell_type": "code",
   "execution_count": 8,
   "metadata": {},
   "outputs": [
    {
     "name": "stdout",
     "output_type": "stream",
     "text": [
      "Rhine reach identifiers:\n",
      "[23261000181 23261000191 23261000201 23261000211 23261000221 23261000231\n",
      " 23261000241 23261000274 23261000371 23261000381 23261000391 23261000401\n",
      " 23261000411 23261000421 23261000431 23261000441 23261000451 23261000461\n",
      " 23261000471 23261000481 23261000491 23261000501 23261000511 23261000521\n",
      " 23261000561 23261000571 23261000581 23261000621 23261000631 23261000641\n",
      " 23262000011 23263000011 23263000021 23263000031 23263000061 23263000071\n",
      " 23263000081 23263000091 23263000141 23263000151 23263000161 23263000211\n",
      " 23263000221 23263000231 23263000241 23263000251 23263000271 23263000281\n",
      " 23265000021 23265000031 23265000041 23265000051 23265000061 23267000011\n",
      " 23267000021 23267000031 23267000041 23267000051 23267000061 23267000071\n",
      " 23267000081 23267000094 23267000101 23267000111 23267000121 23267000131\n",
      " 23267000141 23267000154 23267000171 23267000181 23267000194 23267000214\n",
      " 23267000224 23267000231 23267000244 23267000304 23267000361 23267000371\n",
      " 23267000384 23267000391 23267000401 23267000414 23267000494 23267000501\n",
      " 23267000511 23267000524 23267000531 23267000541 23267000551 23267000561\n",
      " 23267000571 23267000584 23267000591 23267000604 23267000611 23267000624\n",
      " 23267000631 23267000644 23267000651 23267000664 23267000671 23267000684\n",
      " 23267000704 23267000711 23267000724 23267000731 23267000744 23269000024\n",
      " 23269000031 23269000051 23269000101 23269000114 23269000121 23269000134\n",
      " 23269000141 23269000214 23269000221 23269000234 23269000241 23269000254\n",
      " 23269000261 23269000271 23269000283 23269000293 23269000311 23269000323\n",
      " 23269000333 23269000343 23269000353 23269000371 23269000381 23269000714\n",
      " 23269000721 23269000734 23269000741 23269000754 23269000761 23269000774\n",
      " 23269000781 23269000794 23269000801 23269000814 23269000824 23269000831\n",
      " 23269000841 23269000941]\n",
      "Gauge reach identifiers:\n",
      "[23267000501 23267000121 23267000121 23267000081 23267000081 23267000071\n",
      " 23262000901 23262000801 23262000801 23262000731 23262001444 23262001104\n",
      " 23262001061 23262001354 23262000551 23262000531 23262000511 23262000491\n",
      " 23262001394 23250801191 23250200011 23250600821 23250600484 23250600471\n",
      " 23250600441 23250600631 23250200441 23240600314 23240602811 23240600201\n",
      " 23240600261 23240600091 23240700491 23240700321 23240700181 23240700081\n",
      " 23240700021 23240500101 23240500101 23240600431 23240603204 23240400101\n",
      " 23240602381 23240602651 23240100201 23240900074 23240900151 23240700541\n",
      " 23240700464 23240400601 23240400491 23240400414 23240400291 23230500654\n",
      " 23230500401 23230500301 23230500081 23230400101 23230400101 23230200764\n",
      " 23230200744 23230200354 23230200331 23230200986 23230200434 23230200381\n",
      " 23230200965 23229000554 23229000211 23229000131 23229000521 23229000101\n",
      " 23229000431 23229000024 23228000341 23228000231 23228000151 23228000111\n",
      " 23228000091 23227000261 23227000231 23227000181 23227000181 23227000111\n",
      " 23227000101 23227000041 23227000011 23226000564 23226000461 23226000351\n",
      " 23226000321 23226000311 23226000031 23225000031 23224001551 23224001174\n",
      " 23224000821 23224000531 23224000391 23224000331 23224000121 23224000704\n",
      " 23224000661 23224000601 23224000601 23224000241 23224000861 23224000191\n",
      " 23224000021 23223000041 23222000351 23222000661 23222001144 23222000801\n",
      " 23222000011 23221000224 23219000444 23219000071 23214400931 23214400791\n",
      " 23214401114 23214400501 23214400111 23214400201 23214400151 23214400041\n",
      " 23214400013 23214900374 23214900361 23214900261 23214900224 23214900014\n",
      " 23214700141 23214700051 23214700011 23214600374 23214600144 23214300031\n",
      " 23214201131 23214200904 23214200691 23214200564 23214200531 23214200091\n",
      " 23214200011 23214100051 23214100031 23214100155 23216000611 23216000584\n",
      " 23216000561 23216000511 23216000501 23216000441 23216000421 23216000401\n",
      " 23216001061 23216001001 23216000721 23212001134 23212001081 23212001014\n",
      " 23212000701 23212000674 23212001366 23212000071 23212000051 23212000834\n",
      " 23212000364 23212000181 23212001345 23218000304 23218000381 23218000141\n",
      " 23218000121 23218000101 21602801794 21602800144 21602902191 21602902121\n",
      " 21602901924 21602901501 21602900954 21602700241 21602700121 21602700171\n",
      " 21602700011 21602602314 21602602351 21602601944 21602601393 21602601373\n",
      " 21602601363 21602600311 21602601251 21602601231 21602601231 21602601821\n",
      " 21602602381 21602600631 21602600011 21602300471 21602300441 21602300241\n",
      " 21602300774 21602300861 21602300664 21602300221 21602300131 21602300131\n",
      " 21602300351 21602100401 21602100264 21602100181 21602100144 21602100535\n",
      " 21602100535 21602400711 21602400761 21602400751 21602400744 21602401061\n",
      " 21602400221 21602400201 21602200354 21602200681 21602200204 21602200084\n",
      " 21603400261 21603400161 21603400141 21603400091 21603400064 21603400051\n",
      " 21603200231 21603200261 21603200191 21603300181 21603300154 21603300061\n",
      " 21601000171 21601000091 21601000013]\n",
      "Overlapping reaches:\n",
      "[23267000071 23267000081 23267000121 23267000501]\n",
      "Reach id selected: 23267000071\n"
     ]
    }
   ],
   "source": [
    "# Locate overlapping reach identifier\n",
    "river_names = results['reaches']['river_name'][:]\n",
    "river_indexes = np.where(river_names  == RIVER_NAME)\n",
    "\n",
    "river_reach = results[\"reaches\"][\"reach_id\"][river_indexes]\n",
    "print(f\"{RIVER_NAME} reach identifiers:\")\n",
    "print(river_reach)\n",
    "\n",
    "gauge_reach = priors[GAUGE_AGENCY][f\"{GAUGE_AGENCY}_reach_id\"][:]\n",
    "print(\"Gauge reach identifiers:\")\n",
    "print(gauge_reach)\n",
    "\n",
    "reach_overlap = np.intersect1d(gauge_reach, river_reach)\n",
    "print(\"Overlapping reaches:\")\n",
    "print(reach_overlap)\n",
    "\n",
    "# Select the first reach\n",
    "reach_id = reach_overlap[0]\n",
    "print(f\"Reach id selected: {reach_id}\")"
   ]
  },
  {
   "cell_type": "markdown",
   "metadata": {},
   "source": [
    "## Locate gauge discharge and in situ observation time\n",
    "Locate discharge and save the in situ observation time for the reach of interest."
   ]
  },
  {
   "cell_type": "code",
   "execution_count": 9,
   "metadata": {},
   "outputs": [
    {
     "name": "stdout",
     "output_type": "stream",
     "text": [
      "Number of gauge discharge values: 3722.\n",
      "Number of gauge time values: 3722.\n"
     ]
    }
   ],
   "source": [
    "# Get reach index for gauge data\n",
    "reach_gauge_index = np.where(gauge_reach == reach_id)\n",
    "\n",
    "# Get discharge and filter out missing values\n",
    "missing = priors[GAUGE_AGENCY][f\"{GAUGE_AGENCY}_q\"]._FillValue\n",
    "gauge_discharge = priors[GAUGE_AGENCY][f\"{GAUGE_AGENCY}_q\"][reach_gauge_index].filled()[0]\n",
    "nonmissing_indexes_g = np.where(gauge_discharge != missing)\n",
    "gauge_discharge = gauge_discharge[nonmissing_indexes_g]\n",
    "print(f\"Number of gauge discharge values: {len(gauge_discharge)}.\")\n",
    "\n",
    "# Get time and filter out missing values\n",
    "gauge_time = priors[GAUGE_AGENCY][f\"{GAUGE_AGENCY}_qt\"][reach_gauge_index].filled().astype(int)[0]\n",
    "gauge_time = gauge_time[nonmissing_indexes_g]\n",
    "print(f\"Number of gauge time values: {len(gauge_time)}.\")\n",
    "\n",
    "# Convert time from ordinal value\n",
    "gauge_time = [ datetime.datetime.fromordinal(gt).strftime(\"%Y%m%d\") for gt in gauge_time ]"
   ]
  },
  {
   "cell_type": "markdown",
   "metadata": {},
   "source": [
    "## Locate algorithm discharge\n",
    "Locate the algorithm discharge for a corresponding reach identifier that has gauge data. We will use HiVDI for this demonstration."
   ]
  },
  {
   "cell_type": "code",
   "execution_count": 10,
   "metadata": {},
   "outputs": [
    {
     "name": "stdout",
     "output_type": "stream",
     "text": [
      "Reach Index:  (array([13158]),)\n",
      "Number of HIVDI discharge values: 7.\n",
      "[1213.67194541 1138.18496353 1115.0978839  1069.45943177 1082.94584138\n",
      " 1198.94024353 1108.93895269]\n",
      "Number of HIVDI time values: 7.\n",
      "['20230418', '20230419', '20230420', '20230422', '20230423', '20230424', '20230425']\n"
     ]
    }
   ],
   "source": [
    "# Locate the reach identifier and associated discharge time series\n",
    "reach_q_index = np.where(results['reaches']['reach_id'][:] == reach_id)\n",
    "print(\"Reach Index: \", reach_q_index)\n",
    "discharge_q = results[DISCHARGE_ALGORITHM][DISCHARGE_VARIABLE][reach_q_index][0]\n",
    "\n",
    "# Filter out missing values\n",
    "missing = results[DISCHARGE_ALGORITHM][DISCHARGE_VARIABLE].missing_value\n",
    "nonmissing_indexes = np.where(discharge_q != missing)\n",
    "discharge_q = discharge_q[nonmissing_indexes]\n",
    "print(f\"Number of {DISCHARGE_ALGORITHM.upper()} discharge values: {len(discharge_q)}.\")\n",
    "print(discharge_q)\n",
    "\n",
    "# Retrieve SWOT observation times and filter out missing values\n",
    "time = results['reaches']['time'][reach_q_index][0]\n",
    "time = time[nonmissing_indexes]\n",
    "\n",
    "# Convert to discharge time to same format as gauge agency time\n",
    "swot_ts = datetime.datetime(2000,1,1,0,0,0)   # SWOT timestamp delta\n",
    "discharge_time = [ (swot_ts + datetime.timedelta(seconds=st)).strftime(\"%Y%m%d\") for st in time ]\n",
    "print(f\"Number of {DISCHARGE_ALGORITHM.upper()} time values: {len(time)}.\")\n",
    "print(discharge_time)"
   ]
  },
  {
   "cell_type": "markdown",
   "metadata": {},
   "source": [
    "## Locate integrator (MOI) discharge\n",
    "Locate the integrator discharge produced for the algorithm for the reach of interest that has gauge data. As mentioned, we will use HiVDI for this demonstration. "
   ]
  },
  {
   "cell_type": "code",
   "execution_count": 11,
   "metadata": {},
   "outputs": [
    {
     "name": "stdout",
     "output_type": "stream",
     "text": [
      "Number of integrator HIVDI discharge values: 7.\n",
      "[334.24668321 297.51701118 290.62386718 259.68934869 261.49240103\n",
      " 307.47902449 288.01774716]\n"
     ]
    }
   ],
   "source": [
    "# Locate MOI discharge results for discharge algorithm making sure to filter out missing values\n",
    "moi_q = results[\"moi\"][DISCHARGE_ALGORITHM][\"q\"][reach_q_index][0]\n",
    "moi_q = moi_q[nonmissing_indexes]\n",
    "\n",
    "# Set missing MOI to NaN\n",
    "missing_moi = results[\"moi\"][DISCHARGE_ALGORITHM][\"q\"].missing_value\n",
    "moi_q[moi_q == missing_moi] = np.nan\n",
    "print(f\"Number of integrator {DISCHARGE_ALGORITHM.upper()} discharge values: {len(moi_q)}.\")\n",
    "print(moi_q)"
   ]
  },
  {
   "cell_type": "markdown",
   "metadata": {},
   "source": [
    "## Locate overlapping observations\n",
    "We will need to locate the discharge time series (FLPE and MOI) for the Rhine reach of interest and then determine if there are overlapping in situ observations with SWOT observations."
   ]
  },
  {
   "cell_type": "code",
   "execution_count": 12,
   "metadata": {},
   "outputs": [
    {
     "name": "stdout",
     "output_type": "stream",
     "text": [
      "Days of observation overlap:\n",
      "['20230418', '20230419', '20230420', '20230422', '20230423', '20230424', '20230425']\n",
      "Gauge discharge:\n",
      " [1334.333 1208.255 1148.526 1115.296 1077.891 1080.885 1153.646]\n",
      "hivdi discharge:\n",
      " [1213.67194541 1138.18496353 1115.0978839  1069.45943177 1082.94584138\n",
      " 1198.94024353 1108.93895269]\n",
      "MOI discharge for hivdi:\n",
      " [334.24668321 297.51701118 290.62386718 259.68934869 261.49240103\n",
      " 307.47902449 288.01774716]\n"
     ]
    }
   ],
   "source": [
    "# Find overlapping time between in situ and SWOT observations\n",
    "obs_overlap = list(set(discharge_time).intersection(set(gauge_time)))\n",
    "obs_overlap.sort()\n",
    "print(\"Days of observation overlap:\")\n",
    "print(obs_overlap)\n",
    "\n",
    "# Get indexes of overlap for gauge, algorithm and integrator\n",
    "gauge_overlap_index = np.where(np.in1d(gauge_time, obs_overlap))[0]\n",
    "discharge_overlap_index = np.where(np.in1d(discharge_time, obs_overlap))[0]\n",
    "\n",
    "# Retrieve time and discharge values for indexes\n",
    "gauge_time = np.array(gauge_time)[gauge_overlap_index]\n",
    "gauge_discharge = np.array(gauge_discharge)[gauge_overlap_index]\n",
    "# print(\"Gauge time:\\n\", gauge_time)\n",
    "print(\"Gauge discharge:\\n\", gauge_discharge)\n",
    "\n",
    "discharge_time = np.array(discharge_time)[discharge_overlap_index]\n",
    "discharge_algo = np.array(discharge_q)[discharge_overlap_index]\n",
    "# print(f\"{DISCHARGE_ALGORITHM} time:\\n\", discharge_time)\n",
    "print(f\"{DISCHARGE_ALGORITHM} discharge:\\n\", discharge_algo)\n",
    "\n",
    "moi_q = np.array(moi_q)[discharge_overlap_index]\n",
    "print(f\"MOI discharge for {DISCHARGE_ALGORITHM}:\\n\", moi_q)"
   ]
  },
  {
   "cell_type": "markdown",
   "metadata": {},
   "source": [
    "## Plotting results for comparison\n",
    "Let's plot all discharge time series to better visualize the differences and compare the FLPE, MOI, and gauge discharge values. "
   ]
  },
  {
   "cell_type": "code",
   "execution_count": 13,
   "metadata": {},
   "outputs": [
    {
     "data": {
      "image/png": "[encoded data removed]",
      "text/plain": [
       "<Figure size 640x480 with 1 Axes>"
      ]
     },
     "metadata": {},
     "output_type": "display_data"
    }
   ],
   "source": [
    "# Plot discharge alongside MOI discharge and gauge discharge\n",
    "\n",
    "# Discharge algorithm Q\n",
    "plt.scatter(discharge_time, discharge_algo)\n",
    "plt.plot(discharge_time, discharge_algo, label=f\"{DISCHARGE_ALGORITHM.upper()}\")\n",
    "\n",
    "# MOI Q\n",
    "plt.scatter(discharge_time, moi_q)\n",
    "plt.plot(discharge_time, moi_q, label=\"MOI\")\n",
    "\n",
    "# Gauge Q\n",
    "plt.scatter(gauge_time, gauge_discharge)\n",
    "plt.plot(gauge_time, gauge_discharge, label=\"Gauge\")\n",
    "\n",
    "plt.suptitle(f\"Discharge Timeseries from {DISCHARGE_ALGORITHM} for the {RIVER_NAME} reach identifier: {reach_id}.\")\n",
    "plt.legend()\n",
    "plt.tight_layout()"
   ]
  },
  {
   "cell_type": "markdown",
   "metadata": {},
   "source": [
    "--------"
   ]
  },
  {
   "cell_type": "markdown",
   "metadata": {},
   "source": [
    "*Disclaimer: Reference herein to any specific commercial product, process, or service by trade name, trademark, manufacturer, or otherwise, does not constitute or imply its endorsement by the United States Government or the Jet Propulsion Laboratory, California Institute of Technology.*"
   ]
  }
 ],
 "metadata": {
  "kernelspec": {
   "display_name": "Python 3 (ipykernel)",
   "language": "python",
   "name": "python3"
  },
  "language_info": {
   "codemirror_mode": {
    "name": "ipython",
    "version": 3
   },
   "file_extension": ".py",
   "mimetype": "text/x-python",
   "name": "python",
   "nbconvert_exporter": "python",
   "pygments_lexer": "ipython3",
   "version": "3.12.3"
  }
 },
 "nbformat": 4,
 "nbformat_minor": 4
}
