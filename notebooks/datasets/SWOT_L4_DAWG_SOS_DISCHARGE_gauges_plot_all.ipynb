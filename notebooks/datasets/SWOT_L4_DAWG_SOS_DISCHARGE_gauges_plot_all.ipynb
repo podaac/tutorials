{
 "cells": [
  {
   "cell_type": "markdown",
   "metadata": {},
   "source": [
    "![](https://img.shields.io/badge/PO.DAAC-Contribution-%20?color=grey&labelColor=blue)\n",
    "\n",
    "> From the PO.DAAC Cookbook, to access the GitHub version of the notebook, follow [this link](insert link to notebook)."
   ]
  },
  {
   "cell_type": "markdown",
   "metadata": {},
   "source": [
    "# Exploring gauges and river discharge in the SWORD of Science (SoS) dataset\n",
    "## Mapping all discharge algorithms, integrator results, and gauge data\n",
    "#### *Author: Nikki Tebaldi, NASA JPL PO.DAAC*"
   ]
  },
  {
   "cell_type": "markdown",
   "metadata": {},
   "source": [
    "## Summary\n",
    "\n",
    "### Looking at discharge in the SoS\n",
    "\n",
    "It can be helpful to plot the flow law parameter estimation (FLPE) algorithm discharge alongside the integrator (MOI) discharge produced for that algorithm PLUS overlapping in situ gauge data. Note that not all rivers have gauge data associated with them. In this notebook we will look at the steps to plot SoS discharge values produced from running the Confluence workflow alongside in situ gauge data gathered and stored in the priors.\n",
    "\n",
    "### Granule structure (background)\n",
    "\n",
    "The SWORD of Science (SoS) is a community-driven dataset produced for and from the execution of the Confluence workflow in the cloud which enables quick data access and compute on SWOT data. Data granules contain two files, priors and results. The priors file contains prior information, such as in-situ gage data and model output that is used to generate the discharge products. The results file contains the resulting river discharge data products.\n",
    "\n",
    "The cloud-based workflow (\"Confluence\") that produces the SoS will produce discharge parameter estimates which the SWOT mission will use to produce discharge. This discharge will be stored in the SWOT shapefiles as the official SWOT discharge. However, the Confluence workflow produces discharge time series alongside the discharge parameter estimates in order to preview what will eventually stored in the SWOT shapefiles. Users can reference the SoS for the latest discharge time series recognizing that the official SWOT discharge data product lives in the SWOT shapefiles.\n",
    "\n",
    "The SoS is organized by continent following [SWOT River Database (SWORD)](https://www.swordexplorer.com/) structure and naming conventions. It is indexed on the same reach and node identifier dimensions found in SWORD. Time series data is stored by cycle and pass on an observation dimension.\n",
    "\n",
    "More information is available in the SWOT-Confluence Github repository:\n",
    "* [Documentation for priors](https://github.com/SWOT-Confluence/documentation/blob/main/documentation/confluence_data_description-priors.pdf)\n",
    "* [Documentation for results](https://github.com/SWOT-Confluence/documentation/blob/main/documentation/confluence_data_description-results.pdf)\n",
    "\n",
    "Results are organized into groups corresponding to modules in the SWOT-Confluence processing software. Modules are described in the [Confluence Module Documentation](https://github.com/SWOT-Confluence/documentation/blob/main/documentation/confluence_module_documentation_v1.0.pdf).\n",
    "\n",
    "You can explore the SoS further in this notebook: Link TBD.\n",
    "\n",
    "### Locate data for a river that has gauges\n",
    "\n",
    "We will select the Ohio River as we know it has gauge data associated with it from the USGS but feel free to modify the constants below for your river of choice!\n",
    "\n",
    "### Table of Gauge Agencies by Continent\n",
    "\n",
    "The following list the continent with associated gauge agency and group name of the gauge agency as it is stored in the SoS.\n",
    "\n",
    "| Continent     | Group Name | Gauge Agency                                          |\n",
    "|---------------|-----------|-------------------------------------------------------|\n",
    "| Africa        | GRDC       | Global Runoff Data Centre                             |\n",
    "| Asia          | GRDC       | Global Runoff Data Centre                             |\n",
    "| Asia          | MLIT       | Ministry of Land, Infrastructure, Transport, Tourism  |\n",
    "| Europe        | GRDC       | Global Runoff Data Centre                             |\n",
    "| Europe        | DEFRA      | Department of Environment Food & Rural Affairs        |\n",
    "| Europe        | EAU        | Hub'Eau France                                        |\n",
    "| North America | GRDC       | Global Runoff Data Centre                             |\n",
    "| North America | USGS       | United State Geological Survey                        |\n",
    "| North America | WSC        | Water Survey Canada                                   |\n",
    "| Oceania       | GRDC       | Global Runoff Data Centre                             |\n",
    "| Oceania       | ABOM       | Australian Government Bureau of Meteorology           |\n",
    "| South America | GRDC       | Global Runoff Data Centre                             |\n",
    "| South America | DGA        | Direccion General de Aguas                            |\n",
    "| South America | Hidroweb   | Hidroweb                                              |"
   ]
  },
  {
   "cell_type": "markdown",
   "metadata": {},
   "source": [
    "## Requirements\n",
    "\n",
    "### 1. Compute environment \n",
    "\n",
    "This tutorial can be run in the following environments:\n",
    "- **Local compute environment** e.g. laptop, server: this tutorial can be run on your local machine\n",
    "\n",
    "### 2. Earthdata Login\n",
    "\n",
    "An Earthdata Login account is required to access data, as well as discover restricted data, from the NASA Earthdata system. Thus, to access NASA data, you need Earthdata Login. Please visit https://urs.earthdata.nasa.gov to register and manage your Earthdata Login account. This account is free to create and only takes a moment to set up."
   ]
  },
  {
   "cell_type": "markdown",
   "metadata": {},
   "source": [
    "## Learning Objectives\n",
    "- To locate in situ gauge data stored in the SoS.\n",
    "- To locate overlap between in situ observations and times where discharge values were produced.\n",
    "- Plot gauge data alongside river discharge.\n",
    "\n",
    "\n",
    "------"
   ]
  },
  {
   "cell_type": "markdown",
   "metadata": {},
   "source": [
    "## Import Packages"
   ]
  },
  {
   "cell_type": "code",
   "execution_count": 1,
   "metadata": {},
   "outputs": [],
   "source": [
    "import datetime\n",
    "import pathlib\n",
    "\n",
    "import earthaccess\n",
    "import matplotlib.pyplot as plt\n",
    "import netCDF4 as nc\n",
    "import numpy as np\n",
    "import pandas as pd"
   ]
  },
  {
   "cell_type": "markdown",
   "metadata": {},
   "source": [
    "## Authenticate\n",
    "Authenticate your Earthdata Login (EDL) information using the `earthaccess` python package as follows:"
   ]
  },
  {
   "cell_type": "code",
   "execution_count": 2,
   "metadata": {},
   "outputs": [
    {
     "data": {
      "text/plain": [
       "<earthaccess.auth.Auth at 0x107fc5df0>"
      ]
     },
     "execution_count": 2,
     "metadata": {},
     "output_type": "execute_result"
    }
   ],
   "source": [
    "earthaccess.login() # Login with your EDL credentials if asked\n"
   ]
  },
  {
   "cell_type": "markdown",
   "metadata": {},
   "source": [
    "## Search and Access SoS data\n",
    "Locate the SoS data of interest and then download for access."
   ]
  },
  {
   "cell_type": "code",
   "execution_count": 3,
   "metadata": {},
   "outputs": [
    {
     "name": "stdout",
     "output_type": "stream",
     "text": [
      "Granules found: 3\n"
     ]
    },
    {
     "data": {
      "text/plain": [
       "[Collection: {'Version': '1', 'ShortName': 'SWOT_L4_DAWG_SOS_DISCHARGE'}\n",
       " Spatial coverage: {'HorizontalSpatialDomain': {'Geometry': {'BoundingRectangles': [{'WestBoundingCoordinate': -21.794, 'SouthBoundingCoordinate': 25.382, 'EastBoundingCoordinate': 25.382, 'NorthBoundingCoordinate': 81.115}]}}}\n",
       " Temporal coverage: {'RangeDateTime': {'EndingDateTime': '2023-04-25T20:01:59.000Z', 'BeginningDateTime': '2023-04-07T22:49:35.000Z'}}\n",
       " Size(MB): 983.0999364852905\n",
       " Data: ['https://archive.podaac.earthdata.nasa.gov/podaac-ops-cumulus-protected/SWOT_L4_DAWG_SOS_DISCHARGE/eu_sword_v15_SOS_unconstrained_0001_20240228T205029_results.nc', 'https://archive.podaac.earthdata.nasa.gov/podaac-ops-cumulus-protected/SWOT_L4_DAWG_SOS_DISCHARGE/eu_sword_v15_SOS_unconstrained_0001_20240228T205029_priors.nc'],\n",
       " Collection: {'Version': '1', 'ShortName': 'SWOT_L4_DAWG_SOS_DISCHARGE'}\n",
       " Spatial coverage: {'HorizontalSpatialDomain': {'Geometry': {'BoundingRectangles': [{'WestBoundingCoordinate': -81.139, 'SouthBoundingCoordinate': -52, 'EastBoundingCoordinate': -52, 'NorthBoundingCoordinate': 11.097}]}}}\n",
       " Temporal coverage: {'RangeDateTime': {'EndingDateTime': '2023-04-26T12:04:55.000Z', 'BeginningDateTime': '2023-04-08T01:51:07.000Z'}}\n",
       " Size(MB): 1700.4334163665771\n",
       " Data: ['https://archive.podaac.earthdata.nasa.gov/podaac-ops-cumulus-protected/SWOT_L4_DAWG_SOS_DISCHARGE/sa_sword_v15_SOS_unconstrained_0001_20240228T205034_results.nc', 'https://archive.podaac.earthdata.nasa.gov/podaac-ops-cumulus-protected/SWOT_L4_DAWG_SOS_DISCHARGE/sa_sword_v15_SOS_unconstrained_0001_20240228T205034_priors.nc'],\n",
       " Collection: {'Version': '1', 'ShortName': 'SWOT_L4_DAWG_SOS_DISCHARGE'}\n",
       " Spatial coverage: {'HorizontalSpatialDomain': {'Geometry': {'BoundingRectangles': [{'WestBoundingCoordinate': -166.397, 'SouthBoundingCoordinate': 8.09, 'EastBoundingCoordinate': 8.09, 'NorthBoundingCoordinate': 82.311}]}}}\n",
       " Temporal coverage: {'RangeDateTime': {'EndingDateTime': '2023-04-26T13:28:35.000Z', 'BeginningDateTime': '2023-04-08T05:36:12.000Z'}}\n",
       " Size(MB): 1613.2776679992676\n",
       " Data: ['https://archive.podaac.earthdata.nasa.gov/podaac-ops-cumulus-protected/SWOT_L4_DAWG_SOS_DISCHARGE/na_sword_v15_SOS_unconstrained_0001_20240228T205032_results.nc', 'https://archive.podaac.earthdata.nasa.gov/podaac-ops-cumulus-protected/SWOT_L4_DAWG_SOS_DISCHARGE/na_sword_v15_SOS_unconstrained_0001_20240228T205032_priors.nc']]"
      ]
     },
     "execution_count": 3,
     "metadata": {},
     "output_type": "execute_result"
    }
   ],
   "source": [
    "# Search and locate granules\n",
    "granule_info = earthaccess.search_data(\n",
    "    short_name=\"SWOT_L4_DAWG_SOS_DISCHARGE\",\n",
    "    temporal=(\"2023-04-07\", \"2023-04-26\"),\n",
    ")\n",
    "granule_info"
   ]
  },
  {
   "cell_type": "code",
   "execution_count": 4,
   "metadata": {},
   "outputs": [
    {
     "name": "stdout",
     "output_type": "stream",
     "text": [
      "Select a priors and results file to explore:\n",
      "https://archive.podaac.earthdata.nasa.gov/podaac-ops-cumulus-protected/SWOT_L4_DAWG_SOS_DISCHARGE/eu_sword_v15_SOS_unconstrained_0001_20240228T205029_priors.nc\n",
      "https://archive.podaac.earthdata.nasa.gov/podaac-ops-cumulus-protected/SWOT_L4_DAWG_SOS_DISCHARGE/sa_sword_v15_SOS_unconstrained_0001_20240228T205034_priors.nc\n",
      "https://archive.podaac.earthdata.nasa.gov/podaac-ops-cumulus-protected/SWOT_L4_DAWG_SOS_DISCHARGE/na_sword_v15_SOS_unconstrained_0001_20240228T205032_priors.nc\n"
     ]
    }
   ],
   "source": [
    "# Enter a directory path to store downloaded data in\n",
    "downloads_dir = pathlib.Path(\"data_downloads\")\n",
    "downloads_dir.mkdir(parents=True, exist_ok=True)\n",
    "\n",
    "# Select a priors and results pair to explore\n",
    "download_links = [[link for link in earthaccess.results.DataGranule.data_links(granule)] for granule in granule_info]\n",
    "print(\"Select a priors and results file to explore:\")\n",
    "for downloads in download_links: \n",
    "    for download in downloads:\n",
    "        if \"priors\" in download: print(download)"
   ]
  },
  {
   "cell_type": "code",
   "execution_count": 5,
   "metadata": {},
   "outputs": [
    {
     "data": {
      "application/vnd.jupyter.widget-view+json": {
       "model_id": "aa0b39a1407b4fb1bf6244580e5040da",
       "version_major": 2,
       "version_minor": 0
      },
      "text/plain": [
       "QUEUEING TASKS | :   0%|          | 0/1 [00:00<?, ?it/s]"
      ]
     },
     "metadata": {},
     "output_type": "display_data"
    },
    {
     "name": "stdout",
     "output_type": "stream",
     "text": [
      "File eu_sword_v15_SOS_unconstrained_0001_20240228T205029_priors.nc already downloaded\n"
     ]
    },
    {
     "data": {
      "application/vnd.jupyter.widget-view+json": {
       "model_id": "407300d805204211a9f54abecdaa72a9",
       "version_major": 2,
       "version_minor": 0
      },
      "text/plain": [
       "PROCESSING TASKS | :   0%|          | 0/1 [00:00<?, ?it/s]"
      ]
     },
     "metadata": {},
     "output_type": "display_data"
    },
    {
     "data": {
      "application/vnd.jupyter.widget-view+json": {
       "model_id": "8a7e8128cb994d06ae60f20ca364e4a7",
       "version_major": 2,
       "version_minor": 0
      },
      "text/plain": [
       "COLLECTING RESULTS | :   0%|          | 0/1 [00:00<?, ?it/s]"
      ]
     },
     "metadata": {},
     "output_type": "display_data"
    },
    {
     "data": {
      "application/vnd.jupyter.widget-view+json": {
       "model_id": "359b567afe5d45ca8537415d3fcfbb14",
       "version_major": 2,
       "version_minor": 0
      },
      "text/plain": [
       "QUEUEING TASKS | :   0%|          | 0/1 [00:00<?, ?it/s]"
      ]
     },
     "metadata": {},
     "output_type": "display_data"
    },
    {
     "name": "stdout",
     "output_type": "stream",
     "text": [
      "File eu_sword_v15_SOS_unconstrained_0001_20240228T205029_results.nc already downloaded\n"
     ]
    },
    {
     "data": {
      "application/vnd.jupyter.widget-view+json": {
       "model_id": "5b66b97edd2c4774ac7b976d7c0f23c4",
       "version_major": 2,
       "version_minor": 0
      },
      "text/plain": [
       "PROCESSING TASKS | :   0%|          | 0/1 [00:00<?, ?it/s]"
      ]
     },
     "metadata": {},
     "output_type": "display_data"
    },
    {
     "data": {
      "application/vnd.jupyter.widget-view+json": {
       "model_id": "2adada394af7472e8a972c99e9770889",
       "version_major": 2,
       "version_minor": 0
      },
      "text/plain": [
       "COLLECTING RESULTS | :   0%|          | 0/1 [00:00<?, ?it/s]"
      ]
     },
     "metadata": {},
     "output_type": "display_data"
    },
    {
     "data": {
      "text/plain": [
       "['data_downloads/eu_sword_v15_SOS_unconstrained_0001_20240228T205029_results.nc']"
      ]
     },
     "execution_count": 5,
     "metadata": {},
     "output_type": "execute_result"
    }
   ],
   "source": [
    "# Select Europe (\"eu\") priors file to work with\n",
    "priors_link = \"https://archive.podaac.earthdata.nasa.gov/podaac-ops-cumulus-protected/SWOT_L4_DAWG_SOS_DISCHARGE/eu_sword_v15_SOS_unconstrained_0001_20240228T205029_priors.nc\"\n",
    "\n",
    "# Select results\n",
    "results_link = priors_link.replace(\"priors\", \"results\")\n",
    "\n",
    "earthaccess.download(priors_link, downloads_dir)\n",
    "earthaccess.download(results_link, downloads_dir)"
   ]
  },
  {
   "cell_type": "code",
   "execution_count": 6,
   "metadata": {},
   "outputs": [],
   "source": [
    "# Open downloaded files to access SoS granule data\n",
    "priors_download = priors_link.split('/')[-1]\n",
    "results_download = results_link.split('/')[-1]\n",
    "\n",
    "priors = nc.Dataset(downloads_dir.joinpath(priors_download), format=\"NETCDF4\")\n",
    "results = nc.Dataset(downloads_dir.joinpath(results_download), format=\"NETCDF4\")"
   ]
  },
  {
   "cell_type": "markdown",
   "metadata": {},
   "source": [
    "## Locate gauge and rive discharge data.\n",
    "We can now locate gauge and river discharge data from the SoS using either the data read directly from S3 or downloaded to your local computer."
   ]
  },
  {
   "cell_type": "code",
   "execution_count": 7,
   "metadata": {},
   "outputs": [],
   "source": [
    "# Constants\n",
    "\n",
    "# Select a river\n",
    "RIVER_NAME = \"Rhine\"\n",
    "\n",
    "# Select a gauge agency\n",
    "GAUGE_AGENCY = \"EAU\""
   ]
  },
  {
   "cell_type": "markdown",
   "metadata": {},
   "source": [
    "## Locate overlapping identifiers \n",
    "Locate overlapping identifiers for reach and gauge data."
   ]
  },
  {
   "cell_type": "code",
   "execution_count": 8,
   "metadata": {},
   "outputs": [
    {
     "name": "stdout",
     "output_type": "stream",
     "text": [
      "Number of Rhine reach identifiers: 146\n",
      "Number of Gauge reach identifiers: 243\n",
      "Overlapping reaches:\n",
      "[23267000071 23267000081 23267000121 23267000501]\n",
      "Reach id selected: 23267000071\n"
     ]
    }
   ],
   "source": [
    "# Locate overlapping reach identifier\n",
    "river_names = results['reaches']['river_name'][:]\n",
    "river_indexes = np.where(river_names  == RIVER_NAME)\n",
    "\n",
    "river_reach = results[\"reaches\"][\"reach_id\"][river_indexes]\n",
    "print(f\"Number of {RIVER_NAME} reach identifiers: {len(river_reach)}\")\n",
    "\n",
    "gauge_reach = priors[GAUGE_AGENCY][f\"{GAUGE_AGENCY}_reach_id\"][:]\n",
    "print(f\"Number of Gauge reach identifiers: {len(gauge_reach)}\")\n",
    "\n",
    "reach_overlap = np.intersect1d(gauge_reach, river_reach)\n",
    "print(\"Overlapping reaches:\")\n",
    "print(reach_overlap)\n",
    "\n",
    "# Select the first reach\n",
    "reach_id = reach_overlap[0]\n",
    "print(f\"Reach id selected: {reach_id}\")"
   ]
  },
  {
   "cell_type": "markdown",
   "metadata": {},
   "source": [
    "## Locate gauge discharge and in situ observation time\n",
    "Locate discharge and save the in situ observation time for the reach of interest."
   ]
  },
  {
   "cell_type": "code",
   "execution_count": 9,
   "metadata": {},
   "outputs": [
    {
     "name": "stdout",
     "output_type": "stream",
     "text": [
      "Number of gauge discharge values: 3722.\n",
      "Number of gauge time values: 3722.\n"
     ]
    }
   ],
   "source": [
    "# Get reach index for gauge data\n",
    "reach_gauge_index = np.where(gauge_reach == reach_id)\n",
    "\n",
    "# Get discharge and filter out missing values\n",
    "missing = priors[GAUGE_AGENCY][f\"{GAUGE_AGENCY}_q\"]._FillValue\n",
    "gauge_discharge = priors[GAUGE_AGENCY][f\"{GAUGE_AGENCY}_q\"][reach_gauge_index].filled()[0]\n",
    "nonmissing_indexes_g = np.where(gauge_discharge != missing)\n",
    "gauge_discharge = gauge_discharge[nonmissing_indexes_g]\n",
    "print(f\"Number of gauge discharge values: {len(gauge_discharge)}.\")\n",
    "\n",
    "# Get time and filter out missing values\n",
    "gauge_time = priors[GAUGE_AGENCY][f\"{GAUGE_AGENCY}_qt\"][reach_gauge_index].filled().astype(int)[0]\n",
    "gauge_time = gauge_time[nonmissing_indexes_g]\n",
    "print(f\"Number of gauge time values: {len(gauge_time)}.\")\n",
    "\n",
    "# Convert time from ordinal value\n",
    "gauge_time = [ datetime.datetime.fromordinal(gt).strftime(\"%Y%m%d\") for gt in gauge_time ]"
   ]
  },
  {
   "cell_type": "markdown",
   "metadata": {},
   "source": [
    "## Locate SWOT time\n",
    "Locate the observations times for SWOT used in the discharge parameter estimation processing."
   ]
  },
  {
   "cell_type": "code",
   "execution_count": 10,
   "metadata": {},
   "outputs": [
    {
     "name": "stdout",
     "output_type": "stream",
     "text": [
      "Reach Index:  (array([13158]),)\n",
      "Number of SWOT time values: 13.\n",
      "['20230407', '20230408', '20230409', '20230410', '20230416', '20230417', '20230418', '20230419', '20230420', '20230422', '20230423', '20230424', '20230425']\n"
     ]
    }
   ],
   "source": [
    "# Locate the reach identifier\n",
    "reach_q_index = np.where(results['reaches']['reach_id'][:] == reach_id)\n",
    "print(\"Reach Index: \", reach_q_index)\n",
    "\n",
    "# Retrieve SWOT observation times and filter out missing values\n",
    "time = results['reaches']['time'][reach_q_index][0]\n",
    "\n",
    "# Locate indexes where data exists\n",
    "missing = results['reaches']['time'].missing_value\n",
    "nonmissing_indexes = np.where(time != missing)\n",
    "time = time[nonmissing_indexes]\n",
    "\n",
    "# Convert to discharge time to same format as gauge agency time\n",
    "swot_ts = datetime.datetime(2000,1,1,0,0,0)   # SWOT timestamp delta\n",
    "discharge_time = [ (swot_ts + datetime.timedelta(seconds=st)).strftime(\"%Y%m%d\") for st in time ]\n",
    "print(f\"Number of SWOT time values: {len(time)}.\")\n",
    "print(discharge_time)"
   ]
  },
  {
   "cell_type": "markdown",
   "metadata": {},
   "source": [
    "## Locate algorithm discharge\n",
    "Locate the algorithm discharge for a corresponding reach identifier that has gauge data. We will use HiVDI for this demonstration."
   ]
  },
  {
   "cell_type": "code",
   "execution_count": 11,
   "metadata": {},
   "outputs": [],
   "source": [
    "def get_algorithm_discharge(results, algorithm, variable, reach_index, nonmissing_indexes, time_shape):\n",
    "    \"\"\"Locate and return discharge for a specific algorithm from the results SoS file.\"\"\"\n",
    "\n",
    "    if algorithm == \"neobam\":\n",
    "        discharge1 = results[algorithm][variable][\"q1\"][reach_q_index][0]\n",
    "        discharge2 = results[algorithm][variable][\"q2\"][reach_q_index][0]\n",
    "        discharge3 = results[algorithm][variable][\"q2\"][reach_q_index][0]\n",
    "        discharge_q = np.mean([discharge1, discharge2, discharge3])\n",
    "\n",
    "    else:\n",
    "        discharge_q = results[algorithm][variable][reach_index][0]\n",
    "\n",
    "    if isinstance(discharge_q, np.ndarray) and discharge_q.shape[0] > 1:\n",
    "        discharge_q = discharge_q[nonmissing_indexes] # Filter for where data exists in time\n",
    "        discharge_q[np.where(discharge_q == missing)] = np.nan # Set missing to NaN value\n",
    "    # No data was generated\n",
    "    else:\n",
    "        discharge_q = np.empty((time_shape))\n",
    "        discharge_q.fill(np.nan)\n",
    "    \n",
    "    return discharge_q"
   ]
  },
  {
   "cell_type": "code",
   "execution_count": 12,
   "metadata": {},
   "outputs": [
    {
     "name": "stdout",
     "output_type": "stream",
     "text": [
      "Number of HiVDI discharge values: 13\n",
      "Number of MetroMan discharge values: 13\n",
      "Number of MOMMA discharge values: 13\n",
      "Number of NeoBAM discharge values: 13\n",
      "Number of SAD discharge values: 13\n",
      "Number of SIC4DVar discharge values: 13\n"
     ]
    }
   ],
   "source": [
    "# HiVDI\n",
    "hivdi_q = get_algorithm_discharge(results, \"hivdi\", \"Q\", reach_q_index, nonmissing_indexes, time.shape)\n",
    "print(f\"Number of HiVDI discharge values: {hivdi_q.shape[0]}\")\n",
    "\n",
    "# MetroMan\n",
    "metroman_q = get_algorithm_discharge(results, \"metroman\", \"allq\", reach_q_index, nonmissing_indexes, time.shape)\n",
    "print(f\"Number of MetroMan discharge values: {hivdi_q.shape[0]}\")\n",
    "\n",
    "# MOMMA\n",
    "momma_q = get_algorithm_discharge(results, \"momma\", \"Q\", reach_q_index, nonmissing_indexes, time.shape)\n",
    "print(f\"Number of MOMMA discharge values: {hivdi_q.shape[0]}\")\n",
    "\n",
    "# NeoBAM\n",
    "neobam_q = get_algorithm_discharge(results, \"neobam\", \"q\", reach_q_index, nonmissing_indexes, time.shape)\n",
    "print(f\"Number of NeoBAM discharge values: {hivdi_q.shape[0]}\")\n",
    "\n",
    "# SAD\n",
    "sad_q = get_algorithm_discharge(results, \"sad\", \"Qa\", reach_q_index, nonmissing_indexes, time.shape)\n",
    "print(f\"Number of SAD discharge values: {hivdi_q.shape[0]}\")\n",
    "\n",
    "# SIC4DVar\n",
    "sic4dvar_q = get_algorithm_discharge(results, \"sic4dvar\", \"Q_mm\", reach_q_index, nonmissing_indexes, time.shape)\n",
    "print(f\"Number of SIC4DVar discharge values: {hivdi_q.shape[0]}\")"
   ]
  },
  {
   "cell_type": "markdown",
   "metadata": {},
   "source": [
    "## Locate integrator (MOI) discharge\n",
    "Locate the integrator discharge produced for the algorithm for the reach of interest that has gauge data. As mentioned, we will use HiVDI for this demonstration. "
   ]
  },
  {
   "cell_type": "code",
   "execution_count": 13,
   "metadata": {},
   "outputs": [],
   "source": [
    "def locate_moi_discharge(results, algorithm, reach_index, nonmissing_indexes):\n",
    "    \"\"\"Locate and return MOI results for specific algorithm.\"\"\"\n",
    "\n",
    "    moi_q = results[\"moi\"][algorithm][\"q\"][reach_index][0]\n",
    "    moi_q = moi_q[nonmissing_indexes]\n",
    "    \n",
    "    # Set missing MOI to NaN\n",
    "    missing_moi = results[\"moi\"][algorithm][\"q\"].missing_value\n",
    "    moi_q[moi_q == missing_moi] = np.nan\n",
    "\n",
    "    return moi_q"
   ]
  },
  {
   "cell_type": "code",
   "execution_count": 14,
   "metadata": {},
   "outputs": [
    {
     "name": "stdout",
     "output_type": "stream",
     "text": [
      "Number of integrator HiVDI discharge values: 13.\n",
      "Number of integrator MetroMan discharge values: 13.\n",
      "Number of integrator MOMMA discharge values: 13.\n",
      "Number of integrator NeoBAM discharge values: 13.\n",
      "Number of integrator SAD discharge values: 13.\n",
      "Number of integrator Sic4DVar discharge values: 13.\n"
     ]
    }
   ],
   "source": [
    "# Locate MOI discharge results for discharge algorithm making sure to filter out missing values\n",
    "\n",
    "# HiVDI\n",
    "moi_hivdi = locate_moi_discharge(results, \"hivdi\", reach_q_index, nonmissing_indexes)\n",
    "print(f\"Number of integrator HiVDI discharge values: {len(moi_hivdi)}.\")\n",
    "\n",
    "# MetroMan\n",
    "moi_metro = locate_moi_discharge(results, \"metroman\", reach_q_index, nonmissing_indexes)\n",
    "print(f\"Number of integrator MetroMan discharge values: {len(moi_hivdi)}.\")\n",
    "\n",
    "# MOMMA\n",
    "moi_momma = locate_moi_discharge(results, \"momma\", reach_q_index, nonmissing_indexes)\n",
    "print(f\"Number of integrator MOMMA discharge values: {len(moi_momma)}.\")\n",
    "\n",
    "# NeoBAM\n",
    "moi_neo = locate_moi_discharge(results, \"geobam\", reach_q_index, nonmissing_indexes)\n",
    "print(f\"Number of integrator NeoBAM discharge values: {len(moi_neo)}.\")\n",
    "\n",
    "# SAD\n",
    "moi_sad = locate_moi_discharge(results, \"sad\", reach_q_index, nonmissing_indexes)\n",
    "print(f\"Number of integrator SAD discharge values: {len(moi_sad)}.\")\n",
    "\n",
    "# SIC4DVar\n",
    "moi_sic = locate_moi_discharge(results, \"sic4dvar\", reach_q_index, nonmissing_indexes)\n",
    "print(f\"Number of integrator Sic4DVar discharge values: {len(moi_sic)}.\")"
   ]
  },
  {
   "cell_type": "markdown",
   "metadata": {},
   "source": [
    "## Locate overlapping observations\n",
    "We will need to locate the discharge time series (FLPE and MOI) for the reach of interest and then determine if there are overlapping in situ observations with SWOT observations."
   ]
  },
  {
   "cell_type": "code",
   "execution_count": 15,
   "metadata": {},
   "outputs": [
    {
     "name": "stdout",
     "output_type": "stream",
     "text": [
      "Days of observation overlap:  ['20230407', '20230408', '20230409', '20230410', '20230416', '20230417', '20230418', '20230419', '20230420', '20230422', '20230423', '20230424', '20230425']\n",
      "\n"
     ]
    }
   ],
   "source": [
    "# Find overlapping time between in situ and SWOT observations\n",
    "obs_overlap = list(set(discharge_time).intersection(set(gauge_time)))\n",
    "obs_overlap.sort()\n",
    "print(\"Days of observation overlap: \", obs_overlap)\n",
    "print()\n",
    "\n",
    "# Get indexes of overlap for gauge, algorithm and integrator\n",
    "gauge_overlap_index = np.where(np.in1d(gauge_time, obs_overlap))[0]\n",
    "gauge_overlap_index = gauge_overlap_index[6:]\n",
    "discharge_overlap_index = np.where(np.in1d(discharge_time, obs_overlap))[0]\n",
    "discharge_overlap_index = discharge_overlap_index[6:]"
   ]
  },
  {
   "cell_type": "code",
   "execution_count": 16,
   "metadata": {},
   "outputs": [
    {
     "name": "stdout",
     "output_type": "stream",
     "text": [
      "Gauge time:  ['20230418' '20230419' '20230420' '20230422' '20230423' '20230424'\n",
      " '20230425']\n",
      "Number of Gauge discharge values: 7\n"
     ]
    }
   ],
   "source": [
    "# Retrieve time and discharge values for indexes\n",
    "gauge_time = np.array(gauge_time)[gauge_overlap_index]\n",
    "print(\"Gauge time: \", gauge_time)\n",
    "\n",
    "gauge_discharge = np.array(gauge_discharge)[gauge_overlap_index]\n",
    "print(f\"Number of Gauge discharge values: {gauge_discharge.shape[0]}\")"
   ]
  },
  {
   "cell_type": "code",
   "execution_count": 17,
   "metadata": {},
   "outputs": [
    {
     "name": "stdout",
     "output_type": "stream",
     "text": [
      "SWOT time:\n",
      " ['20230418' '20230419' '20230420' '20230422' '20230423' '20230424'\n",
      " '20230425']\n"
     ]
    }
   ],
   "source": [
    "# Retrieve swot time values\n",
    "discharge_time = np.array(discharge_time)[discharge_overlap_index]\n",
    "print(f\"SWOT time:\\n\", discharge_time)"
   ]
  },
  {
   "cell_type": "code",
   "execution_count": 18,
   "metadata": {},
   "outputs": [
    {
     "name": "stdout",
     "output_type": "stream",
     "text": [
      "Number of HiVDI discharge values: 7\n",
      "Number of MetroMan discharge values: 7\n",
      "Number of MOMMA discharge values: 7\n",
      "Number of NeoBAM discharge values: 7\n",
      "Number of SAD discharge values: 7\n",
      "Number of SIC4DVar discharge values: 7\n"
     ]
    }
   ],
   "source": [
    "# Retrieve discharge algorithm values\n",
    "\n",
    "# HiVDI\n",
    "hivdi_q = hivdi_q[discharge_overlap_index]\n",
    "print(f\"Number of HiVDI discharge values: {hivdi_q.shape[0]}\")\n",
    "\n",
    "# MetroMan\n",
    "metroman_q = metroman_q[discharge_overlap_index]\n",
    "print(f\"Number of MetroMan discharge values: {hivdi_q.shape[0]}\")\n",
    "\n",
    "# MOMMA\n",
    "momma_q = momma_q[discharge_overlap_index]\n",
    "print(f\"Number of MOMMA discharge values: {hivdi_q.shape[0]}\")\n",
    "\n",
    "# NeoBAM\n",
    "neobam_q = neobam_q[discharge_overlap_index]\n",
    "print(f\"Number of NeoBAM discharge values: {hivdi_q.shape[0]}\")\n",
    "\n",
    "# SAD\n",
    "sad_q = sad_q[discharge_overlap_index]\n",
    "print(f\"Number of SAD discharge values: {hivdi_q.shape[0]}\")\n",
    "\n",
    "# SIC4DVar\n",
    "sic4dvar_q = sic4dvar_q[discharge_overlap_index]\n",
    "print(f\"Number of SIC4DVar discharge values: {hivdi_q.shape[0]}\")"
   ]
  },
  {
   "cell_type": "code",
   "execution_count": 19,
   "metadata": {},
   "outputs": [
    {
     "name": "stdout",
     "output_type": "stream",
     "text": [
      "Number of integrator HiVDI discharge values: 7.\n",
      "Number of integrator MetroMan discharge values: 7.\n",
      "Number of integrator MOMMA discharge values: 7.\n",
      "Number of integrator NeoBAM discharge values: 7.\n",
      "Number of integrator SAD discharge values: 7.\n",
      "Number of integrator Sic4DVar discharge values: 7.\n"
     ]
    }
   ],
   "source": [
    "# Retrieve MOI values\n",
    "\n",
    "# HiVDI\n",
    "moi_hivdi = moi_hivdi[discharge_overlap_index]\n",
    "print(f\"Number of integrator HiVDI discharge values: {len(moi_hivdi)}.\")\n",
    "\n",
    "# MetroMan\n",
    "moi_metro = moi_metro[discharge_overlap_index]\n",
    "print(f\"Number of integrator MetroMan discharge values: {len(moi_hivdi)}.\")\n",
    "\n",
    "# MOMMA\n",
    "moi_momma = moi_momma[discharge_overlap_index]\n",
    "print(f\"Number of integrator MOMMA discharge values: {len(moi_momma)}.\")\n",
    "\n",
    "# NeoBAM\n",
    "moi_neo = moi_neo[discharge_overlap_index]\n",
    "print(f\"Number of integrator NeoBAM discharge values: {len(moi_neo)}.\")\n",
    "\n",
    "# SAD\n",
    "moi_sad = moi_sad[discharge_overlap_index]\n",
    "print(f\"Number of integrator SAD discharge values: {len(moi_sad)}.\")\n",
    "\n",
    "# SIC4DVar\n",
    "moi_sic = moi_sic[discharge_overlap_index]\n",
    "print(f\"Number of integrator Sic4DVar discharge values: {len(moi_sic)}.\")"
   ]
  },
  {
   "cell_type": "markdown",
   "metadata": {},
   "source": [
    "## Plotting results for comparison\n",
    "Let's plot all discharge time series to better visualize the differences and compare the FLPE, MOI, and gauge discharge values. "
   ]
  },
  {
   "cell_type": "code",
   "execution_count": 20,
   "metadata": {},
   "outputs": [],
   "source": [
    "def plot_discharge(axs, discharge_time, discharge_q, color, name, line_list, line_list_names):\n",
    "    \"\"\"Plot discharge values and return list of plot lines.\"\"\"\n",
    "\n",
    "    if np.all(np.isnan(discharge_q)):\n",
    "        return   # Cannot plot NaN values\n",
    "    \n",
    "    else:\n",
    "        axs.scatter(discharge_time, discharge_q, color=color)\n",
    "        if \"MOI\" in name:\n",
    "            line, = axs.plot(discharge_time, discharge_q, color=color, linestyle=\"dashed\")\n",
    "        else:\n",
    "            line, = axs.plot(discharge_time, discharge_q, color=color)\n",
    "        line_list.append(line)\n",
    "        line_list_names.append(name)"
   ]
  },
  {
   "cell_type": "code",
   "execution_count": 21,
   "metadata": {},
   "outputs": [
    {
     "data": {
      "text/plain": [
       "<module 'matplotlib.pyplot' from '/Users/tebaldi/Documents/workspace/environments/tutorials/lib/python3.12/site-packages/matplotlib/pyplot.py'>"
      ]
     },
     "execution_count": 21,
     "metadata": {},
     "output_type": "execute_result"
    },
    {
     "data": {
      "image/png": "[encoded data removed]",
      "text/plain": [
       "<Figure size 2500x600 with 1 Axes>"
      ]
     },
     "metadata": {},
     "output_type": "display_data"
    }
   ],
   "source": [
    "fig, axs = plt.subplots(figsize = (25,6))\n",
    "\n",
    "## Build legend data\n",
    "line_list = []\n",
    "line_list_names = []\n",
    "\n",
    "## Gauge\n",
    "plot_discharge(axs, discharge_time, gauge_discharge, \"grey\", \"Gauge\", line_list, line_list_names)\n",
    "\n",
    "## FLPE & MOI\n",
    "plot_discharge(axs, discharge_time, hivdi_q, \"blue\", \"HiVDI\", line_list, line_list_names)\n",
    "plot_discharge(axs, discharge_time, moi_hivdi, \"blue\", \"MOI HiVDI\", line_list, line_list_names)\n",
    "\n",
    "plot_discharge(axs, discharge_time, metroman_q, \"orange\", \"MetroMan\", line_list, line_list_names)\n",
    "plot_discharge(axs, discharge_time, moi_metro, \"orange\", \"MOI MetroMan\", line_list, line_list_names)\n",
    "\n",
    "plot_discharge(axs, discharge_time, momma_q, \"red\", \"MOMMA\", line_list, line_list_names)\n",
    "plot_discharge(axs, discharge_time, moi_momma, \"red\", \"MOI MOMMA\", line_list, line_list_names)\n",
    "\n",
    "plot_discharge(axs, discharge_time, neobam_q, \"purple\", \"NeoBAM\", line_list, line_list_names)\n",
    "plot_discharge(axs, discharge_time, moi_neo, \"purple\", \"MOI NeoBAM\", line_list, line_list_names)\n",
    "\n",
    "plot_discharge(axs, discharge_time, sad_q, \"goldenrod\", \"SAD\", line_list, line_list_names)\n",
    "plot_discharge(axs, discharge_time, moi_sad, \"goldenrod\", \"MOI SAD\", line_list, line_list_names)\n",
    "\n",
    "plot_discharge(axs, discharge_time, sic4dvar_q, \"seagreen\", \"SIC4DVar\", line_list, line_list_names)\n",
    "plot_discharge(axs, discharge_time, moi_sic, \"seagreen\", \"MOI SIC4DVar\", line_list, line_list_names)\n",
    "\n",
    "# Plot details\n",
    "axs.legend(line_list, line_list_names, loc='center right')\n",
    "axs.set_ylabel('Time', fontsize=10)\n",
    "axs.set_xlabel('Discharge', fontsize=10)\n",
    "axs.set_title('Discharge', fontsize=10)\n",
    "\n",
    "plt"
   ]
  },
  {
   "cell_type": "markdown",
   "metadata": {},
   "source": [
    "--------"
   ]
  },
  {
   "cell_type": "markdown",
   "metadata": {},
   "source": [
    "*Disclaimer: Reference herein to any specific commercial product, process, or service by trade name, trademark, manufacturer, or otherwise, does not constitute or imply its endorsement by the United States Government or the Jet Propulsion Laboratory, California Institute of Technology.*"
   ]
  }
 ],
 "metadata": {
  "kernelspec": {
   "display_name": "Python 3 (ipykernel)",
   "language": "python",
   "name": "python3"
  },
  "language_info": {
   "codemirror_mode": {
    "name": "ipython",
    "version": 3
   },
   "file_extension": ".py",
   "mimetype": "text/x-python",
   "name": "python",
   "nbconvert_exporter": "python",
   "pygments_lexer": "ipython3",
   "version": "3.12.3"
  }
 },
 "nbformat": 4,
 "nbformat_minor": 4
}
