{
 "cells": [
  {
   "cell_type": "markdown",
   "id": "273c8f43-244f-41b8-9b77-ea0cf30d50d2",
   "metadata": {},
   "source": [
    "> From the PO.DAAC Cookbook, to access the GitHub version of the notebook, follow [this link](insert link to notebook)."
   ]
  },
  {
   "cell_type": "markdown",
   "id": "4c394895-225e-4938-9e98-c4e189154643",
   "metadata": {},
   "source": [
    "# Hydrocron API: SWOT Time Series Examples\n",
    "\n",
    "#### *Authors: Nikki Tebaldi and Cassandra Nickles, NASA PO.DAAC*\n",
    "\n",
    "### Summary:\n",
    "\n",
    "[Hydrocron](https://podaac.github.io/hydrocron/intro.html) is an API that repackages the `SWOT_L2_HR_RIVERSP_2.0` dataset into csv or geojson formats that make time series analysis easier. This notebook will highlight how to utilize hydrocron and convert its output into a readable geodatabase of data from multiple SWOT reaches identified from the [SWORD Database](https://www.swordexplorer.com/).\n",
    "\n",
    "### Requirements:\n",
    "Any compute environment, local or the cloud.\n",
    "\n",
    "### Learning Objectives:\n",
    "- Obtain a list of SWORD IDs for a region of interest\n",
    "- Access SWOT river vector product attributes for multiple reach IDs via the Hydrocron API\n",
    "- Convert accessed time series data into readable geodatabase\n",
    "- Plot one time series variable from multiple reaches.\n",
    "\n",
    "### Cite the Hydrocron tool via the following:\n",
    " `"
   ]
  },
  {
   "cell_type": "markdown",
   "id": "7f877658-f9d5-4a67-8e95-3370f4b0aa70",
   "metadata": {},
   "source": [
    "## Import Packages"
   ]
  },
  {
   "cell_type": "code",
   "execution_count": null,
   "id": "9cf7f037-3c09-4ade-91e8-5ba46b7af545",
   "metadata": {},
   "outputs": [],
   "source": []
  }
 ],
 "metadata": {
  "kernelspec": {
   "display_name": "Python 3 (ipykernel)",
   "language": "python",
   "name": "python3"
  },
  "language_info": {
   "codemirror_mode": {
    "name": "ipython",
    "version": 3
   },
   "file_extension": ".py",
   "mimetype": "text/x-python",
   "name": "python",
   "nbconvert_exporter": "python",
   "pygments_lexer": "ipython3",
   "version": "3.8.13"
  }
 },
 "nbformat": 4,
 "nbformat_minor": 5
}
