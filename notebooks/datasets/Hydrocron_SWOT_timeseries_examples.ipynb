{
 "cells": [
  {
   "cell_type": "markdown",
   "id": "273c8f43-244f-41b8-9b77-ea0cf30d50d2",
   "metadata": {},
   "source": [
    "> From the PO.DAAC Cookbook, to access the GitHub version of the notebook, follow [this link](insert link to notebook)."
   ]
  },
  {
   "cell_type": "markdown",
   "id": "4c394895-225e-4938-9e98-c4e189154643",
   "metadata": {},
   "source": [
    "# Hydrocron API: SWOT Time Series Examples\n",
    "\n",
    "#### *Authors: Nikki Tebaldi and Cassandra Nickles, NASA PO.DAAC*\n",
    "\n",
    "### Summary:\n",
    "\n",
    "[Hydrocron](https://podaac.github.io/hydrocron/intro.html) is an API that repackages the `SWOT_L2_HR_RIVERSP_2.0` dataset into csv or geojson formats that make time series analysis easier. This notebook will highlight how to utilize hydrocron and convert its output into a readable geodatabase of data from multiple SWOT reaches identified from the [SWORD Database](https://www.swordexplorer.com/).\n",
    "\n",
    "### Requirements:\n",
    "Any compute environment, local or the cloud.\n",
    "\n",
    "### Learning Objectives:\n",
    "- Obtain a list of SWORD IDs for a region of interest\n",
    "- Access SWOT river vector product attributes for multiple reach IDs via the Hydrocron API\n",
    "- Convert accessed time series data into readable database\n",
    "- Plot one time series variable from multiple reaches\n",
    "\n",
    "### Cite the Hydrocron tool via the following:\n",
    " `"
   ]
  },
  {
   "cell_type": "markdown",
   "id": "7f877658-f9d5-4a67-8e95-3370f4b0aa70",
   "metadata": {},
   "source": [
    "## Import Packages"
   ]
  },
  {
   "cell_type": "code",
   "execution_count": 1,
   "id": "9cf7f037-3c09-4ade-91e8-5ba46b7af545",
   "metadata": {},
   "outputs": [],
   "source": [
    "import requests\n",
    "import pprint"
   ]
  },
  {
   "cell_type": "markdown",
   "id": "e23ee73e-d0a7-4afa-97af-f0ecdd977774",
   "metadata": {},
   "source": [
    "## Obtain SWORD IDs for a river\n",
    "\n",
    "In this section, we query the Feature Translation Service (FTS) to give us a list of river IDs from the SWOT River Database [(SWORD)](https://www.swordexplorer.com/). One river reach ID has the format `CBBBBBRRRRT` and a node ID has the format, `CBBBBBRRRRNNNT` where `C` stands for continent, `B` for basin, `R` for reach, `N` for node, and `T` for type. The first 6 digits of the id (CBBBBB) are the [HydroBASINS](https://www.hydrosheds.org/products/hydrobasins) Pfafstetter level 6 basin code, where the first digit represents one of nine continental regions (1 = Africa, 2 = Europe, 3 = Siberia, 4 = Asia, 5 = Oceania, 6 = South America, 7 = North America, 8 = Arctic, 9 = Greenland), and the remaining digits are nested basin levels 2–6. We recommend looking for your region of interest in the SWORD database and identifying the code for your basin/river of interest.\n",
    "\n",
    "In this example, we use ID `732520`. This ID represents multiple reaches along the Savannah River and its tributaries in Georgia, USA. Note that this ID includes every reach included in the broader category, for example, individual reach `73252000161`. "
   ]
  },
  {
   "cell_type": "code",
   "execution_count": 21,
   "id": "722d6bcd-e212-4c4f-88c1-5c2ceb7d4aa6",
   "metadata": {},
   "outputs": [
    {
     "name": "stdout",
     "output_type": "stream",
     "text": [
      "{'hits': 192,\n",
      " 'results': {'73252000013': {...},\n",
      "             '73252000043': {...},\n",
      "             '73252000051': {...},\n",
      "             '73252000061': {...},\n",
      "             '73252000071': {...},\n",
      "             '73252000081': {...},\n",
      "             '73252000091': {...},\n",
      "             '73252000101': {...},\n",
      "             '73252000111': {...},\n",
      "             '73252000121': {...},\n",
      "             '73252000131': {...},\n",
      "             '73252000141': {...},\n",
      "             '73252000151': {...},\n",
      "             '73252000161': {...},\n",
      "             '73252000171': {...},\n",
      "             '73252000181': {...},\n",
      "             '73252000191': {...},\n",
      "             '73252000201': {...},\n",
      "             '73252000211': {...},\n",
      "             '73252000221': {...},\n",
      "             '73252000231': {...},\n",
      "             '73252000244': {...},\n",
      "             '73252000251': {...},\n",
      "             '73252000261': {...},\n",
      "             '73252000271': {...},\n",
      "             '73252000284': {...},\n",
      "             '73252000291': {...},\n",
      "             '73252000303': {...},\n",
      "             '73252000311': {...},\n",
      "             '73252000323': {...},\n",
      "             '73252000331': {...},\n",
      "             '73252000343': {...},\n",
      "             '73252000354': {...},\n",
      "             '73252000363': {...},\n",
      "             '73252000373': {...},\n",
      "             '73252000383': {...},\n",
      "             '73252000393': {...},\n",
      "             '73252000401': {...},\n",
      "             '73252000411': {...},\n",
      "             '73252000423': {...},\n",
      "             '73252000433': {...},\n",
      "             '73252000443': {...},\n",
      "             '73252000453': {...},\n",
      "             '73252000463': {...},\n",
      "             '73252000473': {...},\n",
      "             '73252000484': {...},\n",
      "             '73252000493': {...},\n",
      "             '73252000503': {...},\n",
      "             '73252000513': {...},\n",
      "             '73252000523': {...},\n",
      "             '73252000533': {...},\n",
      "             '73252000543': {...},\n",
      "             '73252000553': {...},\n",
      "             '73252000564': {...},\n",
      "             '73252000573': {...},\n",
      "             '73252000583': {...},\n",
      "             '73252000593': {...},\n",
      "             '73252000603': {...},\n",
      "             '73252000611': {...},\n",
      "             '73252000623': {...},\n",
      "             '73252000633': {...},\n",
      "             '73252000641': {...},\n",
      "             '73252000653': {...},\n",
      "             '73252000663': {...},\n",
      "             '73252000673': {...},\n",
      "             '73252000683': {...},\n",
      "             '73252000693': {...},\n",
      "             '73252000703': {...},\n",
      "             '73252000713': {...},\n",
      "             '73252000721': {...},\n",
      "             '73252000734': {...},\n",
      "             '73252000743': {...},\n",
      "             '73252000753': {...},\n",
      "             '73252000763': {...},\n",
      "             '73252000773': {...},\n",
      "             '73252000783': {...},\n",
      "             '73252000793': {...},\n",
      "             '73252000803': {...},\n",
      "             '73252000813': {...},\n",
      "             '73252000823': {...},\n",
      "             '73252000831': {...},\n",
      "             '73252000843': {...},\n",
      "             '73252000853': {...},\n",
      "             '73252000861': {...},\n",
      "             '73252000873': {...},\n",
      "             '73252000883': {...},\n",
      "             '73252000891': {...},\n",
      "             '73252000903': {...},\n",
      "             '73252000913': {...},\n",
      "             '73252000921': {...},\n",
      "             '73252000933': {...},\n",
      "             '73252000944': {...},\n",
      "             '73252000953': {...},\n",
      "             '73252000961': {...},\n",
      "             '73252000971': {...},\n",
      "             '73252000981': {...},\n",
      "             '73252000993': {...},\n",
      "             '73252001001': {...},\n",
      "             '73252001013': {...},\n",
      "             '73252001023': {...}},\n",
      " 'results_count': 100,\n",
      " 'search on': {'exact': False,\n",
      "               'page_number': 1,\n",
      "               'page_size': 100,\n",
      "               'parameter': 'reach'},\n",
      " 'status': '206 PARTIAL CONTENT',\n",
      " 'time': '106.464 ms.'}\n"
     ]
    }
   ],
   "source": [
    "Savannah_reaches = requests.get(\"https://fts.podaac.earthdata.nasa.gov/rivers/reach/732520\")\n",
    "\n",
    "pprint.pprint(Savannah_reaches.json(), compact=True, width=60, depth=2)"
   ]
  },
  {
   "cell_type": "code",
   "execution_count": 35,
   "id": "c11779de-f17f-4432-b51f-5b833924069e",
   "metadata": {},
   "outputs": [],
   "source": [
    "# This is only a partial result from page 1, how do we also append from the rest of the pages in the response?\n",
    "IDs = list(Savannah_reaches.json()['results'].keys())"
   ]
  },
  {
   "cell_type": "code",
   "execution_count": null,
   "id": "7b3cedf6-ff75-4055-b791-0a8abfb66002",
   "metadata": {},
   "outputs": [],
   "source": []
  }
 ],
 "metadata": {
  "kernelspec": {
   "display_name": "Python 3 (ipykernel)",
   "language": "python",
   "name": "python3"
  },
  "language_info": {
   "codemirror_mode": {
    "name": "ipython",
    "version": 3
   },
   "file_extension": ".py",
   "mimetype": "text/x-python",
   "name": "python",
   "nbconvert_exporter": "python",
   "pygments_lexer": "ipython3",
   "version": "3.8.13"
  }
 },
 "nbformat": 4,
 "nbformat_minor": 5
}
