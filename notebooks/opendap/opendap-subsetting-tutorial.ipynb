{
 "cells": [
  {
   "cell_type": "markdown",
   "source": [
    "# Subsetting Cloud OPeNDAP Example\n",
    "\n",
    "One of OPeNDAP's key features is it's subsetting capabilities. It is capable of subsetting by time, space and variable, and is an effective tool for those looking to reduce the amount of gridded data required for research or analysis to a specific region, time, or set of variables. As such, subsetting reduces the amount of data run and allows users to key in on areas of interest.\n",
    "\n",
    "This example requires preliminary Cloud-OPeNDAP set up before running these examples. For instructions, see credentials.ipynb in this repository."
   ],
   "metadata": {
    "collapsed": false
   }
  },
  {
   "cell_type": "code",
   "execution_count": null,
   "outputs": [],
   "source": [
    "import netCDF4 as nc\n",
    "OPENDAP_URL = \"https://opendap.earthdata.nasa.gov/providers/POCLOUD/collections/ECCO%20Atmosphere%20Surface%20Temperature%2C%20Humidity%2C%20Wind%2C%20and%20Pressure%20-%20Daily%20Mean%200.5%20Degree%20(Version%204%20Release%204)/granules/ATM_SURFACE_TEMP_HUM_WIND_PRES_day_mean_2017-12-31_ECCO_V4r4_latlon_0p50deg\"\n",
    "ds = nc.Dataset(OPENDAP_URL, mode=\"r\")\n",
    "\n",
    "print(ds)"
   ],
   "metadata": {
    "collapsed": false,
    "pycharm": {
     "name": "#%%\n"
    }
   }
  },
  {
   "cell_type": "markdown",
   "source": [
    "### Dataset Set Up\n",
    "Subsetting is based on variable selection. To view the variables in the dataset, run the following command, which will output the variables' names, types, and ranges:"
   ],
   "metadata": {
    "collapsed": false
   }
  },
  {
   "cell_type": "code",
   "execution_count": null,
   "outputs": [],
   "source": [
    "ds.variables"
   ],
   "metadata": {
    "collapsed": false,
    "pycharm": {
     "name": "#%%\n"
    }
   }
  },
  {
   "cell_type": "markdown",
   "source": [
    "### Install Libraries\n",
    "These examples use xarray and matplot, which are helpful tools for data analysis and computation.\n",
    "In your local environment, install ```xarray``` and ```matplotlib``` for the following subsetting plot functionalities."
   ],
   "metadata": {
    "collapsed": false
   }
  },
  {
   "cell_type": "code",
   "execution_count": null,
   "outputs": [],
   "source": [
    "import matplotlib.pyplot as plt\n",
    "import xarray as xr"
   ],
   "metadata": {
    "collapsed": false,
    "pycharm": {
     "name": "#%%\n"
    }
   }
  },
  {
   "cell_type": "markdown",
   "source": [
    "### Method 1: Subsetting with xarray\n",
    "Subsetting begins by first accessing cloud-enabled OPeNDAP with xarray's ```open_dataset``` function. Create an xarray named ```ecco_ds```. This xarray will later be subsetted into smaller defined tiles. "
   ],
   "metadata": {
    "collapsed": false
   }
  },
  {
   "cell_type": "code",
   "execution_count": null,
   "outputs": [],
   "source": [
    "ecco_ds = xr.open_dataset(OPENDAP_URL)"
   ],
   "metadata": {
    "collapsed": false,
    "pycharm": {
     "name": "#%%\n"
    }
   }
  },
  {
   "cell_type": "code",
   "execution_count": null,
   "outputs": [],
   "source": [
    "print(ecco_ds)"
   ],
   "metadata": {
    "collapsed": false,
    "pycharm": {
     "name": "#%%\n"
    }
   }
  },
  {
   "cell_type": "markdown",
   "source": [
    "Print out the variables in the dataset:"
   ],
   "metadata": {
    "collapsed": false
   }
  },
  {
   "cell_type": "code",
   "execution_count": null,
   "outputs": [],
   "source": [
    "ecco_ds.data_vars"
   ],
   "metadata": {
    "collapsed": false,
    "pycharm": {
     "name": "#%%\n"
    }
   }
  },
  {
   "cell_type": "markdown",
   "source": [
    "Select one of the variables listed above. In this example, `EXFewind` is selected. \n",
    "#### Assess the variable:\n",
    "View `EXFewind` in more detail and without the global attributes by running: "
   ],
   "metadata": {
    "collapsed": false
   }
  },
  {
   "cell_type": "code",
   "execution_count": null,
   "outputs": [],
   "source": [
    "ecco_ds['EXFwspee']"
   ],
   "metadata": {
    "collapsed": false,
    "pycharm": {
     "name": "#%%\n"
    }
   }
  },
  {
   "cell_type": "markdown",
   "source": [
    "#### Plot the entire variable:"
   ],
   "metadata": {
    "collapsed": false
   }
  },
  {
   "cell_type": "code",
   "execution_count": null,
   "outputs": [],
   "source": [
    "ecco_ds.EXFwspee.plot()"
   ],
   "metadata": {
    "collapsed": false,
    "pycharm": {
     "name": "#%%\n"
    }
   }
  },
  {
   "cell_type": "markdown",
   "source": [
    "#### Subset with defined ranges:\n",
    "To subset, we will use xarray's ```isel``` method. This returns a new dataset with each array indexed along the specified dimension(s). These calls extract arrays based on the provided parameters that are read as a set of coordinate indices. For more information, https://docs.xarray.dev/en/stable/generated/xarray.Dataset.isel.html.  \n",
    "\n",
    "In this example, the following ranges are used: latitude (50,100), longitude (300,700)."
   ],
   "metadata": {
    "collapsed": false
   }
  },
  {
   "cell_type": "code",
   "execution_count": null,
   "outputs": [],
   "source": [
    "ecco_ds.EXFwspee.isel(latitude=slice(50,100),longitude=slice(300,700)).plot()"
   ],
   "metadata": {
    "collapsed": false,
    "pycharm": {
     "name": "#%%\n"
    }
   }
  },
  {
   "cell_type": "code",
   "execution_count": null,
   "outputs": [],
   "source": [
    "output_tile = ecco_ds.isel(latitude=300, time=0).load()\n",
    "output_tile.data_vars"
   ],
   "metadata": {
    "collapsed": false,
    "pycharm": {
     "name": "#%%\n"
    }
   }
  },
  {
   "cell_type": "markdown",
   "source": [
    "Use `coords` to view which coordinate values are available to use for our subset plot."
   ],
   "metadata": {
    "collapsed": false
   }
  },
  {
   "cell_type": "code",
   "execution_count": null,
   "outputs": [],
   "source": [
    "ecco_ds.coords"
   ],
   "metadata": {
    "collapsed": false,
    "pycharm": {
     "name": "#%%\n"
    }
   }
  },
  {
   "cell_type": "markdown",
   "source": [
    "The following plots the subsetted data with windspeed along latitude=300 over time=0 (see the output_tile definition above). "
   ],
   "metadata": {
    "collapsed": false
   }
  },
  {
   "cell_type": "code",
   "execution_count": null,
   "outputs": [],
   "source": [
    "f, axarr = plt.subplots(1, sharex=True,figsize=(8, 8))\n",
    "ax = axarr\n",
    "ax.plot(ecco_ds['longitude'], output_tile.EXFwspee, color='b')\n",
    "ax.set_xlabel('Wind Speed: m s-1')\n",
    "ax.set_ylabel('Longitude')\n",
    "ax.set_title('Wind Speed vs Longitude (m s-1), Latitude=300')\n",
    "ax.grid()"
   ],
   "metadata": {
    "collapsed": false,
    "pycharm": {
     "name": "#%%\n"
    }
   }
  },
  {
   "cell_type": "markdown",
   "source": [
    "## Method 2: Subsetting using the Numpy Syntax\n",
    "An alternative method is to subset using Numpy's [ ] syntax on ```DataArray```."
   ],
   "metadata": {
    "collapsed": false
   }
  },
  {
   "cell_type": "code",
   "execution_count": null,
   "outputs": [],
   "source": [
    "ecco_ds.data_vars"
   ],
   "metadata": {
    "collapsed": false,
    "pycharm": {
     "name": "#%%\n"
    }
   }
  },
  {
   "cell_type": "code",
   "execution_count": null,
   "outputs": [],
   "source": [
    "wind_speed_arr = ecco_ds.EXFwspee.values\n",
    "type(wind_speed_arr)\n",
    "wind_speed_arr.shape"
   ],
   "metadata": {
    "collapsed": false,
    "pycharm": {
     "name": "#%%\n"
    }
   }
  },
  {
   "cell_type": "markdown",
   "source": [
    "The shape above (1, 360, 720) aligns with the variable definition (time, latitude, longitude). To plot this using numpy, the variable has to be reduced to a 2-D array. In this example, time is removed since time is the same value for all latitude, longitude values."
   ],
   "metadata": {
    "collapsed": false
   }
  },
  {
   "cell_type": "code",
   "execution_count": null,
   "outputs": [],
   "source": [
    "wind_speed_2d = wind_speed_arr[0,:,:]\n",
    "wind_speed_2d.shape"
   ],
   "metadata": {
    "collapsed": false,
    "pycharm": {
     "name": "#%%\n"
    }
   }
  },
  {
   "cell_type": "code",
   "execution_count": null,
   "outputs": [],
   "source": [
    "fig = plt.figure(figsize=(10, 8))\n",
    "plt.imshow(wind_speed_2d, origin='lower',cmap='jet')\n",
    "plt.colorbar()\n",
    "time = ecco_ds.time.values[0]\n",
    "plt.title(f'Wind Speed m s-1 for {time}')\n",
    "plt.xlabel('latitude')\n",
    "plt.ylabel('longitude')"
   ],
   "metadata": {
    "collapsed": false,
    "pycharm": {
     "name": "#%%\n"
    }
   }
  },
  {
   "cell_type": "markdown",
   "source": [
    "To subset, create a 2D variable to plot with defined ranges. In this example, ```EXFwspee``` is subsetted with the following ranges are used: latitude (50,100), longitude (300,700)."
   ],
   "metadata": {
    "collapsed": false
   }
  },
  {
   "cell_type": "code",
   "execution_count": null,
   "outputs": [],
   "source": [
    "wind_speed_2d_subset = ecco_ds.EXFwspee[0,50:100,300:700]\n",
    "fig = plt.figure(figsize=(10, 8))\n",
    "wind_speed_2d_subset.plot()"
   ],
   "metadata": {
    "collapsed": false,
    "pycharm": {
     "name": "#%%\n"
    }
   }
  },
  {
   "cell_type": "code",
   "execution_count": null,
   "outputs": [],
   "source": [
    "wind_speed_1d_subset = ecco_ds.EXFwspee[0,300,:]"
   ],
   "metadata": {
    "collapsed": false,
    "pycharm": {
     "name": "#%%\n"
    }
   }
  },
  {
   "cell_type": "markdown",
   "source": [
    "Trim down ```wind_speed_2_d_subset``` to a 1-D array. In this example, latitude = 300 and longitude is saved."
   ],
   "metadata": {
    "collapsed": false
   }
  },
  {
   "cell_type": "code",
   "execution_count": null,
   "outputs": [],
   "source": [
    "wind_speed_1d_subset.shape"
   ],
   "metadata": {
    "collapsed": false,
    "pycharm": {
     "name": "#%%\n"
    }
   }
  },
  {
   "cell_type": "code",
   "execution_count": null,
   "outputs": [],
   "source": [
    "print(wind_speed_1d_subset)"
   ],
   "metadata": {
    "collapsed": false,
    "pycharm": {
     "name": "#%%\n"
    }
   }
  },
  {
   "cell_type": "code",
   "execution_count": null,
   "outputs": [],
   "source": [
    "f, axarr = plt.subplots(1, sharex=True,figsize=(8, 8))\n",
    "ax = axarr\n",
    "ax.plot(ecco_ds['longitude'], wind_speed_1d_subset, color='b')\n",
    "ax.set_xlabel('Wind Speed: m s-1')\n",
    "ax.set_ylabel('Longitude')\n",
    "ax.set_title('Wind Speed vs Longitude (m s-1), Latitude=300')\n",
    "ax.grid()"
   ],
   "metadata": {
    "collapsed": false,
    "pycharm": {
     "name": "#%%\n"
    }
   }
  }
 ],
 "metadata": {
  "kernelspec": {
   "display_name": "Python 3 (ipykernel)",
   "language": "python",
   "name": "python3"
  },
  "language_info": {
   "codemirror_mode": {
    "name": "ipython",
    "version": 3
   },
   "file_extension": ".py",
   "mimetype": "text/x-python",
   "name": "python",
   "nbconvert_exporter": "python",
   "pygments_lexer": "ipython3",
   "version": "3.9.6"
  }
 },
 "nbformat": 4,
 "nbformat_minor": 1
}