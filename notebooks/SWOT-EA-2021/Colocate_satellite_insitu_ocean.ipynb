{
 "cells": [
  {
   "cell_type": "markdown",
   "id": "11f3518d-28c0-45f5-9bae-8612acfd060a",
   "metadata": {},
   "source": [
    "![](https://img.shields.io/badge/PO.DAAC-Contribution-%20?color=grey&labelColor=blue)\n",
    "\n",
    "> From the PO.DAAC Cookbook, to access the GitHub version of the notebook, follow [this link](https://github.com/podaac/tutorials/blob/master/notebooks/SWOT-EA-2021/Colocate_satellite_insitu_ocean.ipynb)."
   ]
  },
  {
   "cell_type": "markdown",
   "id": "627b173b",
   "metadata": {},
   "source": [
    "## <span style=\"color:orange\">Use Case: Co-locate satellite and in-situ data for cross-validation</span>\n",
    "\n",
    "#### User Story\n",
    "As a coastal applications researcher, I would like to co-locate in-situ measurements and satellite data near the European coast for cross-validation of data or model validation, during the winter of 2019. (*Note: this user stroes was developed to demo at the 2nd Annual SWOT Applications Early Adopter Hackweek, 8 March 2021.)\n",
    "\n",
    "#### Learning Objectives\n",
    "- Co-locate remote sensing data from the Earthdata Cloud archive with in-situ measurements from another provider, programmatically using the Earthdata CMR amd Harmony APIs. \n",
    "- Workflow can be conducted either locally or in the cloud (i.e. it is compute environment agnostic). \n",
    "- While capabilities demoed here are shown through an oceanography example, these use cases and examples can be applied as building blocks for developing other user workflows with PO.DAAC and Earthdata datasets, across a range of science and applications disciplines, including for example terrestrial hydrology, coastal, or cryosphere. \n",
    "- Note: Searching for NASA Earthdata data given point-based observation locations can also be done via the NASA Earthdata Search user interface https://search.earthdata.nasa.gov/search, in addition to programmatically (as shown here).\n",
    "\n",
    "#### Datasets used\n",
    "- Argo floats https://argo.ucsd.edu/\n",
    "- MODIS-Aqua L2 SST https://podaac.jpl.nasa.gov/dataset/AMSRE-REMSS-L2P-v7a\n",
    "- MUR L4 SST https://registry.opendata.aws/mur/\n",
    "\n",
    "#### Main Steps in Workflow\n",
    "1. Define study region and period of time of interest: Atlantic Ocean west of Portugal and Morocco, January 2019\n",
    "2. Get in-situ Argo floats using the Argo API and prepapre the Argo data (select Argo SST for one float during its journey in Jan 2019 at the top pressure level i.e. nearest the ocean surface)\n",
    "3. Get coincident SST observed by the MODIS satellite, from the NASA Earthdata Cloud (in AWS)\n",
    "    - Search Earthdata Cloud satellite data for collection of interest (MODIS-Aqua L2) (using the CMR API)\n",
    "    - Extract satellite data at the in-situ location for direct comparison (using the Harmony API)\n",
    "    - Download locally (from the cloud archive), or download to your cloud storage or compute space if working within the AWS cloud\n",
    "    - Quality control the MODIS data with daytime and quality flag filters    \n",
    "4. Plot time series comparing the in-situ and satellite data at in-situ location(s)\n",
    "5. Validate with a third dataset, MUR L4 SST (once version stored in the *AWS Registry of Open Data* - public data access)\n",
    "\n",
    "*Note: in order to currently access PO.DAAC Cloud Pathfinder datasets such as MODIS SST L2 from the Earthdata Cloud, your Earthdata login username needs to be added to an restrcited early access list (during the transition period of migrating PO.DAAC data to the Earthdata Cloud). Please contact podaac@podaac.jpl.nasa.gov to make that request.*\n",
    "\n",
    "\n",
    "<img src=\"browse.png\" />"
   ]
  },
  {
   "cell_type": "markdown",
   "id": "7f438edc",
   "metadata": {},
   "source": [
    "---------------\n",
    "\n",
    "### Requirements\n",
    "\n",
    "**Import modules**: The Python ecosystem is organized into modules.  A module must be imported before the contents of that modules can be used.  It is good practice to import modules in the first code cell of a notebook or at the top of your script.  Not only does this make it clear which modules are being used, but it also ensures that the code fails at the beginning because one of the modules is not installed rather half way through after crunching a load of data.\n",
    "\n",
    "For some modules, it is common practice to shorten the module names according to accepted conventions.  For example, the plotting module `matplotlib.pyplot` is shortened to `plt`.  It is best to stick to these conventions rather than making up your own short names so that people reading your code see immediately what you are doing. "
   ]
  },
  {
   "cell_type": "code",
   "execution_count": 1,
   "id": "5939b565",
   "metadata": {
    "ExecuteTime": {
     "end_time": "2021-03-15T21:08:17.732378Z",
     "start_time": "2021-03-15T21:08:16.086927Z"
    }
   },
   "outputs": [],
   "source": [
    "from netrc import netrc\n",
    "from urllib import request\n",
    "from platform import system\n",
    "from getpass import getpass\n",
    "from datetime import datetime\n",
    "from http.cookiejar import CookieJar\n",
    "from os.path import join, isfile, basename, abspath, expanduser\n",
    "from folium.plugins import MarkerCluster\n",
    "import folium\n",
    "import matplotlib\n",
    "import matplotlib.pyplot as plt\n",
    "import matplotlib.patches as mpatches\n",
    "import cartopy.crs as ccrs\n",
    "import xarray as xr\n",
    "import pandas as pd\n",
    "import numpy as np\n",
    "import requests\n",
    "import json\n",
    "import time\n",
    "\n",
    "matplotlib.rc('font', **{'family' : 'sans-serif', 'weight': 'normal', 'size': 16})\n",
    "\n",
    "!mkdir -p resources/"
   ]
  },
  {
   "cell_type": "markdown",
   "id": "fee684d4",
   "metadata": {},
   "source": [
    "### Earthdata Login\n",
    "\n",
    "An Earthdata Login account is required to access data, as well as discover restricted data, from the NASA Earthdata system. Please visit https://urs.earthdata.nasa.gov to register and manage your Earthdata Login account. This account is free to create and only takes a moment to set up.\n",
    "\n",
    "The `setup_earthdata_login_auth` function will allow Python scripts to log into any Earthdata Login application programmatically.  To avoid being prompted for\n",
    "credentials every time you run and also allow clients such as curl to log in, you can add the following\n",
    "to a `.netrc` (`_netrc` on Windows) file in your home directory:\n",
    "\n",
    "```\n",
    "machine urs.earthdata.nasa.gov\n",
    "    login <your username>\n",
    "    password <your password>\n",
    "```\n",
    "\n",
    "Make sure that this file is only readable by the current user or you will receive an error stating\n",
    "\"netrc access too permissive.\"\n",
    "\n",
    "`$ chmod 0600 ~/.netrc` "
   ]
  },
  {
   "cell_type": "code",
   "execution_count": null,
   "id": "160c82a5",
   "metadata": {
    "ExecuteTime": {
     "end_time": "2021-03-15T21:08:26.075640Z",
     "start_time": "2021-03-15T21:08:17.734562Z"
    }
   },
   "outputs": [],
   "source": [
    "TOKEN_DATA = (\"<token>\"\n",
    "              \"<username>%s</username>\"\n",
    "              \"<password>%s</password>\"\n",
    "              \"<client_id>PODAAC CMR Client</client_id>\"\n",
    "              \"<user_ip_address>%s</user_ip_address>\"\n",
    "              \"</token>\")\n",
    "\n",
    "\n",
    "def setup_cmr_token_auth(endpoint: str='cmr.earthdata.nasa.gov'):\n",
    "    ip = requests.get(\"https://ipinfo.io/ip\").text.strip()\n",
    "    return requests.post(\n",
    "        url=\"https://%s/legacy-services/rest/tokens\" % endpoint,\n",
    "        data=TOKEN_DATA % (input(\"Username: \"), getpass(\"Password: \"), ip),\n",
    "        headers={'Content-Type': 'application/xml', 'Accept': 'application/json'}\n",
    "    ).json()['token']['id']\n",
    "\n",
    "\n",
    "def setup_earthdata_login_auth(endpoint: str='urs.earthdata.nasa.gov'):\n",
    "    netrc_name = \"_netrc\" if system()==\"Windows\" else \".netrc\"\n",
    "    try:\n",
    "        username, _, password = netrc(file=join(expanduser('~'), netrc_name)).authenticators(endpoint)\n",
    "    except (FileNotFoundError, TypeError):\n",
    "        print('Please provide your Earthdata Login credentials for access.')\n",
    "        print('Your info will only be passed to %s and will not be exposed in Jupyter.' % (endpoint))\n",
    "        username = input('Username: ')\n",
    "        password = getpass('Password: ')\n",
    "    manager = request.HTTPPasswordMgrWithDefaultRealm()\n",
    "    manager.add_password(None, endpoint, username, password)\n",
    "    auth = request.HTTPBasicAuthHandler(manager)\n",
    "    jar = CookieJar()\n",
    "    processor = request.HTTPCookieProcessor(jar)\n",
    "    opener = request.build_opener(auth, processor)\n",
    "    request.install_opener(opener)\n",
    "\n",
    "\n",
    "# Get your authentication token for searching restricted records in the CMR:\n",
    "_token = setup_cmr_token_auth(endpoint=\"cmr.earthdata.nasa.gov\")\n",
    "\n",
    "# Start authenticated session with URS to allow restricted data downloads:\n",
    "setup_earthdata_login_auth(endpoint=\"urs.earthdata.nasa.gov\")"
   ]
  },
  {
   "cell_type": "markdown",
   "id": "4ba8c09a",
   "metadata": {},
   "source": [
    "### Study region and period\n",
    "\n",
    "Set some \"master\" inputs to define the time and place contexts for our case studies in the ipynb. "
   ]
  },
  {
   "cell_type": "code",
   "execution_count": 3,
   "id": "06201530",
   "metadata": {
    "ExecuteTime": {
     "end_time": "2021-03-15T21:08:28.015518Z",
     "start_time": "2021-03-15T21:08:28.012516Z"
    }
   },
   "outputs": [],
   "source": [
    "# The timeframe of interest (Argovis API limit == 3 months):\n",
    "start_date = \"2019-01-01\"\n",
    "end_date   = \"2019-01-31\"\n",
    "\n",
    "# The area/region of interest by latitude/longitude:\n",
    "aoi_minlon = -26.0\n",
    "aoi_minlat = 30.0\n",
    "aoi_maxlon = -12.0\n",
    "aoi_maxlat = 40.0"
   ]
  },
  {
   "cell_type": "markdown",
   "id": "f1cc1771",
   "metadata": {},
   "source": [
    "Plot the spatial extent of our study area with a blue polygon:"
   ]
  },
  {
   "cell_type": "code",
   "execution_count": 4,
   "id": "de49a31b",
   "metadata": {
    "ExecuteTime": {
     "end_time": "2021-03-15T21:08:28.917055Z",
     "start_time": "2021-03-15T21:08:28.585359Z"
    }
   },
   "outputs": [
    {
     "data": {
      "image/png": "[encoded data removed]",
      "text/plain": [
       "<Figure size 648x648 with 1 Axes>"
      ]
     },
     "metadata": {
      "needs_background": "light"
     },
     "output_type": "display_data"
    }
   ],
   "source": [
    "ax = plt.subplot(projection=ccrs.PlateCarree())\n",
    "\n",
    "ax.figure.set_figheight(9)\n",
    "ax.figure.set_figwidth(9)\n",
    "\n",
    "ax.add_patch(mpatches.Rectangle(xy=[aoi_minlon, aoi_minlat], \n",
    "                                width=aoi_maxlon-aoi_minlon, \n",
    "                                height=aoi_maxlat-aoi_minlat,\n",
    "                                facecolor='white',\n",
    "                                alpha=0.5,\n",
    "                                transform=ccrs.Geodetic())\n",
    "             )\n",
    "ax.set_extent((aoi_minlon-20., \n",
    "               aoi_maxlon+20.,\n",
    "               aoi_minlat-20.,\n",
    "               aoi_maxlat+20.), crs=ccrs.PlateCarree())\n",
    "ax.stock_img()\n",
    "ax.coastlines()\n",
    "ax.gridlines(color=\"white\", alpha=0.5)\n",
    "plt.show()"
   ]
  },
  {
   "cell_type": "markdown",
   "id": "5e0f8ddd",
   "metadata": {},
   "source": [
    "## Access temperature profiles from ArgoVis API\n",
    "\n",
    "ArgoVis is an API and visualization service that provides access to Argo float profiles. The endpoint for requesting profile data is given in the cell below:"
   ]
  },
  {
   "cell_type": "code",
   "execution_count": 5,
   "id": "9712bcc6",
   "metadata": {
    "ExecuteTime": {
     "end_time": "2021-03-15T21:08:29.660346Z",
     "start_time": "2021-03-15T21:08:29.657707Z"
    }
   },
   "outputs": [
    {
     "name": "stdout",
     "output_type": "stream",
     "text": [
      "https://argovis.colorado.edu/selection/profiles/?\n"
     ]
    }
   ],
   "source": [
    "argo_api_endpoint = 'https://argovis.colorado.edu/selection/profiles/?'\n",
    "\n",
    "print(argo_api_endpoint)"
   ]
  },
  {
   "cell_type": "markdown",
   "id": "f2e39ac2",
   "metadata": {},
   "source": [
    "Create the AOI polygon in required XY format, make it a string, and collect the dictionary of API parameters:"
   ]
  },
  {
   "cell_type": "code",
   "execution_count": 6,
   "id": "18396a76",
   "metadata": {
    "ExecuteTime": {
     "end_time": "2021-03-15T21:08:30.322357Z",
     "start_time": "2021-03-15T21:08:30.317187Z"
    }
   },
   "outputs": [
    {
     "data": {
      "text/plain": [
       "{'startDate': '2019-1-1',\n",
       " 'endDate': '2019-1-31',\n",
       " 'shape': '[[[-26.0,30.0],[-26.0,40.0],[-12.0,40.0],[-12.0,30.0],[-26.0,30.0]]]'}"
      ]
     },
     "execution_count": 6,
     "metadata": {},
     "output_type": "execute_result"
    }
   ],
   "source": [
    "argo_api_aoi = [[[aoi_minlon, aoi_minlat], \n",
    "                 [aoi_minlon, aoi_maxlat], \n",
    "                 [aoi_maxlon, aoi_maxlat],\n",
    "                 [aoi_maxlon, aoi_minlat],\n",
    "                 [aoi_minlon, aoi_minlat]]]\n",
    "\n",
    "argo_api_params = {\n",
    "    'startDate': start_date.replace(\"-0\",\"-\"),     # 1.\n",
    "    'endDate': end_date.replace(\"-0\",\"-\"),         # 1. No leading zeros in start/end dates\n",
    "    'shape': str(argo_api_aoi).replace(\" \",\"\"),    # 2. Array of XY vertices for AOI polygon\n",
    "    #'presRange': \"[0,30]\"                         # 3. We wont limit by pressure range\n",
    "}\n",
    "\n",
    "argo_api_params"
   ]
  },
  {
   "cell_type": "markdown",
   "id": "06ef3372",
   "metadata": {},
   "source": [
    "Submit the request parameters to the Argovis API. You should receive a JSON response back. Print the number of profiles inside our AOI:"
   ]
  },
  {
   "cell_type": "code",
   "execution_count": 7,
   "id": "3f716087",
   "metadata": {
    "ExecuteTime": {
     "end_time": "2021-03-15T21:08:31.366649Z",
     "start_time": "2021-03-15T21:08:30.924617Z"
    }
   },
   "outputs": [
    {
     "name": "stdout",
     "output_type": "stream",
     "text": [
      "41\n"
     ]
    }
   ],
   "source": [
    "argo_api_response = requests.get(url=argo_api_endpoint, params=argo_api_params)\n",
    "\n",
    "# Load the response from JSON if the response status is 200:\n",
    "if argo_api_response.status_code == 200:\n",
    "    argo_profiles = argo_api_response.json()\n",
    "    print(len(argo_profiles))\n",
    "else:\n",
    "    # Otherwise dump the text for more clues:\n",
    "    print(argo_api_response.text)"
   ]
  },
  {
   "cell_type": "markdown",
   "id": "8e3c9478",
   "metadata": {},
   "source": [
    "### Prepare profile data for further analysis\n",
    "\n",
    "Concatenate the list of metadata dictionaries returned for the argos into a table and update a few of its columns with Pythonic types:"
   ]
  },
  {
   "cell_type": "code",
   "execution_count": 8,
   "id": "875f0ea8",
   "metadata": {
    "ExecuteTime": {
     "end_time": "2021-03-15T21:08:32.498596Z",
     "start_time": "2021-03-15T21:08:32.481018Z"
    }
   },
   "outputs": [
    {
     "name": "stdout",
     "output_type": "stream",
     "text": [
      "<class 'pandas.core.frame.DataFrame'>\n",
      "Int64Index: 41 entries, 40 to 0\n",
      "Data columns (total 36 columns):\n",
      " #   Column                        Non-Null Count  Dtype              \n",
      "---  ------                        --------------  -----              \n",
      " 0   _id                           41 non-null     object             \n",
      " 1   POSITIONING_SYSTEM            41 non-null     object             \n",
      " 2   DATA_CENTRE                   41 non-null     object             \n",
      " 3   PI_NAME                       41 non-null     object             \n",
      " 4   WMO_INST_TYPE                 41 non-null     object             \n",
      " 5   VERTICAL_SAMPLING_SCHEME      41 non-null     object             \n",
      " 6   DATA_MODE                     41 non-null     object             \n",
      " 7   PLATFORM_TYPE                 41 non-null     object             \n",
      " 8   measurements                  41 non-null     object             \n",
      " 9   station_parameters            41 non-null     object             \n",
      " 10  pres_max_for_TEMP             41 non-null     float64            \n",
      " 11  pres_min_for_TEMP             41 non-null     float64            \n",
      " 12  pres_max_for_PSAL             41 non-null     float64            \n",
      " 13  pres_min_for_PSAL             41 non-null     float64            \n",
      " 14  max_pres                      41 non-null     float64            \n",
      " 15  date                          41 non-null     object             \n",
      " 16  date_added                    41 non-null     object             \n",
      " 17  date_qc                       41 non-null     int64              \n",
      " 18  lat                           41 non-null     float64            \n",
      " 19  lon                           41 non-null     float64            \n",
      " 20  geoLocation                   41 non-null     object             \n",
      " 21  position_qc                   41 non-null     int64              \n",
      " 22  cycle_number                  41 non-null     int64              \n",
      " 23  dac                           41 non-null     object             \n",
      " 24  platform_number               41 non-null     int64              \n",
      " 25  station_parameters_in_nc      41 non-null     object             \n",
      " 26  nc_url                        41 non-null     object             \n",
      " 27  DIRECTION                     41 non-null     object             \n",
      " 28  BASIN                         41 non-null     int64              \n",
      " 29  core_data_mode                41 non-null     object             \n",
      " 30  roundLat                      41 non-null     object             \n",
      " 31  roundLon                      41 non-null     object             \n",
      " 32  strLat                        41 non-null     object             \n",
      " 33  strLon                        41 non-null     object             \n",
      " 34  formatted_station_parameters  41 non-null     object             \n",
      " 35  datetime                      41 non-null     datetime64[ns, UTC]\n",
      "dtypes: datetime64[ns, UTC](1), float64(7), int64(5), object(23)\n",
      "memory usage: 11.9+ KB\n"
     ]
    }
   ],
   "source": [
    "argo_df = pd.DataFrame(argo_profiles).sort_values(\"date\")\n",
    "\n",
    "# Add a column with pandas datetime objects for easier indexing\n",
    "argo_df['datetime'] = pd.to_datetime(argo_df['date'])\n",
    "# And then replace the original date column with Python dates\n",
    "argo_df['date'] = argo_df.datetime.apply(lambda x: x.date).tolist()\n",
    "\n",
    "# Add two columns of sanitized lats/lons to the data frame\n",
    "argo_df['lat'] = argo_df['roundLat'].astype(float).tolist()\n",
    "argo_df['lon'] = argo_df['roundLon'].astype(float).tolist()\n",
    "\n",
    "argo_df.info()"
   ]
  },
  {
   "cell_type": "markdown",
   "id": "5f650682",
   "metadata": {},
   "source": [
    "You can download profiles in netCDF format from the FTP link stored in the *nc_url* fields of the response. Here's the URL for the first of the profiles:"
   ]
  },
  {
   "cell_type": "code",
   "execution_count": 9,
   "id": "71632772",
   "metadata": {
    "ExecuteTime": {
     "end_time": "2021-03-15T21:08:33.524480Z",
     "start_time": "2021-03-15T21:08:33.521451Z"
    }
   },
   "outputs": [
    {
     "name": "stdout",
     "output_type": "stream",
     "text": [
      "ftp://ftp.ifremer.fr/ifremer/argo/dac/coriolis/6902663/profiles/R6902663_124.nc\n"
     ]
    }
   ],
   "source": [
    "print(argo_df.iloc[0].nc_url)"
   ]
  },
  {
   "cell_type": "markdown",
   "id": "f2d41ce8",
   "metadata": {},
   "source": [
    "Display a table summarizing the space/time characteristics of eaach profile:"
   ]
  },
  {
   "cell_type": "code",
   "execution_count": 10,
   "id": "3b420ba8",
   "metadata": {
    "ExecuteTime": {
     "end_time": "2021-03-15T21:08:33.919883Z",
     "start_time": "2021-03-15T21:08:33.899572Z"
    }
   },
   "outputs": [
    {
     "data": {
      "text/html": [
       "<div>\n",
       "<style scoped>\n",
       "    .dataframe tbody tr th:only-of-type {\n",
       "        vertical-align: middle;\n",
       "    }\n",
       "\n",
       "    .dataframe tbody tr th {\n",
       "        vertical-align: top;\n",
       "    }\n",
       "\n",
       "    .dataframe thead th {\n",
       "        text-align: right;\n",
       "    }\n",
       "</style>\n",
       "<table border=\"1\" class=\"dataframe\">\n",
       "  <thead>\n",
       "    <tr style=\"text-align: right;\">\n",
       "      <th></th>\n",
       "      <th>platform_number</th>\n",
       "      <th>cycle_number</th>\n",
       "      <th>datetime</th>\n",
       "      <th>lon</th>\n",
       "      <th>lat</th>\n",
       "    </tr>\n",
       "  </thead>\n",
       "  <tbody>\n",
       "    <tr>\n",
       "      <th>40</th>\n",
       "      <td>6902663</td>\n",
       "      <td>124</td>\n",
       "      <td>2019-01-01 20:14:00+00:00</td>\n",
       "      <td>-17.383</td>\n",
       "      <td>35.601</td>\n",
       "    </tr>\n",
       "    <tr>\n",
       "      <th>39</th>\n",
       "      <td>6901260</td>\n",
       "      <td>49</td>\n",
       "      <td>2019-01-02 05:43:00+00:00</td>\n",
       "      <td>-12.812</td>\n",
       "      <td>37.707</td>\n",
       "    </tr>\n",
       "    <tr>\n",
       "      <th>38</th>\n",
       "      <td>6901143</td>\n",
       "      <td>228</td>\n",
       "      <td>2019-01-02 09:22:20+00:00</td>\n",
       "      <td>-21.083</td>\n",
       "      <td>32.254</td>\n",
       "    </tr>\n",
       "    <tr>\n",
       "      <th>37</th>\n",
       "      <td>6902664</td>\n",
       "      <td>124</td>\n",
       "      <td>2019-01-02 20:28:00+00:00</td>\n",
       "      <td>-18.411</td>\n",
       "      <td>34.985</td>\n",
       "    </tr>\n",
       "    <tr>\n",
       "      <th>36</th>\n",
       "      <td>3901643</td>\n",
       "      <td>43</td>\n",
       "      <td>2019-01-04 06:13:00+00:00</td>\n",
       "      <td>-22.429</td>\n",
       "      <td>37.556</td>\n",
       "    </tr>\n",
       "    <tr>\n",
       "      <th>35</th>\n",
       "      <td>3901942</td>\n",
       "      <td>48</td>\n",
       "      <td>2019-01-05 20:23:30+00:00</td>\n",
       "      <td>-15.286</td>\n",
       "      <td>35.316</td>\n",
       "    </tr>\n",
       "    <tr>\n",
       "      <th>34</th>\n",
       "      <td>6901262</td>\n",
       "      <td>22</td>\n",
       "      <td>2019-01-06 05:42:59.999000+00:00</td>\n",
       "      <td>-17.967</td>\n",
       "      <td>34.228</td>\n",
       "    </tr>\n",
       "    <tr>\n",
       "      <th>33</th>\n",
       "      <td>3901932</td>\n",
       "      <td>22</td>\n",
       "      <td>2019-01-06 05:49:00+00:00</td>\n",
       "      <td>-19.904</td>\n",
       "      <td>33.428</td>\n",
       "    </tr>\n",
       "    <tr>\n",
       "      <th>32</th>\n",
       "      <td>1901688</td>\n",
       "      <td>288</td>\n",
       "      <td>2019-01-07 03:11:53+00:00</td>\n",
       "      <td>-23.134</td>\n",
       "      <td>34.258</td>\n",
       "    </tr>\n",
       "    <tr>\n",
       "      <th>31</th>\n",
       "      <td>6901260</td>\n",
       "      <td>50</td>\n",
       "      <td>2019-01-07 05:26:00+00:00</td>\n",
       "      <td>-12.887</td>\n",
       "      <td>37.905</td>\n",
       "    </tr>\n",
       "    <tr>\n",
       "      <th>30</th>\n",
       "      <td>1901688</td>\n",
       "      <td>289</td>\n",
       "      <td>2019-01-08 03:15:16+00:00</td>\n",
       "      <td>-23.137</td>\n",
       "      <td>34.248</td>\n",
       "    </tr>\n",
       "    <tr>\n",
       "      <th>29</th>\n",
       "      <td>6902552</td>\n",
       "      <td>167</td>\n",
       "      <td>2019-01-08 12:50:00+00:00</td>\n",
       "      <td>-23.798</td>\n",
       "      <td>33.144</td>\n",
       "    </tr>\n",
       "    <tr>\n",
       "      <th>28</th>\n",
       "      <td>1901688</td>\n",
       "      <td>290</td>\n",
       "      <td>2019-01-09 03:19:48+00:00</td>\n",
       "      <td>-23.148</td>\n",
       "      <td>34.233</td>\n",
       "    </tr>\n",
       "    <tr>\n",
       "      <th>27</th>\n",
       "      <td>1901688</td>\n",
       "      <td>291</td>\n",
       "      <td>2019-01-10 03:27:35+00:00</td>\n",
       "      <td>-23.158</td>\n",
       "      <td>34.218</td>\n",
       "    </tr>\n",
       "    <tr>\n",
       "      <th>26</th>\n",
       "      <td>6901273</td>\n",
       "      <td>11</td>\n",
       "      <td>2019-01-10 05:25:00+00:00</td>\n",
       "      <td>-12.473</td>\n",
       "      <td>32.219</td>\n",
       "    </tr>\n",
       "    <tr>\n",
       "      <th>25</th>\n",
       "      <td>6902663</td>\n",
       "      <td>125</td>\n",
       "      <td>2019-01-11 20:15:00+00:00</td>\n",
       "      <td>-17.071</td>\n",
       "      <td>35.830</td>\n",
       "    </tr>\n",
       "    <tr>\n",
       "      <th>24</th>\n",
       "      <td>6901260</td>\n",
       "      <td>51</td>\n",
       "      <td>2019-01-12 05:18:00+00:00</td>\n",
       "      <td>-12.982</td>\n",
       "      <td>38.047</td>\n",
       "    </tr>\n",
       "    <tr>\n",
       "      <th>23</th>\n",
       "      <td>6901143</td>\n",
       "      <td>229</td>\n",
       "      <td>2019-01-12 07:05:12+00:00</td>\n",
       "      <td>-21.206</td>\n",
       "      <td>32.474</td>\n",
       "    </tr>\n",
       "    <tr>\n",
       "      <th>22</th>\n",
       "      <td>6902664</td>\n",
       "      <td>125</td>\n",
       "      <td>2019-01-12 20:16:00+00:00</td>\n",
       "      <td>-18.198</td>\n",
       "      <td>35.057</td>\n",
       "    </tr>\n",
       "    <tr>\n",
       "      <th>21</th>\n",
       "      <td>3901643</td>\n",
       "      <td>44</td>\n",
       "      <td>2019-01-14 05:58:00+00:00</td>\n",
       "      <td>-22.706</td>\n",
       "      <td>37.542</td>\n",
       "    </tr>\n",
       "    <tr>\n",
       "      <th>20</th>\n",
       "      <td>3901942</td>\n",
       "      <td>49</td>\n",
       "      <td>2019-01-15 20:37:30+00:00</td>\n",
       "      <td>-15.739</td>\n",
       "      <td>34.976</td>\n",
       "    </tr>\n",
       "    <tr>\n",
       "      <th>19</th>\n",
       "      <td>6901262</td>\n",
       "      <td>23</td>\n",
       "      <td>2019-01-16 05:39:00+00:00</td>\n",
       "      <td>-17.725</td>\n",
       "      <td>34.223</td>\n",
       "    </tr>\n",
       "    <tr>\n",
       "      <th>18</th>\n",
       "      <td>6902785</td>\n",
       "      <td>54</td>\n",
       "      <td>2019-01-16 05:56:00+00:00</td>\n",
       "      <td>-25.507</td>\n",
       "      <td>38.293</td>\n",
       "    </tr>\n",
       "    <tr>\n",
       "      <th>17</th>\n",
       "      <td>3901932</td>\n",
       "      <td>23</td>\n",
       "      <td>2019-01-16 06:04:00+00:00</td>\n",
       "      <td>-19.081</td>\n",
       "      <td>34.101</td>\n",
       "    </tr>\n",
       "    <tr>\n",
       "      <th>16</th>\n",
       "      <td>6901260</td>\n",
       "      <td>52</td>\n",
       "      <td>2019-01-17 05:28:00+00:00</td>\n",
       "      <td>-13.092</td>\n",
       "      <td>38.266</td>\n",
       "    </tr>\n",
       "    <tr>\n",
       "      <th>15</th>\n",
       "      <td>6902552</td>\n",
       "      <td>168</td>\n",
       "      <td>2019-01-18 13:02:00+00:00</td>\n",
       "      <td>-23.575</td>\n",
       "      <td>33.225</td>\n",
       "    </tr>\n",
       "    <tr>\n",
       "      <th>14</th>\n",
       "      <td>1901688</td>\n",
       "      <td>292</td>\n",
       "      <td>2019-01-19 20:13:54.002000+00:00</td>\n",
       "      <td>-23.272</td>\n",
       "      <td>34.136</td>\n",
       "    </tr>\n",
       "    <tr>\n",
       "      <th>13</th>\n",
       "      <td>6901273</td>\n",
       "      <td>12</td>\n",
       "      <td>2019-01-20 05:31:00+00:00</td>\n",
       "      <td>-12.447</td>\n",
       "      <td>32.181</td>\n",
       "    </tr>\n",
       "    <tr>\n",
       "      <th>12</th>\n",
       "      <td>6902663</td>\n",
       "      <td>126</td>\n",
       "      <td>2019-01-21 20:21:00+00:00</td>\n",
       "      <td>-16.892</td>\n",
       "      <td>35.982</td>\n",
       "    </tr>\n",
       "    <tr>\n",
       "      <th>11</th>\n",
       "      <td>6901260</td>\n",
       "      <td>53</td>\n",
       "      <td>2019-01-22 05:33:00+00:00</td>\n",
       "      <td>-13.146</td>\n",
       "      <td>38.378</td>\n",
       "    </tr>\n",
       "    <tr>\n",
       "      <th>10</th>\n",
       "      <td>6901143</td>\n",
       "      <td>230</td>\n",
       "      <td>2019-01-22 09:01:03+00:00</td>\n",
       "      <td>-21.136</td>\n",
       "      <td>32.880</td>\n",
       "    </tr>\n",
       "    <tr>\n",
       "      <th>9</th>\n",
       "      <td>6902664</td>\n",
       "      <td>126</td>\n",
       "      <td>2019-01-22 20:23:00+00:00</td>\n",
       "      <td>-18.099</td>\n",
       "      <td>35.114</td>\n",
       "    </tr>\n",
       "    <tr>\n",
       "      <th>8</th>\n",
       "      <td>3901643</td>\n",
       "      <td>45</td>\n",
       "      <td>2019-01-24 06:11:00+00:00</td>\n",
       "      <td>-23.115</td>\n",
       "      <td>37.358</td>\n",
       "    </tr>\n",
       "    <tr>\n",
       "      <th>7</th>\n",
       "      <td>3901942</td>\n",
       "      <td>50</td>\n",
       "      <td>2019-01-25 20:21:30+00:00</td>\n",
       "      <td>-14.963</td>\n",
       "      <td>35.402</td>\n",
       "    </tr>\n",
       "    <tr>\n",
       "      <th>6</th>\n",
       "      <td>6901262</td>\n",
       "      <td>24</td>\n",
       "      <td>2019-01-26 05:47:59.999000+00:00</td>\n",
       "      <td>-17.474</td>\n",
       "      <td>34.302</td>\n",
       "    </tr>\n",
       "    <tr>\n",
       "      <th>5</th>\n",
       "      <td>3901932</td>\n",
       "      <td>24</td>\n",
       "      <td>2019-01-26 06:00:00+00:00</td>\n",
       "      <td>-18.151</td>\n",
       "      <td>34.375</td>\n",
       "    </tr>\n",
       "    <tr>\n",
       "      <th>4</th>\n",
       "      <td>6902785</td>\n",
       "      <td>55</td>\n",
       "      <td>2019-01-26 06:10:00+00:00</td>\n",
       "      <td>-25.212</td>\n",
       "      <td>38.213</td>\n",
       "    </tr>\n",
       "    <tr>\n",
       "      <th>3</th>\n",
       "      <td>6901260</td>\n",
       "      <td>54</td>\n",
       "      <td>2019-01-27 05:38:00+00:00</td>\n",
       "      <td>-13.265</td>\n",
       "      <td>38.484</td>\n",
       "    </tr>\n",
       "    <tr>\n",
       "      <th>2</th>\n",
       "      <td>6902552</td>\n",
       "      <td>169</td>\n",
       "      <td>2019-01-28 12:45:00+00:00</td>\n",
       "      <td>-23.267</td>\n",
       "      <td>33.294</td>\n",
       "    </tr>\n",
       "    <tr>\n",
       "      <th>1</th>\n",
       "      <td>1901688</td>\n",
       "      <td>293</td>\n",
       "      <td>2019-01-29 13:03:27.001000+00:00</td>\n",
       "      <td>-23.403</td>\n",
       "      <td>34.206</td>\n",
       "    </tr>\n",
       "    <tr>\n",
       "      <th>0</th>\n",
       "      <td>6901273</td>\n",
       "      <td>13</td>\n",
       "      <td>2019-01-30 05:27:00+00:00</td>\n",
       "      <td>-12.737</td>\n",
       "      <td>32.602</td>\n",
       "    </tr>\n",
       "  </tbody>\n",
       "</table>\n",
       "</div>"
      ],
      "text/plain": [
       "    platform_number  cycle_number                         datetime     lon  \\\n",
       "40          6902663           124        2019-01-01 20:14:00+00:00 -17.383   \n",
       "39          6901260            49        2019-01-02 05:43:00+00:00 -12.812   \n",
       "38          6901143           228        2019-01-02 09:22:20+00:00 -21.083   \n",
       "37          6902664           124        2019-01-02 20:28:00+00:00 -18.411   \n",
       "36          3901643            43        2019-01-04 06:13:00+00:00 -22.429   \n",
       "35          3901942            48        2019-01-05 20:23:30+00:00 -15.286   \n",
       "34          6901262            22 2019-01-06 05:42:59.999000+00:00 -17.967   \n",
       "33          3901932            22        2019-01-06 05:49:00+00:00 -19.904   \n",
       "32          1901688           288        2019-01-07 03:11:53+00:00 -23.134   \n",
       "31          6901260            50        2019-01-07 05:26:00+00:00 -12.887   \n",
       "30          1901688           289        2019-01-08 03:15:16+00:00 -23.137   \n",
       "29          6902552           167        2019-01-08 12:50:00+00:00 -23.798   \n",
       "28          1901688           290        2019-01-09 03:19:48+00:00 -23.148   \n",
       "27          1901688           291        2019-01-10 03:27:35+00:00 -23.158   \n",
       "26          6901273            11        2019-01-10 05:25:00+00:00 -12.473   \n",
       "25          6902663           125        2019-01-11 20:15:00+00:00 -17.071   \n",
       "24          6901260            51        2019-01-12 05:18:00+00:00 -12.982   \n",
       "23          6901143           229        2019-01-12 07:05:12+00:00 -21.206   \n",
       "22          6902664           125        2019-01-12 20:16:00+00:00 -18.198   \n",
       "21          3901643            44        2019-01-14 05:58:00+00:00 -22.706   \n",
       "20          3901942            49        2019-01-15 20:37:30+00:00 -15.739   \n",
       "19          6901262            23        2019-01-16 05:39:00+00:00 -17.725   \n",
       "18          6902785            54        2019-01-16 05:56:00+00:00 -25.507   \n",
       "17          3901932            23        2019-01-16 06:04:00+00:00 -19.081   \n",
       "16          6901260            52        2019-01-17 05:28:00+00:00 -13.092   \n",
       "15          6902552           168        2019-01-18 13:02:00+00:00 -23.575   \n",
       "14          1901688           292 2019-01-19 20:13:54.002000+00:00 -23.272   \n",
       "13          6901273            12        2019-01-20 05:31:00+00:00 -12.447   \n",
       "12          6902663           126        2019-01-21 20:21:00+00:00 -16.892   \n",
       "11          6901260            53        2019-01-22 05:33:00+00:00 -13.146   \n",
       "10          6901143           230        2019-01-22 09:01:03+00:00 -21.136   \n",
       "9           6902664           126        2019-01-22 20:23:00+00:00 -18.099   \n",
       "8           3901643            45        2019-01-24 06:11:00+00:00 -23.115   \n",
       "7           3901942            50        2019-01-25 20:21:30+00:00 -14.963   \n",
       "6           6901262            24 2019-01-26 05:47:59.999000+00:00 -17.474   \n",
       "5           3901932            24        2019-01-26 06:00:00+00:00 -18.151   \n",
       "4           6902785            55        2019-01-26 06:10:00+00:00 -25.212   \n",
       "3           6901260            54        2019-01-27 05:38:00+00:00 -13.265   \n",
       "2           6902552           169        2019-01-28 12:45:00+00:00 -23.267   \n",
       "1           1901688           293 2019-01-29 13:03:27.001000+00:00 -23.403   \n",
       "0           6901273            13        2019-01-30 05:27:00+00:00 -12.737   \n",
       "\n",
       "       lat  \n",
       "40  35.601  \n",
       "39  37.707  \n",
       "38  32.254  \n",
       "37  34.985  \n",
       "36  37.556  \n",
       "35  35.316  \n",
       "34  34.228  \n",
       "33  33.428  \n",
       "32  34.258  \n",
       "31  37.905  \n",
       "30  34.248  \n",
       "29  33.144  \n",
       "28  34.233  \n",
       "27  34.218  \n",
       "26  32.219  \n",
       "25  35.830  \n",
       "24  38.047  \n",
       "23  32.474  \n",
       "22  35.057  \n",
       "21  37.542  \n",
       "20  34.976  \n",
       "19  34.223  \n",
       "18  38.293  \n",
       "17  34.101  \n",
       "16  38.266  \n",
       "15  33.225  \n",
       "14  34.136  \n",
       "13  32.181  \n",
       "12  35.982  \n",
       "11  38.378  \n",
       "10  32.880  \n",
       "9   35.114  \n",
       "8   37.358  \n",
       "7   35.402  \n",
       "6   34.302  \n",
       "5   34.375  \n",
       "4   38.213  \n",
       "3   38.484  \n",
       "2   33.294  \n",
       "1   34.206  \n",
       "0   32.602  "
      ]
     },
     "execution_count": 10,
     "metadata": {},
     "output_type": "execute_result"
    }
   ],
   "source": [
    "argo_df[['platform_number', 'cycle_number', 'datetime', 'lon', 'lat']] #, 'measurements']]"
   ]
  },
  {
   "cell_type": "markdown",
   "id": "0053f163",
   "metadata": {},
   "source": [
    "*Now plot argo profile locations on an interactive map.*\n",
    "\n",
    "This plot uses folium/leaflet. Hover/click the clusters (which correspond to specific Argo float platforms) to zoom to the groups of individual profiles and display metadata about them:"
   ]
  },
  {
   "cell_type": "code",
   "execution_count": 11,
   "id": "462cfbce",
   "metadata": {
    "ExecuteTime": {
     "end_time": "2021-03-15T21:08:34.320181Z",
     "start_time": "2021-03-15T21:08:34.218898Z"
    }
   },
   "outputs": [
    {
     "data": {
      "text/html": [
       "<div style=\"width:100%;\"><div style=\"position:relative;width:100%;height:0;padding-bottom:60%;\"><span style=\"color:#565656\">Make this Notebook Trusted to load map: File -> Trust Notebook</span><iframe src=\"about:blank\" style=\"position:absolute;width:100%;height:100%;left:0;top:0;border:none !important;\" data-html=%3C%21DOCTYPE%20html%3E%0A%3Chead%3E%20%20%20%20%0A%20%20%20%20%3Cmeta%20http-equiv%3D%22content-type%22%20content%3D%22text/html%3B%20charset%3DUTF-8%22%20/%3E%0A%20%20%20%20%0A%20%20%20%20%20%20%20%20%3Cscript%3E%0A%20%20%20%20%20%20%20%20%20%20%20%20L_NO_TOUCH%20%3D%20false%3B%0A%20%20%20%20%20%20%20%20%20%20%20%20L_DISABLE_3D%20%3D%20false%3B%0A%20%20%20%20%20%20%20%20%3C/script%3E%0A%20%20%20%20%0A%20%20%20%20%3Cstyle%3Ehtml%2C%20body%20%7Bwidth%3A%20100%25%3Bheight%3A%20100%25%3Bmargin%3A%200%3Bpadding%3A%200%3B%7D%3C/style%3E%0A%20%20%20%20%3Cstyle%3E%23map%20%7Bposition%3Aabsolute%3Btop%3A0%3Bbottom%3A0%3Bright%3A0%3Bleft%3A0%3B%7D%3C/style%3E%0A%20%20%20%20%3Cscript%20src%3D%22https%3A//cdn.jsdelivr.net/npm/leaflet%401.6.0/dist/leaflet.js%22%3E%3C/script%3E%0A%20%20%20%20%3Cscript%20src%3D%22https%3A//code.jquery.com/jquery-1.12.4.min.js%22%3E%3C/script%3E%0A%20%20%20%20%3Cscript%20src%3D%22https%3A//maxcdn.bootstrapcdn.com/bootstrap/3.2.0/js/bootstrap.min.js%22%3E%3C/script%3E%0A%20%20%20%20%3Cscript%20src%3D%22https%3A//cdnjs.cloudflare.com/ajax/libs/Leaflet.awesome-markers/2.0.2/leaflet.awesome-markers.js%22%3E%3C/script%3E%0A%20%20%20%20%3Clink%20rel%3D%22stylesheet%22%20href%3D%22https%3A//cdn.jsdelivr.net/npm/leaflet%401.6.0/dist/leaflet.css%22/%3E%0A%20%20%20%20%3Clink%20rel%3D%22stylesheet%22%20href%3D%22https%3A//maxcdn.bootstrapcdn.com/bootstrap/3.2.0/css/bootstrap.min.css%22/%3E%0A%20%20%20%20%3Clink%20rel%3D%22stylesheet%22%20href%3D%22https%3A//maxcdn.bootstrapcdn.com/bootstrap/3.2.0/css/bootstrap-theme.min.css%22/%3E%0A%20%20%20%20%3Clink%20rel%3D%22stylesheet%22%20href%3D%22https%3A//maxcdn.bootstrapcdn.com/font-awesome/4.6.3/css/font-awesome.min.css%22/%3E%0A%20%20%20%20%3Clink%20rel%3D%22stylesheet%22%20href%3D%22https%3A//cdnjs.cloudflare.com/ajax/libs/Leaflet.awesome-markers/2.0.2/leaflet.awesome-markers.css%22/%3E%0A%20%20%20%20%3Clink%20rel%3D%22stylesheet%22%20href%3D%22https%3A//cdn.jsdelivr.net/gh/python-visualization/folium/folium/templates/leaflet.awesome.rotate.min.css%22/%3E%0A%20%20%20%20%0A%20%20%20%20%20%20%20%20%20%20%20%20%3Cmeta%20name%3D%22viewport%22%20content%3D%22width%3Ddevice-width%2C%0A%20%20%20%20%20%20%20%20%20%20%20%20%20%20%20%20initial-scale%3D1.0%2C%20maximum-scale%3D1.0%2C%20user-scalable%3Dno%22%20/%3E%0A%20%20%20%20%20%20%20%20%20%20%20%20%3Cstyle%3E%0A%20%20%20%20%20%20%20%20%20%20%20%20%20%20%20%20%23map_958dbe81645044a1a2bf16744956f9a2%20%7B%0A%20%20%20%20%20%20%20%20%20%20%20%20%20%20%20%20%20%20%20%20position%3A%20relative%3B%0A%20%20%20%20%20%20%20%20%20%20%20%20%20%20%20%20%20%20%20%20width%3A%20100.0%25%3B%0A%20%20%20%20%20%20%20%20%20%20%20%20%20%20%20%20%20%20%20%20height%3A%20100.0%25%3B%0A%20%20%20%20%20%20%20%20%20%20%20%20%20%20%20%20%20%20%20%20left%3A%200.0%25%3B%0A%20%20%20%20%20%20%20%20%20%20%20%20%20%20%20%20%20%20%20%20top%3A%200.0%25%3B%0A%20%20%20%20%20%20%20%20%20%20%20%20%20%20%20%20%7D%0A%20%20%20%20%20%20%20%20%20%20%20%20%3C/style%3E%0A%20%20%20%20%20%20%20%20%0A%20%20%20%20%3Cscript%20src%3D%22https%3A//cdnjs.cloudflare.com/ajax/libs/leaflet.markercluster/1.1.0/leaflet.markercluster.js%22%3E%3C/script%3E%0A%20%20%20%20%3Clink%20rel%3D%22stylesheet%22%20href%3D%22https%3A//cdnjs.cloudflare.com/ajax/libs/leaflet.markercluster/1.1.0/MarkerCluster.css%22/%3E%0A%20%20%20%20%3Clink%20rel%3D%22stylesheet%22%20href%3D%22https%3A//cdnjs.cloudflare.com/ajax/libs/leaflet.markercluster/1.1.0/MarkerCluster.Default.css%22/%3E%0A%3C/head%3E%0A%3Cbody%3E%20%20%20%20%0A%20%20%20%20%0A%20%20%20%20%20%20%20%20%20%20%20%20%3Cdiv%20class%3D%22folium-map%22%20id%3D%22map_958dbe81645044a1a2bf16744956f9a2%22%20%3E%3C/div%3E%0A%20%20%20%20%20%20%20%20%0A%3C/body%3E%0A%3Cscript%3E%20%20%20%20%0A%20%20%20%20%0A%20%20%20%20%20%20%20%20%20%20%20%20var%20map_958dbe81645044a1a2bf16744956f9a2%20%3D%20L.map%28%0A%20%20%20%20%20%20%20%20%20%20%20%20%20%20%20%20%22map_958dbe81645044a1a2bf16744956f9a2%22%2C%0A%20%20%20%20%20%20%20%20%20%20%20%20%20%20%20%20%7B%0A%20%20%20%20%20%20%20%20%20%20%20%20%20%20%20%20%20%20%20%20center%3A%20%5B35.12782926829268%2C%20-18.791975609756097%5D%2C%0A%20%20%20%20%20%20%20%20%20%20%20%20%20%20%20%20%20%20%20%20crs%3A%20L.CRS.EPSG3857%2C%0A%20%20%20%20%20%20%20%20%20%20%20%20%20%20%20%20%20%20%20%20zoom%3A%205%2C%0A%20%20%20%20%20%20%20%20%20%20%20%20%20%20%20%20%20%20%20%20zoomControl%3A%20true%2C%0A%20%20%20%20%20%20%20%20%20%20%20%20%20%20%20%20%20%20%20%20preferCanvas%3A%20false%2C%0A%20%20%20%20%20%20%20%20%20%20%20%20%20%20%20%20%7D%0A%20%20%20%20%20%20%20%20%20%20%20%20%29%3B%0A%0A%20%20%20%20%20%20%20%20%20%20%20%20%0A%0A%20%20%20%20%20%20%20%20%0A%20%20%20%20%0A%20%20%20%20%20%20%20%20%20%20%20%20var%20tile_layer_e8c1a3e8b62e48d9953fd1cc12dacaf7%20%3D%20L.tileLayer%28%0A%20%20%20%20%20%20%20%20%20%20%20%20%20%20%20%20%22https%3A//stamen-tiles-%7Bs%7D.a.ssl.fastly.net/terrain/%7Bz%7D/%7Bx%7D/%7By%7D.jpg%22%2C%0A%20%20%20%20%20%20%20%20%20%20%20%20%20%20%20%20%7B%22attribution%22%3A%20%22Map%20tiles%20by%20%5Cu003ca%20href%3D%5C%22http%3A//stamen.com%5C%22%5Cu003eStamen%20Design%5Cu003c/a%5Cu003e%2C%20under%20%5Cu003ca%20href%3D%5C%22http%3A//creativecommons.org/licenses/by/3.0%5C%22%5Cu003eCC%20BY%203.0%5Cu003c/a%5Cu003e.%20Data%20by%20%5Cu0026copy%3B%20%5Cu003ca%20href%3D%5C%22http%3A//openstreetmap.org%5C%22%5Cu003eOpenStreetMap%5Cu003c/a%5Cu003e%2C%20under%20%5Cu003ca%20href%3D%5C%22http%3A//creativecommons.org/licenses/by-sa/3.0%5C%22%5Cu003eCC%20BY%20SA%5Cu003c/a%5Cu003e.%22%2C%20%22detectRetina%22%3A%20false%2C%20%22maxNativeZoom%22%3A%2018%2C%20%22maxZoom%22%3A%2018%2C%20%22minZoom%22%3A%200%2C%20%22noWrap%22%3A%20false%2C%20%22opacity%22%3A%201%2C%20%22subdomains%22%3A%20%22abc%22%2C%20%22tms%22%3A%20false%7D%0A%20%20%20%20%20%20%20%20%20%20%20%20%29.addTo%28map_958dbe81645044a1a2bf16744956f9a2%29%3B%0A%20%20%20%20%20%20%20%20%0A%20%20%20%20%0A%20%20%20%20%20%20%20%20%20%20%20%20var%20marker_cluster_34c8893340e144188ef3810b78158e38%20%3D%20L.markerClusterGroup%28%0A%20%20%20%20%20%20%20%20%20%20%20%20%20%20%20%20%7B%7D%0A%20%20%20%20%20%20%20%20%20%20%20%20%29%3B%0A%20%20%20%20%20%20%20%20%20%20%20%20map_958dbe81645044a1a2bf16744956f9a2.addLayer%28marker_cluster_34c8893340e144188ef3810b78158e38%29%3B%0A%20%20%20%20%20%20%20%20%0A%20%20%20%20%0A%20%20%20%20%20%20%20%20%20%20%20%20var%20marker_8fb9a6ddf721433bb132018d1cbc0ef9%20%3D%20L.marker%28%0A%20%20%20%20%20%20%20%20%20%20%20%20%20%20%20%20%5B35.601%2C%20-17.383%5D%2C%0A%20%20%20%20%20%20%20%20%20%20%20%20%20%20%20%20%7B%7D%0A%20%20%20%20%20%20%20%20%20%20%20%20%29.addTo%28marker_cluster_34c8893340e144188ef3810b78158e38%29%3B%0A%20%20%20%20%20%20%20%20%0A%20%20%20%20%0A%20%20%20%20%20%20%20%20%20%20%20%20marker_8fb9a6ddf721433bb132018d1cbc0ef9.bindTooltip%28%0A%20%20%20%20%20%20%20%20%20%20%20%20%20%20%20%20%60%3Cdiv%3E%0A%20%20%20%20%20%20%20%20%20%20%20%20%20%20%20%20%20%20%20%20%20%3Cb%3EDate%3C/b%3E%3A%202019-01-01%3Cbr%3E%0A%20%20%20%20%20%20%20%20%20%20%20%20%20%20%3Cb%3EProfile%20ID%3C/b%3E%3A%206902663_124%3Cbr%3E%0A%20%20%20%20%20%20%20%20%20%20%20%20%20%20%3Cb%3EPlatform%20ID%3C/b%3E%3A%206902663%3Cbr%3E%0A%20%20%20%20%20%20%20%20%20%20%20%20%20%20%3Cb%3ELatitude%3C/b%3E%3A%2035.601%3Cbr%3E%0A%20%20%20%20%20%20%20%20%20%20%20%20%20%20%3Cb%3ELongitude%3C/b%3E%3A%20-17.383%3Cbr%3E%0A%20%20%20%20%20%20%20%20%20%20%20%20%20%20%20%20%20%3C/div%3E%60%2C%0A%20%20%20%20%20%20%20%20%20%20%20%20%20%20%20%20%7B%22sticky%22%3A%20true%7D%0A%20%20%20%20%20%20%20%20%20%20%20%20%29%3B%0A%20%20%20%20%20%20%20%20%0A%20%20%20%20%0A%20%20%20%20%20%20%20%20%20%20%20%20var%20marker_9440d25328ba476da6267908b4b4e509%20%3D%20L.marker%28%0A%20%20%20%20%20%20%20%20%20%20%20%20%20%20%20%20%5B35.83%2C%20-17.071%5D%2C%0A%20%20%20%20%20%20%20%20%20%20%20%20%20%20%20%20%7B%7D%0A%20%20%20%20%20%20%20%20%20%20%20%20%29.addTo%28marker_cluster_34c8893340e144188ef3810b78158e38%29%3B%0A%20%20%20%20%20%20%20%20%0A%20%20%20%20%0A%20%20%20%20%20%20%20%20%20%20%20%20marker_9440d25328ba476da6267908b4b4e509.bindTooltip%28%0A%20%20%20%20%20%20%20%20%20%20%20%20%20%20%20%20%60%3Cdiv%3E%0A%20%20%20%20%20%20%20%20%20%20%20%20%20%20%20%20%20%20%20%20%20%3Cb%3EDate%3C/b%3E%3A%202019-01-11%3Cbr%3E%0A%20%20%20%20%20%20%20%20%20%20%20%20%20%20%3Cb%3EProfile%20ID%3C/b%3E%3A%206902663_125%3Cbr%3E%0A%20%20%20%20%20%20%20%20%20%20%20%20%20%20%3Cb%3EPlatform%20ID%3C/b%3E%3A%206902663%3Cbr%3E%0A%20%20%20%20%20%20%20%20%20%20%20%20%20%20%3Cb%3ELatitude%3C/b%3E%3A%2035.83%3Cbr%3E%0A%20%20%20%20%20%20%20%20%20%20%20%20%20%20%3Cb%3ELongitude%3C/b%3E%3A%20-17.071%3Cbr%3E%0A%20%20%20%20%20%20%20%20%20%20%20%20%20%20%20%20%20%3C/div%3E%60%2C%0A%20%20%20%20%20%20%20%20%20%20%20%20%20%20%20%20%7B%22sticky%22%3A%20true%7D%0A%20%20%20%20%20%20%20%20%20%20%20%20%29%3B%0A%20%20%20%20%20%20%20%20%0A%20%20%20%20%0A%20%20%20%20%20%20%20%20%20%20%20%20var%20marker_607a948d68c84155bbfbe37f8009c555%20%3D%20L.marker%28%0A%20%20%20%20%20%20%20%20%20%20%20%20%20%20%20%20%5B35.982%2C%20-16.892%5D%2C%0A%20%20%20%20%20%20%20%20%20%20%20%20%20%20%20%20%7B%7D%0A%20%20%20%20%20%20%20%20%20%20%20%20%29.addTo%28marker_cluster_34c8893340e144188ef3810b78158e38%29%3B%0A%20%20%20%20%20%20%20%20%0A%20%20%20%20%0A%20%20%20%20%20%20%20%20%20%20%20%20marker_607a948d68c84155bbfbe37f8009c555.bindTooltip%28%0A%20%20%20%20%20%20%20%20%20%20%20%20%20%20%20%20%60%3Cdiv%3E%0A%20%20%20%20%20%20%20%20%20%20%20%20%20%20%20%20%20%20%20%20%20%3Cb%3EDate%3C/b%3E%3A%202019-01-21%3Cbr%3E%0A%20%20%20%20%20%20%20%20%20%20%20%20%20%20%3Cb%3EProfile%20ID%3C/b%3E%3A%206902663_126%3Cbr%3E%0A%20%20%20%20%20%20%20%20%20%20%20%20%20%20%3Cb%3EPlatform%20ID%3C/b%3E%3A%206902663%3Cbr%3E%0A%20%20%20%20%20%20%20%20%20%20%20%20%20%20%3Cb%3ELatitude%3C/b%3E%3A%2035.982%3Cbr%3E%0A%20%20%20%20%20%20%20%20%20%20%20%20%20%20%3Cb%3ELongitude%3C/b%3E%3A%20-16.892%3Cbr%3E%0A%20%20%20%20%20%20%20%20%20%20%20%20%20%20%20%20%20%3C/div%3E%60%2C%0A%20%20%20%20%20%20%20%20%20%20%20%20%20%20%20%20%7B%22sticky%22%3A%20true%7D%0A%20%20%20%20%20%20%20%20%20%20%20%20%29%3B%0A%20%20%20%20%20%20%20%20%0A%20%20%20%20%0A%20%20%20%20%20%20%20%20%20%20%20%20var%20marker_cluster_26e198baf2824a9fb5ba26278576bf94%20%3D%20L.markerClusterGroup%28%0A%20%20%20%20%20%20%20%20%20%20%20%20%20%20%20%20%7B%7D%0A%20%20%20%20%20%20%20%20%20%20%20%20%29%3B%0A%20%20%20%20%20%20%20%20%20%20%20%20map_958dbe81645044a1a2bf16744956f9a2.addLayer%28marker_cluster_26e198baf2824a9fb5ba26278576bf94%29%3B%0A%20%20%20%20%20%20%20%20%0A%20%20%20%20%0A%20%20%20%20%20%20%20%20%20%20%20%20var%20marker_077df100a7e34c67acd6c369e91e2c92%20%3D%20L.marker%28%0A%20%20%20%20%20%20%20%20%20%20%20%20%20%20%20%20%5B37.707%2C%20-12.812%5D%2C%0A%20%20%20%20%20%20%20%20%20%20%20%20%20%20%20%20%7B%7D%0A%20%20%20%20%20%20%20%20%20%20%20%20%29.addTo%28marker_cluster_26e198baf2824a9fb5ba26278576bf94%29%3B%0A%20%20%20%20%20%20%20%20%0A%20%20%20%20%0A%20%20%20%20%20%20%20%20%20%20%20%20marker_077df100a7e34c67acd6c369e91e2c92.bindTooltip%28%0A%20%20%20%20%20%20%20%20%20%20%20%20%20%20%20%20%60%3Cdiv%3E%0A%20%20%20%20%20%20%20%20%20%20%20%20%20%20%20%20%20%20%20%20%20%3Cb%3EDate%3C/b%3E%3A%202019-01-02%3Cbr%3E%0A%20%20%20%20%20%20%20%20%20%20%20%20%20%20%3Cb%3EProfile%20ID%3C/b%3E%3A%206901260_49%3Cbr%3E%0A%20%20%20%20%20%20%20%20%20%20%20%20%20%20%3Cb%3EPlatform%20ID%3C/b%3E%3A%206901260%3Cbr%3E%0A%20%20%20%20%20%20%20%20%20%20%20%20%20%20%3Cb%3ELatitude%3C/b%3E%3A%2037.707%3Cbr%3E%0A%20%20%20%20%20%20%20%20%20%20%20%20%20%20%3Cb%3ELongitude%3C/b%3E%3A%20-12.812%3Cbr%3E%0A%20%20%20%20%20%20%20%20%20%20%20%20%20%20%20%20%20%3C/div%3E%60%2C%0A%20%20%20%20%20%20%20%20%20%20%20%20%20%20%20%20%7B%22sticky%22%3A%20true%7D%0A%20%20%20%20%20%20%20%20%20%20%20%20%29%3B%0A%20%20%20%20%20%20%20%20%0A%20%20%20%20%0A%20%20%20%20%20%20%20%20%20%20%20%20var%20marker_470231ee6dc8413ebd996a69c4100874%20%3D%20L.marker%28%0A%20%20%20%20%20%20%20%20%20%20%20%20%20%20%20%20%5B37.905%2C%20-12.887%5D%2C%0A%20%20%20%20%20%20%20%20%20%20%20%20%20%20%20%20%7B%7D%0A%20%20%20%20%20%20%20%20%20%20%20%20%29.addTo%28marker_cluster_26e198baf2824a9fb5ba26278576bf94%29%3B%0A%20%20%20%20%20%20%20%20%0A%20%20%20%20%0A%20%20%20%20%20%20%20%20%20%20%20%20marker_470231ee6dc8413ebd996a69c4100874.bindTooltip%28%0A%20%20%20%20%20%20%20%20%20%20%20%20%20%20%20%20%60%3Cdiv%3E%0A%20%20%20%20%20%20%20%20%20%20%20%20%20%20%20%20%20%20%20%20%20%3Cb%3EDate%3C/b%3E%3A%202019-01-07%3Cbr%3E%0A%20%20%20%20%20%20%20%20%20%20%20%20%20%20%3Cb%3EProfile%20ID%3C/b%3E%3A%206901260_50%3Cbr%3E%0A%20%20%20%20%20%20%20%20%20%20%20%20%20%20%3Cb%3EPlatform%20ID%3C/b%3E%3A%206901260%3Cbr%3E%0A%20%20%20%20%20%20%20%20%20%20%20%20%20%20%3Cb%3ELatitude%3C/b%3E%3A%2037.905%3Cbr%3E%0A%20%20%20%20%20%20%20%20%20%20%20%20%20%20%3Cb%3ELongitude%3C/b%3E%3A%20-12.887%3Cbr%3E%0A%20%20%20%20%20%20%20%20%20%20%20%20%20%20%20%20%20%3C/div%3E%60%2C%0A%20%20%20%20%20%20%20%20%20%20%20%20%20%20%20%20%7B%22sticky%22%3A%20true%7D%0A%20%20%20%20%20%20%20%20%20%20%20%20%29%3B%0A%20%20%20%20%20%20%20%20%0A%20%20%20%20%0A%20%20%20%20%20%20%20%20%20%20%20%20var%20marker_64ff3aadadef4c92905c6913a1069c26%20%3D%20L.marker%28%0A%20%20%20%20%20%20%20%20%20%20%20%20%20%20%20%20%5B38.047%2C%20-12.982%5D%2C%0A%20%20%20%20%20%20%20%20%20%20%20%20%20%20%20%20%7B%7D%0A%20%20%20%20%20%20%20%20%20%20%20%20%29.addTo%28marker_cluster_26e198baf2824a9fb5ba26278576bf94%29%3B%0A%20%20%20%20%20%20%20%20%0A%20%20%20%20%0A%20%20%20%20%20%20%20%20%20%20%20%20marker_64ff3aadadef4c92905c6913a1069c26.bindTooltip%28%0A%20%20%20%20%20%20%20%20%20%20%20%20%20%20%20%20%60%3Cdiv%3E%0A%20%20%20%20%20%20%20%20%20%20%20%20%20%20%20%20%20%20%20%20%20%3Cb%3EDate%3C/b%3E%3A%202019-01-12%3Cbr%3E%0A%20%20%20%20%20%20%20%20%20%20%20%20%20%20%3Cb%3EProfile%20ID%3C/b%3E%3A%206901260_51%3Cbr%3E%0A%20%20%20%20%20%20%20%20%20%20%20%20%20%20%3Cb%3EPlatform%20ID%3C/b%3E%3A%206901260%3Cbr%3E%0A%20%20%20%20%20%20%20%20%20%20%20%20%20%20%3Cb%3ELatitude%3C/b%3E%3A%2038.047%3Cbr%3E%0A%20%20%20%20%20%20%20%20%20%20%20%20%20%20%3Cb%3ELongitude%3C/b%3E%3A%20-12.982%3Cbr%3E%0A%20%20%20%20%20%20%20%20%20%20%20%20%20%20%20%20%20%3C/div%3E%60%2C%0A%20%20%20%20%20%20%20%20%20%20%20%20%20%20%20%20%7B%22sticky%22%3A%20true%7D%0A%20%20%20%20%20%20%20%20%20%20%20%20%29%3B%0A%20%20%20%20%20%20%20%20%0A%20%20%20%20%0A%20%20%20%20%20%20%20%20%20%20%20%20var%20marker_81f63c88c19f4e92945f9df34fc1f386%20%3D%20L.marker%28%0A%20%20%20%20%20%20%20%20%20%20%20%20%20%20%20%20%5B38.266%2C%20-13.092%5D%2C%0A%20%20%20%20%20%20%20%20%20%20%20%20%20%20%20%20%7B%7D%0A%20%20%20%20%20%20%20%20%20%20%20%20%29.addTo%28marker_cluster_26e198baf2824a9fb5ba26278576bf94%29%3B%0A%20%20%20%20%20%20%20%20%0A%20%20%20%20%0A%20%20%20%20%20%20%20%20%20%20%20%20marker_81f63c88c19f4e92945f9df34fc1f386.bindTooltip%28%0A%20%20%20%20%20%20%20%20%20%20%20%20%20%20%20%20%60%3Cdiv%3E%0A%20%20%20%20%20%20%20%20%20%20%20%20%20%20%20%20%20%20%20%20%20%3Cb%3EDate%3C/b%3E%3A%202019-01-17%3Cbr%3E%0A%20%20%20%20%20%20%20%20%20%20%20%20%20%20%3Cb%3EProfile%20ID%3C/b%3E%3A%206901260_52%3Cbr%3E%0A%20%20%20%20%20%20%20%20%20%20%20%20%20%20%3Cb%3EPlatform%20ID%3C/b%3E%3A%206901260%3Cbr%3E%0A%20%20%20%20%20%20%20%20%20%20%20%20%20%20%3Cb%3ELatitude%3C/b%3E%3A%2038.266%3Cbr%3E%0A%20%20%20%20%20%20%20%20%20%20%20%20%20%20%3Cb%3ELongitude%3C/b%3E%3A%20-13.092%3Cbr%3E%0A%20%20%20%20%20%20%20%20%20%20%20%20%20%20%20%20%20%3C/div%3E%60%2C%0A%20%20%20%20%20%20%20%20%20%20%20%20%20%20%20%20%7B%22sticky%22%3A%20true%7D%0A%20%20%20%20%20%20%20%20%20%20%20%20%29%3B%0A%20%20%20%20%20%20%20%20%0A%20%20%20%20%0A%20%20%20%20%20%20%20%20%20%20%20%20var%20marker_cc3230e1dcbe4a0da84067ef608a678e%20%3D%20L.marker%28%0A%20%20%20%20%20%20%20%20%20%20%20%20%20%20%20%20%5B38.378%2C%20-13.146%5D%2C%0A%20%20%20%20%20%20%20%20%20%20%20%20%20%20%20%20%7B%7D%0A%20%20%20%20%20%20%20%20%20%20%20%20%29.addTo%28marker_cluster_26e198baf2824a9fb5ba26278576bf94%29%3B%0A%20%20%20%20%20%20%20%20%0A%20%20%20%20%0A%20%20%20%20%20%20%20%20%20%20%20%20marker_cc3230e1dcbe4a0da84067ef608a678e.bindTooltip%28%0A%20%20%20%20%20%20%20%20%20%20%20%20%20%20%20%20%60%3Cdiv%3E%0A%20%20%20%20%20%20%20%20%20%20%20%20%20%20%20%20%20%20%20%20%20%3Cb%3EDate%3C/b%3E%3A%202019-01-22%3Cbr%3E%0A%20%20%20%20%20%20%20%20%20%20%20%20%20%20%3Cb%3EProfile%20ID%3C/b%3E%3A%206901260_53%3Cbr%3E%0A%20%20%20%20%20%20%20%20%20%20%20%20%20%20%3Cb%3EPlatform%20ID%3C/b%3E%3A%206901260%3Cbr%3E%0A%20%20%20%20%20%20%20%20%20%20%20%20%20%20%3Cb%3ELatitude%3C/b%3E%3A%2038.378%3Cbr%3E%0A%20%20%20%20%20%20%20%20%20%20%20%20%20%20%3Cb%3ELongitude%3C/b%3E%3A%20-13.146%3Cbr%3E%0A%20%20%20%20%20%20%20%20%20%20%20%20%20%20%20%20%20%3C/div%3E%60%2C%0A%20%20%20%20%20%20%20%20%20%20%20%20%20%20%20%20%7B%22sticky%22%3A%20true%7D%0A%20%20%20%20%20%20%20%20%20%20%20%20%29%3B%0A%20%20%20%20%20%20%20%20%0A%20%20%20%20%0A%20%20%20%20%20%20%20%20%20%20%20%20var%20marker_07a5db2ae59d4928ad2e8ee3a4d9564d%20%3D%20L.marker%28%0A%20%20%20%20%20%20%20%20%20%20%20%20%20%20%20%20%5B38.484%2C%20-13.265%5D%2C%0A%20%20%20%20%20%20%20%20%20%20%20%20%20%20%20%20%7B%7D%0A%20%20%20%20%20%20%20%20%20%20%20%20%29.addTo%28marker_cluster_26e198baf2824a9fb5ba26278576bf94%29%3B%0A%20%20%20%20%20%20%20%20%0A%20%20%20%20%0A%20%20%20%20%20%20%20%20%20%20%20%20marker_07a5db2ae59d4928ad2e8ee3a4d9564d.bindTooltip%28%0A%20%20%20%20%20%20%20%20%20%20%20%20%20%20%20%20%60%3Cdiv%3E%0A%20%20%20%20%20%20%20%20%20%20%20%20%20%20%20%20%20%20%20%20%20%3Cb%3EDate%3C/b%3E%3A%202019-01-27%3Cbr%3E%0A%20%20%20%20%20%20%20%20%20%20%20%20%20%20%3Cb%3EProfile%20ID%3C/b%3E%3A%206901260_54%3Cbr%3E%0A%20%20%20%20%20%20%20%20%20%20%20%20%20%20%3Cb%3EPlatform%20ID%3C/b%3E%3A%206901260%3Cbr%3E%0A%20%20%20%20%20%20%20%20%20%20%20%20%20%20%3Cb%3ELatitude%3C/b%3E%3A%2038.484%3Cbr%3E%0A%20%20%20%20%20%20%20%20%20%20%20%20%20%20%3Cb%3ELongitude%3C/b%3E%3A%20-13.265%3Cbr%3E%0A%20%20%20%20%20%20%20%20%20%20%20%20%20%20%20%20%20%3C/div%3E%60%2C%0A%20%20%20%20%20%20%20%20%20%20%20%20%20%20%20%20%7B%22sticky%22%3A%20true%7D%0A%20%20%20%20%20%20%20%20%20%20%20%20%29%3B%0A%20%20%20%20%20%20%20%20%0A%20%20%20%20%0A%20%20%20%20%20%20%20%20%20%20%20%20var%20marker_cluster_f665b8b5759b4a4eb313602769734334%20%3D%20L.markerClusterGroup%28%0A%20%20%20%20%20%20%20%20%20%20%20%20%20%20%20%20%7B%7D%0A%20%20%20%20%20%20%20%20%20%20%20%20%29%3B%0A%20%20%20%20%20%20%20%20%20%20%20%20map_958dbe81645044a1a2bf16744956f9a2.addLayer%28marker_cluster_f665b8b5759b4a4eb313602769734334%29%3B%0A%20%20%20%20%20%20%20%20%0A%20%20%20%20%0A%20%20%20%20%20%20%20%20%20%20%20%20var%20marker_f9c6030177a44081b0df5d7cc78bd64b%20%3D%20L.marker%28%0A%20%20%20%20%20%20%20%20%20%20%20%20%20%20%20%20%5B32.254%2C%20-21.083%5D%2C%0A%20%20%20%20%20%20%20%20%20%20%20%20%20%20%20%20%7B%7D%0A%20%20%20%20%20%20%20%20%20%20%20%20%29.addTo%28marker_cluster_f665b8b5759b4a4eb313602769734334%29%3B%0A%20%20%20%20%20%20%20%20%0A%20%20%20%20%0A%20%20%20%20%20%20%20%20%20%20%20%20marker_f9c6030177a44081b0df5d7cc78bd64b.bindTooltip%28%0A%20%20%20%20%20%20%20%20%20%20%20%20%20%20%20%20%60%3Cdiv%3E%0A%20%20%20%20%20%20%20%20%20%20%20%20%20%20%20%20%20%20%20%20%20%3Cb%3EDate%3C/b%3E%3A%202019-01-02%3Cbr%3E%0A%20%20%20%20%20%20%20%20%20%20%20%20%20%20%3Cb%3EProfile%20ID%3C/b%3E%3A%206901143_228%3Cbr%3E%0A%20%20%20%20%20%20%20%20%20%20%20%20%20%20%3Cb%3EPlatform%20ID%3C/b%3E%3A%206901143%3Cbr%3E%0A%20%20%20%20%20%20%20%20%20%20%20%20%20%20%3Cb%3ELatitude%3C/b%3E%3A%2032.254%3Cbr%3E%0A%20%20%20%20%20%20%20%20%20%20%20%20%20%20%3Cb%3ELongitude%3C/b%3E%3A%20-21.083%3Cbr%3E%0A%20%20%20%20%20%20%20%20%20%20%20%20%20%20%20%20%20%3C/div%3E%60%2C%0A%20%20%20%20%20%20%20%20%20%20%20%20%20%20%20%20%7B%22sticky%22%3A%20true%7D%0A%20%20%20%20%20%20%20%20%20%20%20%20%29%3B%0A%20%20%20%20%20%20%20%20%0A%20%20%20%20%0A%20%20%20%20%20%20%20%20%20%20%20%20var%20marker_84d9d28245414425851c7299c229bb7a%20%3D%20L.marker%28%0A%20%20%20%20%20%20%20%20%20%20%20%20%20%20%20%20%5B32.474%2C%20-21.206%5D%2C%0A%20%20%20%20%20%20%20%20%20%20%20%20%20%20%20%20%7B%7D%0A%20%20%20%20%20%20%20%20%20%20%20%20%29.addTo%28marker_cluster_f665b8b5759b4a4eb313602769734334%29%3B%0A%20%20%20%20%20%20%20%20%0A%20%20%20%20%0A%20%20%20%20%20%20%20%20%20%20%20%20marker_84d9d28245414425851c7299c229bb7a.bindTooltip%28%0A%20%20%20%20%20%20%20%20%20%20%20%20%20%20%20%20%60%3Cdiv%3E%0A%20%20%20%20%20%20%20%20%20%20%20%20%20%20%20%20%20%20%20%20%20%3Cb%3EDate%3C/b%3E%3A%202019-01-12%3Cbr%3E%0A%20%20%20%20%20%20%20%20%20%20%20%20%20%20%3Cb%3EProfile%20ID%3C/b%3E%3A%206901143_229%3Cbr%3E%0A%20%20%20%20%20%20%20%20%20%20%20%20%20%20%3Cb%3EPlatform%20ID%3C/b%3E%3A%206901143%3Cbr%3E%0A%20%20%20%20%20%20%20%20%20%20%20%20%20%20%3Cb%3ELatitude%3C/b%3E%3A%2032.474%3Cbr%3E%0A%20%20%20%20%20%20%20%20%20%20%20%20%20%20%3Cb%3ELongitude%3C/b%3E%3A%20-21.206%3Cbr%3E%0A%20%20%20%20%20%20%20%20%20%20%20%20%20%20%20%20%20%3C/div%3E%60%2C%0A%20%20%20%20%20%20%20%20%20%20%20%20%20%20%20%20%7B%22sticky%22%3A%20true%7D%0A%20%20%20%20%20%20%20%20%20%20%20%20%29%3B%0A%20%20%20%20%20%20%20%20%0A%20%20%20%20%0A%20%20%20%20%20%20%20%20%20%20%20%20var%20marker_5cfe443f516349c3a526856528553e65%20%3D%20L.marker%28%0A%20%20%20%20%20%20%20%20%20%20%20%20%20%20%20%20%5B32.88%2C%20-21.136%5D%2C%0A%20%20%20%20%20%20%20%20%20%20%20%20%20%20%20%20%7B%7D%0A%20%20%20%20%20%20%20%20%20%20%20%20%29.addTo%28marker_cluster_f665b8b5759b4a4eb313602769734334%29%3B%0A%20%20%20%20%20%20%20%20%0A%20%20%20%20%0A%20%20%20%20%20%20%20%20%20%20%20%20marker_5cfe443f516349c3a526856528553e65.bindTooltip%28%0A%20%20%20%20%20%20%20%20%20%20%20%20%20%20%20%20%60%3Cdiv%3E%0A%20%20%20%20%20%20%20%20%20%20%20%20%20%20%20%20%20%20%20%20%20%3Cb%3EDate%3C/b%3E%3A%202019-01-22%3Cbr%3E%0A%20%20%20%20%20%20%20%20%20%20%20%20%20%20%3Cb%3EProfile%20ID%3C/b%3E%3A%206901143_230%3Cbr%3E%0A%20%20%20%20%20%20%20%20%20%20%20%20%20%20%3Cb%3EPlatform%20ID%3C/b%3E%3A%206901143%3Cbr%3E%0A%20%20%20%20%20%20%20%20%20%20%20%20%20%20%3Cb%3ELatitude%3C/b%3E%3A%2032.88%3Cbr%3E%0A%20%20%20%20%20%20%20%20%20%20%20%20%20%20%3Cb%3ELongitude%3C/b%3E%3A%20-21.136%3Cbr%3E%0A%20%20%20%20%20%20%20%20%20%20%20%20%20%20%20%20%20%3C/div%3E%60%2C%0A%20%20%20%20%20%20%20%20%20%20%20%20%20%20%20%20%7B%22sticky%22%3A%20true%7D%0A%20%20%20%20%20%20%20%20%20%20%20%20%29%3B%0A%20%20%20%20%20%20%20%20%0A%20%20%20%20%0A%20%20%20%20%20%20%20%20%20%20%20%20var%20marker_cluster_950d0cb38771485c97fc4aea2bfa868f%20%3D%20L.markerClusterGroup%28%0A%20%20%20%20%20%20%20%20%20%20%20%20%20%20%20%20%7B%7D%0A%20%20%20%20%20%20%20%20%20%20%20%20%29%3B%0A%20%20%20%20%20%20%20%20%20%20%20%20map_958dbe81645044a1a2bf16744956f9a2.addLayer%28marker_cluster_950d0cb38771485c97fc4aea2bfa868f%29%3B%0A%20%20%20%20%20%20%20%20%0A%20%20%20%20%0A%20%20%20%20%20%20%20%20%20%20%20%20var%20marker_2caff2ac98294888ae7fdf8664dcebff%20%3D%20L.marker%28%0A%20%20%20%20%20%20%20%20%20%20%20%20%20%20%20%20%5B34.985%2C%20-18.411%5D%2C%0A%20%20%20%20%20%20%20%20%20%20%20%20%20%20%20%20%7B%7D%0A%20%20%20%20%20%20%20%20%20%20%20%20%29.addTo%28marker_cluster_950d0cb38771485c97fc4aea2bfa868f%29%3B%0A%20%20%20%20%20%20%20%20%0A%20%20%20%20%0A%20%20%20%20%20%20%20%20%20%20%20%20marker_2caff2ac98294888ae7fdf8664dcebff.bindTooltip%28%0A%20%20%20%20%20%20%20%20%20%20%20%20%20%20%20%20%60%3Cdiv%3E%0A%20%20%20%20%20%20%20%20%20%20%20%20%20%20%20%20%20%20%20%20%20%3Cb%3EDate%3C/b%3E%3A%202019-01-02%3Cbr%3E%0A%20%20%20%20%20%20%20%20%20%20%20%20%20%20%3Cb%3EProfile%20ID%3C/b%3E%3A%206902664_124%3Cbr%3E%0A%20%20%20%20%20%20%20%20%20%20%20%20%20%20%3Cb%3EPlatform%20ID%3C/b%3E%3A%206902664%3Cbr%3E%0A%20%20%20%20%20%20%20%20%20%20%20%20%20%20%3Cb%3ELatitude%3C/b%3E%3A%2034.985%3Cbr%3E%0A%20%20%20%20%20%20%20%20%20%20%20%20%20%20%3Cb%3ELongitude%3C/b%3E%3A%20-18.411%3Cbr%3E%0A%20%20%20%20%20%20%20%20%20%20%20%20%20%20%20%20%20%3C/div%3E%60%2C%0A%20%20%20%20%20%20%20%20%20%20%20%20%20%20%20%20%7B%22sticky%22%3A%20true%7D%0A%20%20%20%20%20%20%20%20%20%20%20%20%29%3B%0A%20%20%20%20%20%20%20%20%0A%20%20%20%20%0A%20%20%20%20%20%20%20%20%20%20%20%20var%20marker_ce5fbf07a7f14201b210e1c4110cc202%20%3D%20L.marker%28%0A%20%20%20%20%20%20%20%20%20%20%20%20%20%20%20%20%5B35.057%2C%20-18.198%5D%2C%0A%20%20%20%20%20%20%20%20%20%20%20%20%20%20%20%20%7B%7D%0A%20%20%20%20%20%20%20%20%20%20%20%20%29.addTo%28marker_cluster_950d0cb38771485c97fc4aea2bfa868f%29%3B%0A%20%20%20%20%20%20%20%20%0A%20%20%20%20%0A%20%20%20%20%20%20%20%20%20%20%20%20marker_ce5fbf07a7f14201b210e1c4110cc202.bindTooltip%28%0A%20%20%20%20%20%20%20%20%20%20%20%20%20%20%20%20%60%3Cdiv%3E%0A%20%20%20%20%20%20%20%20%20%20%20%20%20%20%20%20%20%20%20%20%20%3Cb%3EDate%3C/b%3E%3A%202019-01-12%3Cbr%3E%0A%20%20%20%20%20%20%20%20%20%20%20%20%20%20%3Cb%3EProfile%20ID%3C/b%3E%3A%206902664_125%3Cbr%3E%0A%20%20%20%20%20%20%20%20%20%20%20%20%20%20%3Cb%3EPlatform%20ID%3C/b%3E%3A%206902664%3Cbr%3E%0A%20%20%20%20%20%20%20%20%20%20%20%20%20%20%3Cb%3ELatitude%3C/b%3E%3A%2035.057%3Cbr%3E%0A%20%20%20%20%20%20%20%20%20%20%20%20%20%20%3Cb%3ELongitude%3C/b%3E%3A%20-18.198%3Cbr%3E%0A%20%20%20%20%20%20%20%20%20%20%20%20%20%20%20%20%20%3C/div%3E%60%2C%0A%20%20%20%20%20%20%20%20%20%20%20%20%20%20%20%20%7B%22sticky%22%3A%20true%7D%0A%20%20%20%20%20%20%20%20%20%20%20%20%29%3B%0A%20%20%20%20%20%20%20%20%0A%20%20%20%20%0A%20%20%20%20%20%20%20%20%20%20%20%20var%20marker_c8429397512c4246aa503c2e8618505c%20%3D%20L.marker%28%0A%20%20%20%20%20%20%20%20%20%20%20%20%20%20%20%20%5B35.114%2C%20-18.099%5D%2C%0A%20%20%20%20%20%20%20%20%20%20%20%20%20%20%20%20%7B%7D%0A%20%20%20%20%20%20%20%20%20%20%20%20%29.addTo%28marker_cluster_950d0cb38771485c97fc4aea2bfa868f%29%3B%0A%20%20%20%20%20%20%20%20%0A%20%20%20%20%0A%20%20%20%20%20%20%20%20%20%20%20%20marker_c8429397512c4246aa503c2e8618505c.bindTooltip%28%0A%20%20%20%20%20%20%20%20%20%20%20%20%20%20%20%20%60%3Cdiv%3E%0A%20%20%20%20%20%20%20%20%20%20%20%20%20%20%20%20%20%20%20%20%20%3Cb%3EDate%3C/b%3E%3A%202019-01-22%3Cbr%3E%0A%20%20%20%20%20%20%20%20%20%20%20%20%20%20%3Cb%3EProfile%20ID%3C/b%3E%3A%206902664_126%3Cbr%3E%0A%20%20%20%20%20%20%20%20%20%20%20%20%20%20%3Cb%3EPlatform%20ID%3C/b%3E%3A%206902664%3Cbr%3E%0A%20%20%20%20%20%20%20%20%20%20%20%20%20%20%3Cb%3ELatitude%3C/b%3E%3A%2035.114%3Cbr%3E%0A%20%20%20%20%20%20%20%20%20%20%20%20%20%20%3Cb%3ELongitude%3C/b%3E%3A%20-18.099%3Cbr%3E%0A%20%20%20%20%20%20%20%20%20%20%20%20%20%20%20%20%20%3C/div%3E%60%2C%0A%20%20%20%20%20%20%20%20%20%20%20%20%20%20%20%20%7B%22sticky%22%3A%20true%7D%0A%20%20%20%20%20%20%20%20%20%20%20%20%29%3B%0A%20%20%20%20%20%20%20%20%0A%20%20%20%20%0A%20%20%20%20%20%20%20%20%20%20%20%20var%20marker_cluster_4a7850cc0c704ea58a70ed81d2b53721%20%3D%20L.markerClusterGroup%28%0A%20%20%20%20%20%20%20%20%20%20%20%20%20%20%20%20%7B%7D%0A%20%20%20%20%20%20%20%20%20%20%20%20%29%3B%0A%20%20%20%20%20%20%20%20%20%20%20%20map_958dbe81645044a1a2bf16744956f9a2.addLayer%28marker_cluster_4a7850cc0c704ea58a70ed81d2b53721%29%3B%0A%20%20%20%20%20%20%20%20%0A%20%20%20%20%0A%20%20%20%20%20%20%20%20%20%20%20%20var%20marker_fd93e6a433a042fd9a6a0270f071d40f%20%3D%20L.marker%28%0A%20%20%20%20%20%20%20%20%20%20%20%20%20%20%20%20%5B37.556%2C%20-22.429%5D%2C%0A%20%20%20%20%20%20%20%20%20%20%20%20%20%20%20%20%7B%7D%0A%20%20%20%20%20%20%20%20%20%20%20%20%29.addTo%28marker_cluster_4a7850cc0c704ea58a70ed81d2b53721%29%3B%0A%20%20%20%20%20%20%20%20%0A%20%20%20%20%0A%20%20%20%20%20%20%20%20%20%20%20%20marker_fd93e6a433a042fd9a6a0270f071d40f.bindTooltip%28%0A%20%20%20%20%20%20%20%20%20%20%20%20%20%20%20%20%60%3Cdiv%3E%0A%20%20%20%20%20%20%20%20%20%20%20%20%20%20%20%20%20%20%20%20%20%3Cb%3EDate%3C/b%3E%3A%202019-01-04%3Cbr%3E%0A%20%20%20%20%20%20%20%20%20%20%20%20%20%20%3Cb%3EProfile%20ID%3C/b%3E%3A%203901643_43%3Cbr%3E%0A%20%20%20%20%20%20%20%20%20%20%20%20%20%20%3Cb%3EPlatform%20ID%3C/b%3E%3A%203901643%3Cbr%3E%0A%20%20%20%20%20%20%20%20%20%20%20%20%20%20%3Cb%3ELatitude%3C/b%3E%3A%2037.556%3Cbr%3E%0A%20%20%20%20%20%20%20%20%20%20%20%20%20%20%3Cb%3ELongitude%3C/b%3E%3A%20-22.429%3Cbr%3E%0A%20%20%20%20%20%20%20%20%20%20%20%20%20%20%20%20%20%3C/div%3E%60%2C%0A%20%20%20%20%20%20%20%20%20%20%20%20%20%20%20%20%7B%22sticky%22%3A%20true%7D%0A%20%20%20%20%20%20%20%20%20%20%20%20%29%3B%0A%20%20%20%20%20%20%20%20%0A%20%20%20%20%0A%20%20%20%20%20%20%20%20%20%20%20%20var%20marker_6c11da0a9e9844d68463661057f8aeb5%20%3D%20L.marker%28%0A%20%20%20%20%20%20%20%20%20%20%20%20%20%20%20%20%5B37.542%2C%20-22.706%5D%2C%0A%20%20%20%20%20%20%20%20%20%20%20%20%20%20%20%20%7B%7D%0A%20%20%20%20%20%20%20%20%20%20%20%20%29.addTo%28marker_cluster_4a7850cc0c704ea58a70ed81d2b53721%29%3B%0A%20%20%20%20%20%20%20%20%0A%20%20%20%20%0A%20%20%20%20%20%20%20%20%20%20%20%20marker_6c11da0a9e9844d68463661057f8aeb5.bindTooltip%28%0A%20%20%20%20%20%20%20%20%20%20%20%20%20%20%20%20%60%3Cdiv%3E%0A%20%20%20%20%20%20%20%20%20%20%20%20%20%20%20%20%20%20%20%20%20%3Cb%3EDate%3C/b%3E%3A%202019-01-14%3Cbr%3E%0A%20%20%20%20%20%20%20%20%20%20%20%20%20%20%3Cb%3EProfile%20ID%3C/b%3E%3A%203901643_44%3Cbr%3E%0A%20%20%20%20%20%20%20%20%20%20%20%20%20%20%3Cb%3EPlatform%20ID%3C/b%3E%3A%203901643%3Cbr%3E%0A%20%20%20%20%20%20%20%20%20%20%20%20%20%20%3Cb%3ELatitude%3C/b%3E%3A%2037.542%3Cbr%3E%0A%20%20%20%20%20%20%20%20%20%20%20%20%20%20%3Cb%3ELongitude%3C/b%3E%3A%20-22.706%3Cbr%3E%0A%20%20%20%20%20%20%20%20%20%20%20%20%20%20%20%20%20%3C/div%3E%60%2C%0A%20%20%20%20%20%20%20%20%20%20%20%20%20%20%20%20%7B%22sticky%22%3A%20true%7D%0A%20%20%20%20%20%20%20%20%20%20%20%20%29%3B%0A%20%20%20%20%20%20%20%20%0A%20%20%20%20%0A%20%20%20%20%20%20%20%20%20%20%20%20var%20marker_bd6fad962df34c96a58ca12259a5906e%20%3D%20L.marker%28%0A%20%20%20%20%20%20%20%20%20%20%20%20%20%20%20%20%5B37.358%2C%20-23.115%5D%2C%0A%20%20%20%20%20%20%20%20%20%20%20%20%20%20%20%20%7B%7D%0A%20%20%20%20%20%20%20%20%20%20%20%20%29.addTo%28marker_cluster_4a7850cc0c704ea58a70ed81d2b53721%29%3B%0A%20%20%20%20%20%20%20%20%0A%20%20%20%20%0A%20%20%20%20%20%20%20%20%20%20%20%20marker_bd6fad962df34c96a58ca12259a5906e.bindTooltip%28%0A%20%20%20%20%20%20%20%20%20%20%20%20%20%20%20%20%60%3Cdiv%3E%0A%20%20%20%20%20%20%20%20%20%20%20%20%20%20%20%20%20%20%20%20%20%3Cb%3EDate%3C/b%3E%3A%202019-01-24%3Cbr%3E%0A%20%20%20%20%20%20%20%20%20%20%20%20%20%20%3Cb%3EProfile%20ID%3C/b%3E%3A%203901643_45%3Cbr%3E%0A%20%20%20%20%20%20%20%20%20%20%20%20%20%20%3Cb%3EPlatform%20ID%3C/b%3E%3A%203901643%3Cbr%3E%0A%20%20%20%20%20%20%20%20%20%20%20%20%20%20%3Cb%3ELatitude%3C/b%3E%3A%2037.358%3Cbr%3E%0A%20%20%20%20%20%20%20%20%20%20%20%20%20%20%3Cb%3ELongitude%3C/b%3E%3A%20-23.115%3Cbr%3E%0A%20%20%20%20%20%20%20%20%20%20%20%20%20%20%20%20%20%3C/div%3E%60%2C%0A%20%20%20%20%20%20%20%20%20%20%20%20%20%20%20%20%7B%22sticky%22%3A%20true%7D%0A%20%20%20%20%20%20%20%20%20%20%20%20%29%3B%0A%20%20%20%20%20%20%20%20%0A%20%20%20%20%0A%20%20%20%20%20%20%20%20%20%20%20%20var%20marker_cluster_2e48bbabc35f498bae30faade6d90d0a%20%3D%20L.markerClusterGroup%28%0A%20%20%20%20%20%20%20%20%20%20%20%20%20%20%20%20%7B%7D%0A%20%20%20%20%20%20%20%20%20%20%20%20%29%3B%0A%20%20%20%20%20%20%20%20%20%20%20%20map_958dbe81645044a1a2bf16744956f9a2.addLayer%28marker_cluster_2e48bbabc35f498bae30faade6d90d0a%29%3B%0A%20%20%20%20%20%20%20%20%0A%20%20%20%20%0A%20%20%20%20%20%20%20%20%20%20%20%20var%20marker_7b410a6a00624e59b96afa99b96e4060%20%3D%20L.marker%28%0A%20%20%20%20%20%20%20%20%20%20%20%20%20%20%20%20%5B35.316%2C%20-15.286%5D%2C%0A%20%20%20%20%20%20%20%20%20%20%20%20%20%20%20%20%7B%7D%0A%20%20%20%20%20%20%20%20%20%20%20%20%29.addTo%28marker_cluster_2e48bbabc35f498bae30faade6d90d0a%29%3B%0A%20%20%20%20%20%20%20%20%0A%20%20%20%20%0A%20%20%20%20%20%20%20%20%20%20%20%20marker_7b410a6a00624e59b96afa99b96e4060.bindTooltip%28%0A%20%20%20%20%20%20%20%20%20%20%20%20%20%20%20%20%60%3Cdiv%3E%0A%20%20%20%20%20%20%20%20%20%20%20%20%20%20%20%20%20%20%20%20%20%3Cb%3EDate%3C/b%3E%3A%202019-01-05%3Cbr%3E%0A%20%20%20%20%20%20%20%20%20%20%20%20%20%20%3Cb%3EProfile%20ID%3C/b%3E%3A%203901942_48%3Cbr%3E%0A%20%20%20%20%20%20%20%20%20%20%20%20%20%20%3Cb%3EPlatform%20ID%3C/b%3E%3A%203901942%3Cbr%3E%0A%20%20%20%20%20%20%20%20%20%20%20%20%20%20%3Cb%3ELatitude%3C/b%3E%3A%2035.316%3Cbr%3E%0A%20%20%20%20%20%20%20%20%20%20%20%20%20%20%3Cb%3ELongitude%3C/b%3E%3A%20-15.286%3Cbr%3E%0A%20%20%20%20%20%20%20%20%20%20%20%20%20%20%20%20%20%3C/div%3E%60%2C%0A%20%20%20%20%20%20%20%20%20%20%20%20%20%20%20%20%7B%22sticky%22%3A%20true%7D%0A%20%20%20%20%20%20%20%20%20%20%20%20%29%3B%0A%20%20%20%20%20%20%20%20%0A%20%20%20%20%0A%20%20%20%20%20%20%20%20%20%20%20%20var%20marker_09201bd64d3c4e2c8238cb1e7663d5be%20%3D%20L.marker%28%0A%20%20%20%20%20%20%20%20%20%20%20%20%20%20%20%20%5B34.976%2C%20-15.739%5D%2C%0A%20%20%20%20%20%20%20%20%20%20%20%20%20%20%20%20%7B%7D%0A%20%20%20%20%20%20%20%20%20%20%20%20%29.addTo%28marker_cluster_2e48bbabc35f498bae30faade6d90d0a%29%3B%0A%20%20%20%20%20%20%20%20%0A%20%20%20%20%0A%20%20%20%20%20%20%20%20%20%20%20%20marker_09201bd64d3c4e2c8238cb1e7663d5be.bindTooltip%28%0A%20%20%20%20%20%20%20%20%20%20%20%20%20%20%20%20%60%3Cdiv%3E%0A%20%20%20%20%20%20%20%20%20%20%20%20%20%20%20%20%20%20%20%20%20%3Cb%3EDate%3C/b%3E%3A%202019-01-15%3Cbr%3E%0A%20%20%20%20%20%20%20%20%20%20%20%20%20%20%3Cb%3EProfile%20ID%3C/b%3E%3A%203901942_49%3Cbr%3E%0A%20%20%20%20%20%20%20%20%20%20%20%20%20%20%3Cb%3EPlatform%20ID%3C/b%3E%3A%203901942%3Cbr%3E%0A%20%20%20%20%20%20%20%20%20%20%20%20%20%20%3Cb%3ELatitude%3C/b%3E%3A%2034.976%3Cbr%3E%0A%20%20%20%20%20%20%20%20%20%20%20%20%20%20%3Cb%3ELongitude%3C/b%3E%3A%20-15.739%3Cbr%3E%0A%20%20%20%20%20%20%20%20%20%20%20%20%20%20%20%20%20%3C/div%3E%60%2C%0A%20%20%20%20%20%20%20%20%20%20%20%20%20%20%20%20%7B%22sticky%22%3A%20true%7D%0A%20%20%20%20%20%20%20%20%20%20%20%20%29%3B%0A%20%20%20%20%20%20%20%20%0A%20%20%20%20%0A%20%20%20%20%20%20%20%20%20%20%20%20var%20marker_05908e83bf084516a8e65134ede93ba6%20%3D%20L.marker%28%0A%20%20%20%20%20%20%20%20%20%20%20%20%20%20%20%20%5B35.402%2C%20-14.963%5D%2C%0A%20%20%20%20%20%20%20%20%20%20%20%20%20%20%20%20%7B%7D%0A%20%20%20%20%20%20%20%20%20%20%20%20%29.addTo%28marker_cluster_2e48bbabc35f498bae30faade6d90d0a%29%3B%0A%20%20%20%20%20%20%20%20%0A%20%20%20%20%0A%20%20%20%20%20%20%20%20%20%20%20%20marker_05908e83bf084516a8e65134ede93ba6.bindTooltip%28%0A%20%20%20%20%20%20%20%20%20%20%20%20%20%20%20%20%60%3Cdiv%3E%0A%20%20%20%20%20%20%20%20%20%20%20%20%20%20%20%20%20%20%20%20%20%3Cb%3EDate%3C/b%3E%3A%202019-01-25%3Cbr%3E%0A%20%20%20%20%20%20%20%20%20%20%20%20%20%20%3Cb%3EProfile%20ID%3C/b%3E%3A%203901942_50%3Cbr%3E%0A%20%20%20%20%20%20%20%20%20%20%20%20%20%20%3Cb%3EPlatform%20ID%3C/b%3E%3A%203901942%3Cbr%3E%0A%20%20%20%20%20%20%20%20%20%20%20%20%20%20%3Cb%3ELatitude%3C/b%3E%3A%2035.402%3Cbr%3E%0A%20%20%20%20%20%20%20%20%20%20%20%20%20%20%3Cb%3ELongitude%3C/b%3E%3A%20-14.963%3Cbr%3E%0A%20%20%20%20%20%20%20%20%20%20%20%20%20%20%20%20%20%3C/div%3E%60%2C%0A%20%20%20%20%20%20%20%20%20%20%20%20%20%20%20%20%7B%22sticky%22%3A%20true%7D%0A%20%20%20%20%20%20%20%20%20%20%20%20%29%3B%0A%20%20%20%20%20%20%20%20%0A%20%20%20%20%0A%20%20%20%20%20%20%20%20%20%20%20%20var%20marker_cluster_126dec1b6bba4ecf9f15817369e3f35d%20%3D%20L.markerClusterGroup%28%0A%20%20%20%20%20%20%20%20%20%20%20%20%20%20%20%20%7B%7D%0A%20%20%20%20%20%20%20%20%20%20%20%20%29%3B%0A%20%20%20%20%20%20%20%20%20%20%20%20map_958dbe81645044a1a2bf16744956f9a2.addLayer%28marker_cluster_126dec1b6bba4ecf9f15817369e3f35d%29%3B%0A%20%20%20%20%20%20%20%20%0A%20%20%20%20%0A%20%20%20%20%20%20%20%20%20%20%20%20var%20marker_e756c2c6e3334503b131413ca3c38804%20%3D%20L.marker%28%0A%20%20%20%20%20%20%20%20%20%20%20%20%20%20%20%20%5B34.228%2C%20-17.967%5D%2C%0A%20%20%20%20%20%20%20%20%20%20%20%20%20%20%20%20%7B%7D%0A%20%20%20%20%20%20%20%20%20%20%20%20%29.addTo%28marker_cluster_126dec1b6bba4ecf9f15817369e3f35d%29%3B%0A%20%20%20%20%20%20%20%20%0A%20%20%20%20%0A%20%20%20%20%20%20%20%20%20%20%20%20marker_e756c2c6e3334503b131413ca3c38804.bindTooltip%28%0A%20%20%20%20%20%20%20%20%20%20%20%20%20%20%20%20%60%3Cdiv%3E%0A%20%20%20%20%20%20%20%20%20%20%20%20%20%20%20%20%20%20%20%20%20%3Cb%3EDate%3C/b%3E%3A%202019-01-06%3Cbr%3E%0A%20%20%20%20%20%20%20%20%20%20%20%20%20%20%3Cb%3EProfile%20ID%3C/b%3E%3A%206901262_22%3Cbr%3E%0A%20%20%20%20%20%20%20%20%20%20%20%20%20%20%3Cb%3EPlatform%20ID%3C/b%3E%3A%206901262%3Cbr%3E%0A%20%20%20%20%20%20%20%20%20%20%20%20%20%20%3Cb%3ELatitude%3C/b%3E%3A%2034.228%3Cbr%3E%0A%20%20%20%20%20%20%20%20%20%20%20%20%20%20%3Cb%3ELongitude%3C/b%3E%3A%20-17.967%3Cbr%3E%0A%20%20%20%20%20%20%20%20%20%20%20%20%20%20%20%20%20%3C/div%3E%60%2C%0A%20%20%20%20%20%20%20%20%20%20%20%20%20%20%20%20%7B%22sticky%22%3A%20true%7D%0A%20%20%20%20%20%20%20%20%20%20%20%20%29%3B%0A%20%20%20%20%20%20%20%20%0A%20%20%20%20%0A%20%20%20%20%20%20%20%20%20%20%20%20var%20marker_8ab33e154431467a9a1de773698c336a%20%3D%20L.marker%28%0A%20%20%20%20%20%20%20%20%20%20%20%20%20%20%20%20%5B34.223%2C%20-17.725%5D%2C%0A%20%20%20%20%20%20%20%20%20%20%20%20%20%20%20%20%7B%7D%0A%20%20%20%20%20%20%20%20%20%20%20%20%29.addTo%28marker_cluster_126dec1b6bba4ecf9f15817369e3f35d%29%3B%0A%20%20%20%20%20%20%20%20%0A%20%20%20%20%0A%20%20%20%20%20%20%20%20%20%20%20%20marker_8ab33e154431467a9a1de773698c336a.bindTooltip%28%0A%20%20%20%20%20%20%20%20%20%20%20%20%20%20%20%20%60%3Cdiv%3E%0A%20%20%20%20%20%20%20%20%20%20%20%20%20%20%20%20%20%20%20%20%20%3Cb%3EDate%3C/b%3E%3A%202019-01-16%3Cbr%3E%0A%20%20%20%20%20%20%20%20%20%20%20%20%20%20%3Cb%3EProfile%20ID%3C/b%3E%3A%206901262_23%3Cbr%3E%0A%20%20%20%20%20%20%20%20%20%20%20%20%20%20%3Cb%3EPlatform%20ID%3C/b%3E%3A%206901262%3Cbr%3E%0A%20%20%20%20%20%20%20%20%20%20%20%20%20%20%3Cb%3ELatitude%3C/b%3E%3A%2034.223%3Cbr%3E%0A%20%20%20%20%20%20%20%20%20%20%20%20%20%20%3Cb%3ELongitude%3C/b%3E%3A%20-17.725%3Cbr%3E%0A%20%20%20%20%20%20%20%20%20%20%20%20%20%20%20%20%20%3C/div%3E%60%2C%0A%20%20%20%20%20%20%20%20%20%20%20%20%20%20%20%20%7B%22sticky%22%3A%20true%7D%0A%20%20%20%20%20%20%20%20%20%20%20%20%29%3B%0A%20%20%20%20%20%20%20%20%0A%20%20%20%20%0A%20%20%20%20%20%20%20%20%20%20%20%20var%20marker_46097d6389a34b2486df3a53530d6403%20%3D%20L.marker%28%0A%20%20%20%20%20%20%20%20%20%20%20%20%20%20%20%20%5B34.302%2C%20-17.474%5D%2C%0A%20%20%20%20%20%20%20%20%20%20%20%20%20%20%20%20%7B%7D%0A%20%20%20%20%20%20%20%20%20%20%20%20%29.addTo%28marker_cluster_126dec1b6bba4ecf9f15817369e3f35d%29%3B%0A%20%20%20%20%20%20%20%20%0A%20%20%20%20%0A%20%20%20%20%20%20%20%20%20%20%20%20marker_46097d6389a34b2486df3a53530d6403.bindTooltip%28%0A%20%20%20%20%20%20%20%20%20%20%20%20%20%20%20%20%60%3Cdiv%3E%0A%20%20%20%20%20%20%20%20%20%20%20%20%20%20%20%20%20%20%20%20%20%3Cb%3EDate%3C/b%3E%3A%202019-01-26%3Cbr%3E%0A%20%20%20%20%20%20%20%20%20%20%20%20%20%20%3Cb%3EProfile%20ID%3C/b%3E%3A%206901262_24%3Cbr%3E%0A%20%20%20%20%20%20%20%20%20%20%20%20%20%20%3Cb%3EPlatform%20ID%3C/b%3E%3A%206901262%3Cbr%3E%0A%20%20%20%20%20%20%20%20%20%20%20%20%20%20%3Cb%3ELatitude%3C/b%3E%3A%2034.302%3Cbr%3E%0A%20%20%20%20%20%20%20%20%20%20%20%20%20%20%3Cb%3ELongitude%3C/b%3E%3A%20-17.474%3Cbr%3E%0A%20%20%20%20%20%20%20%20%20%20%20%20%20%20%20%20%20%3C/div%3E%60%2C%0A%20%20%20%20%20%20%20%20%20%20%20%20%20%20%20%20%7B%22sticky%22%3A%20true%7D%0A%20%20%20%20%20%20%20%20%20%20%20%20%29%3B%0A%20%20%20%20%20%20%20%20%0A%20%20%20%20%0A%20%20%20%20%20%20%20%20%20%20%20%20var%20marker_cluster_8e53a585056a4905ab4d5f94f521b6fd%20%3D%20L.markerClusterGroup%28%0A%20%20%20%20%20%20%20%20%20%20%20%20%20%20%20%20%7B%7D%0A%20%20%20%20%20%20%20%20%20%20%20%20%29%3B%0A%20%20%20%20%20%20%20%20%20%20%20%20map_958dbe81645044a1a2bf16744956f9a2.addLayer%28marker_cluster_8e53a585056a4905ab4d5f94f521b6fd%29%3B%0A%20%20%20%20%20%20%20%20%0A%20%20%20%20%0A%20%20%20%20%20%20%20%20%20%20%20%20var%20marker_36b4f276f15f4a2ea28f73847421f4af%20%3D%20L.marker%28%0A%20%20%20%20%20%20%20%20%20%20%20%20%20%20%20%20%5B33.428%2C%20-19.904%5D%2C%0A%20%20%20%20%20%20%20%20%20%20%20%20%20%20%20%20%7B%7D%0A%20%20%20%20%20%20%20%20%20%20%20%20%29.addTo%28marker_cluster_8e53a585056a4905ab4d5f94f521b6fd%29%3B%0A%20%20%20%20%20%20%20%20%0A%20%20%20%20%0A%20%20%20%20%20%20%20%20%20%20%20%20marker_36b4f276f15f4a2ea28f73847421f4af.bindTooltip%28%0A%20%20%20%20%20%20%20%20%20%20%20%20%20%20%20%20%60%3Cdiv%3E%0A%20%20%20%20%20%20%20%20%20%20%20%20%20%20%20%20%20%20%20%20%20%3Cb%3EDate%3C/b%3E%3A%202019-01-06%3Cbr%3E%0A%20%20%20%20%20%20%20%20%20%20%20%20%20%20%3Cb%3EProfile%20ID%3C/b%3E%3A%203901932_22%3Cbr%3E%0A%20%20%20%20%20%20%20%20%20%20%20%20%20%20%3Cb%3EPlatform%20ID%3C/b%3E%3A%203901932%3Cbr%3E%0A%20%20%20%20%20%20%20%20%20%20%20%20%20%20%3Cb%3ELatitude%3C/b%3E%3A%2033.428%3Cbr%3E%0A%20%20%20%20%20%20%20%20%20%20%20%20%20%20%3Cb%3ELongitude%3C/b%3E%3A%20-19.904%3Cbr%3E%0A%20%20%20%20%20%20%20%20%20%20%20%20%20%20%20%20%20%3C/div%3E%60%2C%0A%20%20%20%20%20%20%20%20%20%20%20%20%20%20%20%20%7B%22sticky%22%3A%20true%7D%0A%20%20%20%20%20%20%20%20%20%20%20%20%29%3B%0A%20%20%20%20%20%20%20%20%0A%20%20%20%20%0A%20%20%20%20%20%20%20%20%20%20%20%20var%20marker_eaade7a822dd430685ebf9b5055c7015%20%3D%20L.marker%28%0A%20%20%20%20%20%20%20%20%20%20%20%20%20%20%20%20%5B34.101%2C%20-19.081%5D%2C%0A%20%20%20%20%20%20%20%20%20%20%20%20%20%20%20%20%7B%7D%0A%20%20%20%20%20%20%20%20%20%20%20%20%29.addTo%28marker_cluster_8e53a585056a4905ab4d5f94f521b6fd%29%3B%0A%20%20%20%20%20%20%20%20%0A%20%20%20%20%0A%20%20%20%20%20%20%20%20%20%20%20%20marker_eaade7a822dd430685ebf9b5055c7015.bindTooltip%28%0A%20%20%20%20%20%20%20%20%20%20%20%20%20%20%20%20%60%3Cdiv%3E%0A%20%20%20%20%20%20%20%20%20%20%20%20%20%20%20%20%20%20%20%20%20%3Cb%3EDate%3C/b%3E%3A%202019-01-16%3Cbr%3E%0A%20%20%20%20%20%20%20%20%20%20%20%20%20%20%3Cb%3EProfile%20ID%3C/b%3E%3A%203901932_23%3Cbr%3E%0A%20%20%20%20%20%20%20%20%20%20%20%20%20%20%3Cb%3EPlatform%20ID%3C/b%3E%3A%203901932%3Cbr%3E%0A%20%20%20%20%20%20%20%20%20%20%20%20%20%20%3Cb%3ELatitude%3C/b%3E%3A%2034.101%3Cbr%3E%0A%20%20%20%20%20%20%20%20%20%20%20%20%20%20%3Cb%3ELongitude%3C/b%3E%3A%20-19.081%3Cbr%3E%0A%20%20%20%20%20%20%20%20%20%20%20%20%20%20%20%20%20%3C/div%3E%60%2C%0A%20%20%20%20%20%20%20%20%20%20%20%20%20%20%20%20%7B%22sticky%22%3A%20true%7D%0A%20%20%20%20%20%20%20%20%20%20%20%20%29%3B%0A%20%20%20%20%20%20%20%20%0A%20%20%20%20%0A%20%20%20%20%20%20%20%20%20%20%20%20var%20marker_3071f017c51e4d5e92c8137184e31aac%20%3D%20L.marker%28%0A%20%20%20%20%20%20%20%20%20%20%20%20%20%20%20%20%5B34.375%2C%20-18.151%5D%2C%0A%20%20%20%20%20%20%20%20%20%20%20%20%20%20%20%20%7B%7D%0A%20%20%20%20%20%20%20%20%20%20%20%20%29.addTo%28marker_cluster_8e53a585056a4905ab4d5f94f521b6fd%29%3B%0A%20%20%20%20%20%20%20%20%0A%20%20%20%20%0A%20%20%20%20%20%20%20%20%20%20%20%20marker_3071f017c51e4d5e92c8137184e31aac.bindTooltip%28%0A%20%20%20%20%20%20%20%20%20%20%20%20%20%20%20%20%60%3Cdiv%3E%0A%20%20%20%20%20%20%20%20%20%20%20%20%20%20%20%20%20%20%20%20%20%3Cb%3EDate%3C/b%3E%3A%202019-01-26%3Cbr%3E%0A%20%20%20%20%20%20%20%20%20%20%20%20%20%20%3Cb%3EProfile%20ID%3C/b%3E%3A%203901932_24%3Cbr%3E%0A%20%20%20%20%20%20%20%20%20%20%20%20%20%20%3Cb%3EPlatform%20ID%3C/b%3E%3A%203901932%3Cbr%3E%0A%20%20%20%20%20%20%20%20%20%20%20%20%20%20%3Cb%3ELatitude%3C/b%3E%3A%2034.375%3Cbr%3E%0A%20%20%20%20%20%20%20%20%20%20%20%20%20%20%3Cb%3ELongitude%3C/b%3E%3A%20-18.151%3Cbr%3E%0A%20%20%20%20%20%20%20%20%20%20%20%20%20%20%20%20%20%3C/div%3E%60%2C%0A%20%20%20%20%20%20%20%20%20%20%20%20%20%20%20%20%7B%22sticky%22%3A%20true%7D%0A%20%20%20%20%20%20%20%20%20%20%20%20%29%3B%0A%20%20%20%20%20%20%20%20%0A%20%20%20%20%0A%20%20%20%20%20%20%20%20%20%20%20%20var%20marker_cluster_a67a468b194845f0ab12b11e5ebb649f%20%3D%20L.markerClusterGroup%28%0A%20%20%20%20%20%20%20%20%20%20%20%20%20%20%20%20%7B%7D%0A%20%20%20%20%20%20%20%20%20%20%20%20%29%3B%0A%20%20%20%20%20%20%20%20%20%20%20%20map_958dbe81645044a1a2bf16744956f9a2.addLayer%28marker_cluster_a67a468b194845f0ab12b11e5ebb649f%29%3B%0A%20%20%20%20%20%20%20%20%0A%20%20%20%20%0A%20%20%20%20%20%20%20%20%20%20%20%20var%20marker_b41777c191594e2693f76b7aca858799%20%3D%20L.marker%28%0A%20%20%20%20%20%20%20%20%20%20%20%20%20%20%20%20%5B34.258%2C%20-23.134%5D%2C%0A%20%20%20%20%20%20%20%20%20%20%20%20%20%20%20%20%7B%7D%0A%20%20%20%20%20%20%20%20%20%20%20%20%29.addTo%28marker_cluster_a67a468b194845f0ab12b11e5ebb649f%29%3B%0A%20%20%20%20%20%20%20%20%0A%20%20%20%20%0A%20%20%20%20%20%20%20%20%20%20%20%20marker_b41777c191594e2693f76b7aca858799.bindTooltip%28%0A%20%20%20%20%20%20%20%20%20%20%20%20%20%20%20%20%60%3Cdiv%3E%0A%20%20%20%20%20%20%20%20%20%20%20%20%20%20%20%20%20%20%20%20%20%3Cb%3EDate%3C/b%3E%3A%202019-01-07%3Cbr%3E%0A%20%20%20%20%20%20%20%20%20%20%20%20%20%20%3Cb%3EProfile%20ID%3C/b%3E%3A%201901688_288%3Cbr%3E%0A%20%20%20%20%20%20%20%20%20%20%20%20%20%20%3Cb%3EPlatform%20ID%3C/b%3E%3A%201901688%3Cbr%3E%0A%20%20%20%20%20%20%20%20%20%20%20%20%20%20%3Cb%3ELatitude%3C/b%3E%3A%2034.258%3Cbr%3E%0A%20%20%20%20%20%20%20%20%20%20%20%20%20%20%3Cb%3ELongitude%3C/b%3E%3A%20-23.134%3Cbr%3E%0A%20%20%20%20%20%20%20%20%20%20%20%20%20%20%20%20%20%3C/div%3E%60%2C%0A%20%20%20%20%20%20%20%20%20%20%20%20%20%20%20%20%7B%22sticky%22%3A%20true%7D%0A%20%20%20%20%20%20%20%20%20%20%20%20%29%3B%0A%20%20%20%20%20%20%20%20%0A%20%20%20%20%0A%20%20%20%20%20%20%20%20%20%20%20%20var%20marker_98272fd062da4ae399874a0a2d50ce8f%20%3D%20L.marker%28%0A%20%20%20%20%20%20%20%20%20%20%20%20%20%20%20%20%5B34.248%2C%20-23.137%5D%2C%0A%20%20%20%20%20%20%20%20%20%20%20%20%20%20%20%20%7B%7D%0A%20%20%20%20%20%20%20%20%20%20%20%20%29.addTo%28marker_cluster_a67a468b194845f0ab12b11e5ebb649f%29%3B%0A%20%20%20%20%20%20%20%20%0A%20%20%20%20%0A%20%20%20%20%20%20%20%20%20%20%20%20marker_98272fd062da4ae399874a0a2d50ce8f.bindTooltip%28%0A%20%20%20%20%20%20%20%20%20%20%20%20%20%20%20%20%60%3Cdiv%3E%0A%20%20%20%20%20%20%20%20%20%20%20%20%20%20%20%20%20%20%20%20%20%3Cb%3EDate%3C/b%3E%3A%202019-01-08%3Cbr%3E%0A%20%20%20%20%20%20%20%20%20%20%20%20%20%20%3Cb%3EProfile%20ID%3C/b%3E%3A%201901688_289%3Cbr%3E%0A%20%20%20%20%20%20%20%20%20%20%20%20%20%20%3Cb%3EPlatform%20ID%3C/b%3E%3A%201901688%3Cbr%3E%0A%20%20%20%20%20%20%20%20%20%20%20%20%20%20%3Cb%3ELatitude%3C/b%3E%3A%2034.248%3Cbr%3E%0A%20%20%20%20%20%20%20%20%20%20%20%20%20%20%3Cb%3ELongitude%3C/b%3E%3A%20-23.137%3Cbr%3E%0A%20%20%20%20%20%20%20%20%20%20%20%20%20%20%20%20%20%3C/div%3E%60%2C%0A%20%20%20%20%20%20%20%20%20%20%20%20%20%20%20%20%7B%22sticky%22%3A%20true%7D%0A%20%20%20%20%20%20%20%20%20%20%20%20%29%3B%0A%20%20%20%20%20%20%20%20%0A%20%20%20%20%0A%20%20%20%20%20%20%20%20%20%20%20%20var%20marker_75cea075f0a247b7a5912b5fd0c2747d%20%3D%20L.marker%28%0A%20%20%20%20%20%20%20%20%20%20%20%20%20%20%20%20%5B34.233%2C%20-23.148%5D%2C%0A%20%20%20%20%20%20%20%20%20%20%20%20%20%20%20%20%7B%7D%0A%20%20%20%20%20%20%20%20%20%20%20%20%29.addTo%28marker_cluster_a67a468b194845f0ab12b11e5ebb649f%29%3B%0A%20%20%20%20%20%20%20%20%0A%20%20%20%20%0A%20%20%20%20%20%20%20%20%20%20%20%20marker_75cea075f0a247b7a5912b5fd0c2747d.bindTooltip%28%0A%20%20%20%20%20%20%20%20%20%20%20%20%20%20%20%20%60%3Cdiv%3E%0A%20%20%20%20%20%20%20%20%20%20%20%20%20%20%20%20%20%20%20%20%20%3Cb%3EDate%3C/b%3E%3A%202019-01-09%3Cbr%3E%0A%20%20%20%20%20%20%20%20%20%20%20%20%20%20%3Cb%3EProfile%20ID%3C/b%3E%3A%201901688_290%3Cbr%3E%0A%20%20%20%20%20%20%20%20%20%20%20%20%20%20%3Cb%3EPlatform%20ID%3C/b%3E%3A%201901688%3Cbr%3E%0A%20%20%20%20%20%20%20%20%20%20%20%20%20%20%3Cb%3ELatitude%3C/b%3E%3A%2034.233%3Cbr%3E%0A%20%20%20%20%20%20%20%20%20%20%20%20%20%20%3Cb%3ELongitude%3C/b%3E%3A%20-23.148%3Cbr%3E%0A%20%20%20%20%20%20%20%20%20%20%20%20%20%20%20%20%20%3C/div%3E%60%2C%0A%20%20%20%20%20%20%20%20%20%20%20%20%20%20%20%20%7B%22sticky%22%3A%20true%7D%0A%20%20%20%20%20%20%20%20%20%20%20%20%29%3B%0A%20%20%20%20%20%20%20%20%0A%20%20%20%20%0A%20%20%20%20%20%20%20%20%20%20%20%20var%20marker_19d241fa32fa492f981780358416289d%20%3D%20L.marker%28%0A%20%20%20%20%20%20%20%20%20%20%20%20%20%20%20%20%5B34.218%2C%20-23.158%5D%2C%0A%20%20%20%20%20%20%20%20%20%20%20%20%20%20%20%20%7B%7D%0A%20%20%20%20%20%20%20%20%20%20%20%20%29.addTo%28marker_cluster_a67a468b194845f0ab12b11e5ebb649f%29%3B%0A%20%20%20%20%20%20%20%20%0A%20%20%20%20%0A%20%20%20%20%20%20%20%20%20%20%20%20marker_19d241fa32fa492f981780358416289d.bindTooltip%28%0A%20%20%20%20%20%20%20%20%20%20%20%20%20%20%20%20%60%3Cdiv%3E%0A%20%20%20%20%20%20%20%20%20%20%20%20%20%20%20%20%20%20%20%20%20%3Cb%3EDate%3C/b%3E%3A%202019-01-10%3Cbr%3E%0A%20%20%20%20%20%20%20%20%20%20%20%20%20%20%3Cb%3EProfile%20ID%3C/b%3E%3A%201901688_291%3Cbr%3E%0A%20%20%20%20%20%20%20%20%20%20%20%20%20%20%3Cb%3EPlatform%20ID%3C/b%3E%3A%201901688%3Cbr%3E%0A%20%20%20%20%20%20%20%20%20%20%20%20%20%20%3Cb%3ELatitude%3C/b%3E%3A%2034.218%3Cbr%3E%0A%20%20%20%20%20%20%20%20%20%20%20%20%20%20%3Cb%3ELongitude%3C/b%3E%3A%20-23.158%3Cbr%3E%0A%20%20%20%20%20%20%20%20%20%20%20%20%20%20%20%20%20%3C/div%3E%60%2C%0A%20%20%20%20%20%20%20%20%20%20%20%20%20%20%20%20%7B%22sticky%22%3A%20true%7D%0A%20%20%20%20%20%20%20%20%20%20%20%20%29%3B%0A%20%20%20%20%20%20%20%20%0A%20%20%20%20%0A%20%20%20%20%20%20%20%20%20%20%20%20var%20marker_975d0304f8d246b7b97a25f95284d613%20%3D%20L.marker%28%0A%20%20%20%20%20%20%20%20%20%20%20%20%20%20%20%20%5B34.136%2C%20-23.272%5D%2C%0A%20%20%20%20%20%20%20%20%20%20%20%20%20%20%20%20%7B%7D%0A%20%20%20%20%20%20%20%20%20%20%20%20%29.addTo%28marker_cluster_a67a468b194845f0ab12b11e5ebb649f%29%3B%0A%20%20%20%20%20%20%20%20%0A%20%20%20%20%0A%20%20%20%20%20%20%20%20%20%20%20%20marker_975d0304f8d246b7b97a25f95284d613.bindTooltip%28%0A%20%20%20%20%20%20%20%20%20%20%20%20%20%20%20%20%60%3Cdiv%3E%0A%20%20%20%20%20%20%20%20%20%20%20%20%20%20%20%20%20%20%20%20%20%3Cb%3EDate%3C/b%3E%3A%202019-01-19%3Cbr%3E%0A%20%20%20%20%20%20%20%20%20%20%20%20%20%20%3Cb%3EProfile%20ID%3C/b%3E%3A%201901688_292%3Cbr%3E%0A%20%20%20%20%20%20%20%20%20%20%20%20%20%20%3Cb%3EPlatform%20ID%3C/b%3E%3A%201901688%3Cbr%3E%0A%20%20%20%20%20%20%20%20%20%20%20%20%20%20%3Cb%3ELatitude%3C/b%3E%3A%2034.136%3Cbr%3E%0A%20%20%20%20%20%20%20%20%20%20%20%20%20%20%3Cb%3ELongitude%3C/b%3E%3A%20-23.272%3Cbr%3E%0A%20%20%20%20%20%20%20%20%20%20%20%20%20%20%20%20%20%3C/div%3E%60%2C%0A%20%20%20%20%20%20%20%20%20%20%20%20%20%20%20%20%7B%22sticky%22%3A%20true%7D%0A%20%20%20%20%20%20%20%20%20%20%20%20%29%3B%0A%20%20%20%20%20%20%20%20%0A%20%20%20%20%0A%20%20%20%20%20%20%20%20%20%20%20%20var%20marker_05891d5c2ca74dedad99c14a4e36d98f%20%3D%20L.marker%28%0A%20%20%20%20%20%20%20%20%20%20%20%20%20%20%20%20%5B34.206%2C%20-23.403%5D%2C%0A%20%20%20%20%20%20%20%20%20%20%20%20%20%20%20%20%7B%7D%0A%20%20%20%20%20%20%20%20%20%20%20%20%29.addTo%28marker_cluster_a67a468b194845f0ab12b11e5ebb649f%29%3B%0A%20%20%20%20%20%20%20%20%0A%20%20%20%20%0A%20%20%20%20%20%20%20%20%20%20%20%20marker_05891d5c2ca74dedad99c14a4e36d98f.bindTooltip%28%0A%20%20%20%20%20%20%20%20%20%20%20%20%20%20%20%20%60%3Cdiv%3E%0A%20%20%20%20%20%20%20%20%20%20%20%20%20%20%20%20%20%20%20%20%20%3Cb%3EDate%3C/b%3E%3A%202019-01-29%3Cbr%3E%0A%20%20%20%20%20%20%20%20%20%20%20%20%20%20%3Cb%3EProfile%20ID%3C/b%3E%3A%201901688_293%3Cbr%3E%0A%20%20%20%20%20%20%20%20%20%20%20%20%20%20%3Cb%3EPlatform%20ID%3C/b%3E%3A%201901688%3Cbr%3E%0A%20%20%20%20%20%20%20%20%20%20%20%20%20%20%3Cb%3ELatitude%3C/b%3E%3A%2034.206%3Cbr%3E%0A%20%20%20%20%20%20%20%20%20%20%20%20%20%20%3Cb%3ELongitude%3C/b%3E%3A%20-23.403%3Cbr%3E%0A%20%20%20%20%20%20%20%20%20%20%20%20%20%20%20%20%20%3C/div%3E%60%2C%0A%20%20%20%20%20%20%20%20%20%20%20%20%20%20%20%20%7B%22sticky%22%3A%20true%7D%0A%20%20%20%20%20%20%20%20%20%20%20%20%29%3B%0A%20%20%20%20%20%20%20%20%0A%20%20%20%20%0A%20%20%20%20%20%20%20%20%20%20%20%20var%20marker_cluster_60ec54aeeb4240de98ecb9cef2750c41%20%3D%20L.markerClusterGroup%28%0A%20%20%20%20%20%20%20%20%20%20%20%20%20%20%20%20%7B%7D%0A%20%20%20%20%20%20%20%20%20%20%20%20%29%3B%0A%20%20%20%20%20%20%20%20%20%20%20%20map_958dbe81645044a1a2bf16744956f9a2.addLayer%28marker_cluster_60ec54aeeb4240de98ecb9cef2750c41%29%3B%0A%20%20%20%20%20%20%20%20%0A%20%20%20%20%0A%20%20%20%20%20%20%20%20%20%20%20%20var%20marker_1e2fbbee165c485a98586b1900683a93%20%3D%20L.marker%28%0A%20%20%20%20%20%20%20%20%20%20%20%20%20%20%20%20%5B33.144%2C%20-23.798%5D%2C%0A%20%20%20%20%20%20%20%20%20%20%20%20%20%20%20%20%7B%7D%0A%20%20%20%20%20%20%20%20%20%20%20%20%29.addTo%28marker_cluster_60ec54aeeb4240de98ecb9cef2750c41%29%3B%0A%20%20%20%20%20%20%20%20%0A%20%20%20%20%0A%20%20%20%20%20%20%20%20%20%20%20%20marker_1e2fbbee165c485a98586b1900683a93.bindTooltip%28%0A%20%20%20%20%20%20%20%20%20%20%20%20%20%20%20%20%60%3Cdiv%3E%0A%20%20%20%20%20%20%20%20%20%20%20%20%20%20%20%20%20%20%20%20%20%3Cb%3EDate%3C/b%3E%3A%202019-01-08%3Cbr%3E%0A%20%20%20%20%20%20%20%20%20%20%20%20%20%20%3Cb%3EProfile%20ID%3C/b%3E%3A%206902552_167%3Cbr%3E%0A%20%20%20%20%20%20%20%20%20%20%20%20%20%20%3Cb%3EPlatform%20ID%3C/b%3E%3A%206902552%3Cbr%3E%0A%20%20%20%20%20%20%20%20%20%20%20%20%20%20%3Cb%3ELatitude%3C/b%3E%3A%2033.144%3Cbr%3E%0A%20%20%20%20%20%20%20%20%20%20%20%20%20%20%3Cb%3ELongitude%3C/b%3E%3A%20-23.798%3Cbr%3E%0A%20%20%20%20%20%20%20%20%20%20%20%20%20%20%20%20%20%3C/div%3E%60%2C%0A%20%20%20%20%20%20%20%20%20%20%20%20%20%20%20%20%7B%22sticky%22%3A%20true%7D%0A%20%20%20%20%20%20%20%20%20%20%20%20%29%3B%0A%20%20%20%20%20%20%20%20%0A%20%20%20%20%0A%20%20%20%20%20%20%20%20%20%20%20%20var%20marker_5b23e7b4a7df4e1183580d3d9531b72e%20%3D%20L.marker%28%0A%20%20%20%20%20%20%20%20%20%20%20%20%20%20%20%20%5B33.225%2C%20-23.575%5D%2C%0A%20%20%20%20%20%20%20%20%20%20%20%20%20%20%20%20%7B%7D%0A%20%20%20%20%20%20%20%20%20%20%20%20%29.addTo%28marker_cluster_60ec54aeeb4240de98ecb9cef2750c41%29%3B%0A%20%20%20%20%20%20%20%20%0A%20%20%20%20%0A%20%20%20%20%20%20%20%20%20%20%20%20marker_5b23e7b4a7df4e1183580d3d9531b72e.bindTooltip%28%0A%20%20%20%20%20%20%20%20%20%20%20%20%20%20%20%20%60%3Cdiv%3E%0A%20%20%20%20%20%20%20%20%20%20%20%20%20%20%20%20%20%20%20%20%20%3Cb%3EDate%3C/b%3E%3A%202019-01-18%3Cbr%3E%0A%20%20%20%20%20%20%20%20%20%20%20%20%20%20%3Cb%3EProfile%20ID%3C/b%3E%3A%206902552_168%3Cbr%3E%0A%20%20%20%20%20%20%20%20%20%20%20%20%20%20%3Cb%3EPlatform%20ID%3C/b%3E%3A%206902552%3Cbr%3E%0A%20%20%20%20%20%20%20%20%20%20%20%20%20%20%3Cb%3ELatitude%3C/b%3E%3A%2033.225%3Cbr%3E%0A%20%20%20%20%20%20%20%20%20%20%20%20%20%20%3Cb%3ELongitude%3C/b%3E%3A%20-23.575%3Cbr%3E%0A%20%20%20%20%20%20%20%20%20%20%20%20%20%20%20%20%20%3C/div%3E%60%2C%0A%20%20%20%20%20%20%20%20%20%20%20%20%20%20%20%20%7B%22sticky%22%3A%20true%7D%0A%20%20%20%20%20%20%20%20%20%20%20%20%29%3B%0A%20%20%20%20%20%20%20%20%0A%20%20%20%20%0A%20%20%20%20%20%20%20%20%20%20%20%20var%20marker_a7f01dc331734ab984b1d8a81cccfb9d%20%3D%20L.marker%28%0A%20%20%20%20%20%20%20%20%20%20%20%20%20%20%20%20%5B33.294%2C%20-23.267%5D%2C%0A%20%20%20%20%20%20%20%20%20%20%20%20%20%20%20%20%7B%7D%0A%20%20%20%20%20%20%20%20%20%20%20%20%29.addTo%28marker_cluster_60ec54aeeb4240de98ecb9cef2750c41%29%3B%0A%20%20%20%20%20%20%20%20%0A%20%20%20%20%0A%20%20%20%20%20%20%20%20%20%20%20%20marker_a7f01dc331734ab984b1d8a81cccfb9d.bindTooltip%28%0A%20%20%20%20%20%20%20%20%20%20%20%20%20%20%20%20%60%3Cdiv%3E%0A%20%20%20%20%20%20%20%20%20%20%20%20%20%20%20%20%20%20%20%20%20%3Cb%3EDate%3C/b%3E%3A%202019-01-28%3Cbr%3E%0A%20%20%20%20%20%20%20%20%20%20%20%20%20%20%3Cb%3EProfile%20ID%3C/b%3E%3A%206902552_169%3Cbr%3E%0A%20%20%20%20%20%20%20%20%20%20%20%20%20%20%3Cb%3EPlatform%20ID%3C/b%3E%3A%206902552%3Cbr%3E%0A%20%20%20%20%20%20%20%20%20%20%20%20%20%20%3Cb%3ELatitude%3C/b%3E%3A%2033.294%3Cbr%3E%0A%20%20%20%20%20%20%20%20%20%20%20%20%20%20%3Cb%3ELongitude%3C/b%3E%3A%20-23.267%3Cbr%3E%0A%20%20%20%20%20%20%20%20%20%20%20%20%20%20%20%20%20%3C/div%3E%60%2C%0A%20%20%20%20%20%20%20%20%20%20%20%20%20%20%20%20%7B%22sticky%22%3A%20true%7D%0A%20%20%20%20%20%20%20%20%20%20%20%20%29%3B%0A%20%20%20%20%20%20%20%20%0A%20%20%20%20%0A%20%20%20%20%20%20%20%20%20%20%20%20var%20marker_cluster_80aa498fa3024374bb5b5edb644f5826%20%3D%20L.markerClusterGroup%28%0A%20%20%20%20%20%20%20%20%20%20%20%20%20%20%20%20%7B%7D%0A%20%20%20%20%20%20%20%20%20%20%20%20%29%3B%0A%20%20%20%20%20%20%20%20%20%20%20%20map_958dbe81645044a1a2bf16744956f9a2.addLayer%28marker_cluster_80aa498fa3024374bb5b5edb644f5826%29%3B%0A%20%20%20%20%20%20%20%20%0A%20%20%20%20%0A%20%20%20%20%20%20%20%20%20%20%20%20var%20marker_87c5e1330c2f44c2ba86c58d0373a3e9%20%3D%20L.marker%28%0A%20%20%20%20%20%20%20%20%20%20%20%20%20%20%20%20%5B32.219%2C%20-12.473%5D%2C%0A%20%20%20%20%20%20%20%20%20%20%20%20%20%20%20%20%7B%7D%0A%20%20%20%20%20%20%20%20%20%20%20%20%29.addTo%28marker_cluster_80aa498fa3024374bb5b5edb644f5826%29%3B%0A%20%20%20%20%20%20%20%20%0A%20%20%20%20%0A%20%20%20%20%20%20%20%20%20%20%20%20marker_87c5e1330c2f44c2ba86c58d0373a3e9.bindTooltip%28%0A%20%20%20%20%20%20%20%20%20%20%20%20%20%20%20%20%60%3Cdiv%3E%0A%20%20%20%20%20%20%20%20%20%20%20%20%20%20%20%20%20%20%20%20%20%3Cb%3EDate%3C/b%3E%3A%202019-01-10%3Cbr%3E%0A%20%20%20%20%20%20%20%20%20%20%20%20%20%20%3Cb%3EProfile%20ID%3C/b%3E%3A%206901273_11%3Cbr%3E%0A%20%20%20%20%20%20%20%20%20%20%20%20%20%20%3Cb%3EPlatform%20ID%3C/b%3E%3A%206901273%3Cbr%3E%0A%20%20%20%20%20%20%20%20%20%20%20%20%20%20%3Cb%3ELatitude%3C/b%3E%3A%2032.219%3Cbr%3E%0A%20%20%20%20%20%20%20%20%20%20%20%20%20%20%3Cb%3ELongitude%3C/b%3E%3A%20-12.473%3Cbr%3E%0A%20%20%20%20%20%20%20%20%20%20%20%20%20%20%20%20%20%3C/div%3E%60%2C%0A%20%20%20%20%20%20%20%20%20%20%20%20%20%20%20%20%7B%22sticky%22%3A%20true%7D%0A%20%20%20%20%20%20%20%20%20%20%20%20%29%3B%0A%20%20%20%20%20%20%20%20%0A%20%20%20%20%0A%20%20%20%20%20%20%20%20%20%20%20%20var%20marker_1e3dcd55e8424481bf8e55b76f1cd332%20%3D%20L.marker%28%0A%20%20%20%20%20%20%20%20%20%20%20%20%20%20%20%20%5B32.181%2C%20-12.447%5D%2C%0A%20%20%20%20%20%20%20%20%20%20%20%20%20%20%20%20%7B%7D%0A%20%20%20%20%20%20%20%20%20%20%20%20%29.addTo%28marker_cluster_80aa498fa3024374bb5b5edb644f5826%29%3B%0A%20%20%20%20%20%20%20%20%0A%20%20%20%20%0A%20%20%20%20%20%20%20%20%20%20%20%20marker_1e3dcd55e8424481bf8e55b76f1cd332.bindTooltip%28%0A%20%20%20%20%20%20%20%20%20%20%20%20%20%20%20%20%60%3Cdiv%3E%0A%20%20%20%20%20%20%20%20%20%20%20%20%20%20%20%20%20%20%20%20%20%3Cb%3EDate%3C/b%3E%3A%202019-01-20%3Cbr%3E%0A%20%20%20%20%20%20%20%20%20%20%20%20%20%20%3Cb%3EProfile%20ID%3C/b%3E%3A%206901273_12%3Cbr%3E%0A%20%20%20%20%20%20%20%20%20%20%20%20%20%20%3Cb%3EPlatform%20ID%3C/b%3E%3A%206901273%3Cbr%3E%0A%20%20%20%20%20%20%20%20%20%20%20%20%20%20%3Cb%3ELatitude%3C/b%3E%3A%2032.181%3Cbr%3E%0A%20%20%20%20%20%20%20%20%20%20%20%20%20%20%3Cb%3ELongitude%3C/b%3E%3A%20-12.447%3Cbr%3E%0A%20%20%20%20%20%20%20%20%20%20%20%20%20%20%20%20%20%3C/div%3E%60%2C%0A%20%20%20%20%20%20%20%20%20%20%20%20%20%20%20%20%7B%22sticky%22%3A%20true%7D%0A%20%20%20%20%20%20%20%20%20%20%20%20%29%3B%0A%20%20%20%20%20%20%20%20%0A%20%20%20%20%0A%20%20%20%20%20%20%20%20%20%20%20%20var%20marker_84b9194e65ac4faebe325f1966ffd575%20%3D%20L.marker%28%0A%20%20%20%20%20%20%20%20%20%20%20%20%20%20%20%20%5B32.602%2C%20-12.737%5D%2C%0A%20%20%20%20%20%20%20%20%20%20%20%20%20%20%20%20%7B%7D%0A%20%20%20%20%20%20%20%20%20%20%20%20%29.addTo%28marker_cluster_80aa498fa3024374bb5b5edb644f5826%29%3B%0A%20%20%20%20%20%20%20%20%0A%20%20%20%20%0A%20%20%20%20%20%20%20%20%20%20%20%20marker_84b9194e65ac4faebe325f1966ffd575.bindTooltip%28%0A%20%20%20%20%20%20%20%20%20%20%20%20%20%20%20%20%60%3Cdiv%3E%0A%20%20%20%20%20%20%20%20%20%20%20%20%20%20%20%20%20%20%20%20%20%3Cb%3EDate%3C/b%3E%3A%202019-01-30%3Cbr%3E%0A%20%20%20%20%20%20%20%20%20%20%20%20%20%20%3Cb%3EProfile%20ID%3C/b%3E%3A%206901273_13%3Cbr%3E%0A%20%20%20%20%20%20%20%20%20%20%20%20%20%20%3Cb%3EPlatform%20ID%3C/b%3E%3A%206901273%3Cbr%3E%0A%20%20%20%20%20%20%20%20%20%20%20%20%20%20%3Cb%3ELatitude%3C/b%3E%3A%2032.602%3Cbr%3E%0A%20%20%20%20%20%20%20%20%20%20%20%20%20%20%3Cb%3ELongitude%3C/b%3E%3A%20-12.737%3Cbr%3E%0A%20%20%20%20%20%20%20%20%20%20%20%20%20%20%20%20%20%3C/div%3E%60%2C%0A%20%20%20%20%20%20%20%20%20%20%20%20%20%20%20%20%7B%22sticky%22%3A%20true%7D%0A%20%20%20%20%20%20%20%20%20%20%20%20%29%3B%0A%20%20%20%20%20%20%20%20%0A%20%20%20%20%0A%20%20%20%20%20%20%20%20%20%20%20%20var%20marker_cluster_26146f6ad9fc400eb5e4c3016bc1a988%20%3D%20L.markerClusterGroup%28%0A%20%20%20%20%20%20%20%20%20%20%20%20%20%20%20%20%7B%7D%0A%20%20%20%20%20%20%20%20%20%20%20%20%29%3B%0A%20%20%20%20%20%20%20%20%20%20%20%20map_958dbe81645044a1a2bf16744956f9a2.addLayer%28marker_cluster_26146f6ad9fc400eb5e4c3016bc1a988%29%3B%0A%20%20%20%20%20%20%20%20%0A%20%20%20%20%0A%20%20%20%20%20%20%20%20%20%20%20%20var%20marker_acba2c126575493cac00e4b0dc360fc8%20%3D%20L.marker%28%0A%20%20%20%20%20%20%20%20%20%20%20%20%20%20%20%20%5B38.293%2C%20-25.507%5D%2C%0A%20%20%20%20%20%20%20%20%20%20%20%20%20%20%20%20%7B%7D%0A%20%20%20%20%20%20%20%20%20%20%20%20%29.addTo%28marker_cluster_26146f6ad9fc400eb5e4c3016bc1a988%29%3B%0A%20%20%20%20%20%20%20%20%0A%20%20%20%20%0A%20%20%20%20%20%20%20%20%20%20%20%20marker_acba2c126575493cac00e4b0dc360fc8.bindTooltip%28%0A%20%20%20%20%20%20%20%20%20%20%20%20%20%20%20%20%60%3Cdiv%3E%0A%20%20%20%20%20%20%20%20%20%20%20%20%20%20%20%20%20%20%20%20%20%3Cb%3EDate%3C/b%3E%3A%202019-01-16%3Cbr%3E%0A%20%20%20%20%20%20%20%20%20%20%20%20%20%20%3Cb%3EProfile%20ID%3C/b%3E%3A%206902785_54%3Cbr%3E%0A%20%20%20%20%20%20%20%20%20%20%20%20%20%20%3Cb%3EPlatform%20ID%3C/b%3E%3A%206902785%3Cbr%3E%0A%20%20%20%20%20%20%20%20%20%20%20%20%20%20%3Cb%3ELatitude%3C/b%3E%3A%2038.293%3Cbr%3E%0A%20%20%20%20%20%20%20%20%20%20%20%20%20%20%3Cb%3ELongitude%3C/b%3E%3A%20-25.507%3Cbr%3E%0A%20%20%20%20%20%20%20%20%20%20%20%20%20%20%20%20%20%3C/div%3E%60%2C%0A%20%20%20%20%20%20%20%20%20%20%20%20%20%20%20%20%7B%22sticky%22%3A%20true%7D%0A%20%20%20%20%20%20%20%20%20%20%20%20%29%3B%0A%20%20%20%20%20%20%20%20%0A%20%20%20%20%0A%20%20%20%20%20%20%20%20%20%20%20%20var%20marker_f43094ba95ec47fea758fd807128fe01%20%3D%20L.marker%28%0A%20%20%20%20%20%20%20%20%20%20%20%20%20%20%20%20%5B38.213%2C%20-25.212%5D%2C%0A%20%20%20%20%20%20%20%20%20%20%20%20%20%20%20%20%7B%7D%0A%20%20%20%20%20%20%20%20%20%20%20%20%29.addTo%28marker_cluster_26146f6ad9fc400eb5e4c3016bc1a988%29%3B%0A%20%20%20%20%20%20%20%20%0A%20%20%20%20%0A%20%20%20%20%20%20%20%20%20%20%20%20marker_f43094ba95ec47fea758fd807128fe01.bindTooltip%28%0A%20%20%20%20%20%20%20%20%20%20%20%20%20%20%20%20%60%3Cdiv%3E%0A%20%20%20%20%20%20%20%20%20%20%20%20%20%20%20%20%20%20%20%20%20%3Cb%3EDate%3C/b%3E%3A%202019-01-26%3Cbr%3E%0A%20%20%20%20%20%20%20%20%20%20%20%20%20%20%3Cb%3EProfile%20ID%3C/b%3E%3A%206902785_55%3Cbr%3E%0A%20%20%20%20%20%20%20%20%20%20%20%20%20%20%3Cb%3EPlatform%20ID%3C/b%3E%3A%206902785%3Cbr%3E%0A%20%20%20%20%20%20%20%20%20%20%20%20%20%20%3Cb%3ELatitude%3C/b%3E%3A%2038.213%3Cbr%3E%0A%20%20%20%20%20%20%20%20%20%20%20%20%20%20%3Cb%3ELongitude%3C/b%3E%3A%20-25.212%3Cbr%3E%0A%20%20%20%20%20%20%20%20%20%20%20%20%20%20%20%20%20%3C/div%3E%60%2C%0A%20%20%20%20%20%20%20%20%20%20%20%20%20%20%20%20%7B%22sticky%22%3A%20true%7D%0A%20%20%20%20%20%20%20%20%20%20%20%20%29%3B%0A%20%20%20%20%20%20%20%20%0A%3C/script%3E onload=\"this.contentDocument.open();this.contentDocument.write(    decodeURIComponent(this.getAttribute('data-html')));this.contentDocument.close();\" allowfullscreen webkitallowfullscreen mozallowfullscreen></iframe></div></div>"
      ],
      "text/plain": [
       "<folium.folium.Map at 0x199c77370>"
      ]
     },
     "metadata": {},
     "output_type": "display_data"
    }
   ],
   "source": [
    "def _get_tooltip(profile: dict):\n",
    "    return \"\"\"<b>Date</b>: {date}<br>\n",
    "              <b>Profile ID</b>: {_id}<br>\n",
    "              <b>Platform ID</b>: {platform_number}<br>\n",
    "              <b>Latitude</b>: {lat}<br>\n",
    "              <b>Longitude</b>: {lon}<br>\"\"\".format(**profile)\n",
    "\n",
    "\n",
    "m = folium.Map(location=[argo_df['lat'].mean(), argo_df['lon'].mean()], \n",
    "               tiles=\"Stamen Terrain\",\n",
    "               zoom_start=5, )\n",
    "\n",
    "# Loop over list of unique platform_numbers (floats)\n",
    "unique_argo_platform_numbers = argo_df.platform_number.unique().tolist()\n",
    "\n",
    "for i, platform in enumerate(unique_argo_platform_numbers):\n",
    "    # Get row(s) for the current platform\n",
    "    p = argo_df[argo_df['platform_number']==platform]\n",
    "    # Make an empty marker cluster to add to the map widget\n",
    "    cluster = MarkerCluster(name=p['platform_number'])\n",
    "    # Make markers in a loop and add to the cluster:\n",
    "    for c in p['cycle_number'].tolist():\n",
    "        # Select the row for the current profile ('cycle')\n",
    "        profile = p[p['cycle_number']==c].iloc[0]\n",
    "        # Create a new marker and add it to the cluster\n",
    "        cluster.add_child(folium.Marker(\n",
    "            location=[profile['lat'], profile['lon']],\n",
    "            tooltip=_get_tooltip(profile.to_dict())))\n",
    "    m.add_child(cluster)\n",
    "\n",
    "display(m)"
   ]
  },
  {
   "cell_type": "markdown",
   "id": "7d2a53f4",
   "metadata": {},
   "source": [
    "#### Reformat profile data into data frames\n",
    "\n",
    "The in situ measurements temperature, pressure, and salinity readings collected during each profile are returned inside the JSON response.\n",
    "\n",
    "The format of the *measurements* field is perfect for conversion to *pandas* data frames. Apply *pandas.DataFrame* over the entire measurements column to make a pandas.Series of data frames, and replace the existing content in the *measurements* column:"
   ]
  },
  {
   "cell_type": "code",
   "execution_count": 12,
   "id": "1f1c49b1",
   "metadata": {
    "ExecuteTime": {
     "end_time": "2021-03-15T21:08:34.642588Z",
     "start_time": "2021-03-15T21:08:34.601923Z"
    }
   },
   "outputs": [
    {
     "data": {
      "text/html": [
       "<div>\n",
       "<style scoped>\n",
       "    .dataframe tbody tr th:only-of-type {\n",
       "        vertical-align: middle;\n",
       "    }\n",
       "\n",
       "    .dataframe tbody tr th {\n",
       "        vertical-align: top;\n",
       "    }\n",
       "\n",
       "    .dataframe thead th {\n",
       "        text-align: right;\n",
       "    }\n",
       "</style>\n",
       "<table border=\"1\" class=\"dataframe\">\n",
       "  <thead>\n",
       "    <tr style=\"text-align: right;\">\n",
       "      <th></th>\n",
       "      <th>temp</th>\n",
       "      <th>pres</th>\n",
       "      <th>psal</th>\n",
       "    </tr>\n",
       "  </thead>\n",
       "  <tbody>\n",
       "    <tr>\n",
       "      <th>count</th>\n",
       "      <td>105.000000</td>\n",
       "      <td>105.000000</td>\n",
       "      <td>105.000000</td>\n",
       "    </tr>\n",
       "    <tr>\n",
       "      <th>mean</th>\n",
       "      <td>11.579429</td>\n",
       "      <td>794.390476</td>\n",
       "      <td>35.832990</td>\n",
       "    </tr>\n",
       "    <tr>\n",
       "      <th>std</th>\n",
       "      <td>4.726514</td>\n",
       "      <td>655.512828</td>\n",
       "      <td>0.433002</td>\n",
       "    </tr>\n",
       "    <tr>\n",
       "      <th>min</th>\n",
       "      <td>4.053000</td>\n",
       "      <td>6.000000</td>\n",
       "      <td>35.073000</td>\n",
       "    </tr>\n",
       "    <tr>\n",
       "      <th>25%</th>\n",
       "      <td>8.096000</td>\n",
       "      <td>146.000000</td>\n",
       "      <td>35.597000</td>\n",
       "    </tr>\n",
       "    <tr>\n",
       "      <th>50%</th>\n",
       "      <td>10.885000</td>\n",
       "      <td>713.000000</td>\n",
       "      <td>35.765000</td>\n",
       "    </tr>\n",
       "    <tr>\n",
       "      <th>75%</th>\n",
       "      <td>15.750000</td>\n",
       "      <td>1363.000000</td>\n",
       "      <td>36.128000</td>\n",
       "    </tr>\n",
       "    <tr>\n",
       "      <th>max</th>\n",
       "      <td>18.418000</td>\n",
       "      <td>2010.000000</td>\n",
       "      <td>36.504000</td>\n",
       "    </tr>\n",
       "  </tbody>\n",
       "</table>\n",
       "</div>"
      ],
      "text/plain": [
       "             temp         pres        psal\n",
       "count  105.000000   105.000000  105.000000\n",
       "mean    11.579429   794.390476   35.832990\n",
       "std      4.726514   655.512828    0.433002\n",
       "min      4.053000     6.000000   35.073000\n",
       "25%      8.096000   146.000000   35.597000\n",
       "50%     10.885000   713.000000   35.765000\n",
       "75%     15.750000  1363.000000   36.128000\n",
       "max     18.418000  2010.000000   36.504000"
      ]
     },
     "execution_count": 12,
     "metadata": {},
     "output_type": "execute_result"
    }
   ],
   "source": [
    "argo_df['measurements'] = argo_df['measurements'].apply(pd.DataFrame).tolist()\n",
    "\n",
    "# Print statistical summary of the table content:\n",
    "argo_df.iloc[0].measurements.describe()"
   ]
  },
  {
   "cell_type": "markdown",
   "id": "bbc50009",
   "metadata": {},
   "source": [
    "**Plot temperature at the minimum pressure for each profile**\n",
    "\n",
    "This cell applies a lambda over the measurements column to slice the row corresponding to the minimum pressure bin for each profile and returns the corresponding temperature measurement:"
   ]
  },
  {
   "cell_type": "code",
   "execution_count": 13,
   "id": "c1c9f238",
   "metadata": {
    "ExecuteTime": {
     "end_time": "2021-03-15T21:08:35.174348Z",
     "start_time": "2021-03-15T21:08:34.982114Z"
    }
   },
   "outputs": [
    {
     "data": {
      "image/png": "[encoded data removed]",
      "text/plain": [
       "<Figure size 1152x288 with 1 Axes>"
      ]
     },
     "metadata": {
      "needs_background": "light"
     },
     "output_type": "display_data"
    }
   ],
   "source": [
    "def _get_prof_temp_at_pres_min(x):\n",
    "    return x[x['pres']==x['pres'].min()]['temp'].item()\n",
    "\n",
    "# Apply the fuunction over the column of measurements tables\n",
    "argo_df['temp_at_pres_min'] = argo_df['measurements'].apply(_get_prof_temp_at_pres_min).tolist()\n",
    "\n",
    "# Plot temperature measured nearest to the sea surface for each profile \n",
    "argo_df.plot.scatter(x=\"datetime\", y=\"temp_at_pres_min\", figsize=(16, 4))\n",
    "plt.title(\"~Daily temperature at minimum pressure across ~40 argo profiles\")\n",
    "plt.xlabel(None)\n",
    "plt.ylabel(\"Temperature (degrees C)\")\n",
    "plt.ylim(15.5, 20.5)\n",
    "plt.grid(alpha=0.25)"
   ]
  },
  {
   "cell_type": "markdown",
   "id": "b083eda7",
   "metadata": {},
   "source": [
    "#### Select an *Argo of Interest* and its *platform_number*\n",
    "\n",
    "See which floats had the most profiles within our timeframe/area of interest:"
   ]
  },
  {
   "cell_type": "code",
   "execution_count": 14,
   "id": "126063dc",
   "metadata": {
    "ExecuteTime": {
     "end_time": "2021-03-15T21:08:35.489461Z",
     "start_time": "2021-03-15T21:08:35.482988Z"
    }
   },
   "outputs": [
    {
     "data": {
      "text/plain": [
       "platform_number\n",
       "1901688    6\n",
       "3901643    3\n",
       "3901932    3\n",
       "3901942    3\n",
       "6901143    3\n",
       "6901260    6\n",
       "6901262    3\n",
       "6901273    3\n",
       "6902552    3\n",
       "6902663    3\n",
       "6902664    3\n",
       "6902785    2\n",
       "Name: cycle_number, dtype: int64"
      ]
     },
     "execution_count": 14,
     "metadata": {},
     "output_type": "execute_result"
    }
   ],
   "source": [
    "argo_df.groupby(\"platform_number\").count()['cycle_number']"
   ]
  },
  {
   "cell_type": "markdown",
   "id": "e49494f6",
   "metadata": {},
   "source": [
    "Choose a float with six profiles to study further during the remainder of the notebook."
   ]
  },
  {
   "cell_type": "code",
   "execution_count": 15,
   "id": "64ab8834",
   "metadata": {
    "ExecuteTime": {
     "end_time": "2021-03-15T21:08:35.960685Z",
     "start_time": "2021-03-15T21:08:35.918266Z"
    }
   },
   "outputs": [
    {
     "data": {
      "text/html": [
       "<div>\n",
       "<style scoped>\n",
       "    .dataframe tbody tr th:only-of-type {\n",
       "        vertical-align: middle;\n",
       "    }\n",
       "\n",
       "    .dataframe tbody tr th {\n",
       "        vertical-align: top;\n",
       "    }\n",
       "\n",
       "    .dataframe thead th {\n",
       "        text-align: right;\n",
       "    }\n",
       "</style>\n",
       "<table border=\"1\" class=\"dataframe\">\n",
       "  <thead>\n",
       "    <tr style=\"text-align: right;\">\n",
       "      <th></th>\n",
       "      <th>pres_max_for_TEMP</th>\n",
       "      <th>pres_min_for_TEMP</th>\n",
       "      <th>pres_max_for_PSAL</th>\n",
       "      <th>pres_min_for_PSAL</th>\n",
       "      <th>max_pres</th>\n",
       "      <th>date_qc</th>\n",
       "      <th>lat</th>\n",
       "      <th>lon</th>\n",
       "      <th>position_qc</th>\n",
       "      <th>cycle_number</th>\n",
       "      <th>platform_number</th>\n",
       "      <th>BASIN</th>\n",
       "      <th>temp_at_pres_min</th>\n",
       "    </tr>\n",
       "  </thead>\n",
       "  <tbody>\n",
       "    <tr>\n",
       "      <th>count</th>\n",
       "      <td>6.000000</td>\n",
       "      <td>6.0</td>\n",
       "      <td>6.000000</td>\n",
       "      <td>6.0</td>\n",
       "      <td>6.000000</td>\n",
       "      <td>6.0</td>\n",
       "      <td>6.000000</td>\n",
       "      <td>6.000000</td>\n",
       "      <td>6.0</td>\n",
       "      <td>6.000000</td>\n",
       "      <td>6.0</td>\n",
       "      <td>6.0</td>\n",
       "      <td>6.000000</td>\n",
       "    </tr>\n",
       "    <tr>\n",
       "      <th>mean</th>\n",
       "      <td>1992.666667</td>\n",
       "      <td>6.0</td>\n",
       "      <td>1992.666667</td>\n",
       "      <td>6.0</td>\n",
       "      <td>1992.666667</td>\n",
       "      <td>1.0</td>\n",
       "      <td>38.131167</td>\n",
       "      <td>-13.030667</td>\n",
       "      <td>1.0</td>\n",
       "      <td>51.500000</td>\n",
       "      <td>6901260.0</td>\n",
       "      <td>1.0</td>\n",
       "      <td>16.921000</td>\n",
       "    </tr>\n",
       "    <tr>\n",
       "      <th>std</th>\n",
       "      <td>21.500388</td>\n",
       "      <td>0.0</td>\n",
       "      <td>21.500388</td>\n",
       "      <td>0.0</td>\n",
       "      <td>21.500388</td>\n",
       "      <td>0.0</td>\n",
       "      <td>0.297238</td>\n",
       "      <td>0.168997</td>\n",
       "      <td>0.0</td>\n",
       "      <td>1.870829</td>\n",
       "      <td>0.0</td>\n",
       "      <td>0.0</td>\n",
       "      <td>0.495337</td>\n",
       "    </tr>\n",
       "    <tr>\n",
       "      <th>min</th>\n",
       "      <td>1961.000000</td>\n",
       "      <td>6.0</td>\n",
       "      <td>1961.000000</td>\n",
       "      <td>6.0</td>\n",
       "      <td>1961.000000</td>\n",
       "      <td>1.0</td>\n",
       "      <td>37.707000</td>\n",
       "      <td>-13.265000</td>\n",
       "      <td>1.0</td>\n",
       "      <td>49.000000</td>\n",
       "      <td>6901260.0</td>\n",
       "      <td>1.0</td>\n",
       "      <td>16.153000</td>\n",
       "    </tr>\n",
       "    <tr>\n",
       "      <th>25%</th>\n",
       "      <td>1980.500000</td>\n",
       "      <td>6.0</td>\n",
       "      <td>1980.500000</td>\n",
       "      <td>6.0</td>\n",
       "      <td>1980.500000</td>\n",
       "      <td>1.0</td>\n",
       "      <td>37.940500</td>\n",
       "      <td>-13.132500</td>\n",
       "      <td>1.0</td>\n",
       "      <td>50.250000</td>\n",
       "      <td>6901260.0</td>\n",
       "      <td>1.0</td>\n",
       "      <td>16.643250</td>\n",
       "    </tr>\n",
       "    <tr>\n",
       "      <th>50%</th>\n",
       "      <td>1994.500000</td>\n",
       "      <td>6.0</td>\n",
       "      <td>1994.500000</td>\n",
       "      <td>6.0</td>\n",
       "      <td>1994.500000</td>\n",
       "      <td>1.0</td>\n",
       "      <td>38.156500</td>\n",
       "      <td>-13.037000</td>\n",
       "      <td>1.0</td>\n",
       "      <td>51.500000</td>\n",
       "      <td>6901260.0</td>\n",
       "      <td>1.0</td>\n",
       "      <td>17.014000</td>\n",
       "    </tr>\n",
       "    <tr>\n",
       "      <th>75%</th>\n",
       "      <td>2010.750000</td>\n",
       "      <td>6.0</td>\n",
       "      <td>2010.750000</td>\n",
       "      <td>6.0</td>\n",
       "      <td>2010.750000</td>\n",
       "      <td>1.0</td>\n",
       "      <td>38.350000</td>\n",
       "      <td>-12.910750</td>\n",
       "      <td>1.0</td>\n",
       "      <td>52.750000</td>\n",
       "      <td>6901260.0</td>\n",
       "      <td>1.0</td>\n",
       "      <td>17.263250</td>\n",
       "    </tr>\n",
       "    <tr>\n",
       "      <th>max</th>\n",
       "      <td>2014.000000</td>\n",
       "      <td>6.0</td>\n",
       "      <td>2014.000000</td>\n",
       "      <td>6.0</td>\n",
       "      <td>2014.000000</td>\n",
       "      <td>1.0</td>\n",
       "      <td>38.484000</td>\n",
       "      <td>-12.812000</td>\n",
       "      <td>1.0</td>\n",
       "      <td>54.000000</td>\n",
       "      <td>6901260.0</td>\n",
       "      <td>1.0</td>\n",
       "      <td>17.479000</td>\n",
       "    </tr>\n",
       "  </tbody>\n",
       "</table>\n",
       "</div>"
      ],
      "text/plain": [
       "       pres_max_for_TEMP  pres_min_for_TEMP  pres_max_for_PSAL  \\\n",
       "count           6.000000                6.0           6.000000   \n",
       "mean         1992.666667                6.0        1992.666667   \n",
       "std            21.500388                0.0          21.500388   \n",
       "min          1961.000000                6.0        1961.000000   \n",
       "25%          1980.500000                6.0        1980.500000   \n",
       "50%          1994.500000                6.0        1994.500000   \n",
       "75%          2010.750000                6.0        2010.750000   \n",
       "max          2014.000000                6.0        2014.000000   \n",
       "\n",
       "       pres_min_for_PSAL     max_pres  date_qc        lat        lon  \\\n",
       "count                6.0     6.000000      6.0   6.000000   6.000000   \n",
       "mean                 6.0  1992.666667      1.0  38.131167 -13.030667   \n",
       "std                  0.0    21.500388      0.0   0.297238   0.168997   \n",
       "min                  6.0  1961.000000      1.0  37.707000 -13.265000   \n",
       "25%                  6.0  1980.500000      1.0  37.940500 -13.132500   \n",
       "50%                  6.0  1994.500000      1.0  38.156500 -13.037000   \n",
       "75%                  6.0  2010.750000      1.0  38.350000 -12.910750   \n",
       "max                  6.0  2014.000000      1.0  38.484000 -12.812000   \n",
       "\n",
       "       position_qc  cycle_number  platform_number  BASIN  temp_at_pres_min  \n",
       "count          6.0      6.000000              6.0    6.0          6.000000  \n",
       "mean           1.0     51.500000        6901260.0    1.0         16.921000  \n",
       "std            0.0      1.870829              0.0    0.0          0.495337  \n",
       "min            1.0     49.000000        6901260.0    1.0         16.153000  \n",
       "25%            1.0     50.250000        6901260.0    1.0         16.643250  \n",
       "50%            1.0     51.500000        6901260.0    1.0         17.014000  \n",
       "75%            1.0     52.750000        6901260.0    1.0         17.263250  \n",
       "max            1.0     54.000000        6901260.0    1.0         17.479000  "
      ]
     },
     "execution_count": 15,
     "metadata": {},
     "output_type": "execute_result"
    }
   ],
   "source": [
    "target_argo = 6901260\n",
    "\n",
    "# Select rows (profiles) for the desired platform:\n",
    "argo_skinny = argo_df[argo_df.platform_number==target_argo].copy()\n",
    "\n",
    "argo_skinny.describe()"
   ]
  },
  {
   "cell_type": "markdown",
   "id": "9e5d9a0b",
   "metadata": {},
   "source": [
    "## Access *sea surface temperature* from MODIS\n",
    "\n",
    "The user guide for MODIS Level 2 Sea Surface Temperature (SST) from GHRSST is available on the PO.DAAC Drive: https://podaac-tools.jpl.nasa.gov/drive/files/OceanTemperature/ghrsst/docs/GDS20r5.pdf\n",
    "\n",
    "We will access L2 SST data for our AOI and time period of interest by submitting two subset requests to the [Harmony API](https://harmony.earthdata.nasa.gov/).\n",
    "\n",
    "**Redefine the AOI to the minimum XY bounds of selected profiles**\n",
    "\n",
    "Simply replace the *`aoi_*`* Python variables with min/max of the *lat* and *lon* columns in the new *argo_skinny* data frame:"
   ]
  },
  {
   "cell_type": "code",
   "execution_count": 16,
   "id": "27f8a42a",
   "metadata": {
    "ExecuteTime": {
     "end_time": "2021-03-15T21:08:36.313559Z",
     "start_time": "2021-03-15T21:08:36.308456Z"
    }
   },
   "outputs": [
    {
     "data": {
      "text/plain": [
       "(-13.265, 37.707, -12.812, 38.484)"
      ]
     },
     "execution_count": 16,
     "metadata": {},
     "output_type": "execute_result"
    }
   ],
   "source": [
    "aoi_minlon = argo_skinny.lon.min()\n",
    "aoi_maxlon = argo_skinny.lon.max()\n",
    "aoi_minlat = argo_skinny.lat.min()\n",
    "aoi_maxlat = argo_skinny.lat.max()\n",
    "\n",
    "aoi_minlon, aoi_minlat, aoi_maxlon, aoi_maxlat"
   ]
  },
  {
   "cell_type": "markdown",
   "id": "f32c077d",
   "metadata": {},
   "source": [
    "**Search the Common Metadata Repository (CMR) for its unique *concept-id***\n",
    "\n",
    "The API requires a dataset identifier that we must obtain from CMR. In the next cell, submit a request to the CMR API to grab the metadata for to the dataset/collection."
   ]
  },
  {
   "cell_type": "code",
   "execution_count": 17,
   "id": "37c311c2",
   "metadata": {
    "ExecuteTime": {
     "end_time": "2021-03-15T21:08:37.076361Z",
     "start_time": "2021-03-15T21:08:36.696876Z"
    }
   },
   "outputs": [
    {
     "data": {
      "text/plain": [
       "'C1940473819-POCLOUD'"
      ]
     },
     "execution_count": 17,
     "metadata": {},
     "output_type": "execute_result"
    }
   ],
   "source": [
    "modis_results = requests.get(\n",
    "    url='https://cmr.earthdata.nasa.gov/search/collections.umm_json', \n",
    "    params={'provider': \"POCLOUD\",\n",
    "            'ShortName': \"MODIS_A-JPL-L2P-v2019.0\",\n",
    "            'token': _token}\n",
    ").json()\n",
    "\n",
    "# Select the first/only record in the JSON response:\n",
    "modis_coll = modis_results['items'][0]\n",
    "\n",
    "# Select the 'concept-id' from the 'meta' dictionary:\n",
    "modis_ccid = modis_coll['meta']['concept-id']\n",
    "\n",
    "modis_ccid"
   ]
  },
  {
   "cell_type": "markdown",
   "id": "4c0df2d5",
   "metadata": {},
   "source": [
    "#### Request subsets from the Harmony API\n",
    "\n",
    "We will submit two requests to the [Harmony API](https://harmony.earthdata.nasa.gov/). The API is under active development, and it's therefore recommended that you test your input parameters in the [Swagger API interface](https://harmony.earthdata.nasa.gov/docs/api/#).\n",
    "\n",
    "The next cell joins the base url for the API to the concept-id obtained above. Run the cell and print the complete url to confirm:"
   ]
  },
  {
   "cell_type": "code",
   "execution_count": 18,
   "id": "ef7543ce",
   "metadata": {
    "ExecuteTime": {
     "end_time": "2021-03-15T21:08:37.123308Z",
     "start_time": "2021-03-15T21:08:37.120604Z"
    }
   },
   "outputs": [
    {
     "name": "stdout",
     "output_type": "stream",
     "text": [
      "https://harmony.earthdata.nasa.gov/C1940473819-POCLOUD/ogc-api-coverages/1.0.0/collections/all/coverage/rangeset?\n"
     ]
    }
   ],
   "source": [
    "harmony_url = \"https://harmony.earthdata.nasa.gov\"\n",
    "harmony_url_modis = f\"{harmony_url}/{modis_ccid}/ogc-api-coverages/1.0.0/collections/all/coverage/rangeset?\"\n",
    "\n",
    "print(harmony_url_modis)"
   ]
  },
  {
   "cell_type": "markdown",
   "id": "eadb8f20",
   "metadata": {},
   "source": [
    "Make a dictionary of subset parameters and format the values to meet requirements of the Harmony API. (See the Swagger UI linked above for more information about those requirements.)\n",
    "\n",
    "*Note how I've commented out the `time` parameter for the second half of January.* I requested the first 15 days and then the second 15 days in two requests to get the whole month. \n",
    "\n",
    "Here we print the parameters for the first request:"
   ]
  },
  {
   "cell_type": "code",
   "execution_count": 19,
   "id": "6acf2802",
   "metadata": {
    "ExecuteTime": {
     "end_time": "2021-03-15T21:08:37.941220Z",
     "start_time": "2021-03-15T21:08:37.937601Z"
    }
   },
   "outputs": [
    {
     "data": {
      "text/plain": [
       "{'time': '(\"2019-01-01T00:00:00.000Z\":\"2019-01-15T23:59:59.999Z\")',\n",
       " 'lat': '(37.707:38.484)',\n",
       " 'lon': '(-13.265:-12.812)'}"
      ]
     },
     "execution_count": 19,
     "metadata": {},
     "output_type": "execute_result"
    }
   ],
   "source": [
    "harmony_params_modis1 = {\n",
    "    'time': f'(\"{start_date}T00:00:00.000Z\":\"2019-01-15T23:59:59.999Z\")',\n",
    "    'lat': f'({aoi_minlat}:{aoi_maxlat})',\n",
    "    'lon': f'({aoi_minlon}:{aoi_maxlon})',\n",
    "}\n",
    "\n",
    "harmony_params_modis2 = {\n",
    "    'time': f'(\"2019-01-16T00:00:00.000Z\":\"{end_date}T23:59:59.999Z\")',\n",
    "    'lat': f'({aoi_minlat}:{aoi_maxlat})',\n",
    "    'lon': f'({aoi_minlon}:{aoi_maxlon})',\n",
    "}\n",
    "\n",
    "harmony_params_modis1"
   ]
  },
  {
   "cell_type": "markdown",
   "id": "81d6515d",
   "metadata": {},
   "source": [
    "Complete the url by formatting the query portion using the parameters dictionary:"
   ]
  },
  {
   "cell_type": "code",
   "execution_count": 20,
   "id": "94d4f4ef",
   "metadata": {
    "ExecuteTime": {
     "end_time": "2021-03-15T21:08:38.639105Z",
     "start_time": "2021-03-15T21:08:38.636070Z"
    }
   },
   "outputs": [
    {
     "name": "stdout",
     "output_type": "stream",
     "text": [
      "https://harmony.earthdata.nasa.gov/C1940473819-POCLOUD/ogc-api-coverages/1.0.0/collections/all/coverage/rangeset?subset=time(\"2019-01-01T00:00:00.000Z\":\"2019-01-15T23:59:59.999Z\")&subset=lat(37.707:38.484)&subset=lon(-13.265:-12.812)\n"
     ]
    }
   ],
   "source": [
    "request_url_modis1 = harmony_url_modis+\"subset=time{time}&subset=lat{lat}&subset=lon{lon}\".format(**harmony_params_modis1)\n",
    "request_url_modis2 = harmony_url_modis+\"subset=time{time}&subset=lat{lat}&subset=lon{lon}\".format(**harmony_params_modis2)\n",
    "\n",
    "print(request_url_modis1)"
   ]
  },
  {
   "cell_type": "markdown",
   "id": "aa836ffe",
   "metadata": {},
   "source": [
    "#### Submit the request parameters to the Harmony API endpoint\n",
    "\n",
    "I've already submitted the two requests required to obtain full coverage for our region and timeframe of interest (the two urls in the *job_status* list below). To submit a new request, or to submit these two MODIS requests again, comment out the two items in the list like this:\n",
    "\n",
    "```python\n",
    "job_status = [\n",
    "    #'https://...'\n",
    "    #'https://...\n",
    "]\n",
    "```\n",
    "\n",
    "It should trigger new requests in the subsequent cells."
   ]
  },
  {
   "cell_type": "code",
   "execution_count": 21,
   "id": "93127bbd",
   "metadata": {
    "ExecuteTime": {
     "end_time": "2021-03-15T21:08:39.787125Z",
     "start_time": "2021-03-15T21:08:39.784692Z"
    }
   },
   "outputs": [],
   "source": [
    "job_status = [    \n",
    "#    \"https://harmony.earthdata.nasa.gov/jobs/512ca343-3bfe-48c5-a480-9281b7348761\",  # First time slice\n",
    "#    \"https://harmony.earthdata.nasa.gov/jobs/5b29414d-3856-4e94-9568-01b32b02a951\",  # Second time slice\n",
    "]"
   ]
  },
  {
   "cell_type": "markdown",
   "id": "325aed19",
   "metadata": {},
   "source": [
    "The next cell should download a JSON for your new request or from the first request that I submitted while I developed this notebook.\n",
    "\n",
    "Print the message field of the JSON response:"
   ]
  },
  {
   "cell_type": "code",
   "execution_count": 22,
   "id": "30065bff",
   "metadata": {
    "ExecuteTime": {
     "end_time": "2021-03-15T21:08:46.407504Z",
     "start_time": "2021-03-15T21:08:40.543604Z"
    }
   },
   "outputs": [
    {
     "data": {
      "text/plain": [
       "'The job is being processed'"
      ]
     },
     "execution_count": 22,
     "metadata": {},
     "output_type": "execute_result"
    }
   ],
   "source": [
    "request_urls_for_modis = [request_url_modis1, request_url_modis2]\n",
    "\n",
    "if len(job_status)==0:\n",
    "    # Loop over the list of request urls:\n",
    "    for r in request_urls_for_modis:\n",
    "        # Submit the request and decode the response from json string to dict:\n",
    "        response_modis = requests.get(r)\n",
    "        # If the response came back with something other than '2xx', raise an error:\n",
    "        if not response_modis.status_code // 100 == 2: \n",
    "            raise Exception(response_modis.text)\n",
    "        else:\n",
    "            response_data = response_modis.json()\n",
    "        # Append the status endpoint to the list of 'job_status' urls:\n",
    "        job_status.append(response_data['links'][0]['href'])\n",
    "else:\n",
    "    response_data = requests.get(job_status[0]).json()\n",
    "\n",
    "response_data['message']"
   ]
  },
  {
   "cell_type": "markdown",
   "id": "a2c43e48",
   "metadata": {},
   "source": [
    "Successful requests to the API will respond with a JSON that starts like this:\n",
    "\n",
    "```json\n",
    "{\n",
    "  \"username\": \"jmcnelis\",\n",
    "  \"status\": \"running\",\n",
    "  \"message\": \"The job is being processed\",\n",
    "  \"progress\": 0,\n",
    "  \"createdAt\": \"2021-02-25T02:09:35.972Z\",\n",
    "  \"updatedAt\": \"2021-02-25T02:09:35.972Z\",\n",
    "    ...\n",
    "```\n",
    "\n",
    "The example above is truncated to the first several lines for the sake of space.\n",
    "\n",
    "**Monitor the status of an in-progress job**\n",
    "\n",
    "Select the `status` URL(s) from the list(s) of `links`:"
   ]
  },
  {
   "cell_type": "code",
   "execution_count": 23,
   "id": "7d448c68",
   "metadata": {
    "ExecuteTime": {
     "end_time": "2021-03-15T21:08:49.362801Z",
     "start_time": "2021-03-15T21:08:49.359356Z"
    }
   },
   "outputs": [
    {
     "name": "stdout",
     "output_type": "stream",
     "text": [
      "['https://harmony.earthdata.nasa.gov/jobs/558426d1-3df4-4cc2-80dc-943d03ac5810', 'https://harmony.earthdata.nasa.gov/jobs/dafd8c06-89b5-4dd6-af1d-cacb12512101']\n"
     ]
    }
   ],
   "source": [
    "if len(job_status)==0:\n",
    "    try:\n",
    "        job_status = [l['href'] for l in response_data['links'] if l['title']==\"Job Status\"]\n",
    "    except (KeyError, IndexError) as e:\n",
    "        raise e\n",
    "\n",
    "print(job_status)"
   ]
  },
  {
   "cell_type": "markdown",
   "id": "7a3920e4",
   "metadata": {},
   "source": [
    "Run the next cell to monitor the status of as many requests as you need.\n",
    "\n",
    "It will loop over the `job_status` list and wait for all the requests to finish processing. (It terminates when the `status` field of the JSON response _does not_ contain the string `\"running\"`.)"
   ]
  },
  {
   "cell_type": "code",
   "execution_count": 24,
   "id": "748fd266",
   "metadata": {
    "ExecuteTime": {
     "end_time": "2021-03-15T21:11:02.192779Z",
     "start_time": "2021-03-15T21:09:06.021432Z"
    }
   },
   "outputs": [
    {
     "name": "stdout",
     "output_type": "stream",
     "text": [
      "# Job(s) in progress (1/2)\n",
      "# Job(s) in progress (1/2)\n",
      "# Job(s) in progress (1/2)\n",
      "# Job(s) in progress (1/2)\n",
      "# Job(s) in progress (1/2)\n",
      "# Job(s) in progress (1/2)\n",
      "# Job(s) in progress (1/2)\n",
      "# Job(s) in progress (1/2)\n",
      "# Job(s) in progress (2/2)\n",
      "\n",
      "&&&&&&&&&&&&&&&&&&&&&&&&&&&&&&&&&&&&&&&&\n",
      "%\t\tDONE!\n",
      "&&&&&&&&&&&&&&&&&&&&&&&&&&&&&&&&&&&&&&&&\n",
      "\n"
     ]
    }
   ],
   "source": [
    "wait = 10       # The number of seconds to wait between each status check\n",
    "completed = {}  # A dict of JSON responses for completed jobs\n",
    "\n",
    "# Loop repeatedly to check job status. Wait before retrying.\n",
    "while True:\n",
    "    for j in job_status:  # Iterate over list of job urls\n",
    "        if j in completed:  # Skip if completed.\n",
    "            continue\n",
    "        # Get the current job's status as a JSON object.\n",
    "        job_data = requests.get(j).json()\n",
    "        if job_data['status']!='running':\n",
    "            completed[j] = job_data  # Add to 'completed' if finished\n",
    "    # Break loop if 'completed' dictionary contains all jobs.\n",
    "    if len(completed)==2:\n",
    "        break\n",
    "    # If still processing, print a status update and wait ten seconds.\n",
    "    print(f\"# Job(s) in progress ({len(completed)+1}/{len(job_status)})\")\n",
    "    time.sleep(wait)\n",
    "    \n",
    "print(f\"\\n{'&'*40}\\n%\\t\\tDONE!\\n{'&'*40}\\n\")"
   ]
  },
  {
   "cell_type": "markdown",
   "id": "d5a1f056",
   "metadata": {},
   "source": [
    "The final response(s) are *massive* whenever your subset results in a large number of output granules. Print everything but the `links` here:"
   ]
  },
  {
   "cell_type": "code",
   "execution_count": 25,
   "id": "a01a165f",
   "metadata": {
    "ExecuteTime": {
     "end_time": "2021-03-15T21:11:18.825910Z",
     "start_time": "2021-03-15T21:11:18.822802Z"
    }
   },
   "outputs": [
    {
     "name": "stdout",
     "output_type": "stream",
     "text": [
      "{\n",
      "  \"username\": \"jmcnelis\",\n",
      "  \"status\": \"successful\",\n",
      "  \"message\": \"The job has completed successfully\",\n",
      "  \"progress\": 100,\n",
      "  \"createdAt\": \"2021-03-15T21:08:45.844Z\",\n",
      "  \"updatedAt\": \"2021-03-15T21:10:51.310Z\",\n",
      "  \"request\": \"https://harmony.earthdata.nasa.gov/C1940473819-POCLOUD/ogc-api-coverages/1.0.0/collections/all/coverage/rangeset?subset=time(%222019-01-16T00%3A00%3A00.000Z%22%3A%222019-01-31T23%3A59%3A59.999Z%22)&subset=lat(37.707%3A38.484)&subset=lon(-13.265%3A-12.812)\",\n",
      "  \"numInputGranules\": 55,\n",
      "  \"jobID\": \"dafd8c06-89b5-4dd6-af1d-cacb12512101\"\n",
      "}\n"
     ]
    }
   ],
   "source": [
    "print(json.dumps({k:v for k, v in job_data.items() if k!=\"links\"}, indent=2))"
   ]
  },
  {
   "cell_type": "markdown",
   "id": "c1a93637",
   "metadata": {},
   "source": [
    "Now look at the first url that points to a subset file (skip the first two because they point to other stuff about the order):"
   ]
  },
  {
   "cell_type": "code",
   "execution_count": 26,
   "id": "1ff9ce4e",
   "metadata": {
    "ExecuteTime": {
     "end_time": "2021-03-15T21:11:23.520484Z",
     "start_time": "2021-03-15T21:11:23.518083Z"
    }
   },
   "outputs": [
    {
     "name": "stdout",
     "output_type": "stream",
     "text": [
      "{\n",
      "  \"href\": \"https://harmony.earthdata.nasa.gov/service-results/harmony-prod-staging/public/podaac/l2-subsetter/80c8503e-c958-4825-b072-ccdee3f7863b/20190116023001-JPL-L2P_GHRSST-SSTskin-MODIS_A-N-v02.0-fv01.0_subsetted.nc4\",\n",
      "  \"title\": \"20190116023001-JPL-L2P_GHRSST-SSTskin-MODIS_A-N-v02.0-fv01.0_subsetted.nc4\",\n",
      "  \"type\": \"application/x-netcdf4\",\n",
      "  \"rel\": \"data\",\n",
      "  \"bbox\": [\n",
      "    -13.3,\n",
      "    37.7,\n",
      "    -12.8,\n",
      "    38.5\n",
      "  ],\n",
      "  \"temporal\": {\n",
      "    \"start\": \"2019-01-16T02:30:01.000Z\",\n",
      "    \"end\": \"2019-01-16T02:34:59.000Z\"\n",
      "  }\n",
      "}\n"
     ]
    }
   ],
   "source": [
    "print(json.dumps(job_data['links'][2], indent=2))"
   ]
  },
  {
   "cell_type": "markdown",
   "id": "40443986",
   "metadata": {},
   "source": [
    "This cell collects all the output links (Python dicts) from our requests in a list and prints the total number of outputs:"
   ]
  },
  {
   "cell_type": "code",
   "execution_count": 27,
   "id": "707c97f6",
   "metadata": {
    "ExecuteTime": {
     "end_time": "2021-03-15T21:11:27.735502Z",
     "start_time": "2021-03-15T21:11:27.732640Z"
    }
   },
   "outputs": [
    {
     "name": "stdout",
     "output_type": "stream",
     "text": [
      "74\n"
     ]
    }
   ],
   "source": [
    "job_links = []\n",
    "\n",
    "for j in list(completed.values()):\n",
    "    for l in j['links']:\n",
    "        if l['href'].endswith(\"subsetted.nc4\"):\n",
    "            job_links.append(l)\n",
    "\n",
    "print(len(job_links))"
   ]
  },
  {
   "cell_type": "markdown",
   "id": "5fe606d6",
   "metadata": {},
   "source": [
    "##### Prepare subset data for further analysis\n",
    "\n",
    "Get the subset metadata as `pandas.DataFrame`. We can use *apply* logic to calculate stats over the time series in subsequent steps. Print the number of rows to confirm. (Should match above)"
   ]
  },
  {
   "cell_type": "code",
   "execution_count": 28,
   "id": "daf340b7",
   "metadata": {
    "ExecuteTime": {
     "end_time": "2021-03-15T21:11:28.814911Z",
     "start_time": "2021-03-15T21:11:28.811051Z"
    }
   },
   "outputs": [
    {
     "name": "stdout",
     "output_type": "stream",
     "text": [
      "74\n"
     ]
    }
   ],
   "source": [
    "subsets_df = pd.DataFrame(data=[{**l, **l['temporal']} for l in job_links])\n",
    "\n",
    "print(subsets_df.index.size)"
   ]
  },
  {
   "cell_type": "markdown",
   "id": "df28a78e",
   "metadata": {},
   "source": [
    "**Select day/drop night observations**\n",
    "\n",
    "Add a day/night flag column to the table. Apply a function over the `href` column to check the source filename for a string indicating day/night for the swath:"
   ]
  },
  {
   "cell_type": "code",
   "execution_count": 29,
   "id": "c407369d",
   "metadata": {
    "ExecuteTime": {
     "end_time": "2021-03-15T21:11:29.427130Z",
     "start_time": "2021-03-15T21:11:29.416076Z"
    }
   },
   "outputs": [
    {
     "name": "stdout",
     "output_type": "stream",
     "text": [
      "<class 'pandas.core.frame.DataFrame'>\n",
      "RangeIndex: 74 entries, 0 to 73\n",
      "Data columns (total 9 columns):\n",
      " #   Column    Non-Null Count  Dtype \n",
      "---  ------    --------------  ----- \n",
      " 0   href      74 non-null     object\n",
      " 1   title     74 non-null     object\n",
      " 2   type      74 non-null     object\n",
      " 3   rel       74 non-null     object\n",
      " 4   bbox      74 non-null     object\n",
      " 5   temporal  74 non-null     object\n",
      " 6   start     74 non-null     object\n",
      " 7   end       74 non-null     object\n",
      " 8   daytime   74 non-null     bool  \n",
      "dtypes: bool(1), object(8)\n",
      "memory usage: 4.8+ KB\n"
     ]
    }
   ],
   "source": [
    "subsets_df['daytime'] = subsets_df['href'].apply(lambda x: 'MODIS_A-N' not in x)\n",
    "\n",
    "subsets_df.info()"
   ]
  },
  {
   "cell_type": "markdown",
   "id": "9cb62b1f",
   "metadata": {},
   "source": [
    "And finally, reformat the *start* timestamps as a new column containing pandas datetime objects instead of strings. Then, add one more column containing a date object (rather than the full datetime timestamp) which we'll use to aggregate the data before plotting."
   ]
  },
  {
   "cell_type": "code",
   "execution_count": 30,
   "id": "a4fadd5f",
   "metadata": {
    "ExecuteTime": {
     "end_time": "2021-03-15T21:11:30.052517Z",
     "start_time": "2021-03-15T21:11:30.046937Z"
    }
   },
   "outputs": [
    {
     "data": {
      "text/plain": [
       "datetime.date(2019, 1, 1)"
      ]
     },
     "execution_count": 30,
     "metadata": {},
     "output_type": "execute_result"
    }
   ],
   "source": [
    "# Add new 'datetime' column so that we aren't working with strings:\n",
    "subsets_df['datetime'] = pd.to_datetime(subsets_df['start'])\n",
    "\n",
    "# Add new 'date' column for aggregation during the final steps of the workflow:\n",
    "subsets_df['date'] = subsets_df.datetime.apply(lambda x: x.date()).tolist()\n",
    "\n",
    "subsets_df.date.iloc[0]"
   ]
  },
  {
   "cell_type": "markdown",
   "id": "7db22698",
   "metadata": {},
   "source": [
    "### Accessing outputs from your subset request\n",
    "\n",
    "Now we will download all the netCDF subsets to the local workspace. (I'm inside AWS as I develop this ipynb.) Set a target directory and create it if needed:"
   ]
  },
  {
   "cell_type": "code",
   "execution_count": 31,
   "id": "4534601f",
   "metadata": {
    "ExecuteTime": {
     "end_time": "2021-03-15T21:11:30.530313Z",
     "start_time": "2021-03-15T21:11:30.400937Z"
    }
   },
   "outputs": [],
   "source": [
    "target_dir = f\"resources/data/\"\n",
    "\n",
    "!mkdir -p $target_dir"
   ]
  },
  {
   "cell_type": "markdown",
   "id": "117803b4",
   "metadata": {},
   "source": [
    "This function should handle downloads reliably--test by downloading the first netCDF subset from our table (*subsets_df*):"
   ]
  },
  {
   "cell_type": "code",
   "execution_count": 32,
   "id": "54084bfc",
   "metadata": {
    "ExecuteTime": {
     "end_time": "2021-03-15T21:11:30.749873Z",
     "start_time": "2021-03-15T21:11:30.742862Z"
    }
   },
   "outputs": [
    {
     "name": "stdout",
     "output_type": "stream",
     "text": [
      "# File already exists. Skipping...\n",
      "(20190101031001-JPL-L2P_GHRSST-SSTskin-MODIS_A-N-v02.0-fv01.0_subsetted.nc4)\n",
      "\n",
      "The first file downloaded successfully: True\n"
     ]
    }
   ],
   "source": [
    "def download_target_file(url: str, force: bool=False):\n",
    "    # Determine the target path for the download\n",
    "    target_file = join(target_dir, basename(url))\n",
    "    if isfile(target_file) and force is False:\n",
    "        print(f\"# File already exists. Skipping...\\n({basename(url)})\\n\")\n",
    "        return\n",
    "    print(f\"# File downloading...\\n({basename(url)})\\n\")\n",
    "    # Open a remote connection for download stream/write to disk:\n",
    "    with requests.get(url) as r:\n",
    "        # Raise exception if response has status other than '2xx':\n",
    "        if not r.status_code // 100 == 2: \n",
    "            raise Exception(r.text)\n",
    "        else:\n",
    "            # Otherwise write the file to disk:\n",
    "            with open(target_file, 'wb') as f:\n",
    "                for chunk in r.iter_content(chunk_size=1024):\n",
    "                    if chunk:\n",
    "                        f.write(chunk)\n",
    "                        \n",
    "\n",
    "# Test the download function by passing the URL for the first subset in the `subsets` table:\n",
    "download_target_file(url=subsets_df['href'].iloc[0])\n",
    "\n",
    "# Join the string path to the target file that should have just downloaded.\n",
    "test_nc4 = join(target_dir, basename(subsets_df['href'].iloc[0]))\n",
    "\n",
    "print(\"The first file downloaded successfully:\", isfile(test_nc4))"
   ]
  },
  {
   "cell_type": "markdown",
   "id": "6669db14",
   "metadata": {},
   "source": [
    "Make sure you can dump the header of that file with *ncdump*. (The output below is truncated.)"
   ]
  },
  {
   "cell_type": "code",
   "execution_count": 33,
   "id": "3d2f7828",
   "metadata": {
    "ExecuteTime": {
     "end_time": "2021-03-15T21:11:31.255051Z",
     "start_time": "2021-03-15T21:11:31.087563Z"
    }
   },
   "outputs": [
    {
     "name": "stdout",
     "output_type": "stream",
     "text": [
      "netcdf \\20190101031001-JPL-L2P_GHRSST-SSTskin-MODIS_A-N-v02.0-fv01.0_subsetted {\n",
      "dimensions:\n",
      "\tnj = 92 ;\n",
      "\tni = 42 ;\n",
      "\ttime = 1 ;\n",
      "variables:\n",
      "\tfloat lat(nj, ni) ;\n",
      "\t\tlat:_FillValue = -999.f ;\n",
      "\t\tlat:long_name = \"latitude\" ;\n",
      "\t\tlat:standard_name = \"latitude\" ;\n",
      "\t\tlat:units = \"degrees_north\" ;\n",
      "\t\tlat:valid_min = -90.f ;\n",
      "\t\tlat:valid_max = 90.f ;\n",
      "\t\tlat:comment = \"geographical coordinates, WGS84 projection\" ;\n",
      "\t\tlat:coverage_content_type = \"coordinate\" ;\n",
      "\tfloat lon(nj, ni) ;\n",
      "\t\tlon:_FillValue = -999.f ;\n",
      "\t\tlon:long_name = \"longitude\" ;\n",
      "\t\tlon:standard_name = \"longitude\" ;\n",
      "\t\tlon:units = \"degrees_east\" ;\n"
     ]
    }
   ],
   "source": [
    "!ncdump -h $test_nc4 | head -20"
   ]
  },
  {
   "cell_type": "markdown",
   "id": "4d24ba1a",
   "metadata": {},
   "source": [
    "NetCDF file format errors indicate that the download was not successful. *cat* the file for more clues. Read and plot the *sea_surface_temperature* variable:"
   ]
  },
  {
   "cell_type": "code",
   "execution_count": 34,
   "id": "2c70b834",
   "metadata": {
    "ExecuteTime": {
     "end_time": "2021-03-15T21:11:31.627310Z",
     "start_time": "2021-03-15T21:11:31.443306Z"
    }
   },
   "outputs": [
    {
     "data": {
      "image/png": "[encoded data removed]",
      "text/plain": [
       "<Figure size 432x288 with 2 Axes>"
      ]
     },
     "metadata": {
      "needs_background": "light"
     },
     "output_type": "display_data"
    }
   ],
   "source": [
    "with xr.open_dataset(test_nc4) as ds:\n",
    "    ds.sea_surface_temperature[0].plot()"
   ]
  },
  {
   "cell_type": "markdown",
   "id": "ff44bd1a",
   "metadata": {},
   "source": [
    "#### Download all the netCDF subsets\n",
    "\n",
    "Get the links in the *href* column in a loop:"
   ]
  },
  {
   "cell_type": "code",
   "execution_count": 35,
   "id": "f1720d45",
   "metadata": {
    "ExecuteTime": {
     "end_time": "2021-03-15T21:11:31.843575Z",
     "start_time": "2021-03-15T21:11:31.832914Z"
    }
   },
   "outputs": [
    {
     "name": "stdout",
     "output_type": "stream",
     "text": [
      "# File already exists. Skipping...\n",
      "(20190101031001-JPL-L2P_GHRSST-SSTskin-MODIS_A-N-v02.0-fv01.0_subsetted.nc4)\n",
      "\n",
      "# File already exists. Skipping...\n",
      "(20190101141501-JPL-L2P_GHRSST-SSTskin-MODIS_A-D-v02.0-fv01.0_subsetted.nc4)\n",
      "\n",
      "# File already exists. Skipping...\n",
      "(20190102021501-JPL-L2P_GHRSST-SSTskin-MODIS_A-N-v02.0-fv01.0_subsetted.nc4)\n",
      "\n",
      "# File already exists. Skipping...\n",
      "(20190102132001-JPL-L2P_GHRSST-SSTskin-MODIS_A-D-v02.0-fv01.0_subsetted.nc4)\n",
      "\n",
      "# File already exists. Skipping...\n",
      "(20190103030000-JPL-L2P_GHRSST-SSTskin-MODIS_A-N-v02.0-fv01.0_subsetted.nc4)\n",
      "\n",
      "# File already exists. Skipping...\n",
      "(20190103140501-JPL-L2P_GHRSST-SSTskin-MODIS_A-D-v02.0-fv01.0_subsetted.nc4)\n",
      "\n",
      "# File already exists. Skipping...\n",
      "(20190104020501-JPL-L2P_GHRSST-SSTskin-MODIS_A-N-v02.0-fv01.0_subsetted.nc4)\n",
      "\n",
      "# File already exists. Skipping...\n",
      "(20190104034001-JPL-L2P_GHRSST-SSTskin-MODIS_A-N-v02.0-fv01.0_subsetted.nc4)\n",
      "\n",
      "# File already exists. Skipping...\n",
      "(20190104034501-JPL-L2P_GHRSST-SSTskin-MODIS_A-N-v02.0-fv01.0_subsetted.nc4)\n",
      "\n",
      "# File already exists. Skipping...\n",
      "(20190104131001-JPL-L2P_GHRSST-SSTskin-MODIS_A-D-v02.0-fv01.0_subsetted.nc4)\n",
      "\n",
      "# File already exists. Skipping...\n",
      "(20190104144501-JPL-L2P_GHRSST-SSTskin-MODIS_A-D-v02.0-fv01.0_subsetted.nc4)\n",
      "\n",
      "# File already exists. Skipping...\n",
      "(20190105025001-JPL-L2P_GHRSST-SSTskin-MODIS_A-N-v02.0-fv01.0_subsetted.nc4)\n",
      "\n",
      "# File already exists. Skipping...\n",
      "(20190105135000-JPL-L2P_GHRSST-SSTskin-MODIS_A-D-v02.0-fv01.0_subsetted.nc4)\n",
      "\n",
      "# File already exists. Skipping...\n",
      "(20190106033000-JPL-L2P_GHRSST-SSTskin-MODIS_A-N-v02.0-fv01.0_subsetted.nc4)\n",
      "\n",
      "# File already exists. Skipping...\n",
      "(20190106143501-JPL-L2P_GHRSST-SSTskin-MODIS_A-D-v02.0-fv01.0_subsetted.nc4)\n",
      "\n",
      "# File already exists. Skipping...\n",
      "(20190107023501-JPL-L2P_GHRSST-SSTskin-MODIS_A-N-v02.0-fv01.0_subsetted.nc4)\n",
      "\n",
      "# File already exists. Skipping...\n",
      "(20190107134001-JPL-L2P_GHRSST-SSTskin-MODIS_A-D-v02.0-fv01.0_subsetted.nc4)\n",
      "\n",
      "# File already exists. Skipping...\n",
      "(20190108032000-JPL-L2P_GHRSST-SSTskin-MODIS_A-N-v02.0-fv01.0_subsetted.nc4)\n",
      "\n",
      "# File already exists. Skipping...\n",
      "(20190108142000-JPL-L2P_GHRSST-SSTskin-MODIS_A-D-v02.0-fv01.0_subsetted.nc4)\n",
      "\n",
      "# File already exists. Skipping...\n",
      "(20190109022501-JPL-L2P_GHRSST-SSTskin-MODIS_A-N-v02.0-fv01.0_subsetted.nc4)\n",
      "\n",
      "# File already exists. Skipping...\n",
      "(20190109132501-JPL-L2P_GHRSST-SSTskin-MODIS_A-D-v02.0-fv01.0_subsetted.nc4)\n",
      "\n",
      "# File already exists. Skipping...\n",
      "(20190110030501-JPL-L2P_GHRSST-SSTskin-MODIS_A-N-v02.0-fv01.0_subsetted.nc4)\n",
      "\n",
      "# File already exists. Skipping...\n",
      "(20190110141001-JPL-L2P_GHRSST-SSTskin-MODIS_A-D-v02.0-fv01.0_subsetted.nc4)\n",
      "\n",
      "# File already exists. Skipping...\n",
      "(20190111021000-JPL-L2P_GHRSST-SSTskin-MODIS_A-N-v02.0-fv01.0_subsetted.nc4)\n",
      "\n",
      "# File already exists. Skipping...\n",
      "(20190111131500-JPL-L2P_GHRSST-SSTskin-MODIS_A-D-v02.0-fv01.0_subsetted.nc4)\n",
      "\n",
      "# File already exists. Skipping...\n",
      "(20190111145500-JPL-L2P_GHRSST-SSTskin-MODIS_A-D-v02.0-fv01.0_subsetted.nc4)\n",
      "\n",
      "# File already exists. Skipping...\n",
      "(20190112025501-JPL-L2P_GHRSST-SSTskin-MODIS_A-N-v02.0-fv01.0_subsetted.nc4)\n",
      "\n",
      "# File already exists. Skipping...\n",
      "(20190112140001-JPL-L2P_GHRSST-SSTskin-MODIS_A-D-v02.0-fv01.0_subsetted.nc4)\n",
      "\n",
      "# File already exists. Skipping...\n",
      "(20190113020001-JPL-L2P_GHRSST-SSTskin-MODIS_A-N-v02.0-fv01.0_subsetted.nc4)\n",
      "\n",
      "# File already exists. Skipping...\n",
      "(20190113033501-JPL-L2P_GHRSST-SSTskin-MODIS_A-N-v02.0-fv01.0_subsetted.nc4)\n",
      "\n",
      "# File already exists. Skipping...\n",
      "(20190113130500-JPL-L2P_GHRSST-SSTskin-MODIS_A-D-v02.0-fv01.0_subsetted.nc4)\n",
      "\n",
      "# File already exists. Skipping...\n",
      "(20190113144001-JPL-L2P_GHRSST-SSTskin-MODIS_A-D-v02.0-fv01.0_subsetted.nc4)\n",
      "\n",
      "# File already exists. Skipping...\n",
      "(20190114024000-JPL-L2P_GHRSST-SSTskin-MODIS_A-N-v02.0-fv01.0_subsetted.nc4)\n",
      "\n",
      "# File already exists. Skipping...\n",
      "(20190114134500-JPL-L2P_GHRSST-SSTskin-MODIS_A-D-v02.0-fv01.0_subsetted.nc4)\n",
      "\n",
      "# File already exists. Skipping...\n",
      "(20190115032501-JPL-L2P_GHRSST-SSTskin-MODIS_A-N-v02.0-fv01.0_subsetted.nc4)\n",
      "\n",
      "# File already exists. Skipping...\n",
      "(20190115143001-JPL-L2P_GHRSST-SSTskin-MODIS_A-D-v02.0-fv01.0_subsetted.nc4)\n",
      "\n",
      "# File already exists. Skipping...\n",
      "(20190116023001-JPL-L2P_GHRSST-SSTskin-MODIS_A-N-v02.0-fv01.0_subsetted.nc4)\n",
      "\n",
      "# File already exists. Skipping...\n",
      "(20190116133500-JPL-L2P_GHRSST-SSTskin-MODIS_A-D-v02.0-fv01.0_subsetted.nc4)\n",
      "\n",
      "# File already exists. Skipping...\n",
      "(20190117031000-JPL-L2P_GHRSST-SSTskin-MODIS_A-N-v02.0-fv01.0_subsetted.nc4)\n",
      "\n",
      "# File already exists. Skipping...\n",
      "(20190117141501-JPL-L2P_GHRSST-SSTskin-MODIS_A-D-v02.0-fv01.0_subsetted.nc4)\n",
      "\n",
      "# File already exists. Skipping...\n",
      "(20190118021501-JPL-L2P_GHRSST-SSTskin-MODIS_A-N-v02.0-fv01.0_subsetted.nc4)\n",
      "\n",
      "# File already exists. Skipping...\n",
      "(20190118132001-JPL-L2P_GHRSST-SSTskin-MODIS_A-D-v02.0-fv01.0_subsetted.nc4)\n",
      "\n",
      "# File already exists. Skipping...\n",
      "(20190119030001-JPL-L2P_GHRSST-SSTskin-MODIS_A-N-v02.0-fv01.0_subsetted.nc4)\n",
      "\n",
      "# File already exists. Skipping...\n",
      "(20190119140500-JPL-L2P_GHRSST-SSTskin-MODIS_A-D-v02.0-fv01.0_subsetted.nc4)\n",
      "\n",
      "# File already exists. Skipping...\n",
      "(20190120020501-JPL-L2P_GHRSST-SSTskin-MODIS_A-N-v02.0-fv01.0_subsetted.nc4)\n",
      "\n",
      "# File already exists. Skipping...\n",
      "(20190120034000-JPL-L2P_GHRSST-SSTskin-MODIS_A-N-v02.0-fv01.0_subsetted.nc4)\n",
      "\n",
      "# File already exists. Skipping...\n",
      "(20190120034501-JPL-L2P_GHRSST-SSTskin-MODIS_A-N-v02.0-fv01.0_subsetted.nc4)\n",
      "\n",
      "# File already exists. Skipping...\n",
      "(20190120131001-JPL-L2P_GHRSST-SSTskin-MODIS_A-D-v02.0-fv01.0_subsetted.nc4)\n",
      "\n",
      "# File already exists. Skipping...\n",
      "(20190120144501-JPL-L2P_GHRSST-SSTskin-MODIS_A-D-v02.0-fv01.0_subsetted.nc4)\n",
      "\n",
      "# File already exists. Skipping...\n",
      "(20190121025001-JPL-L2P_GHRSST-SSTskin-MODIS_A-N-v02.0-fv01.0_subsetted.nc4)\n",
      "\n",
      "# File already exists. Skipping...\n",
      "(20190121135001-JPL-L2P_GHRSST-SSTskin-MODIS_A-D-v02.0-fv01.0_subsetted.nc4)\n",
      "\n",
      "# File already exists. Skipping...\n",
      "(20190122033000-JPL-L2P_GHRSST-SSTskin-MODIS_A-N-v02.0-fv01.0_subsetted.nc4)\n",
      "\n",
      "# File already exists. Skipping...\n",
      "(20190122143500-JPL-L2P_GHRSST-SSTskin-MODIS_A-D-v02.0-fv01.0_subsetted.nc4)\n",
      "\n",
      "# File already exists. Skipping...\n",
      "(20190123023501-JPL-L2P_GHRSST-SSTskin-MODIS_A-N-v02.0-fv01.0_subsetted.nc4)\n",
      "\n",
      "# File already exists. Skipping...\n",
      "(20190123134001-JPL-L2P_GHRSST-SSTskin-MODIS_A-D-v02.0-fv01.0_subsetted.nc4)\n",
      "\n",
      "# File already exists. Skipping...\n",
      "(20190124032001-JPL-L2P_GHRSST-SSTskin-MODIS_A-N-v02.0-fv01.0_subsetted.nc4)\n",
      "\n",
      "# File already exists. Skipping...\n",
      "(20190124142001-JPL-L2P_GHRSST-SSTskin-MODIS_A-D-v02.0-fv01.0_subsetted.nc4)\n",
      "\n",
      "# File already exists. Skipping...\n",
      "(20190125022500-JPL-L2P_GHRSST-SSTskin-MODIS_A-N-v02.0-fv01.0_subsetted.nc4)\n",
      "\n",
      "# File already exists. Skipping...\n",
      "(20190125132500-JPL-L2P_GHRSST-SSTskin-MODIS_A-D-v02.0-fv01.0_subsetted.nc4)\n",
      "\n",
      "# File already exists. Skipping...\n",
      "(20190126030501-JPL-L2P_GHRSST-SSTskin-MODIS_A-N-v02.0-fv01.0_subsetted.nc4)\n",
      "\n",
      "# File already exists. Skipping...\n",
      "(20190126141001-JPL-L2P_GHRSST-SSTskin-MODIS_A-D-v02.0-fv01.0_subsetted.nc4)\n",
      "\n",
      "# File already exists. Skipping...\n",
      "(20190127021001-JPL-L2P_GHRSST-SSTskin-MODIS_A-N-v02.0-fv01.0_subsetted.nc4)\n",
      "\n",
      "# File already exists. Skipping...\n",
      "(20190127131500-JPL-L2P_GHRSST-SSTskin-MODIS_A-D-v02.0-fv01.0_subsetted.nc4)\n",
      "\n",
      "# File already exists. Skipping...\n",
      "(20190127145500-JPL-L2P_GHRSST-SSTskin-MODIS_A-D-v02.0-fv01.0_subsetted.nc4)\n",
      "\n",
      "# File already exists. Skipping...\n",
      "(20190128025500-JPL-L2P_GHRSST-SSTskin-MODIS_A-N-v02.0-fv01.0_subsetted.nc4)\n",
      "\n",
      "# File already exists. Skipping...\n",
      "(20190128140001-JPL-L2P_GHRSST-SSTskin-MODIS_A-D-v02.0-fv01.0_subsetted.nc4)\n",
      "\n",
      "# File already exists. Skipping...\n",
      "(20190129020001-JPL-L2P_GHRSST-SSTskin-MODIS_A-N-v02.0-fv01.0_subsetted.nc4)\n",
      "\n",
      "# File already exists. Skipping...\n",
      "(20190129033501-JPL-L2P_GHRSST-SSTskin-MODIS_A-N-v02.0-fv01.0_subsetted.nc4)\n",
      "\n",
      "# File already exists. Skipping...\n",
      "(20190129130501-JPL-L2P_GHRSST-SSTskin-MODIS_A-D-v02.0-fv01.0_subsetted.nc4)\n",
      "\n",
      "# File already exists. Skipping...\n",
      "(20190129144001-JPL-L2P_GHRSST-SSTskin-MODIS_A-D-v02.0-fv01.0_subsetted.nc4)\n",
      "\n",
      "# File already exists. Skipping...\n",
      "(20190130024001-JPL-L2P_GHRSST-SSTskin-MODIS_A-N-v02.0-fv01.0_subsetted.nc4)\n",
      "\n",
      "# File already exists. Skipping...\n",
      "(20190130134500-JPL-L2P_GHRSST-SSTskin-MODIS_A-D-v02.0-fv01.0_subsetted.nc4)\n",
      "\n",
      "# File already exists. Skipping...\n",
      "(20190131032501-JPL-L2P_GHRSST-SSTskin-MODIS_A-N-v02.0-fv01.0_subsetted.nc4)\n",
      "\n",
      "# File already exists. Skipping...\n",
      "(20190131143001-JPL-L2P_GHRSST-SSTskin-MODIS_A-D-v02.0-fv01.0_subsetted.nc4)\n",
      "\n"
     ]
    }
   ],
   "source": [
    "for u in subsets_df['href'].tolist():\n",
    "    download_target_file(u)"
   ]
  },
  {
   "cell_type": "markdown",
   "id": "0c98854e",
   "metadata": {},
   "source": [
    "The next cell adds a column of absolute paths to the netCDF files to the data frame *subsets_df*:"
   ]
  },
  {
   "cell_type": "code",
   "execution_count": 36,
   "id": "1f581b33",
   "metadata": {
    "ExecuteTime": {
     "end_time": "2021-03-15T21:11:32.998900Z",
     "start_time": "2021-03-15T21:11:32.988444Z"
    }
   },
   "outputs": [
    {
     "data": {
      "text/plain": [
       "True"
      ]
     },
     "execution_count": 36,
     "metadata": {},
     "output_type": "execute_result"
    }
   ],
   "source": [
    "subsets_df['path'] = subsets_df['href'].apply(lambda x: abspath(join(target_dir, basename(x))))\n",
    "\n",
    "isfile(subsets_df['path'].iloc[0])"
   ]
  },
  {
   "cell_type": "markdown",
   "id": "9019110b",
   "metadata": {},
   "source": [
    "#### Limit to daytime MODIS observations\n",
    "\n",
    "Select just the *daytime* observations into a new data frame. (Remember we added a *daytime* column during a previous step.)"
   ]
  },
  {
   "cell_type": "code",
   "execution_count": 37,
   "id": "c7c72474",
   "metadata": {
    "ExecuteTime": {
     "end_time": "2021-03-15T21:11:33.613325Z",
     "start_time": "2021-03-15T21:11:33.608850Z"
    }
   },
   "outputs": [
    {
     "name": "stdout",
     "output_type": "stream",
     "text": [
      "37 of 74 MODIS acquisitions were collected during daytime\n"
     ]
    }
   ],
   "source": [
    "subsets_day = subsets_df[subsets_df.daytime==True].copy()\n",
    "\n",
    "print(subsets_day.index.size, \"of\", subsets_df.index.size, \"MODIS acquisitions were collected during daytime\")"
   ]
  },
  {
   "cell_type": "markdown",
   "id": "810e2174",
   "metadata": {},
   "source": [
    "#### Data quality\n",
    "\n",
    "The *quality_level* variable describes the observation quality for each pixel in the L2 swaths. Values are assigned between 1 and 6 corresponding to these quality levels:\n",
    "\n",
    "1. no_data\n",
    "2. bad_data\n",
    "3. worst_quality\n",
    "4. low_quality\n",
    "5. acceptable_quality\n",
    "6. best_quality\n",
    "\n",
    "The next cell plots the masked SST grid for the first daytime observations:"
   ]
  },
  {
   "cell_type": "code",
   "execution_count": 38,
   "id": "4dd67bbe",
   "metadata": {
    "ExecuteTime": {
     "end_time": "2021-03-15T21:11:34.206615Z",
     "start_time": "2021-03-15T21:11:34.011519Z"
    }
   },
   "outputs": [
    {
     "data": {
      "image/png": "[encoded data removed]",
      "text/plain": [
       "<Figure size 432x288 with 2 Axes>"
      ]
     },
     "metadata": {
      "needs_background": "light"
     },
     "output_type": "display_data"
    }
   ],
   "source": [
    "with xr.open_dataset(subsets_day.iloc[0].path) as ds:\n",
    "\n",
    "    # Create a mask for pixels that are \n",
    "    quality_mask = ds.quality_level[0]==5\n",
    "\n",
    "    # Fill pixels where ###### with np.nan:\n",
    "    masked_ds = ds.where(quality_mask)\n",
    "\n",
    "    # Plot the resulting array of sea surface temperature:\n",
    "    masked_ds.sea_surface_temperature[0].plot()"
   ]
  },
  {
   "cell_type": "markdown",
   "id": "cfdd51f7",
   "metadata": {},
   "source": [
    "### Plot time series from multiple data sources\n",
    "\n",
    "Roll the logic above into a few map-able functions that group the SST data by day to produce (up to) one daily mean.\n",
    "\n",
    ">#### Apply filter and mean in two functions\n",
    ">\n",
    ">`get_user_stat` reads the input netCDF and applies some user-specified function to the dataset to render the desired output, then closes the file.\n",
    ">\n",
    ">The second function `_masked_mean` filters and calculates the XY mean of the *sea_surface_temperature* variable. (You could replace this function with your own to do something different.)\n",
    "\n",
    "Test the combined routine against the first file in the daytime MODIS table:"
   ]
  },
  {
   "cell_type": "code",
   "execution_count": 39,
   "id": "2fa4ace5",
   "metadata": {
    "ExecuteTime": {
     "end_time": "2021-03-15T21:11:34.765630Z",
     "start_time": "2021-03-15T21:11:34.762616Z"
    }
   },
   "outputs": [
    {
     "data": {
      "text/plain": [
       "'/Users/jmcnelis/tmp/appscitmp/tutorials/notebooks/SWOT-EA-2021/resources/data/20190101141501-JPL-L2P_GHRSST-SSTskin-MODIS_A-D-v02.0-fv01.0_subsetted.nc4'"
      ]
     },
     "execution_count": 39,
     "metadata": {},
     "output_type": "execute_result"
    }
   ],
   "source": [
    "subsets_day['path'].iloc[0]"
   ]
  },
  {
   "cell_type": "code",
   "execution_count": 40,
   "id": "b87e1ce7",
   "metadata": {
    "ExecuteTime": {
     "end_time": "2021-03-15T21:11:34.971209Z",
     "start_time": "2021-03-15T21:11:34.938063Z"
    }
   },
   "outputs": [
    {
     "data": {
      "text/plain": [
       "16.743005371093773"
      ]
     },
     "execution_count": 40,
     "metadata": {},
     "output_type": "execute_result"
    }
   ],
   "source": [
    "import warnings\n",
    "\n",
    "def get_user_stat(netcdf, function):\n",
    "    with xr.open_dataset(netcdf) as ds:  \n",
    "        output = function(ds)\n",
    "    return output\n",
    "\n",
    "\n",
    "def _masked_mean(ds):\n",
    "    '''Produce any output stat/object you want in this function'''\n",
    "    # Create a mask for pixels that are \n",
    "    quality_mask = ds.quality_level[0]>=5\n",
    "    # Fill pixels with np.nan where quality_level is less than 4:\n",
    "    masked_ds = ds.where(quality_mask)\n",
    "    # Ignore warnings about calculating mean over an empty array:\n",
    "    with warnings.catch_warnings():\n",
    "        warnings.simplefilter(\"ignore\", category=RuntimeWarning)\n",
    "        # Calculate mean over the XY dimensions (nj, ni in this case)\n",
    "        value = masked_ds['sea_surface_temperature'].mean(['nj', 'ni']).data.item()\n",
    "    #value = np.nanmean(masked_sst)\n",
    "    return value\n",
    "\n",
    "val = get_user_stat(subsets_day['path'].iloc[0], function=_masked_mean)\n",
    "\n",
    "val-273.15  # subtract 273.15 to convert Kelvin to Celsius"
   ]
  },
  {
   "cell_type": "markdown",
   "id": "854090d4",
   "metadata": {},
   "source": [
    "That should give a reasonable value in degrees Celsius.\n",
    "\n",
    "##### Get means for the filtered MODIS SST time series in a new column\n",
    "\n",
    "Apply the `_masked_mean` function over the column of subsets (i.e. netCDF4 files) to get the time series in a new column *sst_mean*:"
   ]
  },
  {
   "cell_type": "code",
   "execution_count": 41,
   "id": "31ed9aba",
   "metadata": {
    "ExecuteTime": {
     "end_time": "2021-03-15T21:11:36.422660Z",
     "start_time": "2021-03-15T21:11:35.294458Z"
    }
   },
   "outputs": [
    {
     "data": {
      "text/plain": [
       "count    15.000000\n",
       "mean     16.404915\n",
       "std       0.566561\n",
       "min      15.284357\n",
       "25%      15.921838\n",
       "50%      16.546533\n",
       "75%      16.833688\n",
       "max      17.222162\n",
       "Name: sst_mean, dtype: float64"
      ]
     },
     "execution_count": 41,
     "metadata": {},
     "output_type": "execute_result"
    }
   ],
   "source": [
    "subsets_day['sst_mean'] = subsets_day['path'].apply(get_user_stat, args=(_masked_mean,))-273.15\n",
    "\n",
    "subsets_day['sst_mean'].describe()"
   ]
  },
  {
   "cell_type": "markdown",
   "id": "06b44c88",
   "metadata": {},
   "source": [
    "We may need to group by the date:"
   ]
  },
  {
   "cell_type": "code",
   "execution_count": 42,
   "id": "2d5b3140",
   "metadata": {
    "ExecuteTime": {
     "end_time": "2021-03-15T21:11:36.435666Z",
     "start_time": "2021-03-15T21:11:36.424339Z"
    }
   },
   "outputs": [
    {
     "data": {
      "text/html": [
       "<div>\n",
       "<style scoped>\n",
       "    .dataframe tbody tr th:only-of-type {\n",
       "        vertical-align: middle;\n",
       "    }\n",
       "\n",
       "    .dataframe tbody tr th {\n",
       "        vertical-align: top;\n",
       "    }\n",
       "\n",
       "    .dataframe thead th {\n",
       "        text-align: right;\n",
       "    }\n",
       "</style>\n",
       "<table border=\"1\" class=\"dataframe\">\n",
       "  <thead>\n",
       "    <tr style=\"text-align: right;\">\n",
       "      <th></th>\n",
       "      <th>sst_mean</th>\n",
       "    </tr>\n",
       "  </thead>\n",
       "  <tbody>\n",
       "    <tr>\n",
       "      <th>count</th>\n",
       "      <td>15.000000</td>\n",
       "    </tr>\n",
       "    <tr>\n",
       "      <th>mean</th>\n",
       "      <td>16.404915</td>\n",
       "    </tr>\n",
       "    <tr>\n",
       "      <th>std</th>\n",
       "      <td>0.566561</td>\n",
       "    </tr>\n",
       "    <tr>\n",
       "      <th>min</th>\n",
       "      <td>15.284357</td>\n",
       "    </tr>\n",
       "    <tr>\n",
       "      <th>25%</th>\n",
       "      <td>15.921838</td>\n",
       "    </tr>\n",
       "    <tr>\n",
       "      <th>50%</th>\n",
       "      <td>16.546533</td>\n",
       "    </tr>\n",
       "    <tr>\n",
       "      <th>75%</th>\n",
       "      <td>16.833688</td>\n",
       "    </tr>\n",
       "    <tr>\n",
       "      <th>max</th>\n",
       "      <td>17.222162</td>\n",
       "    </tr>\n",
       "  </tbody>\n",
       "</table>\n",
       "</div>"
      ],
      "text/plain": [
       "        sst_mean\n",
       "count  15.000000\n",
       "mean   16.404915\n",
       "std     0.566561\n",
       "min    15.284357\n",
       "25%    15.921838\n",
       "50%    16.546533\n",
       "75%    16.833688\n",
       "max    17.222162"
      ]
     },
     "execution_count": 42,
     "metadata": {},
     "output_type": "execute_result"
    }
   ],
   "source": [
    "subsets_day_means = subsets_day.groupby(\"date\", as_index=False).mean()\n",
    "\n",
    "subsets_day_means.describe()"
   ]
  },
  {
   "cell_type": "markdown",
   "id": "cc88d40e",
   "metadata": {},
   "source": [
    "Now plot the two time series along the same *date* axis for visual comparison:"
   ]
  },
  {
   "cell_type": "code",
   "execution_count": 43,
   "id": "ef2cabf1",
   "metadata": {
    "ExecuteTime": {
     "end_time": "2021-03-15T21:11:36.776275Z",
     "start_time": "2021-03-15T21:11:36.541708Z"
    }
   },
   "outputs": [
    {
     "data": {
      "image/png": "[encoded data removed]",
      "text/plain": [
       "<Figure size 1152x288 with 1 Axes>"
      ]
     },
     "metadata": {
      "needs_background": "light"
     },
     "output_type": "display_data"
    }
   ],
   "source": [
    "fig, ax = plt.subplots(figsize=(16, 4))\n",
    "\n",
    "# Plot mean sea surface temperature from MODIS SST from GHRSST\n",
    "subsets_day_means.plot.scatter(\n",
    "    x=\"date\",\n",
    "    y=\"sst_mean\", \n",
    "    label=\"SST observed by MODIS\",\n",
    "    s=100,\n",
    "    ax=ax\n",
    ")\n",
    "\n",
    "# Plot mean sea surface temperature from the Argo floats\n",
    "argo_skinny.plot.scatter(\n",
    "    x=\"date\",\n",
    "    y=\"temp_at_pres_min\",\n",
    "    s=100,\n",
    "    color=\"orange\",\n",
    "    marker=\"v\",\n",
    "    label=\"SST measured by Argo floats\",\n",
    "    ax=ax\n",
    ")\n",
    "\n",
    "# Matplotlib aesthetic treatments starting from here -->\n",
    "ax.set_ylabel(\"Temperature (deg C)\")\n",
    "ax.set_ylim(15.0, 18.0)\n",
    "ax.grid(alpha=0.25)"
   ]
  },
  {
   "cell_type": "markdown",
   "id": "f50f7b0a",
   "metadata": {},
   "source": [
    "### MUR Level 4 SST from AWS Open Registry\n",
    "\n",
    "Try plotting the summarized time series for the two datasets against MUR L4 SST from AWS Open Registry: https://registry.opendata.aws/mur/"
   ]
  },
  {
   "cell_type": "code",
   "execution_count": 44,
   "id": "df3834d0",
   "metadata": {
    "ExecuteTime": {
     "end_time": "2021-03-15T21:12:19.508537Z",
     "start_time": "2021-03-15T21:11:37.366147Z"
    }
   },
   "outputs": [
    {
     "name": "stdout",
     "output_type": "stream",
     "text": [
      "<xarray.DataArray 'analysed_sst' (time: 31)>\n",
      "dask.array<sub, shape=(31,), dtype=float32, chunksize=(1,), chunktype=numpy.ndarray>\n",
      "Coordinates:\n",
      "  * time     (time) datetime64[ns] 2019-01-01T09:00:00 ... 2019-01-31T09:00:00\n"
     ]
    }
   ],
   "source": [
    "import fsspec\n",
    "import xarray as xr\n",
    "from dask.distributed import Client\n",
    "\n",
    "# Reference the MUR L4 SST data on the AWS Open Registry\n",
    "url = 's3://mur-sst/zarr'\n",
    "\n",
    "# Open the remote dataset from its S3 endpoint (pre-consolidated)\n",
    "ds = xr.open_zarr(fsspec.get_mapper(url, anon=True), consolidated=True)\n",
    "\n",
    "# Slice the dataset along its X, Y, and T dimensions:\n",
    "mur_L4_subset = ds['analysed_sst'].sel(\n",
    "    time=slice('2019-01-01','2019-01-31'),\n",
    "    lat=slice(aoi_minlat, aoi_maxlat), \n",
    "    lon=slice(aoi_minlon, aoi_maxlon),\n",
    ").persist()\n",
    "\n",
    "# Aggregate the spatial dimensions to compute the one-dimensional time series of means:\n",
    "mur_L4_subset_means = mur_L4_subset.groupby(\"time\").mean([\"lon\", \"lat\"])-273.15\n",
    "\n",
    "print(mur_L4_subset_means)"
   ]
  },
  {
   "cell_type": "markdown",
   "id": "930b1d1e",
   "metadata": {},
   "source": [
    "Add the MUR time series to the subsets table so that they share the same time axis with the L2 time series:"
   ]
  },
  {
   "cell_type": "code",
   "execution_count": 45,
   "id": "611157e4",
   "metadata": {
    "ExecuteTime": {
     "end_time": "2021-03-15T21:12:19.564312Z",
     "start_time": "2021-03-15T21:12:19.510356Z"
    }
   },
   "outputs": [],
   "source": [
    "subsets_day_means['L4_MUR_SST'] = mur_L4_subset_means.compute().data"
   ]
  },
  {
   "cell_type": "markdown",
   "id": "3ecee3ef",
   "metadata": {},
   "source": [
    "Plot the result alongside our data processed throughout the notebook:"
   ]
  },
  {
   "cell_type": "code",
   "execution_count": 46,
   "id": "29a7ac26",
   "metadata": {
    "ExecuteTime": {
     "end_time": "2021-03-15T21:12:19.825875Z",
     "start_time": "2021-03-15T21:12:19.566301Z"
    }
   },
   "outputs": [
    {
     "data": {
      "text/plain": [
       "Text(0.5, 1.0, 'Daily SST from L2 MODIS, L4 MUR, and in situ measurements (January 2019)')"
      ]
     },
     "execution_count": 46,
     "metadata": {},
     "output_type": "execute_result"
    },
    {
     "data": {
      "image/png": "[encoded data removed]",
      "text/plain": [
       "<Figure size 1152x360 with 1 Axes>"
      ]
     },
     "metadata": {
      "needs_background": "light"
     },
     "output_type": "display_data"
    }
   ],
   "source": [
    "fig, ax = plt.subplots(figsize=(16, 5))\n",
    "\n",
    "# Plot the L4 SST from MUR (hosted by AWS Open Registry)\n",
    "subsets_day_means.plot.line(\n",
    "    x=\"date\",\n",
    "    y=\"L4_MUR_SST\",\n",
    "    color=\"red\",\n",
    "    label=\"L4 MUR SST (AWS Open Registry)\",\n",
    "    ax=ax,\n",
    ")\n",
    "\n",
    "# Plot the L2 SST from GHRSST (subset through Harmony API)\n",
    "subsets_day_means.plot.scatter(\n",
    "    x=\"date\",\n",
    "    y=\"sst_mean\", \n",
    "    label=\"L2 MODIS SST (EOSDIS Cloud)\",\n",
    "    s=100,\n",
    "    ax=ax\n",
    ")\n",
    "\n",
    "# Plot the in situ temps measured at the surface during Argo profiles (accessed from ArgoVis)\n",
    "argo_skinny.plot.scatter(\n",
    "    x=\"date\",\n",
    "    y=\"temp_at_pres_min\",\n",
    "    s=100,\n",
    "    color=\"orange\",\n",
    "    marker=\"v\",\n",
    "    label=\"In situ measurements (ArgoVis API)\",\n",
    "    ax=ax\n",
    ")\n",
    "\n",
    "# Matplotlib aesthetic treatments starting from here -->\n",
    "plt.xticks(rotation=15)\n",
    "ax.set_xlabel(None)\n",
    "ax.set_xlim(subsets_day_means.date.iloc[0], subsets_day_means.date.iloc[-1])\n",
    "ax.set_ylabel(\"Temperature (deg C)\")\n",
    "ax.set_ylim(15.0, 18.0)\n",
    "ax.grid(alpha=0.25)\n",
    "ax.set_title(\"Daily SST from L2 MODIS, L4 MUR, and in situ measurements (January 2019)\")"
   ]
  },
  {
   "cell_type": "code",
   "execution_count": null,
   "id": "2725244c",
   "metadata": {},
   "outputs": [],
   "source": []
  }
 ],
 "metadata": {
  "hide_input": false,
  "kernelspec": {
   "display_name": "Python 3 (ipykernel)",
   "language": "python",
   "name": "python3"
  },
  "language_info": {
   "codemirror_mode": {
    "name": "ipython",
    "version": 3
   },
   "file_extension": ".py",
   "mimetype": "text/x-python",
   "name": "python",
   "nbconvert_exporter": "python",
   "pygments_lexer": "ipython3",
   "version": "3.8.13"
  },
  "toc": {
   "base_numbering": 1,
   "nav_menu": {},
   "number_sections": false,
   "sideBar": true,
   "skip_h1_title": true,
   "title_cell": "Table of Contents",
   "title_sidebar": "Contents",
   "toc_cell": false,
   "toc_position": {},
   "toc_section_display": true,
   "toc_window_display": false
  }
 },
 "nbformat": 4,
 "nbformat_minor": 5
}
