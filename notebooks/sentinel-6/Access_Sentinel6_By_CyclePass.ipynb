{
 "cells": [
  {
   "cell_type": "markdown",
   "metadata": {},
   "source": [
    "![](https://img.shields.io/badge/PO.DAAC-Contribution-%20?color=grey&labelColor=blue)\n",
    "\n",
    "> From the PO.DAAC Cookbook, to access the GitHub version of the notebook, follow [this link](https://github.com/podaac/tutorials/blob/master/notebooks/sentinel-6/Access_Sentinel6_By_CyclePass.ipynb)."
   ]
  },
  {
   "cell_type": "markdown",
   "metadata": {
    "tags": [],
    "toc": true
   },
   "source": [
    "<h1>Table of Contents<span class=\"tocSkip\"></span></h1>\n",
    "<div class=\"toc\"><ul class=\"toc-item\"><li><span><a href=\"#Before-you-start\" data-toc-modified-id=\"Before-you-start-1\"><span class=\"toc-item-num\">1&nbsp;&nbsp;</span>Before you start</a></span></li><li><span><a href=\"#Authentication-setup\" data-toc-modified-id=\"Authentication-setup-2\"><span class=\"toc-item-num\">2&nbsp;&nbsp;</span>Authentication setup</a></span></li><li><span><a href=\"#Find-granules-by-cycle/pass-number\" data-toc-modified-id=\"Find-granules-by-cycle/pass-number-3\"><span class=\"toc-item-num\">3&nbsp;&nbsp;</span>Find granules by cycle/pass number</a></span></li></ul></div>"
   ]
  },
  {
   "cell_type": "markdown",
   "metadata": {},
   "source": [
    "# Access Sentinel-6 Data by Cycle and Pass Number\n",
    "\n",
    "This notebook shows a simple way to search for Sentinel-6 data granules for a specific cycle and pass using the [CMR Search API](https://cmr.earthdata.nasa.gov/search/site/docs/search/api.html) and download them to a local directory.\n",
    "\n",
    "## Before you start\n",
    "\n",
    "Before you beginning this tutorial, make sure you have an Earthdata account [https://urs.earthdata.nasa.gov](https://urs.earthdata.nasa.gov).\n",
    "\n",
    "Accounts are free to create and take just a moment to set up.\n",
    "\n",
    "## Import Libraries"
   ]
  },
  {
   "cell_type": "code",
   "execution_count": 1,
   "metadata": {
    "ExecuteTime": {
     "end_time": "2020-09-02T16:59:20.727837Z",
     "start_time": "2020-09-02T16:59:20.725024Z"
    }
   },
   "outputs": [],
   "source": [
    "import requests\n",
    "from os import makedirs\n",
    "from os.path import isdir, basename\n",
    "from urllib.parse import urlencode\n",
    "from urllib.request import urlopen, urlretrieve\n",
    "from datetime import datetime, timedelta\n",
    "from json import dumps, loads\n",
    "import earthaccess\n",
    "from earthaccess import Auth, DataCollections, DataGranules, Store"
   ]
  },
  {
   "cell_type": "markdown",
   "metadata": {},
   "source": [
    "## Authentication  with earthaccess\n",
    "\n",
    "In this notebook, we will be calling the authentication in the below cell."
   ]
  },
  {
   "cell_type": "code",
   "execution_count": null,
   "metadata": {
    "ExecuteTime": {
     "end_time": "2020-09-02T16:59:20.653499Z",
     "start_time": "2020-09-02T16:59:20.645176Z"
    }
   },
   "outputs": [],
   "source": [
    "auth = earthaccess.login(strategy=\"interactive\", persist=True)"
   ]
  },
  {
   "cell_type": "markdown",
   "metadata": {},
   "source": [
    "## Find granules by cycle/pass number\n",
    "\n",
    "The CMR Search API provides for searching ingested granules by their cycle and pass numbers. A third parameter, the `tile` identifier, is provisioned for use during the upcoming SWOT mission but isn't used by CMR Search at this time. Read more about these orbit identifiers [here](#). \n",
    "\n",
    "Passes within a cycle are unique, there will be no repeats until the next cycle. Tile numbers are only unique within a pass, so if you're looking only at tile numbers there will be over 300 per cycle, but only 1 per pass.\n",
    "\n",
    "*Info below may only apply to NRT use case:*\n",
    "\n",
    ">This workflow/notebook can be run routinely to maintain a time series of NRT data, downloading new granules as they become available in CMR. \n",
    ">\n",
    ">The notebook writes/overwrites a file `.update` to the target data directory with each successful run. The file tracks to date and time of the most recent update to the time series of NRT granules using a timestamp in the format `yyyy-mm-ddThh:mm:ssZ`. \n",
    ">\n",
    ">The timestamp matches the value used for the [`created_at`](https://cmr.earthdata.nasa.gov/search/site/docs/search/api.html#g-created-at) parameter in the last successful run. This parameter finds the granules created within a range of datetimes. This workflow leverages the `created_at` parameter to search backwards in time for new granules ingested between the time of our timestamp and now.\n",
    "\n",
    "The variables in the cell below determine the workflow behavior on its initial run:\n",
    "\n",
    "* `trackcycle` and `trackpass`: Set the cycle and pass numbers to use for the CMR granule search.\n",
    "* `cmr`: The domain of the target CMR instance, either `cmr.earthdata.nasa.gov`.\n",
    "* `ccid`: The unique CMR `concept-id` of the desired collection.\n",
    "* `data`: The path to a local directory in which to download/maintain a copy of the NRT granule time series."
   ]
  },
  {
   "cell_type": "code",
   "execution_count": 3,
   "metadata": {
    "ExecuteTime": {
     "end_time": "2020-09-02T16:59:20.685240Z",
     "start_time": "2020-09-02T16:59:20.682634Z"
    },
    "tags": [
     "parameters"
    ]
   },
   "outputs": [],
   "source": [
    "cmr = \"cmr.earthdata.nasa.gov\"\n",
    "\n",
    "# this function returns a concept id for a particular dataset\n",
    "def get_collection(url: str=f\"https://{cmr}/search/collections.umm_json\", **params):\n",
    "    return requests.get(url, params).json().get(\"items\")[0]\n",
    "#\n",
    "# This cell accepts parameters from command line with papermill: \n",
    "#  https://papermill.readthedocs.io\n",
    "#\n",
    "# These variables should be set before the first run, then they \n",
    "#  should be left alone. All subsequent runs expect the values \n",
    "#  for cmr, ccid, data to be unchanged. The mins value has no \n",
    "#  impact on subsequent runs.\n",
    "#\n",
    "\n",
    "trackcycle = 25\n",
    "trackpass = 1\n",
    "\n",
    "name = \"JASON_CS_S6A_L2_ALT_LR_RED_OST_NRT_F\"\n",
    "\n",
    "ccid = get_collection(ShortName=name).get(\"meta\").get(\"concept-id\")\n",
    "\n",
    "data = \"resources/trackcycle\""
   ]
  },
  {
   "cell_type": "markdown",
   "metadata": {},
   "source": [
    "The variable `data` is pointed at a nearby folder [`resources/cyclepass`](resources/cyclepass/) by default. **You should change `data` to a suitable download path on your file system.** An unlucky sequence of git commands could disappear that folder and its downloads, if your not careful. Just change it."
   ]
  },
  {
   "cell_type": "markdown",
   "metadata": {},
   "source": [
    "**The search retrieves granules ingested during the last `n` minutes.** A file in your local data dir  file that tracks updates to your data directory, if one file exists. The CMR Search falls back on the ten minute window if not."
   ]
  },
  {
   "cell_type": "code",
   "execution_count": 4,
   "metadata": {
    "ExecuteTime": {
     "end_time": "2020-09-02T16:59:20.770953Z",
     "start_time": "2020-09-02T16:59:20.769183Z"
    }
   },
   "outputs": [],
   "source": [
    "#timestamp = (datetime.utcnow()-timedelta(minutes=mins)).strftime(\"%Y-%m-%dT%H:%M:%SZ\")\n",
    "#timestamp"
   ]
  },
  {
   "cell_type": "markdown",
   "metadata": {},
   "source": [
    "This cell will replace the timestamp above with the one read from the `.update` file in the data directory, if it exists."
   ]
  },
  {
   "cell_type": "code",
   "execution_count": 5,
   "metadata": {
    "ExecuteTime": {
     "end_time": "2020-09-02T16:59:20.818646Z",
     "start_time": "2020-09-02T16:59:20.814387Z"
    }
   },
   "outputs": [
    {
     "name": "stdout",
     "output_type": "stream",
     "text": [
      "NOTE: Making new data directory at 'resources/trackcycle'. (This is the first run.)\n"
     ]
    }
   ],
   "source": [
    "if not isdir(data):\n",
    "    print(f\"NOTE: Making new data directory at '{data}'. (This is the first run.)\")\n",
    "    makedirs(data)\n",
    "#else:\n",
    "#    try:\n",
    "#        with open(f\"{data}/.update\", \"r\") as f:\n",
    "#            timestamp = f.read()\n",
    "#    except FileNotFoundError:\n",
    "#        print(\"WARN: No .update in the data directory. (Is this the first run?)\")\n",
    "#    else:\n",
    "#        print(f\"NOTE: .update found in the data directory. (The last run was at {timestamp}.)\")"
   ]
  },
  {
   "cell_type": "markdown",
   "metadata": {},
   "source": [
    "There are several ways to query for CMR updates that occured during a given timeframe. Read on in the CMR Search documentation:\n",
    "\n",
    "* https://cmr.earthdata.nasa.gov/search/site/docs/search/api.html#c-with-new-granules (Collections)\n",
    "* https://cmr.earthdata.nasa.gov/search/site/docs/search/api.html#c-with-revised-granules (Collections)\n",
    "* https://cmr.earthdata.nasa.gov/search/site/docs/search/api.html#g-production-date (Granules)\n",
    "* https://cmr.earthdata.nasa.gov/search/site/docs/search/api.html#g-created-at (Granules)\n",
    "\n",
    "The `created_at` parameter works for our purposes. It's a granule search parameter that returns the records ingested since the input timestamp."
   ]
  },
  {
   "cell_type": "code",
   "execution_count": 6,
   "metadata": {
    "ExecuteTime": {
     "end_time": "2020-09-02T16:59:20.869579Z",
     "start_time": "2020-09-02T16:59:20.859867Z"
    }
   },
   "outputs": [
    {
     "data": {
      "text/plain": [
       "{'scroll': 'true',\n",
       " 'page_size': 2000,\n",
       " 'sort_key': '-start_date',\n",
       " 'collection_concept_id': 'C1968980576-POCLOUD',\n",
       " 'cycle': 25,\n",
       " 'passes[0][pass]': 1}"
      ]
     },
     "execution_count": 6,
     "metadata": {},
     "output_type": "execute_result"
    }
   ],
   "source": [
    "params = {\n",
    "    'scroll': \"true\",\n",
    "    'page_size': 2000,\n",
    "    'sort_key': \"-start_date\",\n",
    "    'collection_concept_id': ccid, \n",
    "    #'created_at': timestamp,\n",
    "    # Limit results to granules matching cycle, pass numbers:\n",
    "    'cycle': trackcycle,\n",
    "    'passes[0][pass]': trackpass,\n",
    "}\n",
    "\n",
    "params"
   ]
  },
  {
   "cell_type": "markdown",
   "metadata": {},
   "source": [
    "Get the query parameters as a string and then the complete search url:"
   ]
  },
  {
   "cell_type": "code",
   "execution_count": 7,
   "metadata": {
    "ExecuteTime": {
     "end_time": "2020-09-02T16:59:20.914558Z",
     "start_time": "2020-09-02T16:59:20.911510Z"
    }
   },
   "outputs": [
    {
     "name": "stdout",
     "output_type": "stream",
     "text": [
      "https://cmr.earthdata.nasa.gov/search/granules.umm_json?scroll=true&page_size=2000&sort_key=-start_date&collection_concept_id=C1968980576-POCLOUD&cycle=25&passes%5B0%5D%5Bpass%5D=1\n"
     ]
    }
   ],
   "source": [
    "query = urlencode(params)\n",
    "url = f\"https://{cmr}/search/granules.umm_json?{query}\"\n",
    "print(url)"
   ]
  },
  {
   "cell_type": "markdown",
   "metadata": {},
   "source": [
    "Download the granule records that match our search parameters."
   ]
  },
  {
   "cell_type": "code",
   "execution_count": 8,
   "metadata": {
    "ExecuteTime": {
     "end_time": "2020-09-02T16:59:21.622310Z",
     "start_time": "2020-09-02T16:59:20.963806Z"
    }
   },
   "outputs": [
    {
     "name": "stdout",
     "output_type": "stream",
     "text": [
      "1 granules results for 'C1968980576-POCLOUD' cycle '25' and pass '1'.\n"
     ]
    }
   ],
   "source": [
    "with urlopen(url) as f:\n",
    "    results = loads(f.read().decode())\n",
    "\n",
    "print(f\"{results['hits']} granules results for '{ccid}' cycle '{trackcycle}' and pass '{trackpass}'.\")"
   ]
  },
  {
   "cell_type": "markdown",
   "metadata": {},
   "source": [
    "Neatly print the first granule's data for reference (assuming at least one was returned)."
   ]
  },
  {
   "cell_type": "code",
   "execution_count": 9,
   "metadata": {
    "ExecuteTime": {
     "end_time": "2020-09-02T16:59:21.628039Z",
     "start_time": "2020-09-02T16:59:21.625544Z"
    }
   },
   "outputs": [
    {
     "name": "stdout",
     "output_type": "stream",
     "text": [
      "[\n",
      "  {\n",
      "    \"URL\": \"s3://podaac-ops-cumulus-protected/JASON_CS_S6A_L2_ALT_LR_RED_OST_NRT_F/S6A_P4_2__LR_RED__NR_025_001_20210713T162644_20210713T182234_F02.nc\",\n",
      "    \"Type\": \"GET DATA VIA DIRECT ACCESS\",\n",
      "    \"Description\": \"This link provides direct download access via S3 to the granule.\"\n",
      "  },\n",
      "  {\n",
      "    \"URL\": \"s3://podaac-ops-cumulus-protected/JASON_CS_S6A_L2_ALT_LR_RED_OST_NRT_F/S6A_P4_2__LR_RED__NR_025_001_20210713T162644_20210713T182234_F02.bufr.bin\",\n",
      "    \"Type\": \"GET DATA VIA DIRECT ACCESS\",\n",
      "    \"Description\": \"This link provides direct download access via S3 to the granule.\"\n",
      "  },\n",
      "  {\n",
      "    \"URL\": \"https://archive.podaac.earthdata.nasa.gov/podaac-ops-cumulus-protected/JASON_CS_S6A_L2_ALT_LR_RED_OST_NRT_F/S6A_P4_2__LR_RED__NR_025_001_20210713T162644_20210713T182234_F02.nc\",\n",
      "    \"Description\": \"Download S6A_P4_2__LR_RED__NR_025_001_20210713T162644_20210713T182234_F02.nc\",\n",
      "    \"Type\": \"GET DATA\"\n",
      "  },\n",
      "  {\n",
      "    \"URL\": \"https://archive.podaac.earthdata.nasa.gov/podaac-ops-cumulus-public/JASON_CS_S6A_L2_ALT_LR_RED_OST_NRT_F/S6A_P4_2__LR_RED__NR_025_001_20210713T162644_20210713T182234_F02.xfdumanifest.xml\",\n",
      "    \"Description\": \"Download S6A_P4_2__LR_RED__NR_025_001_20210713T162644_20210713T182234_F02.xfdumanifest.xml\",\n",
      "    \"Type\": \"EXTENDED METADATA\"\n",
      "  },\n",
      "  {\n",
      "    \"URL\": \"https://archive.podaac.earthdata.nasa.gov/podaac-ops-cumulus-protected/JASON_CS_S6A_L2_ALT_LR_RED_OST_NRT_F/S6A_P4_2__LR_RED__NR_025_001_20210713T162644_20210713T182234_F02.bufr.bin\",\n",
      "    \"Description\": \"Download S6A_P4_2__LR_RED__NR_025_001_20210713T162644_20210713T182234_F02.bufr.bin\",\n",
      "    \"Type\": \"GET DATA\"\n",
      "  },\n",
      "  {\n",
      "    \"URL\": \"https://archive.podaac.earthdata.nasa.gov/s3credentials\",\n",
      "    \"Description\": \"api endpoint to retrieve temporary credentials valid for same-region direct s3 access\",\n",
      "    \"Type\": \"VIEW RELATED INFORMATION\"\n",
      "  },\n",
      "  {\n",
      "    \"URL\": \"https://opendap.earthdata.nasa.gov/collections/C1968980576-POCLOUD/granules/S6A_P4_2__LR_RED__NR_025_001_20210713T162644_20210713T182234_F02\",\n",
      "    \"Type\": \"USE SERVICE API\",\n",
      "    \"Subtype\": \"OPENDAP DATA\",\n",
      "    \"Description\": \"OPeNDAP request URL\"\n",
      "  },\n",
      "  {\n",
      "    \"URL\": \"https://archive.podaac.earthdata.nasa.gov/podaac-ops-cumulus-public/JASON_CS_S6A_L2_ALT_LR_RED_OST_NRT_F/S6A_P4_2__LR_RED__NR_025_001_20210713T162644_20210713T182234_F02.data_01.ku.ssha.png\",\n",
      "    \"Type\": \"GET RELATED VISUALIZATION\",\n",
      "    \"Subtype\": \"DIRECT DOWNLOAD\",\n",
      "    \"MimeType\": \"image/png\"\n",
      "  },\n",
      "  {\n",
      "    \"URL\": \"https://archive.podaac.earthdata.nasa.gov/podaac-ops-cumulus-public/JASON_CS_S6A_L2_ALT_LR_RED_OST_NRT_F/S6A_P4_2__LR_RED__NR_025_001_20210713T162644_20210713T182234_F02.data_01.ku.swh_ocean.png\",\n",
      "    \"Type\": \"GET RELATED VISUALIZATION\",\n",
      "    \"Subtype\": \"DIRECT DOWNLOAD\",\n",
      "    \"MimeType\": \"image/png\"\n",
      "  },\n",
      "  {\n",
      "    \"URL\": \"https://archive.podaac.earthdata.nasa.gov/podaac-ops-cumulus-public/JASON_CS_S6A_L2_ALT_LR_RED_OST_NRT_F/S6A_P4_2__LR_RED__NR_025_001_20210713T162644_20210713T182234_F02.data_01.ku.sea_state_bias.png\",\n",
      "    \"Type\": \"GET RELATED VISUALIZATION\",\n",
      "    \"Subtype\": \"DIRECT DOWNLOAD\",\n",
      "    \"MimeType\": \"image/png\"\n",
      "  },\n",
      "  {\n",
      "    \"URL\": \"https://archive.podaac.earthdata.nasa.gov/podaac-ops-cumulus-public/JASON_CS_S6A_L2_ALT_LR_RED_OST_NRT_F/S6A_P4_2__LR_RED__NR_025_001_20210713T162644_20210713T182234_F02.data_01.ku.atm_cor_sig0.png\",\n",
      "    \"Type\": \"GET RELATED VISUALIZATION\",\n",
      "    \"Subtype\": \"DIRECT DOWNLOAD\",\n",
      "    \"MimeType\": \"image/png\"\n",
      "  },\n",
      "  {\n",
      "    \"URL\": \"https://archive.podaac.earthdata.nasa.gov/podaac-ops-cumulus-public/JASON_CS_S6A_L2_ALT_LR_RED_OST_NRT_F/S6A_P4_2__LR_RED__NR_025_001_20210713T162644_20210713T182234_F02.data_01.ku.sig0_ocean.png\",\n",
      "    \"Type\": \"GET RELATED VISUALIZATION\",\n",
      "    \"Subtype\": \"DIRECT DOWNLOAD\",\n",
      "    \"MimeType\": \"image/png\"\n",
      "  }\n",
      "]\n"
     ]
    }
   ],
   "source": [
    "if len(results['items'])>0:\n",
    "    #print(dumps(results['items'][0], indent=2)) #print whole record\n",
    "    print(dumps(results['items'][0]['umm'][\"RelatedUrls\"], indent=2)) #print associated URLs\n",
    "    \n",
    "   # Also, replace timestamp with one corresponding to time of the search.\n",
    "    #timestamp = datetime.utcnow().strftime(\"%Y-%m-%dT%H:%M:%SZ\")"
   ]
  },
  {
   "cell_type": "markdown",
   "metadata": {},
   "source": [
    "The link for http access denoted by `\"Type\": \"GET DATA\"` in the list of `RelatedUrls`.\n",
    "\n",
    "Grab the download URL, but do it in a way that'll work for search results returning any number of granule records:"
   ]
  },
  {
   "cell_type": "code",
   "execution_count": 10,
   "metadata": {
    "ExecuteTime": {
     "end_time": "2020-09-02T16:59:21.636105Z",
     "start_time": "2020-09-02T16:59:21.631030Z"
    }
   },
   "outputs": [
    {
     "data": {
      "text/plain": [
       "['https://archive.podaac.earthdata.nasa.gov/podaac-ops-cumulus-protected/JASON_CS_S6A_L2_ALT_LR_RED_OST_NRT_F/S6A_P4_2__LR_RED__NR_025_001_20210713T162644_20210713T182234_F02.nc']"
      ]
     },
     "execution_count": 10,
     "metadata": {},
     "output_type": "execute_result"
    }
   ],
   "source": [
    "downloads = []\n",
    "\n",
    "for l in results['items'][0]['umm'][\"RelatedUrls\"]:\n",
    "    #if the link starts with the following, it is the download link we want\n",
    "    if 'https://archive.podaac.earthdata.nasa.gov/podaac-ops-cumulus-protected/' in l['URL']: \n",
    "        #we want the .nc file\n",
    "        if '.nc' in l['URL']:\n",
    "            downloads.append(l['URL'])\n",
    "downloads"
   ]
  },
  {
   "cell_type": "markdown",
   "metadata": {
    "ExecuteTime": {
     "end_time": "2020-07-25T12:03:56.780074Z",
     "start_time": "2020-07-25T12:03:56.777273Z"
    }
   },
   "source": [
    "Finish by downloading the files to the data directory in a loop. Overwrite `.update` with a new timestamp on success."
   ]
  },
  {
   "cell_type": "code",
   "execution_count": 15,
   "metadata": {
    "ExecuteTime": {
     "end_time": "2020-09-02T16:59:27.591338Z",
     "start_time": "2020-09-02T16:59:21.638855Z"
    }
   },
   "outputs": [
    {
     "data": {
      "application/vnd.jupyter.widget-view+json": {
       "model_id": "a3c52c154bcd4f4198400b148b81c4a5",
       "version_major": 2,
       "version_minor": 0
      },
      "text/plain": [
       "QUEUEING TASKS | :   0%|          | 0/1 [00:00<?, ?it/s]"
      ]
     },
     "metadata": {},
     "output_type": "display_data"
    },
    {
     "name": "stdout",
     "output_type": "stream",
     "text": [
      "Error while downloading the file h\n",
      "Traceback (most recent call last):\n",
      "  File \"/Users/walschots/anaconda3/lib/python3.10/site-packages/earthaccess/store.py\", line 483, in _download_file\n",
      "    with session.get(\n",
      "  File \"/Users/walschots/anaconda3/lib/python3.10/site-packages/requests/sessions.py\", line 600, in get\n",
      "    return self.request(\"GET\", url, **kwargs)\n",
      "  File \"/Users/walschots/anaconda3/lib/python3.10/site-packages/requests/sessions.py\", line 573, in request\n",
      "    prep = self.prepare_request(req)\n",
      "  File \"/Users/walschots/anaconda3/lib/python3.10/site-packages/requests/sessions.py\", line 484, in prepare_request\n",
      "    p.prepare(\n",
      "  File \"/Users/walschots/anaconda3/lib/python3.10/site-packages/requests/models.py\", line 368, in prepare\n",
      "    self.prepare_url(url, params)\n",
      "  File \"/Users/walschots/anaconda3/lib/python3.10/site-packages/requests/models.py\", line 439, in prepare_url\n",
      "    raise MissingSchema(\n",
      "requests.exceptions.MissingSchema: Invalid URL 'h': No scheme supplied. Perhaps you meant http://h?\n",
      "\n"
     ]
    },
    {
     "data": {
      "application/vnd.jupyter.widget-view+json": {
       "model_id": "dfa144cbd98d4e93aab0ad4481bf54e4",
       "version_major": 2,
       "version_minor": 0
      },
      "text/plain": [
       "PROCESSING TASKS | :   0%|          | 0/1 [00:00<?, ?it/s]"
      ]
     },
     "metadata": {},
     "output_type": "display_data"
    },
    {
     "data": {
      "application/vnd.jupyter.widget-view+json": {
       "model_id": "cd8d5a478d3a43718f5c14bce40c3e69",
       "version_major": 2,
       "version_minor": 0
      },
      "text/plain": [
       "COLLECTING RESULTS | :   0%|          | 0/1 [00:00<?, ?it/s]"
      ]
     },
     "metadata": {},
     "output_type": "display_data"
    },
    {
     "name": "stdout",
     "output_type": "stream",
     "text": [
      "[2023-08-02 14:11:23.926892] SUCCESS: https://archive.podaac.earthdata.nasa.gov/podaac-ops-cumulus-protected/JASON_CS_S6A_L2_ALT_LR_RED_OST_NRT_F/S6A_P4_2__LR_RED__NR_025_001_20210713T162644_20210713T182234_F02.nc\n"
     ]
    }
   ],
   "source": [
    "for f in downloads:\n",
    "    try:\n",
    "        earthaccess.download([f[0]], f\"{data}/{basename(f)}\")\n",
    "    except Exception as e:\n",
    "        print(f\"[{datetime.now()}] FAILURE: {f}\\n\\n{e}\\n\")\n",
    "        raise e\n",
    "    else:\n",
    "        print(f\"[{datetime.now()}] SUCCESS: {f}\")"
   ]
  },
  {
   "cell_type": "markdown",
   "metadata": {},
   "source": [
    "If there were updates to the local time series during this run and no exceptions were raised during the download loop, then overwrite the timestamp file that tracks updates to the data folder (`resources/nrt/.update`):"
   ]
  },
  {
   "cell_type": "code",
   "execution_count": 13,
   "metadata": {
    "ExecuteTime": {
     "end_time": "2020-09-02T16:59:27.594985Z",
     "start_time": "2020-09-02T16:59:27.593145Z"
    }
   },
   "outputs": [],
   "source": [
    "#if len(results['items'])>0:\n",
    "#    with open(f\"{data}/.update\", \"w\") as f:\n",
    "#        f.write(timestamp)"
   ]
  },
  {
   "cell_type": "code",
   "execution_count": null,
   "metadata": {},
   "outputs": [],
   "source": []
  }
 ],
 "metadata": {
  "kernelspec": {
   "display_name": "Python 3 (ipykernel)",
   "language": "python",
   "name": "python3"
  },
  "language_info": {
   "codemirror_mode": {
    "name": "ipython",
    "version": 3
   },
   "file_extension": ".py",
   "mimetype": "text/x-python",
   "name": "python",
   "nbconvert_exporter": "python",
   "pygments_lexer": "ipython3",
   "version": "3.8.13"
  },
  "toc": {
   "base_numbering": 1,
   "nav_menu": {},
   "number_sections": true,
   "sideBar": true,
   "skip_h1_title": true,
   "title_cell": "Table of Contents",
   "title_sidebar": "Contents",
   "toc_cell": true,
   "toc_position": {
    "height": "calc(100% - 180px)",
    "left": "10px",
    "top": "150px",
    "width": "241.528px"
   },
   "toc_section_display": true,
   "toc_window_display": false
  }
 },
 "nbformat": 4,
 "nbformat_minor": 4
}
