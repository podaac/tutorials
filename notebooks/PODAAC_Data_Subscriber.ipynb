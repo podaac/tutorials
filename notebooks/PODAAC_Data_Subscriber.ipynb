{
 "cells": [
  {
   "cell_type": "markdown",
   "id": "1659eb1e",
   "metadata": {},
   "source": [
    "# PO.DAAC Data Subscriber"
   ]
  },
  {
   "cell_type": "markdown",
   "id": "570292a8",
   "metadata": {},
   "source": [
    "## Prerequisites\n",
    "\n",
    "1. Python3 installed\n",
    "2. Earthdata Login account created"
   ]
  },
  {
   "cell_type": "markdown",
   "id": "498f32bf",
   "metadata": {},
   "source": [
    "## 1. Install podaac-data-subscriber\n",
    "\n",
    "Install podaac-data-subscriber from [PyPi](https://pypi.org/project/podaac-data-subscriber/). If the PO.DAAC subscriber is not installed, run the following command:"
   ]
  },
  {
   "cell_type": "code",
   "execution_count": null,
   "id": "f94edfcf",
   "metadata": {},
   "outputs": [],
   "source": [
    "! pip install podaac-data-subscriber"
   ]
  },
  {
   "cell_type": "markdown",
   "id": "6ee3f803",
   "metadata": {},
   "source": [
    "If the PO.DAAC subscriber is already installed, run the following command to install the latest version (`1.14.0`)"
   ]
  },
  {
   "cell_type": "code",
   "execution_count": null,
   "id": "0599644a",
   "metadata": {},
   "outputs": [],
   "source": [
    "! pip install podaac-data-subscriber==1.14.0"
   ]
  },
  {
   "cell_type": "markdown",
   "id": "eb9b7561",
   "metadata": {},
   "source": [
    "Confirm installation is successful"
   ]
  },
  {
   "cell_type": "code",
   "execution_count": null,
   "id": "cd906e43",
   "metadata": {},
   "outputs": [],
   "source": [
    "! podaac-data-subscriber --version"
   ]
  },
  {
   "cell_type": "markdown",
   "id": "58fc9f33",
   "metadata": {},
   "source": [
    "## 2. Setup EDL credentials\n",
    "\n",
    "The netrc used within the script will allow Python scripts to log into any Earthdata Login without being prompted for credentials every time you run. The netrc file should be placed in your HOME directory. To find the location of your HOME directory\n",
    "\n",
    "On UNIX you can use\n",
    "\n",
    "```bash\n",
    "echo $HOME\n",
    "```\n",
    "\n",
    "On Windows you can use\n",
    "\n",
    "```bash\n",
    "echo %HOMEDRIVE%%HOMEPATH%\n",
    "```\n",
    "\n",
    "The output location from the command above should be the location of the .netrc (_netrc on Windows) file.\n",
    "\n",
    "The format of the netrc file is as follows:\n",
    "\n",
    "```\n",
    "machine urs.earthdata.nasa.gov\n",
    "    login <your username>\n",
    "    password <your password>\n",
    "    \n",
    "```\n",
    "\n",
    "for example:\n",
    "\n",
    "```\n",
    "machine urs.earthdata.nasa.gov\n",
    "    login podaacUser\n",
    "    password podaacIsAwesome\n",
    "```\n",
    "\n",
    "If the script cannot find the netrc file, you will be prompted to enter the username and password and the script wont be able to generate the CMR token"
   ]
  },
  {
   "cell_type": "markdown",
   "id": "5c343e1f",
   "metadata": {},
   "source": [
    "## 3. Data Downloader\n",
    "\n",
    "The PO.DAAC Data downloader is a python-based tool for bulk and one-off (or non-often) downloading of data from the PO.DAAC archive\n",
    "\n",
    "To see the run options for the downloader, use the `--help` flag:"
   ]
  },
  {
   "cell_type": "code",
   "execution_count": null,
   "id": "b422fb7b",
   "metadata": {
    "scrolled": true
   },
   "outputs": [],
   "source": [
    "! podaac-data-downloader --help"
   ]
  },
  {
   "cell_type": "markdown",
   "id": "0ecc257a",
   "metadata": {},
   "source": [
    "Download SWOT data between dates. The `--dry-run` flag can be used to preview the files that will be downloaded."
   ]
  },
  {
   "cell_type": "code",
   "execution_count": null,
   "id": "f77bc2e7",
   "metadata": {},
   "outputs": [],
   "source": [
    "! podaac-data-downloader -c SWOT_L2_NALT_IGDR_1.0 -sd 2023-08-05T00:00:00Z -ed 2023-08-08T00:00:00Z -d ./data/SWOT_L2_NALT_IGDR_1.0 --dry-run "
   ]
  },
  {
   "cell_type": "markdown",
   "id": "e53f1da0",
   "metadata": {},
   "source": [
    "If we exclude the --dry-run flag, the data will actually be downloaded to the local machine:"
   ]
  },
  {
   "cell_type": "code",
   "execution_count": null,
   "id": "c026192d",
   "metadata": {},
   "outputs": [],
   "source": [
    "! podaac-data-downloader -c SWOT_L2_NALT_IGDR_1.0 -sd 2023-08-05T00:00:00Z -ed 2023-08-06T00:00:00Z -d ./data/SWOT_L2_NALT_IGDR_1.0"
   ]
  },
  {
   "cell_type": "markdown",
   "id": "8d5bfa43",
   "metadata": {},
   "source": [
    "Download granules that match wildcard:"
   ]
  },
  {
   "cell_type": "code",
   "execution_count": null,
   "id": "e8cacec5",
   "metadata": {},
   "outputs": [],
   "source": [
    "! podaac-data-downloader -c SWOT_L2_NALT_IGDR_1.0 -g \"SWOT_IPR_2PfP001_46*\" -d ./data/SWOT_L2_NALT_IGDR_1.0_wildcard"
   ]
  },
  {
   "cell_type": "markdown",
   "id": "9662ce7f",
   "metadata": {},
   "source": [
    "Download data in bbox:"
   ]
  },
  {
   "cell_type": "code",
   "execution_count": null,
   "id": "af19ee51",
   "metadata": {},
   "outputs": [],
   "source": [
    "! podaac-data-downloader -c MODIS_A-JPL-L2P-v2019.0 -sd 2023-08-05T00:00:00Z -ed 2023-08-06T00:00:00Z -b=\"-180,-90,0,0\" -d ./data/MODIS_A-JPL-L2P-v2019.0"
   ]
  },
  {
   "cell_type": "markdown",
   "id": "38dbd3cc",
   "metadata": {},
   "source": [
    "Download OPERA .tif files:"
   ]
  },
  {
   "cell_type": "code",
   "execution_count": null,
   "id": "f570c2ac",
   "metadata": {},
   "outputs": [],
   "source": [
    "! podaac-data-downloader -c OPERA_L3_DSWX-HLS_PROVISIONAL_V1 -sd 2023-08-04T00:00:00Z -ed 2023-08-04T00:17:00Z -e .tif -d ./data/OPERA_L3_DSWX-HLS_PROVISIONAL_V1"
   ]
  },
  {
   "cell_type": "markdown",
   "id": "bb0d01b3",
   "metadata": {},
   "source": [
    "Download S6 data by cycle:"
   ]
  },
  {
   "cell_type": "code",
   "execution_count": null,
   "id": "4868f4f8",
   "metadata": {},
   "outputs": [],
   "source": [
    "! podaac-data-downloader -c JASON_CS_S6A_L2_ALT_HR_RED_OST_NRT_F --cycle 100 --limit 10 -d ./data/JASON_CS_S6A_L2_ALT_HR_RED_OST_NRT_F"
   ]
  },
  {
   "cell_type": "markdown",
   "id": "df99f044",
   "metadata": {},
   "source": [
    "## 3. Data Subscriber\n",
    "\n",
    "The subscriber is useful for users who need to continuously pull the latest data from the PO.DAAC archive. If you repeatedly run the script, you will only download the latest data."
   ]
  },
  {
   "cell_type": "code",
   "execution_count": null,
   "id": "560e19a4",
   "metadata": {},
   "outputs": [],
   "source": [
    "! podaac-data-subscriber -c MODIS_A-JPL-L2P-v2019.0 -sd 2023-08-09T12:00:00Z -d ./data/MODIS_A-JPL-L2P-v2019.0"
   ]
  }
 ],
 "metadata": {
  "kernelspec": {
   "display_name": "Python 3 (ipykernel)",
   "language": "python",
   "name": "python3"
  },
  "language_info": {
   "codemirror_mode": {
    "name": "ipython",
    "version": 3
   },
   "file_extension": ".py",
   "mimetype": "text/x-python",
   "name": "python",
   "nbconvert_exporter": "python",
   "pygments_lexer": "ipython3",
   "version": "3.11.4"
  }
 },
 "nbformat": 4,
 "nbformat_minor": 5
}
