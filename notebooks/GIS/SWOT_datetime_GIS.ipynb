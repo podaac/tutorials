{
 "cells": [
  {
   "cell_type": "markdown",
   "metadata": {},
   "source": [
    "![](https://img.shields.io/badge/PO.DAAC-Contribution-%20?color=grey&labelColor=blue)\n",
    "\n",
    "> From the PO.DAAC Cookbook, to access the GitHub version of the notebook, follow [this link](https://github.com/podaac/tutorials/blob/master/notebooks/GIS/SWOT_datetime_GIS.ipynb).\n",
    "\n",
    "_Note: This notebook uses Version C (2.0) of SWOT data that was available at the time of this notebook's development. The most recent data is now available as Version D for SWOT collections._\n",
    "_The last Version C measurement will be until May 3rd, 2025. The first Version D measurement starts on May 5th, 2025._\n",
    "\n",
    "# SWOT Date/Time Transformation\n",
    "\n",
    "Authored by Nicholas Tarpinian, *PO.DAAC*\n",
    "\n",
    "## Summary\n",
    "\n",
    "The following workflow lets you create time series plots with various Geographical Information System (GIS) Desktop softwares by transforming SWOT_L2_HR_RiverSP_2.0 Shapefile vector datasets.\n",
    "\n",
    "------"
   ]
  },
  {
   "cell_type": "markdown",
   "metadata": {},
   "source": [
    "## Requirements\n",
    "\n",
    "### 1. Compute environment\n",
    "\n",
    "- **Local compute environment** e.g. laptop, server: this tutorial can be run on your local machine.\n",
    "\n",
    "### 2. Earthdata Login\n",
    "\n",
    "An Earthdata Login account is required to access data, as well as discover restricted data, from the NASA Earthdata system. Thus, to access NASA data, you need Earthdata Login. Please visit https://urs.earthdata.nasa.gov to register and manage your Earthdata Login account. This account is free to create and only takes a moment to set up.\n",
    "\n",
    "------"
   ]
  },
  {
   "cell_type": "markdown",
   "metadata": {},
   "source": [
    "### Learning Objectives:\n",
    "- Accessing SWOT shapefile hydrology dataset through earthaccess and downloading it locally.\n",
    "- Utilizing geoprocessing tools with GIS Desktop Softwares; ArcGIS Pro and QGIS.\n",
    "- Transforming 'time_str' attribute/variable to a Date/Time data type.   \n",
    "- Utilizing the new data type variable to create a time series plot/chart.\n",
    "\n",
    "------"
   ]
  },
  {
   "cell_type": "markdown",
   "metadata": {},
   "source": [
    "### Import libraries"
   ]
  },
  {
   "cell_type": "code",
   "execution_count": 1,
   "metadata": {},
   "outputs": [],
   "source": [
    "import os\n",
    "import glob \n",
    "from pathlib import Path\n",
    "import numpy as np\n",
    "import pandas as pd\n",
    "import geopandas as gpd\n",
    "import matplotlib.pyplot as plt\n",
    "import contextily as cx\n",
    "import zipfile\n",
    "import earthaccess"
   ]
  },
  {
   "cell_type": "markdown",
   "metadata": {},
   "source": [
    "## Authentication with earthaccess\n",
    "\n",
    "In this notebook, we will be calling the authentication in the below cell."
   ]
  },
  {
   "cell_type": "code",
   "execution_count": 2,
   "metadata": {},
   "outputs": [],
   "source": [
    "auth = earthaccess.login()"
   ]
  },
  {
   "cell_type": "markdown",
   "metadata": {},
   "source": [
    "### Search using `earthaccess` for SWOT River Reaches\n",
    "\n",
    "Each dataset has it's own unique collection concept ID. For this dataset it is SWOT_L2_HR_RiverSP_2.0. SWOT files come in \"reach\" and \"node\" versions in this same collection, here we want the 10km reaches rather than the nodes. We will also only get files for North America, or 'NA'. "
   ]
  },
  {
   "cell_type": "code",
   "execution_count": 3,
   "metadata": {},
   "outputs": [
    {
     "name": "stdout",
     "output_type": "stream",
     "text": [
      "Granules found: 192\n"
     ]
    }
   ],
   "source": [
    "results = earthaccess.search_data(short_name = 'SWOT_L2_HR_RIVERSP_2.0', \n",
    "                                  temporal = ('2024-02-01 00:00:00', '2024-02-29 23:59:59'), # can also specify by time\n",
    "                                  granule_name = '*Reach*_NA_*') # here we filter by Reach files (not node), continent code=NA"
   ]
  },
  {
   "cell_type": "markdown",
   "metadata": {},
   "source": [
    "### Download the Data into a folder"
   ]
  },
  {
   "cell_type": "code",
   "execution_count": null,
   "metadata": {},
   "outputs": [],
   "source": [
    "earthaccess.download(results, \"../datasets/data_downloads/SWOT_files\")"
   ]
  },
  {
   "cell_type": "markdown",
   "metadata": {},
   "source": [
    "### Unzip shapefiles to existing folder"
   ]
  },
  {
   "cell_type": "code",
   "execution_count": null,
   "metadata": {},
   "outputs": [],
   "source": [
    "folder = Path(\"../datasets/data_downloads/SWOT_files\")\n",
    "for item in os.listdir(folder): # loop through items in dir\n",
    "    if item.endswith(\".zip\"): # check for \".zip\" extension\n",
    "        zip_ref = zipfile.ZipFile(f\"{folder}/{item}\") # create zipfile object\n",
    "        zip_ref.extractall(folder) # extract file to dir\n",
    "        zip_ref.close() # close file"
   ]
  },
  {
   "cell_type": "markdown",
   "metadata": {},
   "source": [
    "### Merging multiple reaches to a single shapefile\n",
    "\n",
    "Since a time series plot will be created, merging all the shapefiles to one will be the better option."
   ]
  },
  {
   "cell_type": "code",
   "execution_count": null,
   "metadata": {},
   "outputs": [],
   "source": [
    "# State filename extension to look for within folder, in this case .shp which is the shapefile\n",
    "shapefiles = folder.glob(\"*.shp\")\n",
    "\n",
    "# Merge/Combine multiple shapefiles in folder into one\n",
    "gdf = pd.concat([\n",
    "    gpd.read_file(shp)\n",
    "    for shp in shapefiles\n",
    "]).pipe(gpd.GeoDataFrame)\n",
    "\n",
    "# Export merged geodataframe into shapefile\n",
    "gdf.to_file(folder / 'SWOTReaches.shp')"
   ]
  },
  {
   "cell_type": "markdown",
   "metadata": {},
   "source": [
    "## ArcGIS Pro\n",
    "\n",
    "Esri's ArcGIS Pro offers a geoproccesing tool called 'Convert Time Field'. \n",
    "\n",
    "This allows the transformation of date and time values to be created from one field to another. \n",
    "\n",
    "In this case the date/time field 'time_str' is in a text data type format. It needs to be converted to a date/time data type in order to create a time series plot.\n",
    "\n",
    "The ‘no_data’ values do not get converted; it keeps it as ‘NULL’\n",
    "\n",
    "<nop/> <div style=\"width: 500px;\">![](../../images/swot_datetime/arcpro_datetime_1.PNG)</div>"
   ]
  },
  {
   "cell_type": "markdown",
   "metadata": {},
   "source": [
    "Once the new field is created, this allows for the creation of a time series plot.\n",
    "\n",
    "This is a great way to observe an area with multiple days of measurements.\n",
    "\n",
    "In this case, we will configure a line plot in the chart properties of the median of water surface elevation 'wse'.\n",
    "\n",
    "<nop/> <div style=\"width: 250px;\">![](../../images/swot_datetime/arcpro_datetime_2.PNG)</div>\n",
    "\n",
    "<nop/> <div style=\"width: 1100px;\">![](../../images/swot_datetime/arcpro_datetime_3.PNG)</div>"
   ]
  },
  {
   "cell_type": "markdown",
   "metadata": {},
   "source": [
    "## QGIS\n",
    "\n",
    "QGIS offers a geoproccesing tool called 'Refactor Fields'. \n",
    "\n",
    "This modifies the date/time values of the current field and creates a new layer.\n",
    "\n",
    "In this case the date/time field 'time_str' can be changed to a date/time data type.\n",
    "\n",
    "<nop/> <div style=\"width: 700px;\">![](../../images/swot_datetime/qgis_datetime_1.PNG)</div>\n",
    "\n",
    "In the 'type' section, you can select the data type of your choosing but for this case we will select 'Date & Time'.\n",
    "\n",
    "The new layer can be saved to memory as a temporary layer, but its best to save the layer locally.\n",
    "\n",
    "<nop/> <div style=\"width: 700px;\">![](../../images/swot_datetime/qgis_datetime_2.png)</div>"
   ]
  },
  {
   "cell_type": "markdown",
   "metadata": {},
   "source": [
    "The new layer created does not include the 'no_data' values.\n",
    "\n",
    "As shown in the image below; the black symbology is the original layer and the red symbology is the newly created layer without the 'no_data' values.\n",
    "\n",
    "<nop/> <div style=\"width: 400px;\">![](../../images/swot_datetime/qgis_datetime_3.PNG)</div>"
   ]
  },
  {
   "cell_type": "markdown",
   "metadata": {},
   "source": [
    "Within the processing toolbox, to create a time series select the 'Plots' category to show the various ways of plotting data.\n",
    "\n",
    "<nop/> <div style=\"width: 400px;\">![](../../images/swot_datetime/qgis_datetime_4.PNG)</div>"
   ]
  },
  {
   "cell_type": "markdown",
   "metadata": {},
   "source": [
    "There also is the option of using the plugin [DataPlotly](https://dataplotly-docs.readthedocs.io/en/latest/intro.html), which utilizes the python library Plotly.\n",
    "\n",
    "This offers a variety of ways to plot and customize your charts.\n",
    "\n",
    "For this example, we will configure a box plot looking at both time and 'wse'. Also, querying 'wse' to only include values greater than 0, so it does not include any negative values.\n",
    "\n",
    "<nop/> <div style=\"width: 600px;\">![](../../images/swot_datetime/qgis_datetime_5.PNG)</div>"
   ]
  },
  {
   "cell_type": "markdown",
   "metadata": {},
   "source": [
    "This plot showcases the data without the date/time transformation for a single month.\n",
    "\n",
    "<nop/> <div style=\"width: 700px;\">![](../../images/swot_datetime/qgis_datetime_6.PNG)</div>\n",
    "\n",
    "This plot is the same single month dataset but with the date/time transformation.\n",
    "\n",
    "<nop/> <div style=\"width: 700px;\">![](../../images/swot_datetime/qgis_datetime_7.png)</div>\n",
    "\n",
    "This plot showcases a single pass river reach as the same transformed image from above.\n",
    "\n",
    "<nop/> <div style=\"width: 700px;\">![](../../images/swot_datetime/qgis_datetime_8.png)</div>"
   ]
  }
 ],
 "metadata": {
  "kernelspec": {
   "display_name": "Python 3 (ipykernel)",
   "language": "python",
   "name": "python3"
  },
  "language_info": {
   "codemirror_mode": {
    "name": "ipython",
    "version": 3
   },
   "file_extension": ".py",
   "mimetype": "text/x-python",
   "name": "python",
   "nbconvert_exporter": "python",
   "pygments_lexer": "ipython3",
   "version": "3.8.13"
  }
 },
 "nbformat": 4,
 "nbformat_minor": 4
}
