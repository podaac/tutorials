{
 "cells": [
  {
   "cell_type": "markdown",
   "metadata": {},
   "source": [
    "# GDAL NetCDF to Geotiff Conversion\n",
    "\n",
    "Authored by Nicholas Tarpinian, *PO.DAAC*\n",
    "\n",
    "## Summary\n",
    "\n",
    "The following workflow lets you transform SWOT_L2_HR_Raster_1.0 NetCDF raster image to a GeoTIFF image, while extracting the variable of interest of WSE (Water Surface Elevation).\n",
    "\n",
    "Utiliziing the [PODAAC Data Subscriber tool](https://github.com/podaac/data-subscriber) to download SWOT files onto your system.\n",
    "\n",
    "------"
   ]
  },
  {
   "cell_type": "markdown",
   "metadata": {},
   "source": [
    "## Requirements\n",
    "\n",
    "1. This tutorial can be run in both a Windows & Mac environment. (Both subscriber tool and GDAL.)\n",
    "\n",
    "2. First install [GDAL](https://gdal.org/) and the GDAL Command Line Interface (CLI) onto your system. The GDAL CLI is a tool that lets your perform a variety of geospatial transformations and analysis with geospatial raster and vector data.\n",
    "\n",
    "3. Earthdata Login - An Earthdata Login account is required to access data, as well as discover restricted data, from the NASA Earthdata system. Thus, to access NASA data, you need Earthdata Login. Please visit https://urs.earthdata.nasa.gov to register and manage your Earthdata Login account. This account is free to create and only takes a moment to set up.\n",
    "\n",
    "4. netrc File - You will need a `.netrc` file containing your NASA Earthdata Login credentials in order to execute the notebooks. A `.netrc` file can be created manually within text editor and saved to your home directory. For additional information see: [Authentication for NASA Earthdata tutorial](https://nasa-openscapes.github.io/2021-Cloud-Workshop-AGU/tutorials/02_NASA_Earthdata_Authentication.html).\n",
    "\n",
    "5. PODAAC Data Subscriber tool - To download the latest PO.DAAC datasets to your system proceed to the [podaac-data-subscriber package](https://github.com/podaac/data-subscriber#installation) to properly install onto your system. \n",
    "\n",
    "------"
   ]
  },
  {
   "cell_type": "markdown",
   "metadata": {},
   "source": [
    "## Learning Objectives\n",
    "\n",
    "- Downloading SWOT data using the podaac-data-downloader.\n",
    "- Utilizing GDAL (Geospatial Data Abstraction Library) to convert NetCDF files to GeoTIFF.\n",
    "- Specifiying which variable to convert to a single band image.\n",
    "- Also converting a folder of NetCDF files to GeoTIFF.\n",
    "\n",
    "------"
   ]
  },
  {
   "cell_type": "markdown",
   "metadata": {},
   "source": [
    "### Calling the Data Subscriber\n",
    "\n",
    "After installing the podaac-data-subscriber, the following command can be used in the Windows CLI Command Prompt interface to download the latest SWOT data. \n",
    "\n",
    "For more info on the [PODAAC Data Downloader](https://github.com/podaac/data-subscriber/blob/main/Downloader.md)."
   ]
  },
  {
   "cell_type": "code",
   "execution_count": null,
   "metadata": {},
   "outputs": [],
   "source": [
    "podaac-data-downloader -c SWOT_L2_HR_Raster_1.0 -d Output Directory -sd 2023-06-22T19:30:00Z -ed 2023-06-22T19:35:00Z"
   ]
  },
  {
   "cell_type": "markdown",
   "metadata": {},
   "source": [
    "### GDAL Transformation\n",
    "\n",
    "Transformation of the dataset is being done in the GDAL CLI.\n",
    "\n",
    "[GDALMDIMTRANSLATE](https://gdal.org/programs/gdalmdimtranslate.html) converts multidimenstional data between different formats.\n",
    "\n",
    "E.g. gdalmdimtranslate -of (output format) -co (creation option) -array (variable name) Input_FileName.nc Output_FileName.tif\n"
   ]
  },
  {
   "cell_type": "markdown",
   "metadata": {},
   "source": [
    "Using gdalmdimtranslate to convert a single NetCDF file to GeoTIFF. We are choosing the water surface elevation (wse) variable to transform."
   ]
  },
  {
   "cell_type": "code",
   "execution_count": null,
   "metadata": {},
   "outputs": [],
   "source": [
    "gdalmdimtranslate -of GTiff -co COMPRESS=LZW -array wse 'input_SWOT_NetCDF_file/SWOT_Raster_NetCDF/SWOT_L2_HR_Raster_250m_UTM11U_N_x_x_x_560_013_127F_20230622T193116_20230622T193137_PIA1_01.nc' 'output_path/wse_swot.tif'"
   ]
  },
  {
   "cell_type": "markdown",
   "metadata": {},
   "source": [
    "To convert multiple NetCDF files within a folder, you can run a batch process of gdalmdimtranslate with a For Loop within the GDAL CLI. '*.nc' searching for all files containing a NetCDF extension within the folder."
   ]
  },
  {
   "cell_type": "code",
   "execution_count": null,
   "metadata": {},
   "outputs": [],
   "source": [
    "for %f in ('input_SWOT_Folder\\SWOT_Raster_NetCDF\\*.nc') do (\n",
    "gdalmdimtranslate -of GTiff -co COMPRESS=LZW -array wse NETCDF:\"%f\" \"path_to_output_folder\\SWOT_GeoTIFF\\%~nf.tif\"\n",
    ")"
   ]
  }
 ],
 "metadata": {
  "kernelspec": {
   "display_name": "Python 3 (ipykernel)",
   "language": "python",
   "name": "python3"
  },
  "language_info": {
   "codemirror_mode": {
    "name": "ipython",
    "version": 3
   },
   "file_extension": ".py",
   "mimetype": "text/x-python",
   "name": "python",
   "nbconvert_exporter": "python",
   "pygments_lexer": "ipython3",
   "version": "3.8.13"
  }
 },
 "nbformat": 4,
 "nbformat_minor": 4
}
