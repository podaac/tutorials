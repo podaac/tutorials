{
 "cells": [
  {
   "cell_type": "markdown",
   "metadata": {},
   "source": [
    "> From the PO.DAAC Cookbook, to access the GitHub version of the notebook, follow [this link](https://github.com/podaac/tutorials/blob/master/notebooks/GIS/SWOTsample_CSVconversion.ipynb)."
   ]
  },
  {
   "cell_type": "markdown",
   "metadata": {},
   "source": [
    "# SWOT Shapefile Data Conversion to CSV\n",
    "\n",
    "### Notebook showcasing how to merge/concatenate multiple shapefiles into a single file.\n",
    "- Utilizing the merged shapefile and converting it to a csv file.\n",
    "- Option to query the new dataset based on users choice; either 'reach_id' or water surface elevation ('wse'), etc.\n",
    "- Using the queried variable to export it as a csv or shapefile.\n",
    "\n",
    "### Import libraries"
   ]
  },
  {
   "cell_type": "code",
   "execution_count": 7,
   "metadata": {},
   "outputs": [],
   "source": [
    "import geopandas as gpd\n",
    "import glob\n",
    "from pathlib import Path\n",
    "import pandas as pd\n",
    "import os\n",
    "import zipfile\n",
    "import earthaccess\n",
    "from earthaccess import Auth, DataCollections, DataGranules, Store"
   ]
  },
  {
   "cell_type": "markdown",
   "metadata": {},
   "source": [
    "## Before you start\n",
    "\n",
    "Before you beginning this tutorial, make sure you have an account in the Earthdata Login, which is required to access data from the NASA Earthdata system. Please visit https://urs.earthdata.nasa.gov to register for an Earthdata Login account. It is free to create and only takes a moment to set up.\n",
    "\n",
    "You will also need a netrc file containing your NASA Earthdata Login credentials in order to execute this notebook. A netrc file can be created manually within text editor and saved to your home directory. For additional information see: [Authentication for NASA Earthdata](https://nasa-openscapes.github.io/2021-Cloud-Hackathon/tutorials/04_NASA_Earthdata_Authentication.html#authentication-via-netrc-file) \n",
    "\n",
    "In this notebook, we will be calling the authentication in the below cell."
   ]
  },
  {
   "cell_type": "code",
   "execution_count": null,
   "metadata": {},
   "outputs": [],
   "source": [
    "#auth = earthaccess.login(strategy=\"interactive\", persist=True) #if you do not have a netrc created, this line will do so with your credentials\n",
    "auth = earthaccess.login(strategy=\"netrc\")  #if you have created a netrc prior with your NASA Earthdata credentials, use strategy=\"netrc\" to login"
   ]
  },
  {
   "cell_type": "markdown",
   "metadata": {},
   "source": [
    "### Search Common Metadata Repository (CMR) for SWOT sample data links by Shapefile\n",
    "We want to find the SWOT sample files that will cross over our region of interest. For this tutorial, we use a shapefile of the United States, finding 44 total granules. Each dataset has it's own unique collection ID. For the SWOT_SIMULATED_NA_CONTINENT_L2_HR_RIVERSP_V1 dataset, we can find the collection ID [here](https://podaac.jpl.nasa.gov/dataset/SWOT_SIMULATED_NA_CONTINENT_L2_HR_RIVERSP_V1)."
   ]
  },
  {
   "cell_type": "code",
   "execution_count": 4,
   "metadata": {},
   "outputs": [
    {
     "name": "stdout",
     "output_type": "stream",
     "text": [
      "Granules found: 46\n"
     ]
    }
   ],
   "source": [
    "results = earthaccess.search_data(concept_id=\"C2263384307-POCLOUD\", bounding_box=(-124.848974,24.396308,-66.885444,49.384358))"
   ]
  },
  {
   "cell_type": "markdown",
   "metadata": {},
   "source": [
    "### Get Download links from CMR search results"
   ]
  },
  {
   "cell_type": "code",
   "execution_count": 5,
   "metadata": {},
   "outputs": [
    {
     "name": "stdout",
     "output_type": "stream",
     "text": [
      "23\n"
     ]
    }
   ],
   "source": [
    "downloads = []\n",
    "for g in results:\n",
    "    for l in earthaccess.results.DataGranule.data_links(g):\n",
    "        if 'https://archive.podaac.earthdata.nasa.gov/podaac-ops-cumulus-protected/' in l:\n",
    "            if 'Reach' in l:\n",
    "            #if the link has \"Reach\" instead of \"Node\" in the name, we want to download it for the swath use case\n",
    "                downloads.append(l)\n",
    "            \n",
    "print(len(downloads))"
   ]
  },
  {
   "cell_type": "markdown",
   "metadata": {},
   "source": [
    "### Download the Data into a folder"
   ]
  },
  {
   "cell_type": "code",
   "execution_count": 8,
   "metadata": {},
   "outputs": [],
   "source": [
    "#Create folder to house downloaded data \n",
    "folder = Path(\"SWOT_sample_files\")\n",
    "#newpath = r'SWOT_sample_files' \n",
    "if not os.path.exists(folder):\n",
    "    os.makedirs(folder)"
   ]
  },
  {
   "cell_type": "code",
   "execution_count": 9,
   "metadata": {},
   "outputs": [
    {
     "data": {
      "application/vnd.jupyter.widget-view+json": {
       "model_id": "01dd734ed3c34d559a573769ee756d5f",
       "version_major": 2,
       "version_minor": 0
      },
      "text/plain": [
       "QUEUEING TASKS | :   0%|          | 0/23 [00:00<?, ?it/s]"
      ]
     },
     "metadata": {},
     "output_type": "display_data"
    },
    {
     "data": {
      "application/vnd.jupyter.widget-view+json": {
       "model_id": "2b10da1e98ed483a9bf9f4c42cd38838",
       "version_major": 2,
       "version_minor": 0
      },
      "text/plain": [
       "PROCESSING TASKS | :   0%|          | 0/23 [00:00<?, ?it/s]"
      ]
     },
     "metadata": {},
     "output_type": "display_data"
    },
    {
     "data": {
      "application/vnd.jupyter.widget-view+json": {
       "model_id": "081ce78e3d6649a2b354fd9cd1467862",
       "version_major": 2,
       "version_minor": 0
      },
      "text/plain": [
       "COLLECTING RESULTS | :   0%|          | 0/23 [00:00<?, ?it/s]"
      ]
     },
     "metadata": {},
     "output_type": "display_data"
    },
    {
     "data": {
      "text/plain": [
       "['SWOT_L2_HR_RiverSP_Reach_007_022_NA_20220804T224145_20220804T224402_PGA0_01.zip',\n",
       " 'SWOT_L2_HR_RiverSP_Reach_007_037_NA_20220805T115553_20220805T120212_PGA0_01.zip',\n",
       " 'SWOT_L2_HR_RiverSP_Reach_007_065_NA_20220806T115630_20220806T120114_PGA0_01.zip',\n",
       " 'SWOT_L2_HR_RiverSP_Reach_007_104_NA_20220807T205936_20220807T210016_PGA0_01.zip',\n",
       " 'SWOT_L2_HR_RiverSP_Reach_007_121_NA_20220808T115628_20220808T120311_PGA0_01.zip',\n",
       " 'SWOT_L2_HR_RiverSP_Reach_007_132_NA_20220808T210018_20220808T210252_PGA0_01.zip',\n",
       " 'SWOT_L2_HR_RiverSP_Reach_007_147_NA_20220809T101525_20220809T101639_PGA0_01.zip',\n",
       " 'SWOT_L2_HR_RiverSP_Reach_007_162_NA_20220809T224722_20220809T225058_PGA0_01.zip',\n",
       " 'SWOT_L2_HR_RiverSP_Reach_007_175_NA_20220810T101607_20220810T101940_PGA0_01.zip',\n",
       " 'SWOT_L2_HR_RiverSP_Reach_007_177_NA_20220810T120102_20220810T120420_PGA0_01.zip',\n",
       " 'SWOT_L2_HR_RiverSP_Reach_007_203_NA_20220811T101614_20220811T102211_PGA0_01.zip',\n",
       " 'SWOT_L2_HR_RiverSP_Reach_007_205_NA_20220811T120350_20220811T120457_PGA0_01.zip',\n",
       " 'SWOT_L2_HR_RiverSP_Reach_007_287_NA_20220814T101759_20220814T102333_PGA0_01.zip',\n",
       " 'SWOT_L2_HR_RiverSP_Reach_007_300_NA_20220814T210504_20220814T210907_PGA0_01.zip',\n",
       " 'SWOT_L2_HR_RiverSP_Reach_007_315_NA_20220815T101757_20220815T102414_PGA0_01.zip',\n",
       " 'SWOT_L2_HR_RiverSP_Reach_007_343_NA_20220816T101844_20220816T102323_PGA0_01.zip',\n",
       " 'SWOT_L2_HR_RiverSP_Reach_007_371_NA_20220817T101846_20220817T102530_PGA0_01.zip',\n",
       " 'SWOT_L2_HR_RiverSP_Reach_007_427_NA_20220819T101956_20220819T102559_PGA0_01.zip',\n",
       " 'SWOT_L2_HR_RiverSP_Reach_007_440_NA_20220819T210905_20220819T211311_PGA0_01.zip',\n",
       " 'SWOT_L2_HR_RiverSP_Reach_007_453_NA_20220820T083815_20220820T084053_PGA0_01.zip',\n",
       " 'SWOT_L2_HR_RiverSP_Reach_007_468_NA_20220820T211105_20220820T211330_PGA0_01.zip',\n",
       " 'SWOT_L2_HR_RiverSP_Reach_007_483_NA_20220821T102527_20220821T102706_PGA0_01.zip',\n",
       " 'SWOT_L2_HR_RiverSP_Reach_007_522_NA_20220822T192441_20220822T193037_PGA0_01.zip']"
      ]
     },
     "execution_count": 9,
     "metadata": {},
     "output_type": "execute_result"
    }
   ],
   "source": [
    "earthaccess.download(downloads, \"./SWOT_sample_files\")"
   ]
  },
  {
   "cell_type": "markdown",
   "metadata": {},
   "source": [
    "### Unzip shapefiles in existing folder"
   ]
  },
  {
   "cell_type": "code",
   "execution_count": 10,
   "metadata": {},
   "outputs": [],
   "source": [
    "for item in os.listdir(folder): # loop through items in dir\n",
    "    if item.endswith(\".zip\"): # check for \".zip\" extension\n",
    "        zip_ref = zipfile.ZipFile(f\"{folder}/{item}\") # create zipfile object\n",
    "        zip_ref.extractall(folder) # extract file to dir\n",
    "        zip_ref.close() # close file"
   ]
  },
  {
   "cell_type": "markdown",
   "metadata": {},
   "source": [
    "### Merging two seperate shapefiles into one"
   ]
  },
  {
   "cell_type": "code",
   "execution_count": 11,
   "metadata": {},
   "outputs": [
    {
     "name": "stderr",
     "output_type": "stream",
     "text": [
      "/Users/walschots/anaconda3/lib/python3.10/site-packages/geopandas/io/file.py:299: FutureWarning: pandas.Int64Index is deprecated and will be removed from pandas in a future version. Use pandas.Index with the appropriate dtype instead.\n",
      "  pd.Int64Index,\n"
     ]
    }
   ],
   "source": [
    "# Read shapefiles\n",
    "SWOT_1 = gpd.read_file(folder / 'SWOT_L2_HR_RiverSP_Reach_007_037_NA_20220805T115553_20220805T120212_PGA0_01.shp')\n",
    "SWOT_2 = gpd.read_file(folder / 'SWOT_L2_HR_RiverSP_Reach_007_065_NA_20220806T115630_20220806T120114_PGA0_01.shp')\n",
    " \n",
    "# Merge/Combine multiple shapefiles into one\n",
    "SWOT_Merge = gpd.pd.concat([SWOT_1, SWOT_2])\n",
    " \n",
    "#Export merged geodataframe into shapefile\n",
    "SWOT_Merge.to_file(folder / 'SWOT_Merge.shp')"
   ]
  },
  {
   "cell_type": "markdown",
   "metadata": {},
   "source": [
    "### Merging multiple shapefiles from within a folder"
   ]
  },
  {
   "cell_type": "code",
   "execution_count": 12,
   "metadata": {},
   "outputs": [
    {
     "name": "stderr",
     "output_type": "stream",
     "text": [
      "/Users/walschots/anaconda3/lib/python3.10/site-packages/geopandas/io/file.py:299: FutureWarning: pandas.Int64Index is deprecated and will be removed from pandas in a future version. Use pandas.Index with the appropriate dtype instead.\n",
      "  pd.Int64Index,\n"
     ]
    }
   ],
   "source": [
    "# State filename extension to look for within folder, in this case .shp which is the shapefile\n",
    "shapefiles = folder.glob(\"*.shp\")\n",
    "\n",
    "# Merge/Combine multiple shapefiles in folder into one\n",
    "gdf = pd.concat([\n",
    "    gpd.read_file(shp)\n",
    "    for shp in shapefiles\n",
    "]).pipe(gpd.GeoDataFrame)\n",
    "\n",
    "# Export merged geodataframe into shapefile\n",
    "gdf.to_file(folder / 'SWOTReaches.shp')"
   ]
  },
  {
   "cell_type": "markdown",
   "metadata": {},
   "source": [
    "### Converting to CSV\n",
    "\n",
    "Converting merged geodataframe into a csv file. "
   ]
  },
  {
   "cell_type": "code",
   "execution_count": 13,
   "metadata": {},
   "outputs": [],
   "source": [
    "gdf.to_csv(folder / 'csvmerge.csv')"
   ]
  },
  {
   "cell_type": "markdown",
   "metadata": {},
   "source": [
    "### Querying a Shapefile\n",
    "\n",
    "If you want to search for a specific reach id or a specific length of river reach that is possible through a spatial query using Geopandas. \n",
    "\n",
    "Utilizing comparison operators (>, <, ==, >=, <=).\n",
    "\n",
    "You can zoom into a particular river reach by specifying by it’s reach_id or looking for duplicate overlapping river reaches."
   ]
  },
  {
   "cell_type": "code",
   "execution_count": 14,
   "metadata": {},
   "outputs": [
    {
     "data": {
      "text/html": [
       "<div>\n",
       "<style scoped>\n",
       "    .dataframe tbody tr th:only-of-type {\n",
       "        vertical-align: middle;\n",
       "    }\n",
       "\n",
       "    .dataframe tbody tr th {\n",
       "        vertical-align: top;\n",
       "    }\n",
       "\n",
       "    .dataframe thead th {\n",
       "        text-align: right;\n",
       "    }\n",
       "</style>\n",
       "<table border=\"1\" class=\"dataframe\">\n",
       "  <thead>\n",
       "    <tr style=\"text-align: right;\">\n",
       "      <th></th>\n",
       "      <th>reach_id</th>\n",
       "      <th>time</th>\n",
       "      <th>time_tai</th>\n",
       "      <th>time_str</th>\n",
       "      <th>p_lat</th>\n",
       "      <th>p_lon</th>\n",
       "      <th>river_name</th>\n",
       "      <th>wse</th>\n",
       "      <th>wse_u</th>\n",
       "      <th>wse_r_u</th>\n",
       "      <th>...</th>\n",
       "      <th>p_width</th>\n",
       "      <th>p_wid_var</th>\n",
       "      <th>p_n_nodes</th>\n",
       "      <th>p_dist_out</th>\n",
       "      <th>p_length</th>\n",
       "      <th>p_maf</th>\n",
       "      <th>p_dam_id</th>\n",
       "      <th>p_n_ch_max</th>\n",
       "      <th>p_n_ch_mod</th>\n",
       "      <th>geometry</th>\n",
       "    </tr>\n",
       "  </thead>\n",
       "  <tbody>\n",
       "    <tr>\n",
       "      <th>51</th>\n",
       "      <td>74292500301</td>\n",
       "      <td>-1.000000e+12</td>\n",
       "      <td>-1.000000e+12</td>\n",
       "      <td>no_data</td>\n",
       "      <td>40.063235</td>\n",
       "      <td>-98.551296</td>\n",
       "      <td>no_data</td>\n",
       "      <td>-1.000000e+12</td>\n",
       "      <td>-1.000000e+12</td>\n",
       "      <td>-1.000000e+12</td>\n",
       "      <td>...</td>\n",
       "      <td>54.0</td>\n",
       "      <td>387.837794</td>\n",
       "      <td>47</td>\n",
       "      <td>3200409.359</td>\n",
       "      <td>9496.587434</td>\n",
       "      <td>-1.000000e+12</td>\n",
       "      <td>0</td>\n",
       "      <td>2</td>\n",
       "      <td>1</td>\n",
       "      <td>LINESTRING (-98.50490 40.06789, -98.50525 40.0...</td>\n",
       "    </tr>\n",
       "    <tr>\n",
       "      <th>308</th>\n",
       "      <td>74292500301</td>\n",
       "      <td>-1.000000e+12</td>\n",
       "      <td>-1.000000e+12</td>\n",
       "      <td>no_data</td>\n",
       "      <td>40.063235</td>\n",
       "      <td>-98.551296</td>\n",
       "      <td>no_data</td>\n",
       "      <td>-1.000000e+12</td>\n",
       "      <td>-1.000000e+12</td>\n",
       "      <td>-1.000000e+12</td>\n",
       "      <td>...</td>\n",
       "      <td>54.0</td>\n",
       "      <td>387.837794</td>\n",
       "      <td>47</td>\n",
       "      <td>3200409.359</td>\n",
       "      <td>9496.587434</td>\n",
       "      <td>-1.000000e+12</td>\n",
       "      <td>0</td>\n",
       "      <td>2</td>\n",
       "      <td>1</td>\n",
       "      <td>LINESTRING (-98.50490 40.06789, -98.50525 40.0...</td>\n",
       "    </tr>\n",
       "    <tr>\n",
       "      <th>308</th>\n",
       "      <td>74292500301</td>\n",
       "      <td>-1.000000e+12</td>\n",
       "      <td>-1.000000e+12</td>\n",
       "      <td>no_data</td>\n",
       "      <td>40.063235</td>\n",
       "      <td>-98.551296</td>\n",
       "      <td>no_data</td>\n",
       "      <td>-1.000000e+12</td>\n",
       "      <td>-1.000000e+12</td>\n",
       "      <td>-1.000000e+12</td>\n",
       "      <td>...</td>\n",
       "      <td>54.0</td>\n",
       "      <td>387.837794</td>\n",
       "      <td>47</td>\n",
       "      <td>3200409.359</td>\n",
       "      <td>9496.587434</td>\n",
       "      <td>-1.000000e+12</td>\n",
       "      <td>0</td>\n",
       "      <td>2</td>\n",
       "      <td>1</td>\n",
       "      <td>LINESTRING (-98.50490 40.06789, -98.50525 40.0...</td>\n",
       "    </tr>\n",
       "    <tr>\n",
       "      <th>262</th>\n",
       "      <td>74292500301</td>\n",
       "      <td>-1.000000e+12</td>\n",
       "      <td>-1.000000e+12</td>\n",
       "      <td>no_data</td>\n",
       "      <td>40.063235</td>\n",
       "      <td>-98.551296</td>\n",
       "      <td>no_data</td>\n",
       "      <td>-1.000000e+12</td>\n",
       "      <td>-1.000000e+12</td>\n",
       "      <td>-1.000000e+12</td>\n",
       "      <td>...</td>\n",
       "      <td>54.0</td>\n",
       "      <td>387.837794</td>\n",
       "      <td>47</td>\n",
       "      <td>3200409.359</td>\n",
       "      <td>9496.587434</td>\n",
       "      <td>-1.000000e+12</td>\n",
       "      <td>0</td>\n",
       "      <td>2</td>\n",
       "      <td>1</td>\n",
       "      <td>LINESTRING (-98.50490 40.06789, -98.50525 40.0...</td>\n",
       "    </tr>\n",
       "    <tr>\n",
       "      <th>2</th>\n",
       "      <td>74292500301</td>\n",
       "      <td>-1.000000e+12</td>\n",
       "      <td>-1.000000e+12</td>\n",
       "      <td>no_data</td>\n",
       "      <td>40.063235</td>\n",
       "      <td>-98.551296</td>\n",
       "      <td>no_data</td>\n",
       "      <td>-1.000000e+12</td>\n",
       "      <td>-1.000000e+12</td>\n",
       "      <td>-1.000000e+12</td>\n",
       "      <td>...</td>\n",
       "      <td>54.0</td>\n",
       "      <td>387.837794</td>\n",
       "      <td>47</td>\n",
       "      <td>3200409.359</td>\n",
       "      <td>9496.587434</td>\n",
       "      <td>-1.000000e+12</td>\n",
       "      <td>0</td>\n",
       "      <td>2</td>\n",
       "      <td>1</td>\n",
       "      <td>LINESTRING (-98.50490 40.06789, -98.50525 40.0...</td>\n",
       "    </tr>\n",
       "  </tbody>\n",
       "</table>\n",
       "<p>5 rows × 111 columns</p>\n",
       "</div>"
      ],
      "text/plain": [
       "        reach_id          time      time_tai time_str      p_lat      p_lon  \\\n",
       "51   74292500301 -1.000000e+12 -1.000000e+12  no_data  40.063235 -98.551296   \n",
       "308  74292500301 -1.000000e+12 -1.000000e+12  no_data  40.063235 -98.551296   \n",
       "308  74292500301 -1.000000e+12 -1.000000e+12  no_data  40.063235 -98.551296   \n",
       "262  74292500301 -1.000000e+12 -1.000000e+12  no_data  40.063235 -98.551296   \n",
       "2    74292500301 -1.000000e+12 -1.000000e+12  no_data  40.063235 -98.551296   \n",
       "\n",
       "    river_name           wse         wse_u       wse_r_u  ...  p_width  \\\n",
       "51     no_data -1.000000e+12 -1.000000e+12 -1.000000e+12  ...     54.0   \n",
       "308    no_data -1.000000e+12 -1.000000e+12 -1.000000e+12  ...     54.0   \n",
       "308    no_data -1.000000e+12 -1.000000e+12 -1.000000e+12  ...     54.0   \n",
       "262    no_data -1.000000e+12 -1.000000e+12 -1.000000e+12  ...     54.0   \n",
       "2      no_data -1.000000e+12 -1.000000e+12 -1.000000e+12  ...     54.0   \n",
       "\n",
       "      p_wid_var  p_n_nodes   p_dist_out     p_length         p_maf  p_dam_id  \\\n",
       "51   387.837794         47  3200409.359  9496.587434 -1.000000e+12         0   \n",
       "308  387.837794         47  3200409.359  9496.587434 -1.000000e+12         0   \n",
       "308  387.837794         47  3200409.359  9496.587434 -1.000000e+12         0   \n",
       "262  387.837794         47  3200409.359  9496.587434 -1.000000e+12         0   \n",
       "2    387.837794         47  3200409.359  9496.587434 -1.000000e+12         0   \n",
       "\n",
       "     p_n_ch_max  p_n_ch_mod                                           geometry  \n",
       "51            2           1  LINESTRING (-98.50490 40.06789, -98.50525 40.0...  \n",
       "308           2           1  LINESTRING (-98.50490 40.06789, -98.50525 40.0...  \n",
       "308           2           1  LINESTRING (-98.50490 40.06789, -98.50525 40.0...  \n",
       "262           2           1  LINESTRING (-98.50490 40.06789, -98.50525 40.0...  \n",
       "2             2           1  LINESTRING (-98.50490 40.06789, -98.50525 40.0...  \n",
       "\n",
       "[5 rows x 111 columns]"
      ]
     },
     "execution_count": 14,
     "metadata": {},
     "output_type": "execute_result"
    }
   ],
   "source": [
    "reach = gdf.query(\"reach_id == '74292500301'\")\n",
    "reach"
   ]
  },
  {
   "cell_type": "code",
   "execution_count": 15,
   "metadata": {},
   "outputs": [
    {
     "data": {
      "text/html": [
       "<div>\n",
       "<style scoped>\n",
       "    .dataframe tbody tr th:only-of-type {\n",
       "        vertical-align: middle;\n",
       "    }\n",
       "\n",
       "    .dataframe tbody tr th {\n",
       "        vertical-align: top;\n",
       "    }\n",
       "\n",
       "    .dataframe thead th {\n",
       "        text-align: right;\n",
       "    }\n",
       "</style>\n",
       "<table border=\"1\" class=\"dataframe\">\n",
       "  <thead>\n",
       "    <tr style=\"text-align: right;\">\n",
       "      <th></th>\n",
       "      <th>reach_id</th>\n",
       "      <th>time</th>\n",
       "      <th>time_tai</th>\n",
       "      <th>time_str</th>\n",
       "      <th>p_lat</th>\n",
       "      <th>p_lon</th>\n",
       "      <th>river_name</th>\n",
       "      <th>wse</th>\n",
       "      <th>wse_u</th>\n",
       "      <th>wse_r_u</th>\n",
       "      <th>...</th>\n",
       "      <th>p_width</th>\n",
       "      <th>p_wid_var</th>\n",
       "      <th>p_n_nodes</th>\n",
       "      <th>p_dist_out</th>\n",
       "      <th>p_length</th>\n",
       "      <th>p_maf</th>\n",
       "      <th>p_dam_id</th>\n",
       "      <th>p_n_ch_max</th>\n",
       "      <th>p_n_ch_mod</th>\n",
       "      <th>geometry</th>\n",
       "    </tr>\n",
       "  </thead>\n",
       "  <tbody>\n",
       "    <tr>\n",
       "      <th>263</th>\n",
       "      <td>77158000011</td>\n",
       "      <td>7.132750e+08</td>\n",
       "      <td>7.132750e+08</td>\n",
       "      <td>2022-08-08T11:5628Z</td>\n",
       "      <td>25.297171</td>\n",
       "      <td>-108.473158</td>\n",
       "      <td>no_data</td>\n",
       "      <td>123.71461</td>\n",
       "      <td>-1.000000e+12</td>\n",
       "      <td>0.00000</td>\n",
       "      <td>...</td>\n",
       "      <td>69.5</td>\n",
       "      <td>1719.195048</td>\n",
       "      <td>49</td>\n",
       "      <td>9731.610</td>\n",
       "      <td>9731.609922</td>\n",
       "      <td>-1.000000e+12</td>\n",
       "      <td>0</td>\n",
       "      <td>2</td>\n",
       "      <td>1</td>\n",
       "      <td>LINESTRING (-108.49317 25.28405, -108.49287 25...</td>\n",
       "    </tr>\n",
       "    <tr>\n",
       "      <th>116</th>\n",
       "      <td>71386000311</td>\n",
       "      <td>7.132212e+08</td>\n",
       "      <td>7.132212e+08</td>\n",
       "      <td>2022-08-07T21:0013Z</td>\n",
       "      <td>48.483550</td>\n",
       "      <td>-82.856510</td>\n",
       "      <td>no_data</td>\n",
       "      <td>111.30161</td>\n",
       "      <td>-1.000000e+12</td>\n",
       "      <td>30.96656</td>\n",
       "      <td>...</td>\n",
       "      <td>45.0</td>\n",
       "      <td>285.153070</td>\n",
       "      <td>75</td>\n",
       "      <td>464346.340</td>\n",
       "      <td>15080.667224</td>\n",
       "      <td>-1.000000e+12</td>\n",
       "      <td>0</td>\n",
       "      <td>1</td>\n",
       "      <td>1</td>\n",
       "      <td>LINESTRING (-82.87880 48.52825, -82.87919 48.5...</td>\n",
       "    </tr>\n",
       "    <tr>\n",
       "      <th>119</th>\n",
       "      <td>73282800021</td>\n",
       "      <td>7.134418e+08</td>\n",
       "      <td>7.134418e+08</td>\n",
       "      <td>2022-08-10T10:1658Z</td>\n",
       "      <td>33.634414</td>\n",
       "      <td>-87.209808</td>\n",
       "      <td>no_data</td>\n",
       "      <td>88.18387</td>\n",
       "      <td>-1.000000e+12</td>\n",
       "      <td>4.26350</td>\n",
       "      <td>...</td>\n",
       "      <td>211.5</td>\n",
       "      <td>3285.033201</td>\n",
       "      <td>57</td>\n",
       "      <td>687962.665</td>\n",
       "      <td>11346.636403</td>\n",
       "      <td>-1.000000e+12</td>\n",
       "      <td>0</td>\n",
       "      <td>2</td>\n",
       "      <td>1</td>\n",
       "      <td>LINESTRING (-87.23478 33.62552, -87.23452 33.6...</td>\n",
       "    </tr>\n",
       "    <tr>\n",
       "      <th>630</th>\n",
       "      <td>74267700121</td>\n",
       "      <td>7.134419e+08</td>\n",
       "      <td>7.134419e+08</td>\n",
       "      <td>2022-08-10T10:1834Z</td>\n",
       "      <td>38.778477</td>\n",
       "      <td>-84.107260</td>\n",
       "      <td>no_data</td>\n",
       "      <td>134.81383</td>\n",
       "      <td>-1.000000e+12</td>\n",
       "      <td>2.68570</td>\n",
       "      <td>...</td>\n",
       "      <td>669.0</td>\n",
       "      <td>2311.101872</td>\n",
       "      <td>57</td>\n",
       "      <td>2560861.191</td>\n",
       "      <td>11466.933285</td>\n",
       "      <td>-1.000000e+12</td>\n",
       "      <td>0</td>\n",
       "      <td>2</td>\n",
       "      <td>1</td>\n",
       "      <td>LINESTRING (-84.17021 38.79320, -84.16986 38.7...</td>\n",
       "    </tr>\n",
       "    <tr>\n",
       "      <th>34</th>\n",
       "      <td>73290000041</td>\n",
       "      <td>7.145118e+08</td>\n",
       "      <td>7.145118e+08</td>\n",
       "      <td>2022-08-22T19:3017Z</td>\n",
       "      <td>30.597928</td>\n",
       "      <td>-88.626436</td>\n",
       "      <td>no_data</td>\n",
       "      <td>118.64166</td>\n",
       "      <td>-1.000000e+12</td>\n",
       "      <td>15.47494</td>\n",
       "      <td>...</td>\n",
       "      <td>105.0</td>\n",
       "      <td>754.311517</td>\n",
       "      <td>52</td>\n",
       "      <td>67960.800</td>\n",
       "      <td>10424.745294</td>\n",
       "      <td>-1.000000e+12</td>\n",
       "      <td>0</td>\n",
       "      <td>2</td>\n",
       "      <td>1</td>\n",
       "      <td>LINESTRING (-88.60566 30.58840, -88.60597 30.5...</td>\n",
       "    </tr>\n",
       "    <tr>\n",
       "      <th>242</th>\n",
       "      <td>74253000021</td>\n",
       "      <td>7.145118e+08</td>\n",
       "      <td>7.145117e+08</td>\n",
       "      <td>2022-08-22T19:2912Z</td>\n",
       "      <td>34.018836</td>\n",
       "      <td>-90.967538</td>\n",
       "      <td>no_data</td>\n",
       "      <td>91.37639</td>\n",
       "      <td>-1.000000e+12</td>\n",
       "      <td>4.93354</td>\n",
       "      <td>...</td>\n",
       "      <td>968.0</td>\n",
       "      <td>67506.844891</td>\n",
       "      <td>50</td>\n",
       "      <td>1108109.937</td>\n",
       "      <td>9988.011659</td>\n",
       "      <td>-1.000000e+12</td>\n",
       "      <td>0</td>\n",
       "      <td>4</td>\n",
       "      <td>1</td>\n",
       "      <td>LINESTRING (-91.01678 33.99997, -91.01645 34.0...</td>\n",
       "    </tr>\n",
       "    <tr>\n",
       "      <th>658</th>\n",
       "      <td>74291500071</td>\n",
       "      <td>7.145117e+08</td>\n",
       "      <td>7.145116e+08</td>\n",
       "      <td>2022-08-22T19:2746Z</td>\n",
       "      <td>38.843434</td>\n",
       "      <td>-92.441821</td>\n",
       "      <td>no_data</td>\n",
       "      <td>76.10944</td>\n",
       "      <td>-1.000000e+12</td>\n",
       "      <td>9.76231</td>\n",
       "      <td>...</td>\n",
       "      <td>408.0</td>\n",
       "      <td>4018.894985</td>\n",
       "      <td>59</td>\n",
       "      <td>2280021.224</td>\n",
       "      <td>11890.852274</td>\n",
       "      <td>-1.000000e+12</td>\n",
       "      <td>0</td>\n",
       "      <td>2</td>\n",
       "      <td>1</td>\n",
       "      <td>LINESTRING (-92.39134 38.81822, -92.39168 38.8...</td>\n",
       "    </tr>\n",
       "  </tbody>\n",
       "</table>\n",
       "<p>7 rows × 111 columns</p>\n",
       "</div>"
      ],
      "text/plain": [
       "        reach_id          time      time_tai             time_str      p_lat  \\\n",
       "263  77158000011  7.132750e+08  7.132750e+08  2022-08-08T11:5628Z  25.297171   \n",
       "116  71386000311  7.132212e+08  7.132212e+08  2022-08-07T21:0013Z  48.483550   \n",
       "119  73282800021  7.134418e+08  7.134418e+08  2022-08-10T10:1658Z  33.634414   \n",
       "630  74267700121  7.134419e+08  7.134419e+08  2022-08-10T10:1834Z  38.778477   \n",
       "34   73290000041  7.145118e+08  7.145118e+08  2022-08-22T19:3017Z  30.597928   \n",
       "242  74253000021  7.145118e+08  7.145117e+08  2022-08-22T19:2912Z  34.018836   \n",
       "658  74291500071  7.145117e+08  7.145116e+08  2022-08-22T19:2746Z  38.843434   \n",
       "\n",
       "          p_lon river_name        wse         wse_u   wse_r_u  ...  p_width  \\\n",
       "263 -108.473158    no_data  123.71461 -1.000000e+12   0.00000  ...     69.5   \n",
       "116  -82.856510    no_data  111.30161 -1.000000e+12  30.96656  ...     45.0   \n",
       "119  -87.209808    no_data   88.18387 -1.000000e+12   4.26350  ...    211.5   \n",
       "630  -84.107260    no_data  134.81383 -1.000000e+12   2.68570  ...    669.0   \n",
       "34   -88.626436    no_data  118.64166 -1.000000e+12  15.47494  ...    105.0   \n",
       "242  -90.967538    no_data   91.37639 -1.000000e+12   4.93354  ...    968.0   \n",
       "658  -92.441821    no_data   76.10944 -1.000000e+12   9.76231  ...    408.0   \n",
       "\n",
       "        p_wid_var  p_n_nodes   p_dist_out      p_length         p_maf  \\\n",
       "263   1719.195048         49     9731.610   9731.609922 -1.000000e+12   \n",
       "116    285.153070         75   464346.340  15080.667224 -1.000000e+12   \n",
       "119   3285.033201         57   687962.665  11346.636403 -1.000000e+12   \n",
       "630   2311.101872         57  2560861.191  11466.933285 -1.000000e+12   \n",
       "34     754.311517         52    67960.800  10424.745294 -1.000000e+12   \n",
       "242  67506.844891         50  1108109.937   9988.011659 -1.000000e+12   \n",
       "658   4018.894985         59  2280021.224  11890.852274 -1.000000e+12   \n",
       "\n",
       "     p_dam_id  p_n_ch_max  p_n_ch_mod  \\\n",
       "263         0           2           1   \n",
       "116         0           1           1   \n",
       "119         0           2           1   \n",
       "630         0           2           1   \n",
       "34          0           2           1   \n",
       "242         0           4           1   \n",
       "658         0           2           1   \n",
       "\n",
       "                                              geometry  \n",
       "263  LINESTRING (-108.49317 25.28405, -108.49287 25...  \n",
       "116  LINESTRING (-82.87880 48.52825, -82.87919 48.5...  \n",
       "119  LINESTRING (-87.23478 33.62552, -87.23452 33.6...  \n",
       "630  LINESTRING (-84.17021 38.79320, -84.16986 38.7...  \n",
       "34   LINESTRING (-88.60566 30.58840, -88.60597 30.5...  \n",
       "242  LINESTRING (-91.01678 33.99997, -91.01645 34.0...  \n",
       "658  LINESTRING (-92.39134 38.81822, -92.39168 38.8...  \n",
       "\n",
       "[7 rows x 111 columns]"
      ]
     },
     "execution_count": 15,
     "metadata": {},
     "output_type": "execute_result"
    }
   ],
   "source": [
    "WSE = gdf.query('wse > 75')\n",
    "WSE"
   ]
  },
  {
   "cell_type": "markdown",
   "metadata": {},
   "source": [
    "### Converting to CSV\n",
    "\n",
    "Converting querried variable into a csv file."
   ]
  },
  {
   "cell_type": "code",
   "execution_count": 16,
   "metadata": {},
   "outputs": [],
   "source": [
    "reach.to_csv(folder / 'reach.csv')"
   ]
  },
  {
   "cell_type": "code",
   "execution_count": 17,
   "metadata": {},
   "outputs": [],
   "source": [
    "WSE.to_csv(folder / 'WSE.csv')"
   ]
  },
  {
   "cell_type": "code",
   "execution_count": null,
   "metadata": {},
   "outputs": [],
   "source": []
  }
 ],
 "metadata": {
  "kernelspec": {
   "display_name": "Python 3 (ipykernel)",
   "language": "python",
   "name": "python3"
  },
  "language_info": {
   "codemirror_mode": {
    "name": "ipython",
    "version": 3
   },
   "file_extension": ".py",
   "mimetype": "text/x-python",
   "name": "python",
   "nbconvert_exporter": "python",
   "pygments_lexer": "ipython3",
   "version": "3.8.13"
  },
  "vscode": {
   "interpreter": {
    "hash": "c5773edd8cfec1b980765f45592751359f797d5bc2e0f18319f112bb9ed701f9"
   }
  }
 },
 "nbformat": 4,
 "nbformat_minor": 4
}
