{
 "cells": [
  {
   "cell_type": "markdown",
   "metadata": {},
   "source": [
    "# Using Sea Surface Temperature and Sea Surface Height Data for Hurricane Helene"
   ]
  },
  {
   "cell_type": "markdown",
   "metadata": {},
   "source": [
    "#### Author: Julie Sanchez, NASA PO.DAAC"
   ]
  },
  {
   "cell_type": "markdown",
   "metadata": {},
   "source": [
    "## Summary:\n",
    "Here we show how to plot sea surface temperature (SST) and sea surface height (SSH) data for Hurricane Helene in September 2024 using Python packages. \n",
    "\n",
    "## Requirements:\n",
    "\n",
    "1. Compute environment - This tutorial can be run on your **local compute environment** e.g. laptop, server\n",
    "\n",
    "2. Earthdata Login - An Earthdata Login account is required to access data, as well as discover restricted data, from the NASA Earthdata system. Thus, to access NASA data, you need Earthdata Login. Please visit https://urs.earthdata.nasa.gov to register and manage your Earthdata Login account. This account is free to create and only takes a moment to set up."
   ]
  },
  {
   "cell_type": "markdown",
   "metadata": {},
   "source": [
    "## Datasets:\n",
    "\n",
    "- **NASA Sea Surface Temperature data**, MUR [https://podaac.jpl.nasa.gov/MEaSUREs-MUR](https://podaac.jpl.nasa.gov/MEaSUREs-MUR) \n",
    "- **NASA Sea Surface Height data** [https://podaac.jpl.nasa.gov/NASA-SSH](https://podaac.jpl.nasa.gov/NASA-SSH)\n",
    "\n",
    "## Learning Objectives:\n",
    "\n",
    "- Use python to plot the SST and SSH in the Gulf of Mexico to show how Hurricane Helene impacted the region.\n",
    "- Use `earthaccess` Python package to search for NASA data\n",
    "\n",
    "### Import packages"
   ]
  },
  {
   "cell_type": "code",
   "execution_count": 1,
   "metadata": {},
   "outputs": [],
   "source": [
    "#Import needed packages \n",
    "import xarray as xr\n",
    "import matplotlib.pyplot as plt\n",
    "import cartopy.crs as ccrs\n",
    "import cartopy.feature as cfeature\n",
    "import earthaccess"
   ]
  },
  {
   "cell_type": "markdown",
   "metadata": {},
   "source": [
    "### Authenticate\n",
    "Authenticate your Earthdata Login (EDL) information using the earthaccess python package as follows:"
   ]
  },
  {
   "cell_type": "code",
   "execution_count": 3,
   "metadata": {},
   "outputs": [],
   "source": [
    "auth = earthaccess.login(persist=True) # Login with your EDL credentials if asked"
   ]
  },
  {
   "cell_type": "markdown",
   "metadata": {},
   "source": [
    "### Use `earthaccess` to search for data"
   ]
  },
  {
   "cell_type": "code",
   "execution_count": 4,
   "metadata": {},
   "outputs": [
    {
     "name": "stdout",
     "output_type": "stream",
     "text": [
      "Granules found: 5\n"
     ]
    }
   ],
   "source": [
    "# Information for MUR SST data in the specified range:\n",
    "results_SST = earthaccess.search_data(\n",
    "    short_name=\"MUR25-JPL-L4-GLOB-v04.2\",\n",
    "    temporal=(\"2024-09-23\", \"2024-09-27\"),\n",
    "    )\n",
    "#results_SST"
   ]
  },
  {
   "cell_type": "markdown",
   "metadata": {},
   "source": [
    "### Download \n",
    "\n",
    "Download files from September 23rd and 27th, 2024 for comparison."
   ]
  },
  {
   "cell_type": "code",
   "execution_count": 5,
   "metadata": {},
   "outputs": [
    {
     "name": "stdout",
     "output_type": "stream",
     "text": [
      " Getting 1 granules, approx download size: 0.0 GB\n"
     ]
    },
    {
     "data": {
      "application/vnd.jupyter.widget-view+json": {
       "model_id": "dce6e25cb8d04f1b99b4bdaa313ee102",
       "version_major": 2,
       "version_minor": 0
      },
      "text/plain": [
       "QUEUEING TASKS | :   0%|          | 0/1 [00:00<?, ?it/s]"
      ]
     },
     "metadata": {},
     "output_type": "display_data"
    },
    {
     "data": {
      "application/vnd.jupyter.widget-view+json": {
       "model_id": "6a5932a8d06f494eafcb66a9aa904137",
       "version_major": 2,
       "version_minor": 0
      },
      "text/plain": [
       "PROCESSING TASKS | :   0%|          | 0/1 [00:00<?, ?it/s]"
      ]
     },
     "metadata": {},
     "output_type": "display_data"
    },
    {
     "data": {
      "application/vnd.jupyter.widget-view+json": {
       "model_id": "abf49ce9d4ae4c8e8ae06ffb31516446",
       "version_major": 2,
       "version_minor": 0
      },
      "text/plain": [
       "COLLECTING RESULTS | :   0%|          | 0/1 [00:00<?, ?it/s]"
      ]
     },
     "metadata": {},
     "output_type": "display_data"
    },
    {
     "name": "stdout",
     "output_type": "stream",
     "text": [
      " Getting 1 granules, approx download size: 0.0 GB\n"
     ]
    },
    {
     "data": {
      "application/vnd.jupyter.widget-view+json": {
       "model_id": "08113ae4b21a4f838609be1ff0e0060d",
       "version_major": 2,
       "version_minor": 0
      },
      "text/plain": [
       "QUEUEING TASKS | :   0%|          | 0/1 [00:00<?, ?it/s]"
      ]
     },
     "metadata": {},
     "output_type": "display_data"
    },
    {
     "data": {
      "application/vnd.jupyter.widget-view+json": {
       "model_id": "9f8e50df0d8c474da03a0e09597e0729",
       "version_major": 2,
       "version_minor": 0
      },
      "text/plain": [
       "PROCESSING TASKS | :   0%|          | 0/1 [00:00<?, ?it/s]"
      ]
     },
     "metadata": {},
     "output_type": "display_data"
    },
    {
     "data": {
      "application/vnd.jupyter.widget-view+json": {
       "model_id": "eb966c26424f494b922035614a41f131",
       "version_major": 2,
       "version_minor": 0
      },
      "text/plain": [
       "COLLECTING RESULTS | :   0%|          | 0/1 [00:00<?, ?it/s]"
      ]
     },
     "metadata": {},
     "output_type": "display_data"
    },
    {
     "data": {
      "text/plain": [
       "['..\\\\datasets\\\\data_downloads\\\\Helene\\\\20240927090000-JPL-L4_GHRSST-SSTfnd-MUR25-GLOB-v02.0-fv04.2.nc']"
      ]
     },
     "execution_count": 5,
     "metadata": {},
     "output_type": "execute_result"
    }
   ],
   "source": [
    "earthaccess.download(results_SST[0], \"../datasets/data_downloads/Helene/\")\n",
    "earthaccess.download(results_SST[4], \"../datasets/data_downloads/Helene/\")"
   ]
  },
  {
   "cell_type": "markdown",
   "metadata": {},
   "source": [
    "The NASA-SSH dataset used in this notebook was created and gridded via the following method from Sentinel-6 data: [https://github.com/kevinmarlis/simple-gridder](https://github.com/kevinmarlis/simple-gridder). Here we host a sample file that can be accessed via our GitHub repository."
   ]
  },
  {
   "cell_type": "code",
   "execution_count": 10,
   "metadata": {},
   "outputs": [],
   "source": [
    "file_path_ssha = './Data/NASA-SSH_alt_ref_simple_grid_v1_20240923.nc'"
   ]
  },
  {
   "cell_type": "code",
   "execution_count": 11,
   "metadata": {},
   "outputs": [],
   "source": [
    "# Search for datasets for different dates\n",
    "file_path_sept_23 = '../datasets/data_downloads/Helene/20240923090000-JPL-L4_GHRSST-SSTfnd-MUR25-GLOB-v02.0-fv04.2.nc'\n",
    "file_path_sept_27 = '../datasets/data_downloads/Helene/20240927090000-JPL-L4_GHRSST-SSTfnd-MUR25-GLOB-v02.0-fv04.2.nc'\n",
    "\n",
    "ds_sept_23 = xr.open_dataset(file_path_sept_23)\n",
    "ds_sept_27 = xr.open_dataset(file_path_sept_27)\n",
    "ds_ssha = xr.open_dataset(file_path_ssha)\n",
    "\n",
    "# Extract SST data and convert to Celsius\n",
    "sst_sept_23 = ds_sept_23['analysed_sst'].isel(time=0) - 273.15 \n",
    "sst_sept_27 = ds_sept_27['analysed_sst'].isel(time=0) - 273.15 \n",
    "\n",
    "# Ensure that both datasets are on the same grid\n",
    "sst_sept_23, sst_sept_27 = xr.align(sst_sept_23, sst_sept_27, join='inner')\n",
    "\n",
    "# Calculate SST difference between Sept 27 and Sept 23\n",
    "sst_difference = sst_sept_27 - sst_sept_23"
   ]
  },
  {
   "cell_type": "markdown",
   "metadata": {},
   "source": [
    "### Define plotting function"
   ]
  },
  {
   "cell_type": "code",
   "execution_count": 14,
   "metadata": {},
   "outputs": [],
   "source": [
    "# Common function to plot SST, anomalies, SSHA, or differences along with hurricane tracks\n",
    "def plot_with_tracks(data, title, vmin=None, vmax=None, cmap='RdBu_r', extent=[-100, -80, 17, 31], land_color='#8B4513', marker_color='red', cbar_label='(°C)'):\n",
    "    # Check if the data contains valid numeric values\n",
    "    if data.isnull().all():\n",
    "        print(f\"Warning: The data for {title} contains only NaN or missing values.\")\n",
    "        return\n",
    "\n",
    "    # Plot the data if it contains valid numeric entries\n",
    "    fig = plt.figure(figsize=(10, 6))\n",
    "    ax = plt.axes(projection=ccrs.PlateCarree())\n",
    "    ax._autoscaleXon = False\n",
    "    ax._autoscaleYon = False\n",
    "\n",
    "    # Set custom zoom extent\n",
    "    ax.set_extent(extent, crs=ccrs.PlateCarree())\n",
    "\n",
    "    # Add a filled land feature with darker brown color\n",
    "    land = cfeature.NaturalEarthFeature('physical', 'land', '50m', facecolor=land_color)\n",
    "    ax.add_feature(land)\n",
    "\n",
    "    # Plot the data\n",
    "    data = data.fillna(0)  # Fill NaN values with 0 or other reasonable value\n",
    "    plot = data.plot(ax=ax, transform=ccrs.PlateCarree(), vmin=vmin, vmax=vmax, cmap=cmap, \n",
    "                     cbar_kwargs={'label': cbar_label})  # Unit on the colorbar\n",
    "\n",
    "    # Add coastlines, gridlines, and labels\n",
    "    ax.coastlines(resolution='50m', color='black', linewidth=1)\n",
    "     # Add coastlines, gridlines, and labels\n",
    "    ax.coastlines(resolution='50m', color='black', linewidth=1)\n",
    "    \n",
    "    # Customize gridlines \n",
    "    gl = ax.gridlines(draw_labels=True)\n",
    "    gl.right_labels = False  # No latitude labels on the right side\n",
    "    gl.top_labels = False  # No top labels\n",
    "\n",
    "    # Add country borders and region outlines\n",
    "    ax.add_feature(cfeature.BORDERS, linestyle=':', edgecolor='black')\n",
    "\n",
    "    # Hurricane Helene track data\n",
    "    hurricane_data = [\n",
    "        ('SEP23', 25.0, 17.64, -82.02, 'Tropical Depression', 5),\n",
    "        ('SEP24', 34.0, 18.84, -83.11, 'Tropical Storm', 7),\n",
    "        ('SEP25', 65.0, 21.73, -86.33, 'Category 1', 9),\n",
    "        ('SEP26', 82.2, 24.06, -86.27, 'Category 2', 11),\n",
    "        ('SEP26', 99.6, 24.86, -85.43, 'Category 3', 13),\n",
    "        ('SEP26', 115.0, 26.59, -84.89, 'Category 4', 15),\n",
    "        ('SEP27', 137.4, 29.89, -83.73, 'Category 4', 15),\n",
    "    ]\n",
    "\n",
    "    # Plot hurricane track markers\n",
    "    for i, (day, knts, lat, lon, category, marker_size) in enumerate(hurricane_data):\n",
    "        ax.plot(lon, lat, marker='o', markersize=marker_size, color=marker_color, transform=ccrs.PlateCarree())\n",
    "        \n",
    "        # Only add the day label when it changes to avoid repetition\n",
    "        if i == 0 or hurricane_data[i-1][0] != day:\n",
    "            ax.text(lon + 0.2, lat - 0.3, day, transform=ccrs.PlateCarree(), fontsize=7, fontweight='bold', color='black')\n",
    "\n",
    "    # Ensure the legend marker sizes match the track marker sizes\n",
    "    from matplotlib.lines import Line2D\n",
    "    legend_elements = [\n",
    "        Line2D([0], [0], marker='o', color='w', label='Tropical Depression', markerfacecolor=marker_color, markersize=5),\n",
    "        Line2D([0], [0], marker='o', color='w', label='Tropical Storm', markerfacecolor=marker_color, markersize=7),\n",
    "        Line2D([0], [0], marker='o', color='w', label='Category 1', markerfacecolor=marker_color, markersize=9),\n",
    "        Line2D([0], [0], marker='o', color='w', label='Category 2', markerfacecolor=marker_color, markersize=11),\n",
    "        Line2D([0], [0], marker='o', color='w', label='Category 3', markerfacecolor=marker_color, markersize=13),\n",
    "        Line2D([0], [0], marker='o', color='w', label='Category 4', markerfacecolor=marker_color, markersize=15),\n",
    "    ]\n",
    "    ax.legend(handles=legend_elements, loc='upper left', title=\"Hurricane Intensity\", frameon=True)\n",
    "\n",
    "    # Add map title\n",
    "    plt.title(title)\n",
    "\n",
    "    # Show the plot\n",
    "    plt.show()\n"
   ]
  },
  {
   "cell_type": "code",
   "execution_count": 15,
   "metadata": {},
   "outputs": [
    {
     "ename": "TypeError",
     "evalue": "__init__() takes 2 positional arguments but 4 positional arguments (and 2 keyword-only arguments) were given",
     "output_type": "error",
     "traceback": [
      "\u001b[1;31m---------------------------------------------------------------------------\u001b[0m",
      "\u001b[1;31mTypeError\u001b[0m                                 Traceback (most recent call last)",
      "Cell \u001b[1;32mIn[15], line 2\u001b[0m\n\u001b[0;32m      1\u001b[0m \u001b[38;5;66;03m# Plot SST difference\u001b[39;00m\n\u001b[1;32m----> 2\u001b[0m \u001b[43mplot_with_tracks\u001b[49m\u001b[43m(\u001b[49m\u001b[43msst_difference\u001b[49m\u001b[43m,\u001b[49m\u001b[43m \u001b[49m\u001b[43mtitle\u001b[49m\u001b[38;5;241;43m=\u001b[39;49m\u001b[38;5;124;43m'\u001b[39;49m\u001b[38;5;124;43mSea Surface Temperature (SST) Difference (Sept 27 - Sept 23)\u001b[39;49m\u001b[38;5;124;43m'\u001b[39;49m\u001b[43m,\u001b[49m\u001b[43m \u001b[49m\u001b[43mvmin\u001b[49m\u001b[38;5;241;43m=\u001b[39;49m\u001b[38;5;241;43m-\u001b[39;49m\u001b[38;5;241;43m3\u001b[39;49m\u001b[43m,\u001b[49m\u001b[43m \u001b[49m\u001b[43mvmax\u001b[49m\u001b[38;5;241;43m=\u001b[39;49m\u001b[38;5;241;43m3\u001b[39;49m\u001b[43m,\u001b[49m\u001b[43m \u001b[49m\u001b[43mmarker_color\u001b[49m\u001b[38;5;241;43m=\u001b[39;49m\u001b[38;5;124;43m'\u001b[39;49m\u001b[38;5;124;43mred\u001b[39;49m\u001b[38;5;124;43m'\u001b[39;49m\u001b[43m)\u001b[49m\n\u001b[0;32m      4\u001b[0m \u001b[38;5;66;03m# Plot SST for September 23\u001b[39;00m\n\u001b[0;32m      5\u001b[0m plot_with_tracks(sst_sept_23, title\u001b[38;5;241m=\u001b[39m\u001b[38;5;124m'\u001b[39m\u001b[38;5;124mSeptember 23, 2024 Sea Surface Temperature (SST)\u001b[39m\u001b[38;5;124m'\u001b[39m, vmin\u001b[38;5;241m=\u001b[39m\u001b[38;5;241m20\u001b[39m, vmax\u001b[38;5;241m=\u001b[39m\u001b[38;5;241m35\u001b[39m, marker_color\u001b[38;5;241m=\u001b[39m\u001b[38;5;124m'\u001b[39m\u001b[38;5;124mred\u001b[39m\u001b[38;5;124m'\u001b[39m)\n",
      "Cell \u001b[1;32mIn[14], line 23\u001b[0m, in \u001b[0;36mplot_with_tracks\u001b[1;34m(data, title, vmin, vmax, cmap, extent, land_color, marker_color, cbar_label)\u001b[0m\n\u001b[0;32m     21\u001b[0m \u001b[38;5;66;03m# Plot the data\u001b[39;00m\n\u001b[0;32m     22\u001b[0m data \u001b[38;5;241m=\u001b[39m data\u001b[38;5;241m.\u001b[39mfillna(\u001b[38;5;241m0\u001b[39m)  \u001b[38;5;66;03m# Fill NaN values with 0 or other reasonable value\u001b[39;00m\n\u001b[1;32m---> 23\u001b[0m plot \u001b[38;5;241m=\u001b[39m \u001b[43mdata\u001b[49m\u001b[38;5;241;43m.\u001b[39;49m\u001b[43mplot\u001b[49m\u001b[43m(\u001b[49m\u001b[43max\u001b[49m\u001b[38;5;241;43m=\u001b[39;49m\u001b[43max\u001b[49m\u001b[43m,\u001b[49m\u001b[43m \u001b[49m\u001b[43mtransform\u001b[49m\u001b[38;5;241;43m=\u001b[39;49m\u001b[43mccrs\u001b[49m\u001b[38;5;241;43m.\u001b[39;49m\u001b[43mPlateCarree\u001b[49m\u001b[43m(\u001b[49m\u001b[43m)\u001b[49m\u001b[43m,\u001b[49m\u001b[43m \u001b[49m\u001b[43mvmin\u001b[49m\u001b[38;5;241;43m=\u001b[39;49m\u001b[43mvmin\u001b[49m\u001b[43m,\u001b[49m\u001b[43m \u001b[49m\u001b[43mvmax\u001b[49m\u001b[38;5;241;43m=\u001b[39;49m\u001b[43mvmax\u001b[49m\u001b[43m,\u001b[49m\u001b[43m \u001b[49m\u001b[43mcmap\u001b[49m\u001b[38;5;241;43m=\u001b[39;49m\u001b[43mcmap\u001b[49m\u001b[43m,\u001b[49m\u001b[43m \u001b[49m\n\u001b[0;32m     24\u001b[0m \u001b[43m                 \u001b[49m\u001b[43mcbar_kwargs\u001b[49m\u001b[38;5;241;43m=\u001b[39;49m\u001b[43m{\u001b[49m\u001b[38;5;124;43m'\u001b[39;49m\u001b[38;5;124;43mlabel\u001b[39;49m\u001b[38;5;124;43m'\u001b[39;49m\u001b[43m:\u001b[49m\u001b[43m \u001b[49m\u001b[43mcbar_label\u001b[49m\u001b[43m}\u001b[49m\u001b[43m)\u001b[49m  \u001b[38;5;66;03m# Unit on the colorbar\u001b[39;00m\n\u001b[0;32m     26\u001b[0m \u001b[38;5;66;03m# Add coastlines, gridlines, and labels\u001b[39;00m\n\u001b[0;32m     27\u001b[0m ax\u001b[38;5;241m.\u001b[39mcoastlines(resolution\u001b[38;5;241m=\u001b[39m\u001b[38;5;124m'\u001b[39m\u001b[38;5;124m50m\u001b[39m\u001b[38;5;124m'\u001b[39m, color\u001b[38;5;241m=\u001b[39m\u001b[38;5;124m'\u001b[39m\u001b[38;5;124mblack\u001b[39m\u001b[38;5;124m'\u001b[39m, linewidth\u001b[38;5;241m=\u001b[39m\u001b[38;5;241m1\u001b[39m)\n",
      "File \u001b[1;32m~\\Anaconda3\\envs\\main\\lib\\site-packages\\xarray\\plot\\accessor.py:46\u001b[0m, in \u001b[0;36mDataArrayPlotAccessor.__call__\u001b[1;34m(self, **kwargs)\u001b[0m\n\u001b[0;32m     44\u001b[0m \u001b[38;5;129m@functools\u001b[39m\u001b[38;5;241m.\u001b[39mwraps(dataarray_plot\u001b[38;5;241m.\u001b[39mplot, assigned\u001b[38;5;241m=\u001b[39m(\u001b[38;5;124m\"\u001b[39m\u001b[38;5;124m__doc__\u001b[39m\u001b[38;5;124m\"\u001b[39m, \u001b[38;5;124m\"\u001b[39m\u001b[38;5;124m__annotations__\u001b[39m\u001b[38;5;124m\"\u001b[39m))\n\u001b[0;32m     45\u001b[0m \u001b[38;5;28;01mdef\u001b[39;00m \u001b[38;5;21m__call__\u001b[39m(\u001b[38;5;28mself\u001b[39m, \u001b[38;5;241m*\u001b[39m\u001b[38;5;241m*\u001b[39mkwargs) \u001b[38;5;241m-\u001b[39m\u001b[38;5;241m>\u001b[39m Any:\n\u001b[1;32m---> 46\u001b[0m     \u001b[38;5;28;01mreturn\u001b[39;00m \u001b[43mdataarray_plot\u001b[49m\u001b[38;5;241;43m.\u001b[39;49m\u001b[43mplot\u001b[49m\u001b[43m(\u001b[49m\u001b[38;5;28;43mself\u001b[39;49m\u001b[38;5;241;43m.\u001b[39;49m\u001b[43m_da\u001b[49m\u001b[43m,\u001b[49m\u001b[43m \u001b[49m\u001b[38;5;241;43m*\u001b[39;49m\u001b[38;5;241;43m*\u001b[39;49m\u001b[43mkwargs\u001b[49m\u001b[43m)\u001b[49m\n",
      "File \u001b[1;32m~\\Anaconda3\\envs\\main\\lib\\site-packages\\xarray\\plot\\dataarray_plot.py:312\u001b[0m, in \u001b[0;36mplot\u001b[1;34m(darray, row, col, col_wrap, ax, hue, subplot_kws, **kwargs)\u001b[0m\n\u001b[0;32m    308\u001b[0m     plotfunc \u001b[38;5;241m=\u001b[39m hist\n\u001b[0;32m    310\u001b[0m kwargs[\u001b[38;5;124m\"\u001b[39m\u001b[38;5;124max\u001b[39m\u001b[38;5;124m\"\u001b[39m] \u001b[38;5;241m=\u001b[39m ax\n\u001b[1;32m--> 312\u001b[0m \u001b[38;5;28;01mreturn\u001b[39;00m \u001b[43mplotfunc\u001b[49m\u001b[43m(\u001b[49m\u001b[43mdarray\u001b[49m\u001b[43m,\u001b[49m\u001b[43m \u001b[49m\u001b[38;5;241;43m*\u001b[39;49m\u001b[38;5;241;43m*\u001b[39;49m\u001b[43mkwargs\u001b[49m\u001b[43m)\u001b[49m\n",
      "File \u001b[1;32m~\\Anaconda3\\envs\\main\\lib\\site-packages\\xarray\\plot\\dataarray_plot.py:1613\u001b[0m, in \u001b[0;36m_plot2d.<locals>.newplotfunc\u001b[1;34m(***failed resolving arguments***)\u001b[0m\n\u001b[0;32m   1609\u001b[0m     \u001b[38;5;28;01mraise\u001b[39;00m \u001b[38;5;167;01mValueError\u001b[39;00m(\u001b[38;5;124m\"\u001b[39m\u001b[38;5;124mplt.imshow\u001b[39m\u001b[38;5;124m'\u001b[39m\u001b[38;5;124ms `aspect` kwarg is not available in xarray\u001b[39m\u001b[38;5;124m\"\u001b[39m)\n\u001b[0;32m   1611\u001b[0m ax \u001b[38;5;241m=\u001b[39m get_axis(figsize, size, aspect, ax, \u001b[38;5;241m*\u001b[39m\u001b[38;5;241m*\u001b[39msubplot_kws)\n\u001b[1;32m-> 1613\u001b[0m primitive \u001b[38;5;241m=\u001b[39m \u001b[43mplotfunc\u001b[49m\u001b[43m(\u001b[49m\n\u001b[0;32m   1614\u001b[0m \u001b[43m    \u001b[49m\u001b[43mxplt\u001b[49m\u001b[43m,\u001b[49m\n\u001b[0;32m   1615\u001b[0m \u001b[43m    \u001b[49m\u001b[43myplt\u001b[49m\u001b[43m,\u001b[49m\n\u001b[0;32m   1616\u001b[0m \u001b[43m    \u001b[49m\u001b[43mzval\u001b[49m\u001b[43m,\u001b[49m\n\u001b[0;32m   1617\u001b[0m \u001b[43m    \u001b[49m\u001b[43max\u001b[49m\u001b[38;5;241;43m=\u001b[39;49m\u001b[43max\u001b[49m\u001b[43m,\u001b[49m\n\u001b[0;32m   1618\u001b[0m \u001b[43m    \u001b[49m\u001b[43mcmap\u001b[49m\u001b[38;5;241;43m=\u001b[39;49m\u001b[43mcmap_params\u001b[49m\u001b[43m[\u001b[49m\u001b[38;5;124;43m\"\u001b[39;49m\u001b[38;5;124;43mcmap\u001b[39;49m\u001b[38;5;124;43m\"\u001b[39;49m\u001b[43m]\u001b[49m\u001b[43m,\u001b[49m\n\u001b[0;32m   1619\u001b[0m \u001b[43m    \u001b[49m\u001b[43mvmin\u001b[49m\u001b[38;5;241;43m=\u001b[39;49m\u001b[43mcmap_params\u001b[49m\u001b[43m[\u001b[49m\u001b[38;5;124;43m\"\u001b[39;49m\u001b[38;5;124;43mvmin\u001b[39;49m\u001b[38;5;124;43m\"\u001b[39;49m\u001b[43m]\u001b[49m\u001b[43m,\u001b[49m\n\u001b[0;32m   1620\u001b[0m \u001b[43m    \u001b[49m\u001b[43mvmax\u001b[49m\u001b[38;5;241;43m=\u001b[39;49m\u001b[43mcmap_params\u001b[49m\u001b[43m[\u001b[49m\u001b[38;5;124;43m\"\u001b[39;49m\u001b[38;5;124;43mvmax\u001b[39;49m\u001b[38;5;124;43m\"\u001b[39;49m\u001b[43m]\u001b[49m\u001b[43m,\u001b[49m\n\u001b[0;32m   1621\u001b[0m \u001b[43m    \u001b[49m\u001b[43mnorm\u001b[49m\u001b[38;5;241;43m=\u001b[39;49m\u001b[43mcmap_params\u001b[49m\u001b[43m[\u001b[49m\u001b[38;5;124;43m\"\u001b[39;49m\u001b[38;5;124;43mnorm\u001b[39;49m\u001b[38;5;124;43m\"\u001b[39;49m\u001b[43m]\u001b[49m\u001b[43m,\u001b[49m\n\u001b[0;32m   1622\u001b[0m \u001b[43m    \u001b[49m\u001b[38;5;241;43m*\u001b[39;49m\u001b[38;5;241;43m*\u001b[39;49m\u001b[43mkwargs\u001b[49m\u001b[43m,\u001b[49m\n\u001b[0;32m   1623\u001b[0m \u001b[43m\u001b[49m\u001b[43m)\u001b[49m\n\u001b[0;32m   1625\u001b[0m \u001b[38;5;66;03m# Label the plot with metadata\u001b[39;00m\n\u001b[0;32m   1626\u001b[0m \u001b[38;5;28;01mif\u001b[39;00m add_labels:\n",
      "File \u001b[1;32m~\\Anaconda3\\envs\\main\\lib\\site-packages\\xarray\\plot\\dataarray_plot.py:2340\u001b[0m, in \u001b[0;36mpcolormesh\u001b[1;34m(x, y, z, ax, xscale, yscale, infer_intervals, **kwargs)\u001b[0m\n\u001b[0;32m   2337\u001b[0m         y \u001b[38;5;241m=\u001b[39m _infer_interval_breaks(y, axis\u001b[38;5;241m=\u001b[39m\u001b[38;5;241m0\u001b[39m, scale\u001b[38;5;241m=\u001b[39myscale)\n\u001b[0;32m   2339\u001b[0m ax\u001b[38;5;241m.\u001b[39mgrid(\u001b[38;5;28;01mFalse\u001b[39;00m)\n\u001b[1;32m-> 2340\u001b[0m primitive \u001b[38;5;241m=\u001b[39m \u001b[43max\u001b[49m\u001b[38;5;241;43m.\u001b[39;49m\u001b[43mpcolormesh\u001b[49m\u001b[43m(\u001b[49m\u001b[43mx\u001b[49m\u001b[43m,\u001b[49m\u001b[43m \u001b[49m\u001b[43my\u001b[49m\u001b[43m,\u001b[49m\u001b[43m \u001b[49m\u001b[43mz\u001b[49m\u001b[43m,\u001b[49m\u001b[43m \u001b[49m\u001b[38;5;241;43m*\u001b[39;49m\u001b[38;5;241;43m*\u001b[39;49m\u001b[43mkwargs\u001b[49m\u001b[43m)\u001b[49m\n\u001b[0;32m   2342\u001b[0m \u001b[38;5;66;03m# by default, pcolormesh picks \"round\" values for bounds\u001b[39;00m\n\u001b[0;32m   2343\u001b[0m \u001b[38;5;66;03m# this results in ugly looking plots with lots of surrounding whitespace\u001b[39;00m\n\u001b[0;32m   2344\u001b[0m \u001b[38;5;28;01mif\u001b[39;00m \u001b[38;5;129;01mnot\u001b[39;00m \u001b[38;5;28mhasattr\u001b[39m(ax, \u001b[38;5;124m\"\u001b[39m\u001b[38;5;124mprojection\u001b[39m\u001b[38;5;124m\"\u001b[39m) \u001b[38;5;129;01mand\u001b[39;00m x\u001b[38;5;241m.\u001b[39mndim \u001b[38;5;241m==\u001b[39m \u001b[38;5;241m1\u001b[39m \u001b[38;5;129;01mand\u001b[39;00m y\u001b[38;5;241m.\u001b[39mndim \u001b[38;5;241m==\u001b[39m \u001b[38;5;241m1\u001b[39m:\n\u001b[0;32m   2345\u001b[0m     \u001b[38;5;66;03m# not a cartopy geoaxis\u001b[39;00m\n",
      "File \u001b[1;32m~\\Anaconda3\\envs\\main\\lib\\site-packages\\cartopy\\mpl\\geoaxes.py:310\u001b[0m, in \u001b[0;36m_add_transform.<locals>.wrapper\u001b[1;34m(self, *args, **kwargs)\u001b[0m\n\u001b[0;32m    305\u001b[0m     \u001b[38;5;28;01mraise\u001b[39;00m \u001b[38;5;167;01mValueError\u001b[39;00m(\u001b[38;5;124m'\u001b[39m\u001b[38;5;124mInvalid transform: Spherical \u001b[39m\u001b[38;5;132;01m{}\u001b[39;00m\u001b[38;5;124m \u001b[39m\u001b[38;5;124m'\u001b[39m\n\u001b[0;32m    306\u001b[0m                      \u001b[38;5;124m'\u001b[39m\u001b[38;5;124mis not supported - consider using \u001b[39m\u001b[38;5;124m'\u001b[39m\n\u001b[0;32m    307\u001b[0m                      \u001b[38;5;124m'\u001b[39m\u001b[38;5;124mPlateCarree/RotatedPole.\u001b[39m\u001b[38;5;124m'\u001b[39m\u001b[38;5;241m.\u001b[39mformat(func\u001b[38;5;241m.\u001b[39m\u001b[38;5;18m__name__\u001b[39m))\n\u001b[0;32m    309\u001b[0m kwargs[\u001b[38;5;124m'\u001b[39m\u001b[38;5;124mtransform\u001b[39m\u001b[38;5;124m'\u001b[39m] \u001b[38;5;241m=\u001b[39m transform\n\u001b[1;32m--> 310\u001b[0m \u001b[38;5;28;01mreturn\u001b[39;00m \u001b[43mfunc\u001b[49m\u001b[43m(\u001b[49m\u001b[38;5;28;43mself\u001b[39;49m\u001b[43m,\u001b[49m\u001b[43m \u001b[49m\u001b[38;5;241;43m*\u001b[39;49m\u001b[43margs\u001b[49m\u001b[43m,\u001b[49m\u001b[43m \u001b[49m\u001b[38;5;241;43m*\u001b[39;49m\u001b[38;5;241;43m*\u001b[39;49m\u001b[43mkwargs\u001b[49m\u001b[43m)\u001b[49m\n",
      "File \u001b[1;32m~\\Anaconda3\\envs\\main\\lib\\site-packages\\cartopy\\mpl\\geoaxes.py:1561\u001b[0m, in \u001b[0;36mGeoAxes.pcolormesh\u001b[1;34m(self, *args, **kwargs)\u001b[0m\n\u001b[0;32m   1550\u001b[0m \u001b[38;5;129m@_add_transform\u001b[39m\n\u001b[0;32m   1551\u001b[0m \u001b[38;5;28;01mdef\u001b[39;00m \u001b[38;5;21mpcolormesh\u001b[39m(\u001b[38;5;28mself\u001b[39m, \u001b[38;5;241m*\u001b[39margs, \u001b[38;5;241m*\u001b[39m\u001b[38;5;241m*\u001b[39mkwargs):\n\u001b[0;32m   1552\u001b[0m \u001b[38;5;250m    \u001b[39m\u001b[38;5;124;03m\"\"\"\u001b[39;00m\n\u001b[0;32m   1553\u001b[0m \u001b[38;5;124;03m    Add the \"transform\" keyword to :func:`~matplotlib.pyplot.pcolormesh'.\u001b[39;00m\n\u001b[0;32m   1554\u001b[0m \n\u001b[1;32m   (...)\u001b[0m\n\u001b[0;32m   1559\u001b[0m \n\u001b[0;32m   1560\u001b[0m \u001b[38;5;124;03m    \"\"\"\u001b[39;00m\n\u001b[1;32m-> 1561\u001b[0m     result \u001b[38;5;241m=\u001b[39m \u001b[38;5;28;43mself\u001b[39;49m\u001b[38;5;241;43m.\u001b[39;49m\u001b[43m_pcolormesh_patched\u001b[49m\u001b[43m(\u001b[49m\u001b[38;5;241;43m*\u001b[39;49m\u001b[43margs\u001b[49m\u001b[43m,\u001b[49m\u001b[43m \u001b[49m\u001b[38;5;241;43m*\u001b[39;49m\u001b[38;5;241;43m*\u001b[39;49m\u001b[43mkwargs\u001b[49m\u001b[43m)\u001b[49m\n\u001b[0;32m   1562\u001b[0m     \u001b[38;5;28mself\u001b[39m\u001b[38;5;241m.\u001b[39mautoscale_view()\n\u001b[0;32m   1563\u001b[0m     \u001b[38;5;28;01mreturn\u001b[39;00m result\n",
      "File \u001b[1;32m~\\Anaconda3\\envs\\main\\lib\\site-packages\\cartopy\\mpl\\geoaxes.py:1606\u001b[0m, in \u001b[0;36mGeoAxes._pcolormesh_patched\u001b[1;34m(self, *args, **kwargs)\u001b[0m\n\u001b[0;32m   1603\u001b[0m C \u001b[38;5;241m=\u001b[39m C\u001b[38;5;241m.\u001b[39mravel()\n\u001b[0;32m   1604\u001b[0m coords \u001b[38;5;241m=\u001b[39m np\u001b[38;5;241m.\u001b[39mcolumn_stack((X\u001b[38;5;241m.\u001b[39mflat, Y\u001b[38;5;241m.\u001b[39mflat))\u001b[38;5;241m.\u001b[39mastype(\u001b[38;5;28mfloat\u001b[39m, copy\u001b[38;5;241m=\u001b[39m\u001b[38;5;28;01mFalse\u001b[39;00m)\n\u001b[1;32m-> 1606\u001b[0m collection \u001b[38;5;241m=\u001b[39m \u001b[43mmcoll\u001b[49m\u001b[38;5;241;43m.\u001b[39;49m\u001b[43mQuadMesh\u001b[49m\u001b[43m(\u001b[49m\n\u001b[0;32m   1607\u001b[0m \u001b[43m    \u001b[49m\u001b[43mNx\u001b[49m\u001b[43m \u001b[49m\u001b[38;5;241;43m-\u001b[39;49m\u001b[43m \u001b[49m\u001b[38;5;241;43m1\u001b[39;49m\u001b[43m,\u001b[49m\u001b[43m \u001b[49m\u001b[43mNy\u001b[49m\u001b[43m \u001b[49m\u001b[38;5;241;43m-\u001b[39;49m\u001b[43m \u001b[49m\u001b[38;5;241;43m1\u001b[39;49m\u001b[43m,\u001b[49m\u001b[43m \u001b[49m\u001b[43mcoords\u001b[49m\u001b[43m,\u001b[49m\n\u001b[0;32m   1608\u001b[0m \u001b[43m    \u001b[49m\u001b[43mantialiased\u001b[49m\u001b[38;5;241;43m=\u001b[39;49m\u001b[43mantialiased\u001b[49m\u001b[43m,\u001b[49m\u001b[43m \u001b[49m\u001b[43mshading\u001b[49m\u001b[38;5;241;43m=\u001b[39;49m\u001b[43mshading\u001b[49m\u001b[43m,\u001b[49m\u001b[43m \u001b[49m\u001b[38;5;241;43m*\u001b[39;49m\u001b[38;5;241;43m*\u001b[39;49m\u001b[43mkwargs\u001b[49m\u001b[43m)\u001b[49m\n\u001b[0;32m   1609\u001b[0m collection\u001b[38;5;241m.\u001b[39mset_alpha(alpha)\n\u001b[0;32m   1610\u001b[0m collection\u001b[38;5;241m.\u001b[39mset_array(C)\n",
      "\u001b[1;31mTypeError\u001b[0m: __init__() takes 2 positional arguments but 4 positional arguments (and 2 keyword-only arguments) were given"
     ]
    },
    {
     "name": "stderr",
     "output_type": "stream",
     "text": [
      "C:\\Users\\nickles\\Anaconda3\\envs\\main\\lib\\site-packages\\cartopy\\io\\__init__.py:260: DownloadWarning: Downloading: https://naciscdn.org/naturalearth/50m/physical/ne_50m_land.zip\n",
      "  warnings.warn('Downloading: {}'.format(url), DownloadWarning)\n"
     ]
    },
    {
     "data": {
      "image/png": "[encoded data removed]",
      "text/plain": [
       "<Figure size 1000x600 with 1 Axes>"
      ]
     },
     "metadata": {},
     "output_type": "display_data"
    }
   ],
   "source": [
    "# Plot SST difference\n",
    "plot_with_tracks(sst_difference, title='Sea Surface Temperature (SST) Difference (Sept 27 - Sept 23)', vmin=-3, vmax=3, marker_color='red')\n",
    "\n",
    "# Plot SST for September 23\n",
    "plot_with_tracks(sst_sept_23, title='September 23, 2024 Sea Surface Temperature (SST)', vmin=20, vmax=35, marker_color='red')\n",
    "\n",
    "# Plot SST anomaly if available\n",
    "if 'sst_anomaly' in ds_sept_23.variables:\n",
    "    sst_anomaly = ds_sept_23['sst_anomaly'].isel(time=0)\n",
    "    plot_with_tracks(sst_anomaly, title='September 23, 2024 Sea Surface Temperature (SST) Anomaly', vmin=-3, vmax=3, marker_color='red')\n",
    "\n",
    "# Extract the SSHA variable (no time indexing needed)\n",
    "ssha = ds_ssha['SSHA'] * 100  # Convert from meters to centimeters\n",
    "\n",
    "# Mask out invalid values (NaN values)\n",
    "ssha = ssha.where(~ssha.isnull(), other=np.nan)\n",
    "\n",
    "# Plot SSHA with the same extent and color scheme, including hurricane tracks\n",
    "plot_with_tracks(ssha, title='September 23, 2024 Sea Surface Height Anomaly (SSHA)', vmin=-30, vmax=30, marker_color='black', cbar_label='(cm)')\n"
   ]
  },
  {
   "cell_type": "code",
   "execution_count": null,
   "metadata": {},
   "outputs": [],
   "source": []
  }
 ],
 "metadata": {
  "kernelspec": {
   "display_name": "Python 3 (ipykernel)",
   "language": "python",
   "name": "python3"
  },
  "language_info": {
   "codemirror_mode": {
    "name": "ipython",
    "version": 3
   },
   "file_extension": ".py",
   "mimetype": "text/x-python",
   "name": "python",
   "nbconvert_exporter": "python",
   "pygments_lexer": "ipython3",
   "version": "3.8.13"
  },
  "vscode": {
   "interpreter": {
    "hash": "e096d0b5355d069093c851be6df0da982cb9ff54dd4a2a11a9b602b8e8476602"
   }
  }
 },
 "nbformat": 4,
 "nbformat_minor": 4
}
