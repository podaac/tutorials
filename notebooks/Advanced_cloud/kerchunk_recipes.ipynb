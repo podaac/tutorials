{
 "cells": [
  {
   "cell_type": "markdown",
   "id": "180973dc-a4fc-43aa-bbc5-d56ce3e9edba",
   "metadata": {},
   "source": [
    "# Kerchunk Useful Recipes with NASA Earthdata\n",
    "\n",
    "#### *Author: Dean Henze, PO.DAAC*\n",
    "\n",
    "*Reference herein to any specific commercial product, process, or service by trade name, trademark, manufacturer, or otherwise, does not constitute or imply its endorsement by the United States Government or the Jet Propulsion Laboratory, California Institute of Technology.*"
   ]
  },
  {
   "cell_type": "markdown",
   "id": "31e719d0-17d1-45e9-9933-cb49a7cef7a9",
   "metadata": {},
   "source": [
    "## Summary\n",
    "\n",
    "This notebook goes through several functionalities of kerchunk, specifically using it with NASA Earthdata and utilizing the `earthaccess` package. It is meant to be a quick-start reference that introduces some key capabilities / characteristics of the package once a user has a high-level understanding of kerchunk as well as the cloud-computing challenges it addresses (see references in the *Prerequisite knowledge* section below). In short, kerchunk is a Python package to create \"reference files\", which can be thought of as road maps for the computer to efficiently navigate through large arrays in an Earthdata file (or any file). Once a reference file for a data set is created, it can be accessed and used to e.g. to lazy load data faster, access subsets of the data quicker (spatially, temporally, or any other dimension in the data set), and in some cases perform computations faster.\n",
    "\n",
    "The functionalities of kerchunk covered in this notebook are:\n",
    "\n",
    "1. **Generating a reference file in JSON format for a year of the MUR 0.01 degree resolution sea surface temperature (SST) data set**, available on PO.DAAC. It also covers speeding up the generation using parallel computing. MUR 0.01 is a daily, gridded global data set (doi [10.5067/GHGMR-4FJ04](https://doi.org/10.5067/GHGMR-4FJ04)).\n",
    "2. **Generating a reference file in PARQUET format** for a year of the MUR 0.01 degree data. This will become important as cloud data sets get so large that saving their reference files in JSON format also becomes too large. We find in Section 2 that saving the same reference information in PARQUET format reduced disk size by ~30x. \n",
    "3. **Combining reference files**. The ability to combine reference files together rather than having to create the combined product from scratch is important since it can save computing resources/time. This notebooks explores (3.1) Adding an extra day of the MUR record to the reference file created in Section 1, and (3.2) Creating a reference file for an additional year of MUR data and combining it with the reference file created in Section 1.\n",
    "4. **Using the reference file to perform a basic analysis on the MUR data set with a parallel computing cluster.** Parallel computing on both a local and distributed cluster are tested. For the local cluster, we are able to run all computations successfully. For the distributed cluster, we are only able to run computations if the reference file is first loaded fully into memory."
   ]
  },
  {
   "cell_type": "markdown",
   "id": "bbce1593-e158-44d4-aab8-9f91027a19ba",
   "metadata": {},
   "source": [
    "## Requirements, prerequisite knowledge, learning outcomes\n",
    "\n",
    "#### Requirements to run this notebook\n",
    "\n",
    "* Earthdata login account: An Earthdata Login account is required to access data from the NASA Earthdata system. Please visit https://urs.earthdata.nasa.gov to register and manage your Earthdata Login account.\n",
    "\n",
    "* Compute environment: This notebook is meant to be run in the cloud (AWS instance running in us-west-2). We used an `m6i.8xlarge` EC2 instance (32 CPU's, 128 GiB memory) to complete Section 4 on parallel computing, although this is likely overkill for the other sections. At minimum we recommend a VM with 10 CPU's to make the parallel computations in Sections 1.2.1 and 3.2 faster.\n",
    "\n",
    "* Optional Coiled account: To run the optional sections on distributed clusters, Create a coiled account (free to sign up), and connect it to an AWS account. For more information on Coiled, setting up an account, and connecting it to an AWS account, see their website [https://www.coiled.io](https://www.coiled.io). \n",
    "\n",
    "#### Prerequisite knowledge\n",
    "\n",
    "* This notebook covers kerchunk functionality but does not present the high-level ideas behind it. For an understanding of reference files and how they are meant to enhance in-cloud access to file formats that are not cloud optimized (such netCDF, HDF), please see e.g. this [kerchunk page](https://fsspec.github.io/kerchunk/), or [this page on virtualizarr](https://virtualizarr.readthedocs.io/en/latest/) (a package with similar functionality).\n",
    "\n",
    "* Familiarity with the `earthaccess` and `Xarray` packages. Familiarity with directly accessing NASA Earthdata in the cloud. \n",
    "\n",
    "* The Cookbook notebook on [Dask basics](https://podaac.github.io/tutorials/notebooks/Advanced_cloud/basic_dask.html) is handy for those new to parallel computating and wanting to implement it in Sections 1.2.1 and 3.2.\n",
    "\n",
    "#### Learning Outcomes\n",
    "\n",
    "This notebook demonstrates several recipes for key kerchunk functionalities with NASA Earthdata. It is meant to be used after the user has a high level understanding of kerchunk and the challenges it is trying to solve, at which point this notebook: \n",
    "\n",
    "* Demonstrates how to implement the package,\n",
    "* Highlights several characteristics of the package which will likely be of interest for utilizing it with Earthdata in common workflows. "
   ]
  },
  {
   "cell_type": "markdown",
   "id": "88f65dd1-39f6-480a-aa63-adbbd9863e8f",
   "metadata": {},
   "source": [
    "## Import Packages\n",
    "We ran this notebook in a Python 3.12 environment. The minimal working install we used to run this notebook from a clean environment was:\n",
    "```\n",
    "pip install kerchunk==0.2.6 fastparquet==2024.5.0 xarray==2024.1.0 earthaccess==0.11.0 fsspec==2024.10.0 \"dask[complete]\"==2024.5.2 h5netcdf==1.3.0 ujson==5.10.0 matplotlib==3.9.2 jupyterlab jupyter-server-proxy\n",
    "```\n",
    "And optionally:\n",
    "```\n",
    "pip install coiled==1.58.0\n",
    "```"
   ]
  },
  {
   "cell_type": "code",
   "execution_count": 11,
   "id": "fc0b1c0c-c8f9-412c-8038-4b674de896c9",
   "metadata": {},
   "outputs": [],
   "source": [
    "# Built-in packages\n",
    "import os\n",
    "import json\n",
    "\n",
    "# Filesystem management \n",
    "import fsspec\n",
    "import earthaccess\n",
    "\n",
    "# Data analysis\n",
    "import xarray as xr\n",
    "from kerchunk.df import refs_to_dataframe\n",
    "from kerchunk.hdf import SingleHdf5ToZarr\n",
    "from kerchunk.combine import MultiZarrToZarr\n",
    "\n",
    "# Parallel computing \n",
    "import multiprocessing\n",
    "from dask import delayed\n",
    "import dask.array as da\n",
    "from dask.distributed import Client\n",
    "\n",
    "# Other\n",
    "import ujson\n",
    "import matplotlib.pyplot as plt"
   ]
  },
  {
   "cell_type": "code",
   "execution_count": 2,
   "id": "8e601488-7348-45cb-bfed-068121fc4d2f",
   "metadata": {},
   "outputs": [],
   "source": [
    "import coiled"
   ]
  },
  {
   "cell_type": "markdown",
   "id": "e9e58626-85f4-4fed-b5af-04736ca6f83d",
   "metadata": {},
   "source": [
    "## Other Setup"
   ]
  },
  {
   "cell_type": "code",
   "execution_count": 3,
   "id": "22c5a123-6025-4a85-a7b0-4b9b747a9a8d",
   "metadata": {},
   "outputs": [
    {
     "data": {
      "text/plain": [
       "<xarray.core.options.set_options at 0x7fb123452450>"
      ]
     },
     "execution_count": 3,
     "metadata": {},
     "output_type": "execute_result"
    }
   ],
   "source": [
    "xr.set_options( # display options for xarray objects\n",
    "    display_expand_attrs=False,\n",
    "    display_expand_coords=True,\n",
    "    display_expand_data=True,\n",
    ")"
   ]
  },
  {
   "cell_type": "markdown",
   "id": "20756ad2-4fdf-4f7a-8582-aa7d59ea35e5",
   "metadata": {},
   "source": [
    "## 1. Generating a reference file in JSON format for one year of MUR 0.01 degree SST"
   ]
  },
  {
   "cell_type": "markdown",
   "id": "6901e7c4-66ca-4dfb-bd8f-aaf2f0291764",
   "metadata": {},
   "source": [
    "### 1.1 Locate Data File S3 endpoints in Earthdata Cloud \n",
    "The first step is to find the S3 endpoints to the files and generate file-like objects to use with kerchunk. Handling access credentials to Earthdata and then finding the endpoints can be done a number of ways (e.g. using the `requests`, `s3fs` packages) but we choose to use the `earthaccess` package for its convenience and brevity. We will get two years of MUR files, from beginning 2019 to end 2020. "
   ]
  },
  {
   "cell_type": "code",
   "execution_count": 5,
   "id": "20dbc070-d5f7-407e-b92e-4fda1b8a82ba",
   "metadata": {},
   "outputs": [
    {
     "name": "stdin",
     "output_type": "stream",
     "text": [
      "Enter your Earthdata Login username:  deanh808\n",
      "Enter your Earthdata password:  ········\n"
     ]
    },
    {
     "data": {
      "text/plain": [
       "<earthaccess.auth.Auth at 0x7fb1a410c920>"
      ]
     },
     "execution_count": 5,
     "metadata": {},
     "output_type": "execute_result"
    }
   ],
   "source": [
    "# Get Earthdata creds\n",
    "earthaccess.login()"
   ]
  },
  {
   "cell_type": "code",
   "execution_count": 6,
   "id": "7519aab1-b2aa-40fa-862a-62ed69439ff4",
   "metadata": {},
   "outputs": [],
   "source": [
    "# Get AWS creds\n",
    "fs = earthaccess.get_s3_filesystem(daac=\"PODAAC\")"
   ]
  },
  {
   "cell_type": "code",
   "execution_count": 7,
   "id": "487b4dd6-39c6-4d7e-8051-eddcd22e2a4a",
   "metadata": {},
   "outputs": [
    {
     "data": {
      "application/vnd.jupyter.widget-view+json": {
       "model_id": "fe22eb2e195a4c16b3bdff0a7bd8b0a0",
       "version_major": 2,
       "version_minor": 0
      },
      "text/plain": [
       "QUEUEING TASKS | :   0%|          | 0/732 [00:00<?, ?it/s]"
      ]
     },
     "metadata": {},
     "output_type": "display_data"
    },
    {
     "data": {
      "application/vnd.jupyter.widget-view+json": {
       "model_id": "13129d3fba734a95914067b232b66a96",
       "version_major": 2,
       "version_minor": 0
      },
      "text/plain": [
       "PROCESSING TASKS | :   0%|          | 0/732 [00:00<?, ?it/s]"
      ]
     },
     "metadata": {},
     "output_type": "display_data"
    },
    {
     "data": {
      "application/vnd.jupyter.widget-view+json": {
       "model_id": "2117989fff404d5b8d297bb4d6c2a8b3",
       "version_major": 2,
       "version_minor": 0
      },
      "text/plain": [
       "COLLECTING RESULTS | :   0%|          | 0/732 [00:00<?, ?it/s]"
      ]
     },
     "metadata": {},
     "output_type": "display_data"
    }
   ],
   "source": [
    "# Locate MUR file information for years 2019-2020 and generate file-like objects:\n",
    "granule_info = earthaccess.search_data(\n",
    "    short_name=\"MUR-JPL-L4-GLOB-v4.1\",\n",
    "    temporal=(\"2019-01-01\", \"2020-12-31\"),\n",
    "    )\n",
    "fobjs = earthaccess.open(granule_info)"
   ]
  },
  {
   "cell_type": "code",
   "execution_count": 8,
   "id": "54bce89b-1068-4f77-b72b-be13fc074e02",
   "metadata": {},
   "outputs": [
    {
     "data": {
      "text/plain": [
       "'s3://podaac-ops-cumulus-protected/MUR-JPL-L4-GLOB-v4.1/20190101090000-JPL-L4_GHRSST-SSTfnd-MUR-GLOB-v02.0-fv04.1.nc'"
      ]
     },
     "execution_count": 8,
     "metadata": {},
     "output_type": "execute_result"
    }
   ],
   "source": [
    "# Endpoints can be found in this attribute:\n",
    "example_endpoint = fobjs[0].full_name\n",
    "example_endpoint"
   ]
  },
  {
   "cell_type": "markdown",
   "id": "410b4028-b31d-4c28-a78d-2fedebcf967c",
   "metadata": {},
   "source": [
    "### 1.2 Generate kerchunk reference files for each MUR file in year 2019\n",
    "It is necessary to create reference files for each data file individually before they can be combined into a single reference file for the entire record. The time for generating many of these individual files can add up, so this section also covers the option to use parallel computing."
   ]
  },
  {
   "cell_type": "markdown",
   "id": "a146d00a-cf61-4ed4-96e2-6db0a19bb466",
   "metadata": {},
   "source": [
    "First, define a small wrapper function around kerchunk and earthaccess packages."
   ]
  },
  {
   "cell_type": "code",
   "execution_count": 9,
   "id": "8d15c636-e401-4b14-880a-f248b4b5d0f7",
   "metadata": {},
   "outputs": [],
   "source": [
    "def single_ref_earthaccess(fobj, dir_save=None):\n",
    "    \"\"\"\n",
    "    Create a reference for a single data file. \"fobj\" (earthaccess.store.EarthAccessFile \n",
    "    object) is the output from earthaccess.open(), which also has the file endpoint. \n",
    "    Option to save as a JSON to direcotry \"dir_save\", with file name of the corresponding \n",
    "    data file with \".json\" appended. Otherwise reference info is returned.\n",
    "    \"\"\"\n",
    "    endpoint = fobj.full_name\n",
    "    reference = SingleHdf5ToZarr(fobj, endpoint, inline_threshold=0).translate()\n",
    "    \n",
    "    if dir_save is not None:\n",
    "        with open(dir_save + endpoint.split('/')[-1]+'.json', 'w') as outf:\n",
    "            outf.write(ujson.dumps(reference))\n",
    "    else:\n",
    "        return reference, endpoint # returns both the kerchunk reference and the path the file on podaac-ops-cumulus-protected"
   ]
  },
  {
   "cell_type": "markdown",
   "id": "28b850da-5df5-460e-81f3-0450a2904667",
   "metadata": {},
   "source": [
    "Which can immediately be used to create a reference file and open one of the MUR files with Xarray, at which point it can be used just as if we had opened the MUR netCDF file directly:"
   ]
  },
  {
   "cell_type": "code",
   "execution_count": 8,
   "id": "aba98768-e3bf-4693-9778-cc2ca14d43be",
   "metadata": {},
   "outputs": [
    {
     "name": "stdout",
     "output_type": "stream",
     "text": [
      "CPU times: user 2.44 s, sys: 1.01 s, total: 3.45 s\n",
      "Wall time: 13.9 s\n"
     ]
    }
   ],
   "source": [
    "%%time\n",
    "# Create reference file:\n",
    "reference, endpoint = single_ref_earthaccess(fobjs[0])"
   ]
  },
  {
   "cell_type": "code",
   "execution_count": 12,
   "id": "15707ccc-fcb3-4bf9-94cb-71b11d468054",
   "metadata": {},
   "outputs": [],
   "source": [
    "# Open data using the reference file, using a small wrapper function around xarray's open_dataset. \n",
    "# This will shorten code blocks in other sections. \n",
    "def opendf_withref(ref, fs_data):\n",
    "    \"\"\"\n",
    "    \"ref\" is a kerchunk reference file or object. \"fs_data\" is a filesystem with credentials to\n",
    "    access the actual data files. \n",
    "    \"\"\"\n",
    "    storage_opts = {\"fo\": ref, \"remote_protocol\": \"s3\", \"remote_options\": fs_data.storage_options}\n",
    "    fs_ref = fsspec.filesystem('reference', **storage_opts)\n",
    "    m = fs_ref.get_mapper('')\n",
    "    data = xr.open_dataset(\n",
    "        m, engine=\"zarr\", chunks={},\n",
    "        backend_kwargs={\"consolidated\": False}\n",
    "        )\n",
    "    return data"
   ]
  },
  {
   "cell_type": "code",
   "execution_count": 12,
   "id": "cf7a4fe9-5d2c-49c6-936e-91a4c481647c",
   "metadata": {},
   "outputs": [
    {
     "name": "stdout",
     "output_type": "stream",
     "text": [
      "<xarray.Dataset>\n",
      "Dimensions:           (time: 1, lat: 17999, lon: 36000)\n",
      "Coordinates:\n",
      "  * lat               (lat) float32 -89.99 -89.98 -89.97 ... 89.97 89.98 89.99\n",
      "  * lon               (lon) float32 -180.0 -180.0 -180.0 ... 180.0 180.0 180.0\n",
      "  * time              (time) datetime64[ns] 2019-01-01T09:00:00\n",
      "Data variables:\n",
      "    analysed_sst      (time, lat, lon) float32 dask.array<chunksize=(1, 1023, 2047), meta=np.ndarray>\n",
      "    analysis_error    (time, lat, lon) float32 dask.array<chunksize=(1, 1023, 2047), meta=np.ndarray>\n",
      "    dt_1km_data       (time, lat, lon) timedelta64[ns] dask.array<chunksize=(1, 1447, 2895), meta=np.ndarray>\n",
      "    mask              (time, lat, lon) float32 dask.array<chunksize=(1, 1447, 2895), meta=np.ndarray>\n",
      "    sea_ice_fraction  (time, lat, lon) float32 dask.array<chunksize=(1, 1447, 2895), meta=np.ndarray>\n",
      "Attributes: (47)\n",
      "CPU times: user 103 ms, sys: 8.7 ms, total: 111 ms\n",
      "Wall time: 469 ms\n"
     ]
    }
   ],
   "source": [
    "%%time\n",
    "data = opendf_withref(reference, fs)\n",
    "print(data)"
   ]
  },
  {
   "cell_type": "markdown",
   "id": "25fd7864-25f5-4b54-b47f-2072b21ab35e",
   "metadata": {},
   "source": [
    "**For us, reference file creation took ~10 seconds, so processing a year would take *10 x 365 ~ 60 minutes***. One could easily write a simple for-loop to accomplish this, e.g.\n",
    "\n",
    "```\n",
    "for fobj in fobjs[:365]:\n",
    "    single_ref_earthaccess(fobj, dir_save=<directory of your choice>)\n",
    "```\n",
    "\n",
    "However, we speed things up using basic parallel computing. "
   ]
  },
  {
   "cell_type": "markdown",
   "id": "9e4fc53c-2bf2-4b9d-9ab7-32a498011bd4",
   "metadata": {},
   "source": [
    "### 1.2.1 Parallelize using Dask local cluster\n",
    "If using the suggested `m6i.8xlarge` AWS EC2 instance, there are 32 CPUs available and each should have enough memory that we can utilize all 32 at once. If working on a different VM-type, change the `n_workers` in the call to `Client()` below as needed."
   ]
  },
  {
   "cell_type": "code",
   "execution_count": 13,
   "id": "914018a4-0858-4ee1-acbe-b4039fea7584",
   "metadata": {},
   "outputs": [],
   "source": [
    "## Save reference JSONs in this directory:\n",
    "dir_refs_indv_2019 = './reference_jsons_individual_2019/'\n",
    "!mkdir $dir_refs_indv_2019"
   ]
  },
  {
   "cell_type": "code",
   "execution_count": 13,
   "id": "f6bae28c-0527-4ad8-8065-f6187fb46961",
   "metadata": {},
   "outputs": [
    {
     "name": "stdout",
     "output_type": "stream",
     "text": [
      "CPU count = 32\n"
     ]
    }
   ],
   "source": [
    "# Check how many cpu's are on this VM:\n",
    "print(\"CPU count =\", multiprocessing.cpu_count())"
   ]
  },
  {
   "cell_type": "code",
   "execution_count": 14,
   "id": "081fdd0e-03c7-4746-9066-9c1342b99cb2",
   "metadata": {},
   "outputs": [
    {
     "name": "stdout",
     "output_type": "stream",
     "text": [
      "LocalCluster(01fc9997, 'tcp://127.0.0.1:36457', workers=32, threads=32, memory=122.32 GiB)\n",
      "View any work being done on the cluster here https://cluster-idaxm.dask.host/jupyter/proxy/8787/status\n"
     ]
    }
   ],
   "source": [
    "# Start up cluster and print some information about it:\n",
    "client = Client(n_workers=32, threads_per_worker=1)\n",
    "print(client.cluster)\n",
    "print(\"View any work being done on the cluster here\", client.dashboard_link)"
   ]
  },
  {
   "cell_type": "code",
   "execution_count": 16,
   "id": "3ed0c70a-dcf8-40ad-a4fc-68b1b0e47f51",
   "metadata": {},
   "outputs": [
    {
     "name": "stderr",
     "output_type": "stream",
     "text": [
      "/opt/coiled/env/lib/python3.12/site-packages/distributed/client.py:3164: UserWarning: Sending large graph of size 51.61 MiB.\n",
      "This may cause some slowdown.\n",
      "Consider scattering data ahead of time and using futures.\n",
      "  warnings.warn(\n"
     ]
    },
    {
     "name": "stdout",
     "output_type": "stream",
     "text": [
      "CPU times: user 1min 26s, sys: 18.8 s, total: 1min 45s\n",
      "Wall time: 5min 18s\n"
     ]
    }
   ],
   "source": [
    "%%time\n",
    "\n",
    "# Setup parallel computations:\n",
    "single_ref_earthaccess_par = delayed(single_ref_earthaccess)\n",
    "tasks = [single_ref_earthaccess_par(fo, dir_save=dir_refs_indv_2019) for fo in fobjs[:365]]\n",
    "\n",
    "# Run parallel computations:\n",
    "results = da.compute(*tasks)"
   ]
  },
  {
   "cell_type": "markdown",
   "id": "b083114d-de86-4860-911f-f44e21877725",
   "metadata": {},
   "source": [
    "### 1.2.2 Optional Alternative: Parallelize using distributed cluster with Coiled\n",
    "At PO.DAAC we have been testing the third party software/package Coiled which makes it easy to spin up distributed computing clusters in the cloud. Since we suspect that Coiled may become a key member of the Cloud ecosystem for earth science researchers, this optional section is included, which can be used as an alternative to Section 1.2.1 for generating the reference files in parallel."
   ]
  },
  {
   "cell_type": "code",
   "execution_count": null,
   "id": "05070095-1d23-4691-a984-5c7a13371b4c",
   "metadata": {},
   "outputs": [],
   "source": [
    "## Save reference JSONs in this directory:\n",
    "dir_refs_indv_2019 = './reference_jsons_individual_2019/'\n",
    "!mkdir $dir_refs_indv_2019"
   ]
  },
  {
   "cell_type": "code",
   "execution_count": 16,
   "id": "8fa76bec-1ef7-4ed1-bc58-f16eea3aa9e8",
   "metadata": {},
   "outputs": [
    {
     "data": {
      "application/vnd.jupyter.widget-view+json": {
       "model_id": "73ce9a4acf724d998e8b19117a00dcd0",
       "version_major": 2,
       "version_minor": 0
      },
      "text/plain": [
       "Output()"
      ]
     },
     "metadata": {},
     "output_type": "display_data"
    },
    {
     "data": {
      "text/html": [
       "<pre style=\"white-space:pre;overflow-x:auto;line-height:normal;font-family:Menlo,'DejaVu Sans Mono',consolas,'Courier New',monospace\"></pre>\n"
      ],
      "text/plain": []
     },
     "metadata": {},
     "output_type": "display_data"
    },
    {
     "data": {
      "application/vnd.jupyter.widget-view+json": {
       "model_id": "b655ecf3e9ad4278bd79e67391ea7679",
       "version_major": 2,
       "version_minor": 0
      },
      "text/plain": [
       "Output()"
      ]
     },
     "metadata": {},
     "output_type": "display_data"
    },
    {
     "data": {
      "text/html": [
       "<pre style=\"white-space:pre;overflow-x:auto;line-height:normal;font-family:Menlo,'DejaVu Sans Mono',consolas,'Courier New',monospace\"></pre>\n"
      ],
      "text/plain": []
     },
     "metadata": {},
     "output_type": "display_data"
    },
    {
     "name": "stdout",
     "output_type": "stream",
     "text": [
      "CPU times: user 58.2 s, sys: 17.1 s, total: 1min 15s\n",
      "Wall time: 9min 7s\n"
     ]
    }
   ],
   "source": [
    "%%time\n",
    "\n",
    "## --------------------------------------------\n",
    "## Create single reference files with parallel computing using Coiled\n",
    "## --------------------------------------------\n",
    "\n",
    "# Wrap `create_single_ref` into coiled function:\n",
    "single_ref_earthaccess_par = coiled.function(\n",
    "    region=\"us-west-2\", spot_policy=\"on-demand\", \n",
    "    vm_type=\"m6i.large\", n_workers=16\n",
    "    )(single_ref_earthaccess)\n",
    "\n",
    "# Begin computations:\n",
    "results = single_ref_earthaccess_par.map(fobjs[:365])\n",
    "\n",
    "# Save results to JSONs as they become available:\n",
    "for reference, endpoint in results:\n",
    "    name_ref = dir_refs_indv_2019 + endpoint.split('/')[-1].replace('.nc', '.json')\n",
    "    with open(name_ref, 'w') as outf:\n",
    "        outf.write(ujson.dumps(reference))"
   ]
  },
  {
   "cell_type": "code",
   "execution_count": 17,
   "id": "3d0c311a-9523-44d4-96eb-b88db5bda632",
   "metadata": {},
   "outputs": [],
   "source": [
    "single_ref_earthaccess_par.cluster.shutdown()"
   ]
  },
  {
   "cell_type": "markdown",
   "id": "d9ba2934-e00a-416c-98ab-2be6c7c4836e",
   "metadata": {},
   "source": [
    "### 1.3 Create the combined reference file and use it to open the data\n",
    "However the single reference files were generated in the previous section, they can now be used to create a single reference file for the entire year 2019. The computation time for this step can also be decreased with parallel computing, but in this case serial computing is used.\n",
    "\n",
    "***Important: Modify the `time_invariant_dims_and_coords` list in the next block. List all the NC dimension and coordinate names other than time. This is necessary to ensure they stay 1D and do not get a dummy time dimension added to them.***"
   ]
  },
  {
   "cell_type": "code",
   "execution_count": null,
   "id": "9fdf7203-9cf9-47df-89f8-82be7f6ccebf",
   "metadata": {},
   "outputs": [],
   "source": [
    "time_invariant_dims_and_coords = []"
   ]
  },
  {
   "cell_type": "code",
   "execution_count": 18,
   "id": "becc2715-d6aa-463f-993b-717892758cca",
   "metadata": {},
   "outputs": [
    {
     "name": "stdout",
     "output_type": "stream",
     "text": [
      "CPU times: user 27 s, sys: 6.18 s, total: 33.2 s\n",
      "Wall time: 2min 30s\n"
     ]
    }
   ],
   "source": [
    "%%time\n",
    "\n",
    "## --------------------------------------------\n",
    "## Create combined reference file\n",
    "## --------------------------------------------\n",
    "\n",
    "ref_files_indv = [dir_refs_indv_2019+f for f in os.listdir(dir_refs_indv_2019) if f.endswith('.json')]\n",
    "ref_files_indv.sort()\n",
    "\n",
    "## Combined reference file\n",
    "kwargs_mzz = {\n",
    "    'remote_protocol':\"s3\", \n",
    "    'remote_options':fs.storage_options, \n",
    "    'concat_dims':[\"time\"]\n",
    "    'identical_dims':time_invariant_dims_and_coords\n",
    "    }\n",
    "mzz = MultiZarrToZarr(ref_files_indv, **kwargs_mzz)\n",
    "ref_combined = mzz.translate()\n",
    "\n",
    " # Save reference info to JSON:\n",
    "with open(\"ref_combined_2019.json\", 'wb') as outf:\n",
    "    outf.write(ujson.dumps(ref_combined).encode())"
   ]
  },
  {
   "cell_type": "code",
   "execution_count": 19,
   "id": "92f0ea99-2643-4936-9821-4c6428682b98",
   "metadata": {},
   "outputs": [
    {
     "name": "stdout",
     "output_type": "stream",
     "text": [
      "<xarray.Dataset>\n",
      "Dimensions:           (time: 365, lat: 17999, lon: 36000)\n",
      "Coordinates:\n",
      "  * lat               (lat) float32 -89.99 -89.98 -89.97 ... 89.97 89.98 89.99\n",
      "  * lon               (lon) float32 -180.0 -180.0 -180.0 ... 180.0 180.0 180.0\n",
      "  * time              (time) datetime64[ns] 2019-01-01T09:00:00 ... 2019-12-3...\n",
      "Data variables:\n",
      "    analysed_sst      (time, lat, lon) float32 dask.array<chunksize=(1, 1023, 2047), meta=np.ndarray>\n",
      "    analysis_error    (time, lat, lon) float32 dask.array<chunksize=(1, 1023, 2047), meta=np.ndarray>\n",
      "    dt_1km_data       (time, lat, lon) timedelta64[ns] dask.array<chunksize=(1, 1447, 2895), meta=np.ndarray>\n",
      "    mask              (time, lat, lon) float32 dask.array<chunksize=(1, 1447, 2895), meta=np.ndarray>\n",
      "    sea_ice_fraction  (time, lat, lon) float32 dask.array<chunksize=(1, 1447, 2895), meta=np.ndarray>\n",
      "    sst_anomaly       (time, lat, lon) float32 dask.array<chunksize=(1, 1023, 2047), meta=np.ndarray>\n",
      "Attributes: (47)\n",
      "CPU times: user 2.27 s, sys: 358 ms, total: 2.63 s\n",
      "Wall time: 2.67 s\n"
     ]
    }
   ],
   "source": [
    "%%time\n",
    "# Open the portion of the MUR record corresponding to the reference file created:\n",
    "data = opendf_withref(json.load(open(\"ref_combined_2019.json\")), fs)\n",
    "print(data)"
   ]
  },
  {
   "cell_type": "markdown",
   "id": "a176122c-e85b-4bf1-aa70-804f50d396bb",
   "metadata": {},
   "source": [
    "The data will open quickly now that we have the reference file. Compare that to an attempt at opening these same files with `Xarray` the \"traditional\" way with a call to `xr.open_mfdataset()`. On a smaller machine, the following line of code will either fail or take a long (possibly very long) amount of time:"
   ]
  },
  {
   "cell_type": "code",
   "execution_count": 33,
   "id": "ec7ac19b-217b-472b-993a-0c560a228c30",
   "metadata": {},
   "outputs": [],
   "source": [
    "## You can try un-commenting and running this but your notebook will probably crash:\n",
    "# data = xr.open_mfdataset(fobjs[:365])"
   ]
  },
  {
   "cell_type": "markdown",
   "id": "44e285c2-7a7b-48f8-85bc-1cad89ec55ed",
   "metadata": {},
   "source": [
    "## 2. Generate the same MUR reference file but in PARQUET format\n",
    "\n",
    "For larger datasets, the combined reference file in JSON format can become large. For example, if we wanted to create a reference JSON for the entire MUR 0.01 degree record it is estimated to be 1-2 GB, and the MUR data set isn't even *that* large in the scheme of things. One solution to this is to save the reference information in PARQUET format (demonstrated in this section) which reduces the disk space required.\n",
    "\n",
    "Instead of re-creating all individual reference files, this section will load the combined 2019 reference file, then re-save in parquet format and use it to open the MUR data."
   ]
  },
  {
   "cell_type": "code",
   "execution_count": 20,
   "id": "9496eccc-79e5-4ee2-9989-20b4f636dab8",
   "metadata": {},
   "outputs": [],
   "source": [
    "ref_combined_2019 = json.load(open(\"ref_combined_2019.json\"))"
   ]
  },
  {
   "cell_type": "code",
   "execution_count": 21,
   "id": "a665d526-f89a-4269-af4d-8ee0915147e4",
   "metadata": {},
   "outputs": [
    {
     "name": "stdout",
     "output_type": "stream",
     "text": [
      "CPU times: user 3.26 s, sys: 140 ms, total: 3.4 s\n",
      "Wall time: 3.22 s\n"
     ]
    }
   ],
   "source": [
    "%%time\n",
    "# Save reference info to parquet:\n",
    "refs_to_dataframe(ref_combined_2019, \"ref_combined_2019.parq\")"
   ]
  },
  {
   "cell_type": "code",
   "execution_count": 22,
   "id": "2d00609d-053d-43f6-9ee6-e0c413b302b9",
   "metadata": {},
   "outputs": [
    {
     "name": "stdout",
     "output_type": "stream",
     "text": [
      "<xarray.Dataset>\n",
      "Dimensions:           (time: 365, lat: 17999, lon: 36000)\n",
      "Coordinates:\n",
      "  * lat               (lat) float32 -89.99 -89.98 -89.97 ... 89.97 89.98 89.99\n",
      "  * lon               (lon) float32 -180.0 -180.0 -180.0 ... 180.0 180.0 180.0\n",
      "  * time              (time) datetime64[ns] 2019-01-01T09:00:00 ... 2019-12-3...\n",
      "Data variables:\n",
      "    analysed_sst      (time, lat, lon) float32 dask.array<chunksize=(1, 1023, 2047), meta=np.ndarray>\n",
      "    analysis_error    (time, lat, lon) float32 dask.array<chunksize=(1, 1023, 2047), meta=np.ndarray>\n",
      "    dt_1km_data       (time, lat, lon) timedelta64[ns] dask.array<chunksize=(1, 1447, 2895), meta=np.ndarray>\n",
      "    mask              (time, lat, lon) float32 dask.array<chunksize=(1, 1447, 2895), meta=np.ndarray>\n",
      "    sea_ice_fraction  (time, lat, lon) float32 dask.array<chunksize=(1, 1447, 2895), meta=np.ndarray>\n",
      "    sst_anomaly       (time, lat, lon) float32 dask.array<chunksize=(1, 1023, 2047), meta=np.ndarray>\n",
      "Attributes: (47)\n",
      "CPU times: user 65.4 ms, sys: 20.7 ms, total: 86.2 ms\n",
      "Wall time: 383 ms\n"
     ]
    }
   ],
   "source": [
    "%%time\n",
    "data = opendf_withref(\"ref_combined_2019.parq\", fs)\n",
    "print(data)"
   ]
  },
  {
   "cell_type": "code",
   "execution_count": 23,
   "id": "c6934772-0a1d-4e06-93c9-d556ab2829f9",
   "metadata": {},
   "outputs": [
    {
     "name": "stdout",
     "output_type": "stream",
     "text": [
      "JSON: 77.881403 MB\n",
      "PARQUET: 2.502714 MB\n"
     ]
    }
   ],
   "source": [
    "## Compare size of JSON vs parquet, printed in MB\n",
    "    # JSON\n",
    "print(\"JSON:\", os.path.getsize(\"ref_combined_2019.json\")/10**6, \"MB\")\n",
    "    # parquet\n",
    "size_parq = 0 \n",
    "for path, dirs, files in os.walk(\"ref_combined_2019.parq\"):\n",
    "    for f in files:\n",
    "        fp = os.path.join(path, f)\n",
    "        size_parq += os.path.getsize(fp)\n",
    "print(\"PARQUET:\", size_parq/10**6, \"MB\")"
   ]
  },
  {
   "cell_type": "markdown",
   "id": "605954f8-1a25-4945-bccd-b3c0d40af29b",
   "metadata": {},
   "source": [
    "## 3. Combining reference files\n",
    "This section demonstrates that reference files can be combined in two examples:\n",
    "\n",
    "1. A single reference file (for the first day of 2020) is appended to the combined reference file for 2019 generated in the previous section.\n",
    "2. A second year-long combined reference file is created for all of 2020 and combined with the 2019 reference file.\n",
    "\n",
    "In both cases, a key result is that creating the final product (e.g. combining two reference files) is much shorter than it would have been to create it from scratch."
   ]
  },
  {
   "cell_type": "markdown",
   "id": "5525766d-d62d-4de2-a7b0-1c460aaa001d",
   "metadata": {},
   "source": [
    "### 3.1 Adding an extra day of the MUR record to our existing reference file."
   ]
  },
  {
   "cell_type": "code",
   "execution_count": 38,
   "id": "51b0736a-e581-4e7f-991a-6a2ced3e3504",
   "metadata": {},
   "outputs": [
    {
     "name": "stdout",
     "output_type": "stream",
     "text": [
      "CPU times: user 5.07 s, sys: 1.95 s, total: 7.02 s\n",
      "Wall time: 21.7 s\n"
     ]
    }
   ],
   "source": [
    "%%time\n",
    "# Create reference file for first day in 2020:\n",
    "ref_add, endpoint_add = single_ref_earthaccess(fobjs[365])\n",
    "\n",
    "name_ref_add = endpoint_add.split('/')[-1].replace('.nc', '.json')\n",
    "with open(name_ref_add, 'w') as outf:\n",
    "    outf.write(ujson.dumps(ref_add))"
   ]
  },
  {
   "cell_type": "code",
   "execution_count": 39,
   "id": "19a23add-33df-4928-8f25-b425985fe81a",
   "metadata": {},
   "outputs": [
    {
     "name": "stdout",
     "output_type": "stream",
     "text": [
      "CPU times: user 4.02 s, sys: 2.25 s, total: 6.27 s\n",
      "Wall time: 5.16 s\n"
     ]
    }
   ],
   "source": [
    "%%time\n",
    "\n",
    "# Add it to the combined reference file:\n",
    "kwargs_mzz = {'remote_protocol':\"s3\", 'remote_options':fs.storage_options, 'concat_dims':[\"time\"]}\n",
    "mzz = MultiZarrToZarr([\"ref_combined_2019.json\", name_ref_add], **kwargs_mzz)\n",
    "ref_combined_add1day = mzz.translate()\n",
    "\n",
    " # Save reference info to JSON:\n",
    "with open(\"ref_combined_add1day.json\", 'wb') as outf:\n",
    "    outf.write(ujson.dumps(ref_combined_add1day).encode())"
   ]
  },
  {
   "cell_type": "markdown",
   "id": "9c65d58c-ac99-4ca9-a3fb-05c09d2329b9",
   "metadata": {},
   "source": [
    "**Appending an additional file does not take much time!**"
   ]
  },
  {
   "cell_type": "code",
   "execution_count": 40,
   "id": "dd59aa08-a5f2-40bc-bdd8-07e8c6e782b3",
   "metadata": {},
   "outputs": [
    {
     "name": "stdout",
     "output_type": "stream",
     "text": [
      "366\n",
      "<xarray.Dataset>\n",
      "Dimensions:           (time: 366, lat: 17999, lon: 36000)\n",
      "Coordinates:\n",
      "  * lat               (lat) float32 -89.99 -89.98 -89.97 ... 89.97 89.98 89.99\n",
      "  * lon               (lon) float32 -180.0 -180.0 -180.0 ... 180.0 180.0 180.0\n",
      "  * time              (time) datetime64[ns] 2019-01-01T09:00:00 ... 2020-01-0...\n",
      "Data variables:\n",
      "    analysed_sst      (time, lat, lon) float32 dask.array<chunksize=(1, 1023, 2047), meta=np.ndarray>\n",
      "    analysis_error    (time, lat, lon) float32 dask.array<chunksize=(1, 1023, 2047), meta=np.ndarray>\n",
      "    dt_1km_data       (time, lat, lon) timedelta64[ns] dask.array<chunksize=(1, 1447, 2895), meta=np.ndarray>\n",
      "    mask              (time, lat, lon) float32 dask.array<chunksize=(1, 1447, 2895), meta=np.ndarray>\n",
      "    sea_ice_fraction  (time, lat, lon) float32 dask.array<chunksize=(1, 1447, 2895), meta=np.ndarray>\n",
      "    sst_anomaly       (time, lat, lon) float32 dask.array<chunksize=(1, 1023, 2047), meta=np.ndarray>\n",
      "Attributes: (47)\n",
      "CPU times: user 1.48 s, sys: 145 ms, total: 1.63 s\n",
      "Wall time: 1.76 s\n"
     ]
    }
   ],
   "source": [
    "%%time\n",
    "# Open data using new reference file:\n",
    "data = opendf_withref(\"ref_combined_add1day.json\", fs)\n",
    "print(len(data[\"time\"]))\n",
    "print(data)"
   ]
  },
  {
   "cell_type": "markdown",
   "id": "af585b0b-9c7e-45dd-9ea0-8b39f83af375",
   "metadata": {},
   "source": [
    "### 3.2 Combining two year-long combined reference files\n",
    "Individual files for 2020 are created and combined into a single reference file, then this file is combined with the 2019 reference file. As before, parallel computing is used to speed up creation of the files, but this could also be accomplished with a for-loop. "
   ]
  },
  {
   "cell_type": "code",
   "execution_count": 41,
   "id": "238e9c31-af8a-4cf8-9c9b-8f687978d419",
   "metadata": {},
   "outputs": [],
   "source": [
    "## Save individual reference JSONs in this directory:\n",
    "dir_refs_indv_2020 = './reference_jsons_individual_2020/'\n",
    "!mkdir $dir_refs_indv_2020"
   ]
  },
  {
   "cell_type": "code",
   "execution_count": null,
   "id": "d67f7a3a-511e-4bde-8385-121854129842",
   "metadata": {},
   "outputs": [],
   "source": [
    "## !!!!!!!!!!!\n",
    "## This line only needs to be run if you don't have a cluster already running\n",
    "## from Section 1.2.1\n",
    "## !!!!!!!!!!!\n",
    "# Start up cluster:\n",
    "client = Client(n_workers=32, threads_per_worker=1)"
   ]
  },
  {
   "cell_type": "code",
   "execution_count": 44,
   "id": "30a37e94-5b90-4902-9be1-c76db23d774d",
   "metadata": {},
   "outputs": [],
   "source": [
    "# Setup parallel computations:\n",
    "single_ref_earthaccess_par = delayed(single_ref_earthaccess)\n",
    "tasks = [single_ref_earthaccess_par(fo, dir_save=dir_refs_indv_2020) for fo in fobjs[365:]]"
   ]
  },
  {
   "cell_type": "code",
   "execution_count": 45,
   "id": "ffb9967c-e962-4524-91b9-6eb9845e0f76",
   "metadata": {},
   "outputs": [
    {
     "name": "stderr",
     "output_type": "stream",
     "text": [
      "/opt/coiled/env/lib/python3.12/site-packages/distributed/client.py:3164: UserWarning: Sending large graph of size 51.63 MiB.\n",
      "This may cause some slowdown.\n",
      "Consider scattering data ahead of time and using futures.\n",
      "  warnings.warn(\n"
     ]
    },
    {
     "name": "stdout",
     "output_type": "stream",
     "text": [
      "CPU times: user 2min 2s, sys: 53.6 s, total: 2min 55s\n",
      "Wall time: 6min 4s\n"
     ]
    }
   ],
   "source": [
    "%%time\n",
    "# Run parallel computations:\n",
    "results = da.compute(*tasks)"
   ]
  },
  {
   "cell_type": "code",
   "execution_count": 46,
   "id": "39cc7952-bcfc-46c6-b53c-edd4e17f90ca",
   "metadata": {},
   "outputs": [
    {
     "name": "stdout",
     "output_type": "stream",
     "text": [
      "CPU times: user 37.4 s, sys: 15.1 s, total: 52.5 s\n",
      "Wall time: 2min 11s\n"
     ]
    }
   ],
   "source": [
    "%%time\n",
    "\n",
    "## --------------------------------------------\n",
    "## Create combined reference file for 2020\n",
    "## --------------------------------------------\n",
    "\n",
    "ref_files_indv = [dir_refs_indv_2020+f for f in os.listdir(dir_refs_indv_2020) if f.endswith('.json')]\n",
    "ref_files_indv.sort()\n",
    "\n",
    "## Combined reference file\n",
    "kwargs_mzz = {'remote_protocol':\"s3\", 'remote_options':fs.storage_options, 'concat_dims':[\"time\"]}\n",
    "mzz = MultiZarrToZarr(ref_files_indv, **kwargs_mzz)\n",
    "ref_combined = mzz.translate()\n",
    "\n",
    " # Save reference info to JSON:\n",
    "with open(\"ref_combined_2020.json\", 'wb') as outf:\n",
    "    outf.write(ujson.dumps(ref_combined).encode())"
   ]
  },
  {
   "cell_type": "code",
   "execution_count": 47,
   "id": "eb120878-6fd7-42d1-9d75-86fb54ce6630",
   "metadata": {},
   "outputs": [
    {
     "name": "stdout",
     "output_type": "stream",
     "text": [
      "CPU times: user 10.7 s, sys: 5.73 s, total: 16.4 s\n",
      "Wall time: 12.8 s\n"
     ]
    }
   ],
   "source": [
    "%%time\n",
    "\n",
    "## --------------------------------------------\n",
    "## Then create combined reference file for 2019 and 2020\n",
    "## --------------------------------------------\n",
    "\n",
    "kwargs_mzz = {'remote_protocol':\"s3\", 'remote_options':fs.storage_options, 'concat_dims':[\"time\"]}\n",
    "mzz = MultiZarrToZarr([\"ref_combined_2019.json\", \"ref_combined_2020.json\"], **kwargs_mzz)\n",
    "ref_combined_2years = mzz.translate()\n",
    "\n",
    " # Save reference info to JSON:\n",
    "with open(\"ref_combined_2019-2020.json\", 'wb') as outf:\n",
    "    outf.write(ujson.dumps(ref_combined_2years).encode())"
   ]
  },
  {
   "cell_type": "markdown",
   "id": "a18fb8d4-4d10-4f61-b426-c77e5a92daaf",
   "metadata": {},
   "source": [
    "***Note the large difference in computation time to create the 2020 combined reference file from the individual reference files, vs. combining the two year-long reference files for 2019 and 2020. The latter is much shorter!***"
   ]
  },
  {
   "cell_type": "code",
   "execution_count": 48,
   "id": "c1af9234-1aee-4537-ac6c-97e2f2395609",
   "metadata": {},
   "outputs": [
    {
     "name": "stdout",
     "output_type": "stream",
     "text": [
      "732\n",
      "<xarray.Dataset>\n",
      "Dimensions:           (time: 732, lat: 17999, lon: 36000)\n",
      "Coordinates:\n",
      "  * lat               (lat) float32 -89.99 -89.98 -89.97 ... 89.97 89.98 89.99\n",
      "  * lon               (lon) float32 -180.0 -180.0 -180.0 ... 180.0 180.0 180.0\n",
      "  * time              (time) datetime64[ns] 2019-01-01T09:00:00 ... 2021-01-0...\n",
      "Data variables:\n",
      "    analysed_sst      (time, lat, lon) float32 dask.array<chunksize=(1, 1023, 2047), meta=np.ndarray>\n",
      "    analysis_error    (time, lat, lon) float32 dask.array<chunksize=(1, 1023, 2047), meta=np.ndarray>\n",
      "    dt_1km_data       (time, lat, lon) timedelta64[ns] dask.array<chunksize=(1, 1447, 2895), meta=np.ndarray>\n",
      "    mask              (time, lat, lon) float32 dask.array<chunksize=(1, 1447, 2895), meta=np.ndarray>\n",
      "    sea_ice_fraction  (time, lat, lon) float32 dask.array<chunksize=(1, 1447, 2895), meta=np.ndarray>\n",
      "    sst_anomaly       (time, lat, lon) float32 dask.array<chunksize=(1, 1023, 2047), meta=np.ndarray>\n",
      "Attributes: (47)\n",
      "CPU times: user 3.21 s, sys: 467 ms, total: 3.68 s\n",
      "Wall time: 3.63 s\n"
     ]
    }
   ],
   "source": [
    "%%time\n",
    "# Open data using new reference file:\n",
    "data = opendf_withref(\"ref_combined_2019-2020.json\", fs)\n",
    "print(len(data[\"time\"]))\n",
    "print(data)"
   ]
  },
  {
   "cell_type": "markdown",
   "id": "96dc2738-5a47-4356-807a-ae86607a806d",
   "metadata": {},
   "source": [
    "## 4. Using a reference file to analyze the MUR data with parallel computing\n",
    "\n",
    "This section verifies that the reference file can be used to perform computations on the MUR data, additionally verifying that parallel computing can be implemented with the computations. We try parallel computations using both a local and distributed cluster. \n",
    "\n",
    "The analysis will bin/average the 2019 MUR SST data by month, to generate a \"mean seasonal cycle\" (of course, one year of data isn't enough to produce a real a mean seasonal cycle). The analysis uses Xarray built in functions which naturally parallelize on Dask clusters."
   ]
  },
  {
   "cell_type": "code",
   "execution_count": 24,
   "id": "f9040928-42a0-44b5-a532-d2ba81169ea9",
   "metadata": {},
   "outputs": [],
   "source": [
    "def seasonal_cycle_regional(data_array, lat_region, lon_region):\n",
    "    \"\"\"\n",
    "    Uses built in Xarray functions to generate a mean seasonal cycle at each grid point \n",
    "    over a specified region. Any temporal linear trends are first removed at each point \n",
    "    respecitvely, then data are binned and averaged by month. \n",
    "    \"\"\"\n",
    "    ## Subset to region:\n",
    "    da_regional = data_array.sel(lat=slice(*lat_region), lon=slice(*lon_region))\n",
    "    \n",
    "    ## Remove any linear trends:\n",
    "    p = da_regional.polyfit(dim='time', deg=1) # Degree 1 polynomial fit coefficients over time for each lat, lon.\n",
    "    fit = xr.polyval(da_regional['time'], p.polyfit_coefficients) # Compute linear trend time series at each lat, lon.\n",
    "    da_detrend = (da_regional - fit) # xarray is smart enough to subtract along the time dim only.\n",
    "    \n",
    "    ## Mean seasonal cycle:\n",
    "    seasonal_cycle = da_detrend.groupby(\"time.month\").mean(\"time\")\n",
    "    return seasonal_cycle"
   ]
  },
  {
   "cell_type": "code",
   "execution_count": 25,
   "id": "037824cf-1c4e-4122-a457-32e8a7f09e27",
   "metadata": {},
   "outputs": [],
   "source": [
    "# Region to perform analysis over:\n",
    "lat_region = (30, 45)\n",
    "lon_region = (-135, -105)"
   ]
  },
  {
   "cell_type": "markdown",
   "id": "bc9ea98b-8f78-440d-8ca7-df20ef6cea4c",
   "metadata": {},
   "source": [
    "### 4.1 Using a local cluster\n",
    "This section was run using 16 workers on an `m6i.8xlarge` EC2 instance. Any warning messages generated by the cluster are left in the output here intentionally. Note that despite the warning messages, the parallel computations complete successfully. "
   ]
  },
  {
   "cell_type": "code",
   "execution_count": 26,
   "id": "b3049e68-de11-4171-bce3-524eec799a3d",
   "metadata": {},
   "outputs": [
    {
     "name": "stdout",
     "output_type": "stream",
     "text": [
      "CPU count = 32\n"
     ]
    }
   ],
   "source": [
    "print(\"CPU count =\", multiprocessing.cpu_count())"
   ]
  },
  {
   "cell_type": "code",
   "execution_count": 27,
   "id": "0f394dec-4fc9-49b0-8015-b9ceb7d62ea9",
   "metadata": {},
   "outputs": [
    {
     "name": "stderr",
     "output_type": "stream",
     "text": [
      "/opt/coiled/env/lib/python3.12/site-packages/distributed/node.py:182: UserWarning: Port 8787 is already in use.\n",
      "Perhaps you already have a cluster running?\n",
      "Hosting the HTTP server on port 39973 instead\n",
      "  warnings.warn(\n"
     ]
    },
    {
     "name": "stdout",
     "output_type": "stream",
     "text": [
      "LocalCluster(5c690e69, 'tcp://127.0.0.1:44549', workers=16, threads=16, memory=122.32 GiB)\n"
     ]
    },
    {
     "data": {
      "text/plain": [
       "'https://cluster-idaxm.dask.host/jupyter/proxy/39973/status'"
      ]
     },
     "execution_count": 27,
     "metadata": {},
     "output_type": "execute_result"
    }
   ],
   "source": [
    "## Local Dask Cluster\n",
    "client = Client(n_workers=16, threads_per_worker=1)\n",
    "print(client.cluster)\n",
    "client.dashboard_link"
   ]
  },
  {
   "cell_type": "code",
   "execution_count": 28,
   "id": "52fd8390-86b6-4dd0-aeb8-f36a2b58cbad",
   "metadata": {},
   "outputs": [
    {
     "data": {
      "text/html": [
       "<div><svg style=\"position: absolute; width: 0; height: 0; overflow: hidden\">\n",
       "<defs>\n",
       "<symbol id=\"icon-database\" viewBox=\"0 0 32 32\">\n",
       "<path d=\"M16 0c-8.837 0-16 2.239-16 5v4c0 2.761 7.163 5 16 5s16-2.239 16-5v-4c0-2.761-7.163-5-16-5z\"></path>\n",
       "<path d=\"M16 17c-8.837 0-16-2.239-16-5v6c0 2.761 7.163 5 16 5s16-2.239 16-5v-6c0 2.761-7.163 5-16 5z\"></path>\n",
       "<path d=\"M16 26c-8.837 0-16-2.239-16-5v6c0 2.761 7.163 5 16 5s16-2.239 16-5v-6c0 2.761-7.163 5-16 5z\"></path>\n",
       "</symbol>\n",
       "<symbol id=\"icon-file-text2\" viewBox=\"0 0 32 32\">\n",
       "<path d=\"M28.681 7.159c-0.694-0.947-1.662-2.053-2.724-3.116s-2.169-2.030-3.116-2.724c-1.612-1.182-2.393-1.319-2.841-1.319h-15.5c-1.378 0-2.5 1.121-2.5 2.5v27c0 1.378 1.122 2.5 2.5 2.5h23c1.378 0 2.5-1.122 2.5-2.5v-19.5c0-0.448-0.137-1.23-1.319-2.841zM24.543 5.457c0.959 0.959 1.712 1.825 2.268 2.543h-4.811v-4.811c0.718 0.556 1.584 1.309 2.543 2.268zM28 29.5c0 0.271-0.229 0.5-0.5 0.5h-23c-0.271 0-0.5-0.229-0.5-0.5v-27c0-0.271 0.229-0.5 0.5-0.5 0 0 15.499-0 15.5 0v7c0 0.552 0.448 1 1 1h7v19.5z\"></path>\n",
       "<path d=\"M23 26h-14c-0.552 0-1-0.448-1-1s0.448-1 1-1h14c0.552 0 1 0.448 1 1s-0.448 1-1 1z\"></path>\n",
       "<path d=\"M23 22h-14c-0.552 0-1-0.448-1-1s0.448-1 1-1h14c0.552 0 1 0.448 1 1s-0.448 1-1 1z\"></path>\n",
       "<path d=\"M23 18h-14c-0.552 0-1-0.448-1-1s0.448-1 1-1h14c0.552 0 1 0.448 1 1s-0.448 1-1 1z\"></path>\n",
       "</symbol>\n",
       "</defs>\n",
       "</svg>\n",
       "<style>/* CSS stylesheet for displaying xarray objects in jupyterlab.\n",
       " *\n",
       " */\n",
       "\n",
       ":root {\n",
       "  --xr-font-color0: var(--jp-content-font-color0, rgba(0, 0, 0, 1));\n",
       "  --xr-font-color2: var(--jp-content-font-color2, rgba(0, 0, 0, 0.54));\n",
       "  --xr-font-color3: var(--jp-content-font-color3, rgba(0, 0, 0, 0.38));\n",
       "  --xr-border-color: var(--jp-border-color2, #e0e0e0);\n",
       "  --xr-disabled-color: var(--jp-layout-color3, #bdbdbd);\n",
       "  --xr-background-color: var(--jp-layout-color0, white);\n",
       "  --xr-background-color-row-even: var(--jp-layout-color1, white);\n",
       "  --xr-background-color-row-odd: var(--jp-layout-color2, #eeeeee);\n",
       "}\n",
       "\n",
       "html[theme=dark],\n",
       "body[data-theme=dark],\n",
       "body.vscode-dark {\n",
       "  --xr-font-color0: rgba(255, 255, 255, 1);\n",
       "  --xr-font-color2: rgba(255, 255, 255, 0.54);\n",
       "  --xr-font-color3: rgba(255, 255, 255, 0.38);\n",
       "  --xr-border-color: #1F1F1F;\n",
       "  --xr-disabled-color: #515151;\n",
       "  --xr-background-color: #111111;\n",
       "  --xr-background-color-row-even: #111111;\n",
       "  --xr-background-color-row-odd: #313131;\n",
       "}\n",
       "\n",
       ".xr-wrap {\n",
       "  display: block !important;\n",
       "  min-width: 300px;\n",
       "  max-width: 700px;\n",
       "}\n",
       "\n",
       ".xr-text-repr-fallback {\n",
       "  /* fallback to plain text repr when CSS is not injected (untrusted notebook) */\n",
       "  display: none;\n",
       "}\n",
       "\n",
       ".xr-header {\n",
       "  padding-top: 6px;\n",
       "  padding-bottom: 6px;\n",
       "  margin-bottom: 4px;\n",
       "  border-bottom: solid 1px var(--xr-border-color);\n",
       "}\n",
       "\n",
       ".xr-header > div,\n",
       ".xr-header > ul {\n",
       "  display: inline;\n",
       "  margin-top: 0;\n",
       "  margin-bottom: 0;\n",
       "}\n",
       "\n",
       ".xr-obj-type,\n",
       ".xr-array-name {\n",
       "  margin-left: 2px;\n",
       "  margin-right: 10px;\n",
       "}\n",
       "\n",
       ".xr-obj-type {\n",
       "  color: var(--xr-font-color2);\n",
       "}\n",
       "\n",
       ".xr-sections {\n",
       "  padding-left: 0 !important;\n",
       "  display: grid;\n",
       "  grid-template-columns: 150px auto auto 1fr 20px 20px;\n",
       "}\n",
       "\n",
       ".xr-section-item {\n",
       "  display: contents;\n",
       "}\n",
       "\n",
       ".xr-section-item input {\n",
       "  display: none;\n",
       "}\n",
       "\n",
       ".xr-section-item input + label {\n",
       "  color: var(--xr-disabled-color);\n",
       "}\n",
       "\n",
       ".xr-section-item input:enabled + label {\n",
       "  cursor: pointer;\n",
       "  color: var(--xr-font-color2);\n",
       "}\n",
       "\n",
       ".xr-section-item input:enabled + label:hover {\n",
       "  color: var(--xr-font-color0);\n",
       "}\n",
       "\n",
       ".xr-section-summary {\n",
       "  grid-column: 1;\n",
       "  color: var(--xr-font-color2);\n",
       "  font-weight: 500;\n",
       "}\n",
       "\n",
       ".xr-section-summary > span {\n",
       "  display: inline-block;\n",
       "  padding-left: 0.5em;\n",
       "}\n",
       "\n",
       ".xr-section-summary-in:disabled + label {\n",
       "  color: var(--xr-font-color2);\n",
       "}\n",
       "\n",
       ".xr-section-summary-in + label:before {\n",
       "  display: inline-block;\n",
       "  content: '►';\n",
       "  font-size: 11px;\n",
       "  width: 15px;\n",
       "  text-align: center;\n",
       "}\n",
       "\n",
       ".xr-section-summary-in:disabled + label:before {\n",
       "  color: var(--xr-disabled-color);\n",
       "}\n",
       "\n",
       ".xr-section-summary-in:checked + label:before {\n",
       "  content: '▼';\n",
       "}\n",
       "\n",
       ".xr-section-summary-in:checked + label > span {\n",
       "  display: none;\n",
       "}\n",
       "\n",
       ".xr-section-summary,\n",
       ".xr-section-inline-details {\n",
       "  padding-top: 4px;\n",
       "  padding-bottom: 4px;\n",
       "}\n",
       "\n",
       ".xr-section-inline-details {\n",
       "  grid-column: 2 / -1;\n",
       "}\n",
       "\n",
       ".xr-section-details {\n",
       "  display: none;\n",
       "  grid-column: 1 / -1;\n",
       "  margin-bottom: 5px;\n",
       "}\n",
       "\n",
       ".xr-section-summary-in:checked ~ .xr-section-details {\n",
       "  display: contents;\n",
       "}\n",
       "\n",
       ".xr-array-wrap {\n",
       "  grid-column: 1 / -1;\n",
       "  display: grid;\n",
       "  grid-template-columns: 20px auto;\n",
       "}\n",
       "\n",
       ".xr-array-wrap > label {\n",
       "  grid-column: 1;\n",
       "  vertical-align: top;\n",
       "}\n",
       "\n",
       ".xr-preview {\n",
       "  color: var(--xr-font-color3);\n",
       "}\n",
       "\n",
       ".xr-array-preview,\n",
       ".xr-array-data {\n",
       "  padding: 0 5px !important;\n",
       "  grid-column: 2;\n",
       "}\n",
       "\n",
       ".xr-array-data,\n",
       ".xr-array-in:checked ~ .xr-array-preview {\n",
       "  display: none;\n",
       "}\n",
       "\n",
       ".xr-array-in:checked ~ .xr-array-data,\n",
       ".xr-array-preview {\n",
       "  display: inline-block;\n",
       "}\n",
       "\n",
       ".xr-dim-list {\n",
       "  display: inline-block !important;\n",
       "  list-style: none;\n",
       "  padding: 0 !important;\n",
       "  margin: 0;\n",
       "}\n",
       "\n",
       ".xr-dim-list li {\n",
       "  display: inline-block;\n",
       "  padding: 0;\n",
       "  margin: 0;\n",
       "}\n",
       "\n",
       ".xr-dim-list:before {\n",
       "  content: '(';\n",
       "}\n",
       "\n",
       ".xr-dim-list:after {\n",
       "  content: ')';\n",
       "}\n",
       "\n",
       ".xr-dim-list li:not(:last-child):after {\n",
       "  content: ',';\n",
       "  padding-right: 5px;\n",
       "}\n",
       "\n",
       ".xr-has-index {\n",
       "  font-weight: bold;\n",
       "}\n",
       "\n",
       ".xr-var-list,\n",
       ".xr-var-item {\n",
       "  display: contents;\n",
       "}\n",
       "\n",
       ".xr-var-item > div,\n",
       ".xr-var-item label,\n",
       ".xr-var-item > .xr-var-name span {\n",
       "  background-color: var(--xr-background-color-row-even);\n",
       "  margin-bottom: 0;\n",
       "}\n",
       "\n",
       ".xr-var-item > .xr-var-name:hover span {\n",
       "  padding-right: 5px;\n",
       "}\n",
       "\n",
       ".xr-var-list > li:nth-child(odd) > div,\n",
       ".xr-var-list > li:nth-child(odd) > label,\n",
       ".xr-var-list > li:nth-child(odd) > .xr-var-name span {\n",
       "  background-color: var(--xr-background-color-row-odd);\n",
       "}\n",
       "\n",
       ".xr-var-name {\n",
       "  grid-column: 1;\n",
       "}\n",
       "\n",
       ".xr-var-dims {\n",
       "  grid-column: 2;\n",
       "}\n",
       "\n",
       ".xr-var-dtype {\n",
       "  grid-column: 3;\n",
       "  text-align: right;\n",
       "  color: var(--xr-font-color2);\n",
       "}\n",
       "\n",
       ".xr-var-preview {\n",
       "  grid-column: 4;\n",
       "}\n",
       "\n",
       ".xr-index-preview {\n",
       "  grid-column: 2 / 5;\n",
       "  color: var(--xr-font-color2);\n",
       "}\n",
       "\n",
       ".xr-var-name,\n",
       ".xr-var-dims,\n",
       ".xr-var-dtype,\n",
       ".xr-preview,\n",
       ".xr-attrs dt {\n",
       "  white-space: nowrap;\n",
       "  overflow: hidden;\n",
       "  text-overflow: ellipsis;\n",
       "  padding-right: 10px;\n",
       "}\n",
       "\n",
       ".xr-var-name:hover,\n",
       ".xr-var-dims:hover,\n",
       ".xr-var-dtype:hover,\n",
       ".xr-attrs dt:hover {\n",
       "  overflow: visible;\n",
       "  width: auto;\n",
       "  z-index: 1;\n",
       "}\n",
       "\n",
       ".xr-var-attrs,\n",
       ".xr-var-data,\n",
       ".xr-index-data {\n",
       "  display: none;\n",
       "  background-color: var(--xr-background-color) !important;\n",
       "  padding-bottom: 5px !important;\n",
       "}\n",
       "\n",
       ".xr-var-attrs-in:checked ~ .xr-var-attrs,\n",
       ".xr-var-data-in:checked ~ .xr-var-data,\n",
       ".xr-index-data-in:checked ~ .xr-index-data {\n",
       "  display: block;\n",
       "}\n",
       "\n",
       ".xr-var-data > table {\n",
       "  float: right;\n",
       "}\n",
       "\n",
       ".xr-var-name span,\n",
       ".xr-var-data,\n",
       ".xr-index-name div,\n",
       ".xr-index-data,\n",
       ".xr-attrs {\n",
       "  padding-left: 25px !important;\n",
       "}\n",
       "\n",
       ".xr-attrs,\n",
       ".xr-var-attrs,\n",
       ".xr-var-data,\n",
       ".xr-index-data {\n",
       "  grid-column: 1 / -1;\n",
       "}\n",
       "\n",
       "dl.xr-attrs {\n",
       "  padding: 0;\n",
       "  margin: 0;\n",
       "  display: grid;\n",
       "  grid-template-columns: 125px auto;\n",
       "}\n",
       "\n",
       ".xr-attrs dt,\n",
       ".xr-attrs dd {\n",
       "  padding: 0;\n",
       "  margin: 0;\n",
       "  float: left;\n",
       "  padding-right: 10px;\n",
       "  width: auto;\n",
       "}\n",
       "\n",
       ".xr-attrs dt {\n",
       "  font-weight: normal;\n",
       "  grid-column: 1;\n",
       "}\n",
       "\n",
       ".xr-attrs dt:hover span {\n",
       "  display: inline-block;\n",
       "  background: var(--xr-background-color);\n",
       "  padding-right: 10px;\n",
       "}\n",
       "\n",
       ".xr-attrs dd {\n",
       "  grid-column: 2;\n",
       "  white-space: pre-wrap;\n",
       "  word-break: break-all;\n",
       "}\n",
       "\n",
       ".xr-icon-database,\n",
       ".xr-icon-file-text2,\n",
       ".xr-no-icon {\n",
       "  display: inline-block;\n",
       "  vertical-align: middle;\n",
       "  width: 1em;\n",
       "  height: 1.5em !important;\n",
       "  stroke-width: 0;\n",
       "  stroke: currentColor;\n",
       "  fill: currentColor;\n",
       "}\n",
       "</style><pre class='xr-text-repr-fallback'>&lt;xarray.DataArray &#x27;analysed_sst&#x27; (time: 365, lat: 17999, lon: 36000)&gt;\n",
       "dask.array&lt;rechunk-merge, shape=(365, 17999, 36000), dtype=float32, chunksize=(200, 300, 300), chunktype=numpy.ndarray&gt;\n",
       "Coordinates:\n",
       "  * lat      (lat) float32 -89.99 -89.98 -89.97 -89.96 ... 89.97 89.98 89.99\n",
       "  * lon      (lon) float32 -180.0 -180.0 -180.0 -180.0 ... 180.0 180.0 180.0\n",
       "  * time     (time) datetime64[ns] 2019-01-01T09:00:00 ... 2019-12-31T09:00:00\n",
       "Attributes: (7)</pre><div class='xr-wrap' style='display:none'><div class='xr-header'><div class='xr-obj-type'>xarray.DataArray</div><div class='xr-array-name'>'analysed_sst'</div><ul class='xr-dim-list'><li><span class='xr-has-index'>time</span>: 365</li><li><span class='xr-has-index'>lat</span>: 17999</li><li><span class='xr-has-index'>lon</span>: 36000</li></ul></div><ul class='xr-sections'><li class='xr-section-item'><div class='xr-array-wrap'><input id='section-8b18919e-3a04-4e22-9e2f-a8bf39a2d6ac' class='xr-array-in' type='checkbox' checked><label for='section-8b18919e-3a04-4e22-9e2f-a8bf39a2d6ac' title='Show/hide data repr'><svg class='icon xr-icon-database'><use xlink:href='#icon-database'></use></svg></label><div class='xr-array-preview xr-preview'><span>dask.array&lt;chunksize=(200, 300, 300), meta=np.ndarray&gt;</span></div><div class='xr-array-data'><table>\n",
       "    <tr>\n",
       "        <td>\n",
       "            <table style=\"border-collapse: collapse;\">\n",
       "                <thead>\n",
       "                    <tr>\n",
       "                        <td> </td>\n",
       "                        <th> Array </th>\n",
       "                        <th> Chunk </th>\n",
       "                    </tr>\n",
       "                </thead>\n",
       "                <tbody>\n",
       "                    \n",
       "                    <tr>\n",
       "                        <th> Bytes </th>\n",
       "                        <td> 881.06 GiB </td>\n",
       "                        <td> 68.66 MiB </td>\n",
       "                    </tr>\n",
       "                    \n",
       "                    <tr>\n",
       "                        <th> Shape </th>\n",
       "                        <td> (365, 17999, 36000) </td>\n",
       "                        <td> (200, 300, 300) </td>\n",
       "                    </tr>\n",
       "                    <tr>\n",
       "                        <th> Dask graph </th>\n",
       "                        <td colspan=\"2\"> 14400 chunks in 4 graph layers </td>\n",
       "                    </tr>\n",
       "                    <tr>\n",
       "                        <th> Data type </th>\n",
       "                        <td colspan=\"2\"> float32 numpy.ndarray </td>\n",
       "                    </tr>\n",
       "                </tbody>\n",
       "            </table>\n",
       "        </td>\n",
       "        <td>\n",
       "        <svg width=\"194\" height=\"124\" style=\"stroke:rgb(0,0,0);stroke-width:1\" >\n",
       "\n",
       "  <!-- Horizontal lines -->\n",
       "  <line x1=\"10\" y1=\"0\" x2=\"24\" y2=\"14\" style=\"stroke-width:2\" />\n",
       "  <line x1=\"10\" y1=\"3\" x2=\"24\" y2=\"17\" />\n",
       "  <line x1=\"10\" y1=\"6\" x2=\"24\" y2=\"20\" />\n",
       "  <line x1=\"10\" y1=\"9\" x2=\"24\" y2=\"23\" />\n",
       "  <line x1=\"10\" y1=\"12\" x2=\"24\" y2=\"26\" />\n",
       "  <line x1=\"10\" y1=\"15\" x2=\"24\" y2=\"29\" />\n",
       "  <line x1=\"10\" y1=\"18\" x2=\"24\" y2=\"32\" />\n",
       "  <line x1=\"10\" y1=\"22\" x2=\"24\" y2=\"36\" />\n",
       "  <line x1=\"10\" y1=\"25\" x2=\"24\" y2=\"39\" />\n",
       "  <line x1=\"10\" y1=\"28\" x2=\"24\" y2=\"42\" />\n",
       "  <line x1=\"10\" y1=\"31\" x2=\"24\" y2=\"45\" />\n",
       "  <line x1=\"10\" y1=\"34\" x2=\"24\" y2=\"48\" />\n",
       "  <line x1=\"10\" y1=\"37\" x2=\"24\" y2=\"51\" />\n",
       "  <line x1=\"10\" y1=\"41\" x2=\"24\" y2=\"55\" />\n",
       "  <line x1=\"10\" y1=\"44\" x2=\"24\" y2=\"58\" />\n",
       "  <line x1=\"10\" y1=\"47\" x2=\"24\" y2=\"61\" />\n",
       "  <line x1=\"10\" y1=\"50\" x2=\"24\" y2=\"64\" />\n",
       "  <line x1=\"10\" y1=\"53\" x2=\"24\" y2=\"67\" />\n",
       "  <line x1=\"10\" y1=\"56\" x2=\"24\" y2=\"70\" />\n",
       "  <line x1=\"10\" y1=\"59\" x2=\"24\" y2=\"74\" style=\"stroke-width:2\" />\n",
       "\n",
       "  <!-- Vertical lines -->\n",
       "  <line x1=\"10\" y1=\"0\" x2=\"10\" y2=\"59\" style=\"stroke-width:2\" />\n",
       "  <line x1=\"18\" y1=\"8\" x2=\"18\" y2=\"68\" />\n",
       "  <line x1=\"24\" y1=\"14\" x2=\"24\" y2=\"74\" style=\"stroke-width:2\" />\n",
       "\n",
       "  <!-- Colored Rectangle -->\n",
       "  <polygon points=\"10.0,0.0 24.987517576607736,14.987517576607734 24.987517576607736,74.9841842432744 10.0,59.99666666666667\" style=\"fill:#8B4903A0;stroke-width:0\"/>\n",
       "\n",
       "  <!-- Horizontal lines -->\n",
       "  <line x1=\"10\" y1=\"0\" x2=\"130\" y2=\"0\" style=\"stroke-width:2\" />\n",
       "  <line x1=\"18\" y1=\"8\" x2=\"138\" y2=\"8\" />\n",
       "  <line x1=\"24\" y1=\"14\" x2=\"144\" y2=\"14\" style=\"stroke-width:2\" />\n",
       "\n",
       "  <!-- Vertical lines -->\n",
       "  <line x1=\"10\" y1=\"0\" x2=\"24\" y2=\"14\" style=\"stroke-width:2\" />\n",
       "  <line x1=\"16\" y1=\"0\" x2=\"30\" y2=\"14\" />\n",
       "  <line x1=\"22\" y1=\"0\" x2=\"36\" y2=\"14\" />\n",
       "  <line x1=\"28\" y1=\"0\" x2=\"42\" y2=\"14\" />\n",
       "  <line x1=\"35\" y1=\"0\" x2=\"49\" y2=\"14\" />\n",
       "  <line x1=\"41\" y1=\"0\" x2=\"55\" y2=\"14\" />\n",
       "  <line x1=\"47\" y1=\"0\" x2=\"61\" y2=\"14\" />\n",
       "  <line x1=\"54\" y1=\"0\" x2=\"68\" y2=\"14\" />\n",
       "  <line x1=\"60\" y1=\"0\" x2=\"74\" y2=\"14\" />\n",
       "  <line x1=\"66\" y1=\"0\" x2=\"80\" y2=\"14\" />\n",
       "  <line x1=\"73\" y1=\"0\" x2=\"87\" y2=\"14\" />\n",
       "  <line x1=\"79\" y1=\"0\" x2=\"93\" y2=\"14\" />\n",
       "  <line x1=\"85\" y1=\"0\" x2=\"99\" y2=\"14\" />\n",
       "  <line x1=\"92\" y1=\"0\" x2=\"106\" y2=\"14\" />\n",
       "  <line x1=\"98\" y1=\"0\" x2=\"112\" y2=\"14\" />\n",
       "  <line x1=\"104\" y1=\"0\" x2=\"118\" y2=\"14\" />\n",
       "  <line x1=\"111\" y1=\"0\" x2=\"125\" y2=\"14\" />\n",
       "  <line x1=\"117\" y1=\"0\" x2=\"131\" y2=\"14\" />\n",
       "  <line x1=\"123\" y1=\"0\" x2=\"137\" y2=\"14\" />\n",
       "  <line x1=\"130\" y1=\"0\" x2=\"144\" y2=\"14\" style=\"stroke-width:2\" />\n",
       "\n",
       "  <!-- Colored Rectangle -->\n",
       "  <polygon points=\"10.0,0.0 130.0,0.0 144.98751757660773,14.987517576607734 24.987517576607736,14.987517576607734\" style=\"fill:#8B4903A0;stroke-width:0\"/>\n",
       "\n",
       "  <!-- Horizontal lines -->\n",
       "  <line x1=\"24\" y1=\"14\" x2=\"144\" y2=\"14\" style=\"stroke-width:2\" />\n",
       "  <line x1=\"24\" y1=\"17\" x2=\"144\" y2=\"17\" />\n",
       "  <line x1=\"24\" y1=\"20\" x2=\"144\" y2=\"20\" />\n",
       "  <line x1=\"24\" y1=\"23\" x2=\"144\" y2=\"23\" />\n",
       "  <line x1=\"24\" y1=\"26\" x2=\"144\" y2=\"26\" />\n",
       "  <line x1=\"24\" y1=\"29\" x2=\"144\" y2=\"29\" />\n",
       "  <line x1=\"24\" y1=\"32\" x2=\"144\" y2=\"32\" />\n",
       "  <line x1=\"24\" y1=\"36\" x2=\"144\" y2=\"36\" />\n",
       "  <line x1=\"24\" y1=\"39\" x2=\"144\" y2=\"39\" />\n",
       "  <line x1=\"24\" y1=\"42\" x2=\"144\" y2=\"42\" />\n",
       "  <line x1=\"24\" y1=\"45\" x2=\"144\" y2=\"45\" />\n",
       "  <line x1=\"24\" y1=\"48\" x2=\"144\" y2=\"48\" />\n",
       "  <line x1=\"24\" y1=\"51\" x2=\"144\" y2=\"51\" />\n",
       "  <line x1=\"24\" y1=\"55\" x2=\"144\" y2=\"55\" />\n",
       "  <line x1=\"24\" y1=\"58\" x2=\"144\" y2=\"58\" />\n",
       "  <line x1=\"24\" y1=\"61\" x2=\"144\" y2=\"61\" />\n",
       "  <line x1=\"24\" y1=\"64\" x2=\"144\" y2=\"64\" />\n",
       "  <line x1=\"24\" y1=\"67\" x2=\"144\" y2=\"67\" />\n",
       "  <line x1=\"24\" y1=\"70\" x2=\"144\" y2=\"70\" />\n",
       "  <line x1=\"24\" y1=\"74\" x2=\"144\" y2=\"74\" style=\"stroke-width:2\" />\n",
       "\n",
       "  <!-- Vertical lines -->\n",
       "  <line x1=\"24\" y1=\"14\" x2=\"24\" y2=\"74\" style=\"stroke-width:2\" />\n",
       "  <line x1=\"30\" y1=\"14\" x2=\"30\" y2=\"74\" />\n",
       "  <line x1=\"36\" y1=\"14\" x2=\"36\" y2=\"74\" />\n",
       "  <line x1=\"42\" y1=\"14\" x2=\"42\" y2=\"74\" />\n",
       "  <line x1=\"49\" y1=\"14\" x2=\"49\" y2=\"74\" />\n",
       "  <line x1=\"55\" y1=\"14\" x2=\"55\" y2=\"74\" />\n",
       "  <line x1=\"61\" y1=\"14\" x2=\"61\" y2=\"74\" />\n",
       "  <line x1=\"68\" y1=\"14\" x2=\"68\" y2=\"74\" />\n",
       "  <line x1=\"74\" y1=\"14\" x2=\"74\" y2=\"74\" />\n",
       "  <line x1=\"80\" y1=\"14\" x2=\"80\" y2=\"74\" />\n",
       "  <line x1=\"87\" y1=\"14\" x2=\"87\" y2=\"74\" />\n",
       "  <line x1=\"93\" y1=\"14\" x2=\"93\" y2=\"74\" />\n",
       "  <line x1=\"99\" y1=\"14\" x2=\"99\" y2=\"74\" />\n",
       "  <line x1=\"106\" y1=\"14\" x2=\"106\" y2=\"74\" />\n",
       "  <line x1=\"112\" y1=\"14\" x2=\"112\" y2=\"74\" />\n",
       "  <line x1=\"118\" y1=\"14\" x2=\"118\" y2=\"74\" />\n",
       "  <line x1=\"125\" y1=\"14\" x2=\"125\" y2=\"74\" />\n",
       "  <line x1=\"131\" y1=\"14\" x2=\"131\" y2=\"74\" />\n",
       "  <line x1=\"137\" y1=\"14\" x2=\"137\" y2=\"74\" />\n",
       "  <line x1=\"144\" y1=\"14\" x2=\"144\" y2=\"74\" style=\"stroke-width:2\" />\n",
       "\n",
       "  <!-- Colored Rectangle -->\n",
       "  <polygon points=\"24.987517576607736,14.987517576607734 144.98751757660773,14.987517576607734 144.98751757660773,74.9841842432744 24.987517576607736,74.9841842432744\" style=\"fill:#8B4903A0;stroke-width:0\"/>\n",
       "\n",
       "  <!-- Text -->\n",
       "  <text x=\"84.987518\" y=\"94.984184\" font-size=\"1.0rem\" font-weight=\"100\" text-anchor=\"middle\" >36000</text>\n",
       "  <text x=\"164.987518\" y=\"44.985851\" font-size=\"1.0rem\" font-weight=\"100\" text-anchor=\"middle\" transform=\"rotate(-90,164.987518,44.985851)\">17999</text>\n",
       "  <text x=\"7.493759\" y=\"87.490425\" font-size=\"1.0rem\" font-weight=\"100\" text-anchor=\"middle\" transform=\"rotate(45,7.493759,87.490425)\">365</text>\n",
       "</svg>\n",
       "        </td>\n",
       "    </tr>\n",
       "</table></div></div></li><li class='xr-section-item'><input id='section-46a40640-018d-49b6-969a-dcbc6f523906' class='xr-section-summary-in' type='checkbox'  checked><label for='section-46a40640-018d-49b6-969a-dcbc6f523906' class='xr-section-summary' >Coordinates: <span>(3)</span></label><div class='xr-section-inline-details'></div><div class='xr-section-details'><ul class='xr-var-list'><li class='xr-var-item'><div class='xr-var-name'><span class='xr-has-index'>lat</span></div><div class='xr-var-dims'>(lat)</div><div class='xr-var-dtype'>float32</div><div class='xr-var-preview xr-preview'>-89.99 -89.98 ... 89.98 89.99</div><input id='attrs-e49a8084-b68a-4143-802f-b9f1e4b7253e' class='xr-var-attrs-in' type='checkbox' ><label for='attrs-e49a8084-b68a-4143-802f-b9f1e4b7253e' title='Show/Hide attributes'><svg class='icon xr-icon-file-text2'><use xlink:href='#icon-file-text2'></use></svg></label><input id='data-78847008-ce11-4b72-9af6-63a14449b912' class='xr-var-data-in' type='checkbox'><label for='data-78847008-ce11-4b72-9af6-63a14449b912' title='Show/Hide data repr'><svg class='icon xr-icon-database'><use xlink:href='#icon-database'></use></svg></label><div class='xr-var-attrs'><dl class='xr-attrs'><dt><span>axis :</span></dt><dd>Y</dd><dt><span>comment :</span></dt><dd>none</dd><dt><span>long_name :</span></dt><dd>latitude</dd><dt><span>standard_name :</span></dt><dd>latitude</dd><dt><span>units :</span></dt><dd>degrees_north</dd><dt><span>valid_max :</span></dt><dd>90.0</dd><dt><span>valid_min :</span></dt><dd>-90.0</dd></dl></div><div class='xr-var-data'><pre>array([-89.99, -89.98, -89.97, ...,  89.97,  89.98,  89.99], dtype=float32)</pre></div></li><li class='xr-var-item'><div class='xr-var-name'><span class='xr-has-index'>lon</span></div><div class='xr-var-dims'>(lon)</div><div class='xr-var-dtype'>float32</div><div class='xr-var-preview xr-preview'>-180.0 -180.0 ... 180.0 180.0</div><input id='attrs-16116dea-311a-4b09-a2bd-da96bf2c0a8e' class='xr-var-attrs-in' type='checkbox' ><label for='attrs-16116dea-311a-4b09-a2bd-da96bf2c0a8e' title='Show/Hide attributes'><svg class='icon xr-icon-file-text2'><use xlink:href='#icon-file-text2'></use></svg></label><input id='data-1ceb21db-d257-4333-b973-6fb2330423e7' class='xr-var-data-in' type='checkbox'><label for='data-1ceb21db-d257-4333-b973-6fb2330423e7' title='Show/Hide data repr'><svg class='icon xr-icon-database'><use xlink:href='#icon-database'></use></svg></label><div class='xr-var-attrs'><dl class='xr-attrs'><dt><span>axis :</span></dt><dd>X</dd><dt><span>comment :</span></dt><dd>none</dd><dt><span>long_name :</span></dt><dd>longitude</dd><dt><span>standard_name :</span></dt><dd>longitude</dd><dt><span>units :</span></dt><dd>degrees_east</dd><dt><span>valid_max :</span></dt><dd>180.0</dd><dt><span>valid_min :</span></dt><dd>-180.0</dd></dl></div><div class='xr-var-data'><pre>array([-179.99, -179.98, -179.97, ...,  179.98,  179.99,  180.  ],\n",
       "      dtype=float32)</pre></div></li><li class='xr-var-item'><div class='xr-var-name'><span class='xr-has-index'>time</span></div><div class='xr-var-dims'>(time)</div><div class='xr-var-dtype'>datetime64[ns]</div><div class='xr-var-preview xr-preview'>2019-01-01T09:00:00 ... 2019-12-...</div><input id='attrs-04bb9aa4-0170-4701-bdd2-91bc06507fb4' class='xr-var-attrs-in' type='checkbox' ><label for='attrs-04bb9aa4-0170-4701-bdd2-91bc06507fb4' title='Show/Hide attributes'><svg class='icon xr-icon-file-text2'><use xlink:href='#icon-file-text2'></use></svg></label><input id='data-cfb58675-edea-4885-a04a-c7b6fd0d9d87' class='xr-var-data-in' type='checkbox'><label for='data-cfb58675-edea-4885-a04a-c7b6fd0d9d87' title='Show/Hide data repr'><svg class='icon xr-icon-database'><use xlink:href='#icon-database'></use></svg></label><div class='xr-var-attrs'><dl class='xr-attrs'><dt><span>axis :</span></dt><dd>T</dd><dt><span>comment :</span></dt><dd>Nominal time of analyzed fields</dd><dt><span>long_name :</span></dt><dd>reference time of sst field</dd><dt><span>standard_name :</span></dt><dd>time</dd></dl></div><div class='xr-var-data'><pre>array([&#x27;2019-01-01T09:00:00.000000000&#x27;, &#x27;2019-01-02T09:00:00.000000000&#x27;,\n",
       "       &#x27;2019-01-03T09:00:00.000000000&#x27;, ..., &#x27;2019-12-29T09:00:00.000000000&#x27;,\n",
       "       &#x27;2019-12-30T09:00:00.000000000&#x27;, &#x27;2019-12-31T09:00:00.000000000&#x27;],\n",
       "      dtype=&#x27;datetime64[ns]&#x27;)</pre></div></li></ul></div></li><li class='xr-section-item'><input id='section-4f1003ca-1a36-4aec-a716-615339a84ea2' class='xr-section-summary-in' type='checkbox'  ><label for='section-4f1003ca-1a36-4aec-a716-615339a84ea2' class='xr-section-summary' >Indexes: <span>(3)</span></label><div class='xr-section-inline-details'></div><div class='xr-section-details'><ul class='xr-var-list'><li class='xr-var-item'><div class='xr-index-name'><div>lat</div></div><div class='xr-index-preview'>PandasIndex</div><div></div><input id='index-c38a76ab-eb15-4f17-93d7-fc1ac8734764' class='xr-index-data-in' type='checkbox'/><label for='index-c38a76ab-eb15-4f17-93d7-fc1ac8734764' title='Show/Hide index repr'><svg class='icon xr-icon-database'><use xlink:href='#icon-database'></use></svg></label><div class='xr-index-data'><pre>PandasIndex(Index([-89.98999786376953,  -89.9800033569336, -89.97000122070312,\n",
       "       -89.95999908447266, -89.94999694824219, -89.94000244140625,\n",
       "       -89.93000030517578, -89.91999816894531, -89.91000366210938,\n",
       "        -89.9000015258789,\n",
       "       ...\n",
       "         89.9000015258789,  89.91000366210938,  89.91999816894531,\n",
       "        89.93000030517578,  89.94000244140625,  89.94999694824219,\n",
       "        89.95999908447266,  89.97000122070312,   89.9800033569336,\n",
       "        89.98999786376953],\n",
       "      dtype=&#x27;float32&#x27;, name=&#x27;lat&#x27;, length=17999))</pre></div></li><li class='xr-var-item'><div class='xr-index-name'><div>lon</div></div><div class='xr-index-preview'>PandasIndex</div><div></div><input id='index-74587abd-53b6-4f00-9ea9-3daead1f6f2e' class='xr-index-data-in' type='checkbox'/><label for='index-74587abd-53b6-4f00-9ea9-3daead1f6f2e' title='Show/Hide index repr'><svg class='icon xr-icon-database'><use xlink:href='#icon-database'></use></svg></label><div class='xr-index-data'><pre>PandasIndex(Index([-179.99000549316406, -179.97999572753906, -179.97000122070312,\n",
       "        -179.9600067138672,  -179.9499969482422, -179.94000244140625,\n",
       "       -179.92999267578125,  -179.9199981689453, -179.91000366210938,\n",
       "       -179.89999389648438,\n",
       "       ...\n",
       "        179.91000366210938,   179.9199981689453,  179.92999267578125,\n",
       "        179.94000244140625,   179.9499969482422,   179.9600067138672,\n",
       "        179.97000122070312,  179.97999572753906,  179.99000549316406,\n",
       "                     180.0],\n",
       "      dtype=&#x27;float32&#x27;, name=&#x27;lon&#x27;, length=36000))</pre></div></li><li class='xr-var-item'><div class='xr-index-name'><div>time</div></div><div class='xr-index-preview'>PandasIndex</div><div></div><input id='index-b8405649-6d9e-4505-afb7-5154f10d86ae' class='xr-index-data-in' type='checkbox'/><label for='index-b8405649-6d9e-4505-afb7-5154f10d86ae' title='Show/Hide index repr'><svg class='icon xr-icon-database'><use xlink:href='#icon-database'></use></svg></label><div class='xr-index-data'><pre>PandasIndex(DatetimeIndex([&#x27;2019-01-01 09:00:00&#x27;, &#x27;2019-01-02 09:00:00&#x27;,\n",
       "               &#x27;2019-01-03 09:00:00&#x27;, &#x27;2019-01-04 09:00:00&#x27;,\n",
       "               &#x27;2019-01-05 09:00:00&#x27;, &#x27;2019-01-06 09:00:00&#x27;,\n",
       "               &#x27;2019-01-07 09:00:00&#x27;, &#x27;2019-01-08 09:00:00&#x27;,\n",
       "               &#x27;2019-01-09 09:00:00&#x27;, &#x27;2019-01-10 09:00:00&#x27;,\n",
       "               ...\n",
       "               &#x27;2019-12-22 09:00:00&#x27;, &#x27;2019-12-23 09:00:00&#x27;,\n",
       "               &#x27;2019-12-24 09:00:00&#x27;, &#x27;2019-12-25 09:00:00&#x27;,\n",
       "               &#x27;2019-12-26 09:00:00&#x27;, &#x27;2019-12-27 09:00:00&#x27;,\n",
       "               &#x27;2019-12-28 09:00:00&#x27;, &#x27;2019-12-29 09:00:00&#x27;,\n",
       "               &#x27;2019-12-30 09:00:00&#x27;, &#x27;2019-12-31 09:00:00&#x27;],\n",
       "              dtype=&#x27;datetime64[ns]&#x27;, name=&#x27;time&#x27;, length=365, freq=None))</pre></div></li></ul></div></li><li class='xr-section-item'><input id='section-d61a9663-1fea-4047-bdbb-b37afa064fae' class='xr-section-summary-in' type='checkbox'  ><label for='section-d61a9663-1fea-4047-bdbb-b37afa064fae' class='xr-section-summary' >Attributes: <span>(7)</span></label><div class='xr-section-inline-details'></div><div class='xr-section-details'><dl class='xr-attrs'><dt><span>comment :</span></dt><dd>&quot;Final&quot; version using Multi-Resolution Variational Analysis (MRVA) method for interpolation</dd><dt><span>long_name :</span></dt><dd>analysed sea surface temperature</dd><dt><span>source :</span></dt><dd>MODIS_T-JPL, MODIS_A-JPL, AMSR2-REMSS, AVHRR19_G-NAVO, AVHRRMTA_G-NAVO, iQUAM-NOAA/NESDIS, Ice_Conc-OSISAF</dd><dt><span>standard_name :</span></dt><dd>sea_surface_foundation_temperature</dd><dt><span>units :</span></dt><dd>kelvin</dd><dt><span>valid_max :</span></dt><dd>32767</dd><dt><span>valid_min :</span></dt><dd>-32767</dd></dl></div></li></ul></div></div>"
      ],
      "text/plain": [
       "<xarray.DataArray 'analysed_sst' (time: 365, lat: 17999, lon: 36000)>\n",
       "dask.array<rechunk-merge, shape=(365, 17999, 36000), dtype=float32, chunksize=(200, 300, 300), chunktype=numpy.ndarray>\n",
       "Coordinates:\n",
       "  * lat      (lat) float32 -89.99 -89.98 -89.97 -89.96 ... 89.97 89.98 89.99\n",
       "  * lon      (lon) float32 -180.0 -180.0 -180.0 -180.0 ... 180.0 180.0 180.0\n",
       "  * time     (time) datetime64[ns] 2019-01-01T09:00:00 ... 2019-12-31T09:00:00\n",
       "Attributes: (7)"
      ]
     },
     "execution_count": 28,
     "metadata": {},
     "output_type": "execute_result"
    }
   ],
   "source": [
    "data = opendf_withref(\"ref_combined_2019.parq\", fs)\n",
    "sst = data['analysed_sst']\n",
    "sst = sst.chunk(chunks={'lat': 300, 'lon': 300, 'time': 200})\n",
    "sst"
   ]
  },
  {
   "cell_type": "code",
   "execution_count": 29,
   "id": "d0491e97-9058-48cc-b02b-b9c95cb7a710",
   "metadata": {},
   "outputs": [
    {
     "name": "stdout",
     "output_type": "stream",
     "text": [
      "CPU times: user 31.7 s, sys: 7.21 s, total: 38.9 s\n",
      "Wall time: 55.3 s\n"
     ]
    }
   ],
   "source": [
    "%%time\n",
    "seasonal_cycle = seasonal_cycle_regional(sst, lat_region, lon_region).compute()"
   ]
  },
  {
   "cell_type": "code",
   "execution_count": 30,
   "id": "a5ee8dfa-b66c-44bf-bf82-66dbce678037",
   "metadata": {
    "scrolled": true
   },
   "outputs": [
    {
     "data": {
      "text/plain": [
       "Text(0, 0.5, '$\\\\Delta$T (K)')"
      ]
     },
     "execution_count": 30,
     "metadata": {},
     "output_type": "execute_result"
    },
    {
     "data": {
      "image/png": "[encoded data removed]",
      "text/plain": [
       "<Figure size 640x480 with 1 Axes>"
      ]
     },
     "metadata": {},
     "output_type": "display_data"
    }
   ],
   "source": [
    "## Test plot seasonal cycle at a few gridpoint locations\n",
    "\n",
    "# Points to plot seasonal cycle at:\n",
    "lat_points = (38, 38, 38, 38)\n",
    "lon_points = (-123.25, -125, -128, -132)\n",
    "\n",
    "fig = plt.figure()\n",
    "ax = plt.axes()\n",
    "\n",
    "for lat, lon in zip(lat_points, lon_points):\n",
    "    scycle_point = seasonal_cycle.sel(lat=lat, lon=lon)\n",
    "    ax.plot(scycle_point['month'], scycle_point.values, 'o-')\n",
    "\n",
    "ax.set_title(\"Seasonal cycle of temperature anomalies \\n at four test points\", fontsize=14)\n",
    "ax.set_xlabel(\"month\", fontsize=12)\n",
    "ax.set_ylabel(r\"$\\Delta$T (K)\", fontsize=12)"
   ]
  },
  {
   "cell_type": "markdown",
   "id": "923baa69-85d3-4718-864f-c67bfc0fc15c",
   "metadata": {},
   "source": [
    "### 4.2 Optional: Using a distributed cluster\n",
    "We use the third party software/package Coiled to spin up our distributed cluster."
   ]
  },
  {
   "cell_type": "code",
   "execution_count": 65,
   "id": "b6107bc2-f5b9-44f7-8591-5b3c49e7ffe6",
   "metadata": {
    "scrolled": true
   },
   "outputs": [
    {
     "data": {
      "application/vnd.jupyter.widget-view+json": {
       "model_id": "daf54a40c5fb41cfbf330391ca3e84a8",
       "version_major": 2,
       "version_minor": 0
      },
      "text/plain": [
       "Output()"
      ]
     },
     "metadata": {},
     "output_type": "display_data"
    },
    {
     "data": {
      "text/html": [
       "<pre style=\"white-space:pre;overflow-x:auto;line-height:normal;font-family:Menlo,'DejaVu Sans Mono',consolas,'Courier New',monospace\"></pre>\n"
      ],
      "text/plain": []
     },
     "metadata": {},
     "output_type": "display_data"
    },
    {
     "data": {
      "application/vnd.jupyter.widget-view+json": {
       "model_id": "9b581a0bf1bb4e1c83851a3ccfe9781d",
       "version_major": 2,
       "version_minor": 0
      },
      "text/plain": [
       "Output()"
      ]
     },
     "metadata": {},
     "output_type": "display_data"
    },
    {
     "data": {
      "text/html": [
       "<pre style=\"white-space:pre;overflow-x:auto;line-height:normal;font-family:Menlo,'DejaVu Sans Mono',consolas,'Courier New',monospace\"></pre>\n"
      ],
      "text/plain": []
     },
     "metadata": {},
     "output_type": "display_data"
    }
   ],
   "source": [
    "cluster = coiled.Cluster(\n",
    "    n_workers=25, \n",
    "    region=\"us-west-2\", \n",
    "    worker_vm_types=\"c7g.large\", # or can try \"m7a.medium\"\n",
    "    scheduler_vm_types=\"c7g.large\", # or can try \"m7a.medium\"\n",
    "    ) \n",
    "client = cluster.get_client()"
   ]
  },
  {
   "cell_type": "markdown",
   "id": "9caf1c67-e9a1-4537-9a73-c78f69dcc307",
   "metadata": {},
   "source": [
    "***Note that computations on the distributed cluster work if we fully load the reference information into memory first, but not if we just pass the path to the reference file!***"
   ]
  },
  {
   "cell_type": "code",
   "execution_count": 66,
   "id": "79eb4578-e229-48e5-920e-705727d61cbb",
   "metadata": {},
   "outputs": [
    {
     "name": "stdout",
     "output_type": "stream",
     "text": [
      "<xarray.DataArray 'analysed_sst' (time: 365, lat: 17999, lon: 36000)>\n",
      "dask.array<rechunk-merge, shape=(365, 17999, 36000), dtype=float32, chunksize=(200, 300, 300), chunktype=numpy.ndarray>\n",
      "Coordinates:\n",
      "  * lat      (lat) float32 -89.99 -89.98 -89.97 -89.96 ... 89.97 89.98 89.99\n",
      "  * lon      (lon) float32 -180.0 -180.0 -180.0 -180.0 ... 180.0 180.0 180.0\n",
      "  * time     (time) datetime64[ns] 2019-01-01T09:00:00 ... 2019-12-31T09:00:00\n",
      "Attributes: (7)\n",
      "CPU times: user 3.64 s, sys: 936 ms, total: 4.58 s\n",
      "Wall time: 4.03 s\n"
     ]
    }
   ],
   "source": [
    "%%time\n",
    "\n",
    "##==================================================================\n",
    "## Only works if the reference is loaded into memory first!!!!\n",
    "##==================================================================\n",
    "with open(\"ref_combined_2019.json\") as f:\n",
    "    ref_loaded = json.load(f)\n",
    "data = opendf_withref(ref_loaded, fs)\n",
    "sst = data['analysed_sst']\n",
    "sst = sst.chunk(chunks={'lat': 300, 'lon': 300, 'time': 200})\n",
    "print(sst)"
   ]
  },
  {
   "cell_type": "code",
   "execution_count": 67,
   "id": "4af68582-641e-4aef-a936-d9b927cbd7a4",
   "metadata": {},
   "outputs": [
    {
     "name": "stderr",
     "output_type": "stream",
     "text": [
      "/opt/coiled/env/lib/python3.12/site-packages/distributed/client.py:3164: UserWarning: Sending large graph of size 71.82 MiB.\n",
      "This may cause some slowdown.\n",
      "Consider scattering data ahead of time and using futures.\n",
      "  warnings.warn(\n"
     ]
    },
    {
     "name": "stdout",
     "output_type": "stream",
     "text": [
      "CPU times: user 18 s, sys: 7.88 s, total: 25.9 s\n",
      "Wall time: 46.5 s\n"
     ]
    }
   ],
   "source": [
    "%%time\n",
    "seasonal_cycle = seasonal_cycle_regional(sst, lat_region, lon_region).compute()"
   ]
  },
  {
   "cell_type": "code",
   "execution_count": 68,
   "id": "2219062e-69b1-4bc6-a646-f571c9064e55",
   "metadata": {},
   "outputs": [
    {
     "data": {
      "text/plain": [
       "Text(0, 0.5, '$\\\\Delta$T (K)')"
      ]
     },
     "execution_count": 68,
     "metadata": {},
     "output_type": "execute_result"
    },
    {
     "data": {
      "image/png": "[encoded data removed]",
      "text/plain": [
       "<Figure size 640x480 with 1 Axes>"
      ]
     },
     "metadata": {},
     "output_type": "display_data"
    }
   ],
   "source": [
    "## Test plot seasonal cycle at a few gridpoint locations\n",
    "\n",
    "# Points to plot seasonal cycle at:\n",
    "lat_points = (38, 38, 38, 38)\n",
    "lon_points = (-123.25, -125, -128, -132)\n",
    "\n",
    "fig = plt.figure()\n",
    "ax = plt.axes()\n",
    "\n",
    "for lat, lon in zip(lat_points, lon_points):\n",
    "    scycle_point = seasonal_cycle.sel(lat=lat, lon=lon)\n",
    "    ax.plot(scycle_point['month'], scycle_point.values, 'o-')\n",
    "\n",
    "ax.set_title(\"Seasonal cycle of temperature anomalies \\n at four test points\", fontsize=14)\n",
    "ax.set_xlabel(\"month\", fontsize=12)\n",
    "ax.set_ylabel(r\"$\\Delta$T (K)\", fontsize=12)"
   ]
  },
  {
   "cell_type": "code",
   "execution_count": 69,
   "id": "e1dbb25a-f069-4b6f-b607-27edf0fc1ead",
   "metadata": {},
   "outputs": [
    {
     "name": "stdout",
     "output_type": "stream",
     "text": [
      "<xarray.DataArray 'analysed_sst' (time: 365, lat: 17999, lon: 36000)>\n",
      "dask.array<rechunk-merge, shape=(365, 17999, 36000), dtype=float32, chunksize=(200, 300, 300), chunktype=numpy.ndarray>\n",
      "Coordinates:\n",
      "  * lat      (lat) float32 -89.99 -89.98 -89.97 -89.96 ... 89.97 89.98 89.99\n",
      "  * lon      (lon) float32 -180.0 -180.0 -180.0 -180.0 ... 180.0 180.0 180.0\n",
      "  * time     (time) datetime64[ns] 2019-01-01T09:00:00 ... 2019-12-31T09:00:00\n",
      "Attributes: (7)\n"
     ]
    }
   ],
   "source": [
    "##==================================================================\n",
    "## Loading the data with the reference this way will lead to errors!!!!\n",
    "##==================================================================\n",
    "data = opendf_withref(\"ref_combined_2019.parq\", fs)\n",
    "sst = data['analysed_sst']\n",
    "sst = sst.chunk(chunks={'lat': 300, 'lon': 300, 'time': 200})\n",
    "print(sst)"
   ]
  },
  {
   "cell_type": "code",
   "execution_count": 70,
   "id": "1f937f80-e752-4a52-9cee-b7b695eca9db",
   "metadata": {},
   "outputs": [
    {
     "ename": "RuntimeError",
     "evalue": "Error during deserialization of the task graph. This frequently\noccurs if the Scheduler and Client have different environments.\nFor more information, see\nhttps://docs.dask.org/en/stable/deployment-considerations.html#consistent-software-environments\n",
     "output_type": "error",
     "traceback": [
      "\u001b[0;31m---------------------------------------------------------------------------\u001b[0m",
      "\u001b[0;31mFileNotFoundError\u001b[0m                         Traceback (most recent call last)",
      "File \u001b[0;32m/opt/coiled/env/lib/python3.12/site-packages/fsspec/mapping.py:155\u001b[0m, in \u001b[0;36m__getitem__\u001b[0;34m()\u001b[0m\n\u001b[1;32m    154\u001b[0m \u001b[38;5;28;01mtry\u001b[39;00m:\n\u001b[0;32m--> 155\u001b[0m     result \u001b[38;5;241m=\u001b[39m \u001b[38;5;28mself\u001b[39m\u001b[38;5;241m.\u001b[39mfs\u001b[38;5;241m.\u001b[39mcat(k)\n\u001b[1;32m    156\u001b[0m \u001b[38;5;28;01mexcept\u001b[39;00m \u001b[38;5;28mself\u001b[39m\u001b[38;5;241m.\u001b[39mmissing_exceptions \u001b[38;5;28;01mas\u001b[39;00m exc:\n",
      "File \u001b[0;32m/opt/coiled/env/lib/python3.12/site-packages/fsspec/implementations/reference.py:864\u001b[0m, in \u001b[0;36mcat\u001b[0;34m()\u001b[0m\n\u001b[1;32m    863\u001b[0m \u001b[38;5;66;03m# TODO: if references is lazy, pre-fetch all paths in batch before access\u001b[39;00m\n\u001b[0;32m--> 864\u001b[0m proto_dict \u001b[38;5;241m=\u001b[39m _protocol_groups(path, \u001b[38;5;28mself\u001b[39m\u001b[38;5;241m.\u001b[39mreferences)\n\u001b[1;32m    865\u001b[0m out \u001b[38;5;241m=\u001b[39m {}\n",
      "File \u001b[0;32m/opt/coiled/env/lib/python3.12/site-packages/fsspec/implementations/reference.py:50\u001b[0m, in \u001b[0;36m_protocol_groups\u001b[0;34m()\u001b[0m\n\u001b[1;32m     49\u001b[0m \u001b[38;5;28;01mif\u001b[39;00m \u001b[38;5;28misinstance\u001b[39m(paths, \u001b[38;5;28mstr\u001b[39m):\n\u001b[0;32m---> 50\u001b[0m     \u001b[38;5;28;01mreturn\u001b[39;00m {_prot_in_references(paths, references): [paths]}\n\u001b[1;32m     51\u001b[0m out \u001b[38;5;241m=\u001b[39m {}\n",
      "File \u001b[0;32m/opt/coiled/env/lib/python3.12/site-packages/fsspec/implementations/reference.py:43\u001b[0m, in \u001b[0;36m_prot_in_references\u001b[0;34m()\u001b[0m\n\u001b[1;32m     42\u001b[0m \u001b[38;5;28;01mdef\u001b[39;00m \u001b[38;5;21m_prot_in_references\u001b[39m(path, references):\n\u001b[0;32m---> 43\u001b[0m     ref \u001b[38;5;241m=\u001b[39m references\u001b[38;5;241m.\u001b[39mget(path)\n\u001b[1;32m     44\u001b[0m     \u001b[38;5;28;01mif\u001b[39;00m \u001b[38;5;28misinstance\u001b[39m(ref, (\u001b[38;5;28mlist\u001b[39m, \u001b[38;5;28mtuple\u001b[39m)):\n",
      "File \u001b[0;32m<frozen _collections_abc>:807\u001b[0m, in \u001b[0;36mget\u001b[0;34m()\u001b[0m\n",
      "File \u001b[0;32m/opt/coiled/env/lib/python3.12/site-packages/fsspec/implementations/reference.py:381\u001b[0m, in \u001b[0;36m__getitem__\u001b[0;34m()\u001b[0m\n\u001b[1;32m    380\u001b[0m \u001b[38;5;28;01mdef\u001b[39;00m \u001b[38;5;21m__getitem__\u001b[39m(\u001b[38;5;28mself\u001b[39m, key):\n\u001b[0;32m--> 381\u001b[0m     \u001b[38;5;28;01mreturn\u001b[39;00m \u001b[38;5;28mself\u001b[39m\u001b[38;5;241m.\u001b[39m_load_one_key(key)\n",
      "File \u001b[0;32m/opt/coiled/env/lib/python3.12/site-packages/fsspec/implementations/reference.py:290\u001b[0m, in \u001b[0;36m_load_one_key\u001b[0;34m()\u001b[0m\n\u001b[1;32m    286\u001b[0m \u001b[38;5;250m\u001b[39m\u001b[38;5;124;03m\"\"\"Get the reference for one key\u001b[39;00m\n\u001b[1;32m    287\u001b[0m \n\u001b[1;32m    288\u001b[0m \u001b[38;5;124;03mReturns bytes, one-element list or three-element list.\u001b[39;00m\n\u001b[1;32m    289\u001b[0m \u001b[38;5;124;03m\"\"\"\u001b[39;00m\n\u001b[0;32m--> 290\u001b[0m \u001b[38;5;28;01mif\u001b[39;00m key \u001b[38;5;129;01min\u001b[39;00m \u001b[38;5;28mself\u001b[39m\u001b[38;5;241m.\u001b[39m_items:\n\u001b[1;32m    291\u001b[0m     \u001b[38;5;28;01mreturn\u001b[39;00m \u001b[38;5;28mself\u001b[39m\u001b[38;5;241m.\u001b[39m_items[key]\n",
      "File \u001b[0;32m/opt/coiled/env/lib/python3.12/site-packages/fsspec/implementations/reference.py:156\u001b[0m, in \u001b[0;36m__getattr__\u001b[0;34m()\u001b[0m\n\u001b[1;32m    155\u001b[0m \u001b[38;5;28;01mif\u001b[39;00m item \u001b[38;5;129;01min\u001b[39;00m (\u001b[38;5;124m\"\u001b[39m\u001b[38;5;124m_items\u001b[39m\u001b[38;5;124m\"\u001b[39m, \u001b[38;5;124m\"\u001b[39m\u001b[38;5;124mrecord_size\u001b[39m\u001b[38;5;124m\"\u001b[39m, \u001b[38;5;124m\"\u001b[39m\u001b[38;5;124mzmetadata\u001b[39m\u001b[38;5;124m\"\u001b[39m):\n\u001b[0;32m--> 156\u001b[0m     \u001b[38;5;28mself\u001b[39m\u001b[38;5;241m.\u001b[39msetup()\n\u001b[1;32m    157\u001b[0m     \u001b[38;5;66;03m# avoid possible recursion if setup fails somehow\u001b[39;00m\n",
      "File \u001b[0;32m/opt/coiled/env/lib/python3.12/site-packages/fsspec/implementations/reference.py:163\u001b[0m, in \u001b[0;36msetup\u001b[0;34m()\u001b[0m\n\u001b[1;32m    162\u001b[0m \u001b[38;5;28mself\u001b[39m\u001b[38;5;241m.\u001b[39m_items \u001b[38;5;241m=\u001b[39m {}\n\u001b[0;32m--> 163\u001b[0m \u001b[38;5;28mself\u001b[39m\u001b[38;5;241m.\u001b[39m_items[\u001b[38;5;124m\"\u001b[39m\u001b[38;5;124m.zmetadata\u001b[39m\u001b[38;5;124m\"\u001b[39m] \u001b[38;5;241m=\u001b[39m \u001b[38;5;28mself\u001b[39m\u001b[38;5;241m.\u001b[39mfs\u001b[38;5;241m.\u001b[39mcat_file(\n\u001b[1;32m    164\u001b[0m     \u001b[38;5;124m\"\u001b[39m\u001b[38;5;124m/\u001b[39m\u001b[38;5;124m\"\u001b[39m\u001b[38;5;241m.\u001b[39mjoin([\u001b[38;5;28mself\u001b[39m\u001b[38;5;241m.\u001b[39mroot, \u001b[38;5;124m\"\u001b[39m\u001b[38;5;124m.zmetadata\u001b[39m\u001b[38;5;124m\"\u001b[39m])\n\u001b[1;32m    165\u001b[0m )\n\u001b[1;32m    166\u001b[0m met \u001b[38;5;241m=\u001b[39m json\u001b[38;5;241m.\u001b[39mloads(\u001b[38;5;28mself\u001b[39m\u001b[38;5;241m.\u001b[39m_items[\u001b[38;5;124m\"\u001b[39m\u001b[38;5;124m.zmetadata\u001b[39m\u001b[38;5;124m\"\u001b[39m])\n",
      "File \u001b[0;32m/opt/coiled/env/lib/python3.12/site-packages/fsspec/spec.py:771\u001b[0m, in \u001b[0;36mcat_file\u001b[0;34m()\u001b[0m\n\u001b[1;32m    770\u001b[0m \u001b[38;5;66;03m# explicitly set buffering off?\u001b[39;00m\n\u001b[0;32m--> 771\u001b[0m \u001b[38;5;28;01mwith\u001b[39;00m \u001b[38;5;28mself\u001b[39m\u001b[38;5;241m.\u001b[39mopen(path, \u001b[38;5;124m\"\u001b[39m\u001b[38;5;124mrb\u001b[39m\u001b[38;5;124m\"\u001b[39m, \u001b[38;5;241m*\u001b[39m\u001b[38;5;241m*\u001b[39mkwargs) \u001b[38;5;28;01mas\u001b[39;00m f:\n\u001b[1;32m    772\u001b[0m     \u001b[38;5;28;01mif\u001b[39;00m start \u001b[38;5;129;01mis\u001b[39;00m \u001b[38;5;129;01mnot\u001b[39;00m \u001b[38;5;28;01mNone\u001b[39;00m:\n",
      "File \u001b[0;32m/opt/coiled/env/lib/python3.12/site-packages/fsspec/spec.py:1301\u001b[0m, in \u001b[0;36mopen\u001b[0;34m()\u001b[0m\n\u001b[1;32m   1300\u001b[0m ac \u001b[38;5;241m=\u001b[39m kwargs\u001b[38;5;241m.\u001b[39mpop(\u001b[38;5;124m\"\u001b[39m\u001b[38;5;124mautocommit\u001b[39m\u001b[38;5;124m\"\u001b[39m, \u001b[38;5;129;01mnot\u001b[39;00m \u001b[38;5;28mself\u001b[39m\u001b[38;5;241m.\u001b[39m_intrans)\n\u001b[0;32m-> 1301\u001b[0m f \u001b[38;5;241m=\u001b[39m \u001b[38;5;28mself\u001b[39m\u001b[38;5;241m.\u001b[39m_open(\n\u001b[1;32m   1302\u001b[0m     path,\n\u001b[1;32m   1303\u001b[0m     mode\u001b[38;5;241m=\u001b[39mmode,\n\u001b[1;32m   1304\u001b[0m     block_size\u001b[38;5;241m=\u001b[39mblock_size,\n\u001b[1;32m   1305\u001b[0m     autocommit\u001b[38;5;241m=\u001b[39mac,\n\u001b[1;32m   1306\u001b[0m     cache_options\u001b[38;5;241m=\u001b[39mcache_options,\n\u001b[1;32m   1307\u001b[0m     \u001b[38;5;241m*\u001b[39m\u001b[38;5;241m*\u001b[39mkwargs,\n\u001b[1;32m   1308\u001b[0m )\n\u001b[1;32m   1309\u001b[0m \u001b[38;5;28;01mif\u001b[39;00m compression \u001b[38;5;129;01mis\u001b[39;00m \u001b[38;5;129;01mnot\u001b[39;00m \u001b[38;5;28;01mNone\u001b[39;00m:\n",
      "File \u001b[0;32m/opt/coiled/env/lib/python3.12/site-packages/fsspec/implementations/local.py:195\u001b[0m, in \u001b[0;36m_open\u001b[0;34m()\u001b[0m\n\u001b[1;32m    194\u001b[0m     \u001b[38;5;28mself\u001b[39m\u001b[38;5;241m.\u001b[39mmakedirs(\u001b[38;5;28mself\u001b[39m\u001b[38;5;241m.\u001b[39m_parent(path), exist_ok\u001b[38;5;241m=\u001b[39m\u001b[38;5;28;01mTrue\u001b[39;00m)\n\u001b[0;32m--> 195\u001b[0m \u001b[38;5;28;01mreturn\u001b[39;00m LocalFileOpener(path, mode, fs\u001b[38;5;241m=\u001b[39m\u001b[38;5;28mself\u001b[39m, \u001b[38;5;241m*\u001b[39m\u001b[38;5;241m*\u001b[39mkwargs)\n",
      "File \u001b[0;32m/opt/coiled/env/lib/python3.12/site-packages/fsspec/implementations/local.py:359\u001b[0m, in \u001b[0;36m__init__\u001b[0;34m()\u001b[0m\n\u001b[1;32m    358\u001b[0m \u001b[38;5;28mself\u001b[39m\u001b[38;5;241m.\u001b[39mblocksize \u001b[38;5;241m=\u001b[39m io\u001b[38;5;241m.\u001b[39mDEFAULT_BUFFER_SIZE\n\u001b[0;32m--> 359\u001b[0m \u001b[38;5;28mself\u001b[39m\u001b[38;5;241m.\u001b[39m_open()\n",
      "File \u001b[0;32m/opt/coiled/env/lib/python3.12/site-packages/fsspec/implementations/local.py:364\u001b[0m, in \u001b[0;36m_open\u001b[0;34m()\u001b[0m\n\u001b[1;32m    363\u001b[0m \u001b[38;5;28;01mif\u001b[39;00m \u001b[38;5;28mself\u001b[39m\u001b[38;5;241m.\u001b[39mautocommit \u001b[38;5;129;01mor\u001b[39;00m \u001b[38;5;124m\"\u001b[39m\u001b[38;5;124mw\u001b[39m\u001b[38;5;124m\"\u001b[39m \u001b[38;5;129;01mnot\u001b[39;00m \u001b[38;5;129;01min\u001b[39;00m \u001b[38;5;28mself\u001b[39m\u001b[38;5;241m.\u001b[39mmode:\n\u001b[0;32m--> 364\u001b[0m     \u001b[38;5;28mself\u001b[39m\u001b[38;5;241m.\u001b[39mf \u001b[38;5;241m=\u001b[39m \u001b[38;5;28mopen\u001b[39m(\u001b[38;5;28mself\u001b[39m\u001b[38;5;241m.\u001b[39mpath, mode\u001b[38;5;241m=\u001b[39m\u001b[38;5;28mself\u001b[39m\u001b[38;5;241m.\u001b[39mmode)\n\u001b[1;32m    365\u001b[0m     \u001b[38;5;28;01mif\u001b[39;00m \u001b[38;5;28mself\u001b[39m\u001b[38;5;241m.\u001b[39mcompression:\n",
      "\u001b[0;31mFileNotFoundError\u001b[0m: [Errno 2] No such file or directory: '/tmp/ref_combined_2019.parq/.zmetadata'",
      "\nThe above exception was the direct cause of the following exception:\n",
      "\u001b[0;31mKeyError\u001b[0m                                  Traceback (most recent call last)",
      "File \u001b[0;32m/opt/coiled/env/lib/python3.12/site-packages/zarr/storage.py:1446\u001b[0m, in \u001b[0;36m__getitem__\u001b[0;34m()\u001b[0m\n\u001b[1;32m   1445\u001b[0m \u001b[38;5;28;01mtry\u001b[39;00m:\n\u001b[0;32m-> 1446\u001b[0m     \u001b[38;5;28;01mreturn\u001b[39;00m \u001b[38;5;28mself\u001b[39m\u001b[38;5;241m.\u001b[39mmap[key]\n\u001b[1;32m   1447\u001b[0m \u001b[38;5;28;01mexcept\u001b[39;00m \u001b[38;5;28mself\u001b[39m\u001b[38;5;241m.\u001b[39mexceptions \u001b[38;5;28;01mas\u001b[39;00m e:\n",
      "File \u001b[0;32m/opt/coiled/env/lib/python3.12/site-packages/fsspec/mapping.py:159\u001b[0m, in \u001b[0;36m__getitem__\u001b[0;34m()\u001b[0m\n\u001b[1;32m    158\u001b[0m         \u001b[38;5;28;01mreturn\u001b[39;00m default\n\u001b[0;32m--> 159\u001b[0m     \u001b[38;5;28;01mraise\u001b[39;00m \u001b[38;5;167;01mKeyError\u001b[39;00m(key) \u001b[38;5;28;01mfrom\u001b[39;00m \u001b[38;5;21;01mexc\u001b[39;00m\n\u001b[1;32m    160\u001b[0m \u001b[38;5;28;01mreturn\u001b[39;00m result\n",
      "\u001b[0;31mKeyError\u001b[0m: 'analysed_sst/.zarray'",
      "\nThe above exception was the direct cause of the following exception:\n",
      "\u001b[0;31mKeyError\u001b[0m                                  Traceback (most recent call last)",
      "File \u001b[0;32m/opt/coiled/env/lib/python3.12/site-packages/zarr/core.py:202\u001b[0m, in \u001b[0;36m_load_metadata_nosync\u001b[0;34m()\u001b[0m\n\u001b[1;32m    201\u001b[0m     mkey \u001b[38;5;241m=\u001b[39m _prefix_to_array_key(\u001b[38;5;28mself\u001b[39m\u001b[38;5;241m.\u001b[39m_store, \u001b[38;5;28mself\u001b[39m\u001b[38;5;241m.\u001b[39m_key_prefix)\n\u001b[0;32m--> 202\u001b[0m     meta_bytes \u001b[38;5;241m=\u001b[39m \u001b[38;5;28mself\u001b[39m\u001b[38;5;241m.\u001b[39m_store[mkey]\n\u001b[1;32m    203\u001b[0m \u001b[38;5;28;01mexcept\u001b[39;00m \u001b[38;5;167;01mKeyError\u001b[39;00m \u001b[38;5;28;01mas\u001b[39;00m e:\n",
      "File \u001b[0;32m/opt/coiled/env/lib/python3.12/site-packages/zarr/storage.py:1448\u001b[0m, in \u001b[0;36m__getitem__\u001b[0;34m()\u001b[0m\n\u001b[1;32m   1447\u001b[0m \u001b[38;5;28;01mexcept\u001b[39;00m \u001b[38;5;28mself\u001b[39m\u001b[38;5;241m.\u001b[39mexceptions \u001b[38;5;28;01mas\u001b[39;00m e:\n\u001b[0;32m-> 1448\u001b[0m     \u001b[38;5;28;01mraise\u001b[39;00m \u001b[38;5;167;01mKeyError\u001b[39;00m(key) \u001b[38;5;28;01mfrom\u001b[39;00m \u001b[38;5;21;01me\u001b[39;00m\n",
      "\u001b[0;31mKeyError\u001b[0m: 'analysed_sst/.zarray'",
      "\nThe above exception was the direct cause of the following exception:\n",
      "\u001b[0;31mArrayNotFoundError\u001b[0m                        Traceback (most recent call last)",
      "File \u001b[0;32m/opt/coiled/env/lib/python3.12/site-packages/distributed/scheduler.py:4686\u001b[0m, in \u001b[0;36mupdate_graph\u001b[0;34m()\u001b[0m\n\u001b[1;32m   4685\u001b[0m \u001b[38;5;28;01mtry\u001b[39;00m:\n\u001b[0;32m-> 4686\u001b[0m     graph \u001b[38;5;241m=\u001b[39m deserialize(graph_header, graph_frames)\u001b[38;5;241m.\u001b[39mdata\n\u001b[1;32m   4687\u001b[0m     \u001b[38;5;28;01mdel\u001b[39;00m graph_header, graph_frames\n",
      "File \u001b[0;32m/opt/coiled/env/lib/python3.12/site-packages/distributed/protocol/serialize.py:449\u001b[0m, in \u001b[0;36mdeserialize\u001b[0;34m()\u001b[0m\n\u001b[1;32m    448\u001b[0m dumps, loads, wants_context \u001b[38;5;241m=\u001b[39m families[name]\n\u001b[0;32m--> 449\u001b[0m \u001b[38;5;28;01mreturn\u001b[39;00m loads(header, frames)\n",
      "File \u001b[0;32m/opt/coiled/env/lib/python3.12/site-packages/distributed/protocol/serialize.py:111\u001b[0m, in \u001b[0;36mpickle_loads\u001b[0;34m()\u001b[0m\n\u001b[1;32m    106\u001b[0m buffers \u001b[38;5;241m=\u001b[39m [\n\u001b[1;32m    107\u001b[0m     ensure_writeable_flag(ensure_memoryview(mv), w)\n\u001b[1;32m    108\u001b[0m     \u001b[38;5;28;01mfor\u001b[39;00m mv, w \u001b[38;5;129;01min\u001b[39;00m \u001b[38;5;28mzip\u001b[39m(buffers, header[\u001b[38;5;124m\"\u001b[39m\u001b[38;5;124mwriteable\u001b[39m\u001b[38;5;124m\"\u001b[39m])\n\u001b[1;32m    109\u001b[0m ]\n\u001b[0;32m--> 111\u001b[0m \u001b[38;5;28;01mreturn\u001b[39;00m pickle\u001b[38;5;241m.\u001b[39mloads(pik, buffers\u001b[38;5;241m=\u001b[39mbuffers)\n",
      "File \u001b[0;32m/opt/coiled/env/lib/python3.12/site-packages/distributed/protocol/pickle.py:94\u001b[0m, in \u001b[0;36mloads\u001b[0;34m()\u001b[0m\n\u001b[1;32m     93\u001b[0m \u001b[38;5;28;01mif\u001b[39;00m buffers:\n\u001b[0;32m---> 94\u001b[0m     \u001b[38;5;28;01mreturn\u001b[39;00m pickle\u001b[38;5;241m.\u001b[39mloads(x, buffers\u001b[38;5;241m=\u001b[39mbuffers)\n\u001b[1;32m     95\u001b[0m \u001b[38;5;28;01melse\u001b[39;00m:\n",
      "File \u001b[0;32m/opt/coiled/env/lib/python3.12/site-packages/zarr/core.py:2572\u001b[0m, in \u001b[0;36m__setstate__\u001b[0;34m()\u001b[0m\n\u001b[1;32m   2571\u001b[0m \u001b[38;5;28;01mdef\u001b[39;00m \u001b[38;5;21m__setstate__\u001b[39m(\u001b[38;5;28mself\u001b[39m, state):\n\u001b[0;32m-> 2572\u001b[0m     \u001b[38;5;28mself\u001b[39m\u001b[38;5;241m.\u001b[39m\u001b[38;5;21m__init__\u001b[39m(\u001b[38;5;241m*\u001b[39m\u001b[38;5;241m*\u001b[39mstate)\n",
      "File \u001b[0;32m/opt/coiled/env/lib/python3.12/site-packages/zarr/core.py:170\u001b[0m, in \u001b[0;36m__init__\u001b[0;34m()\u001b[0m\n\u001b[1;32m    169\u001b[0m \u001b[38;5;66;03m# initialize metadata\u001b[39;00m\n\u001b[0;32m--> 170\u001b[0m \u001b[38;5;28mself\u001b[39m\u001b[38;5;241m.\u001b[39m_load_metadata()\n\u001b[1;32m    172\u001b[0m \u001b[38;5;66;03m# initialize attributes\u001b[39;00m\n",
      "File \u001b[0;32m/opt/coiled/env/lib/python3.12/site-packages/zarr/core.py:193\u001b[0m, in \u001b[0;36m_load_metadata\u001b[0;34m()\u001b[0m\n\u001b[1;32m    192\u001b[0m \u001b[38;5;28;01mif\u001b[39;00m \u001b[38;5;28mself\u001b[39m\u001b[38;5;241m.\u001b[39m_synchronizer \u001b[38;5;129;01mis\u001b[39;00m \u001b[38;5;28;01mNone\u001b[39;00m:\n\u001b[0;32m--> 193\u001b[0m     \u001b[38;5;28mself\u001b[39m\u001b[38;5;241m.\u001b[39m_load_metadata_nosync()\n\u001b[1;32m    194\u001b[0m \u001b[38;5;28;01melse\u001b[39;00m:\n",
      "File \u001b[0;32m/opt/coiled/env/lib/python3.12/site-packages/zarr/core.py:204\u001b[0m, in \u001b[0;36m_load_metadata_nosync\u001b[0;34m()\u001b[0m\n\u001b[1;32m    203\u001b[0m \u001b[38;5;28;01mexcept\u001b[39;00m \u001b[38;5;167;01mKeyError\u001b[39;00m \u001b[38;5;28;01mas\u001b[39;00m e:\n\u001b[0;32m--> 204\u001b[0m     \u001b[38;5;28;01mraise\u001b[39;00m ArrayNotFoundError(\u001b[38;5;28mself\u001b[39m\u001b[38;5;241m.\u001b[39m_path) \u001b[38;5;28;01mfrom\u001b[39;00m \u001b[38;5;21;01me\u001b[39;00m\n\u001b[1;32m    205\u001b[0m \u001b[38;5;28;01melse\u001b[39;00m:\n\u001b[1;32m    206\u001b[0m     \u001b[38;5;66;03m# decode and store metadata as instance members\u001b[39;00m\n",
      "\u001b[0;31mArrayNotFoundError\u001b[0m: array not found at path %r' \"array not found at path %r' 'analysed_sst'\"",
      "\nThe above exception was the direct cause of the following exception:\n",
      "\u001b[0;31mRuntimeError\u001b[0m                              Traceback (most recent call last)",
      "File \u001b[0;32m<timed exec>:1\u001b[0m\n",
      "File \u001b[0;32m/opt/coiled/env/lib/python3.12/site-packages/xarray/core/dataarray.py:1156\u001b[0m, in \u001b[0;36mDataArray.compute\u001b[0;34m(self, **kwargs)\u001b[0m\n\u001b[1;32m   1137\u001b[0m \u001b[38;5;250m\u001b[39m\u001b[38;5;124;03m\"\"\"Manually trigger loading of this array's data from disk or a\u001b[39;00m\n\u001b[1;32m   1138\u001b[0m \u001b[38;5;124;03mremote source into memory and return a new array. The original is\u001b[39;00m\n\u001b[1;32m   1139\u001b[0m \u001b[38;5;124;03mleft unaltered.\u001b[39;00m\n\u001b[0;32m   (...)\u001b[0m\n\u001b[1;32m   1153\u001b[0m \u001b[38;5;124;03mdask.compute\u001b[39;00m\n\u001b[1;32m   1154\u001b[0m \u001b[38;5;124;03m\"\"\"\u001b[39;00m\n\u001b[1;32m   1155\u001b[0m new \u001b[38;5;241m=\u001b[39m \u001b[38;5;28mself\u001b[39m\u001b[38;5;241m.\u001b[39mcopy(deep\u001b[38;5;241m=\u001b[39m\u001b[38;5;28;01mFalse\u001b[39;00m)\n\u001b[0;32m-> 1156\u001b[0m \u001b[38;5;28;01mreturn\u001b[39;00m \u001b[43mnew\u001b[49m\u001b[38;5;241;43m.\u001b[39;49m\u001b[43mload\u001b[49m\u001b[43m(\u001b[49m\u001b[38;5;241;43m*\u001b[39;49m\u001b[38;5;241;43m*\u001b[39;49m\u001b[43mkwargs\u001b[49m\u001b[43m)\u001b[49m\n",
      "File \u001b[0;32m/opt/coiled/env/lib/python3.12/site-packages/xarray/core/dataarray.py:1130\u001b[0m, in \u001b[0;36mDataArray.load\u001b[0;34m(self, **kwargs)\u001b[0m\n\u001b[1;32m   1112\u001b[0m \u001b[38;5;28;01mdef\u001b[39;00m \u001b[38;5;21mload\u001b[39m(\u001b[38;5;28mself\u001b[39m, \u001b[38;5;241m*\u001b[39m\u001b[38;5;241m*\u001b[39mkwargs) \u001b[38;5;241m-\u001b[39m\u001b[38;5;241m>\u001b[39m Self:\n\u001b[1;32m   1113\u001b[0m \u001b[38;5;250m    \u001b[39m\u001b[38;5;124;03m\"\"\"Manually trigger loading of this array's data from disk or a\u001b[39;00m\n\u001b[1;32m   1114\u001b[0m \u001b[38;5;124;03m    remote source into memory and return this array.\u001b[39;00m\n\u001b[1;32m   1115\u001b[0m \n\u001b[0;32m   (...)\u001b[0m\n\u001b[1;32m   1128\u001b[0m \u001b[38;5;124;03m    dask.compute\u001b[39;00m\n\u001b[1;32m   1129\u001b[0m \u001b[38;5;124;03m    \"\"\"\u001b[39;00m\n\u001b[0;32m-> 1130\u001b[0m     ds \u001b[38;5;241m=\u001b[39m \u001b[38;5;28;43mself\u001b[39;49m\u001b[38;5;241;43m.\u001b[39;49m\u001b[43m_to_temp_dataset\u001b[49m\u001b[43m(\u001b[49m\u001b[43m)\u001b[49m\u001b[38;5;241;43m.\u001b[39;49m\u001b[43mload\u001b[49m\u001b[43m(\u001b[49m\u001b[38;5;241;43m*\u001b[39;49m\u001b[38;5;241;43m*\u001b[39;49m\u001b[43mkwargs\u001b[49m\u001b[43m)\u001b[49m\n\u001b[1;32m   1131\u001b[0m     new \u001b[38;5;241m=\u001b[39m \u001b[38;5;28mself\u001b[39m\u001b[38;5;241m.\u001b[39m_from_temp_dataset(ds)\n\u001b[1;32m   1132\u001b[0m     \u001b[38;5;28mself\u001b[39m\u001b[38;5;241m.\u001b[39m_variable \u001b[38;5;241m=\u001b[39m new\u001b[38;5;241m.\u001b[39m_variable\n",
      "File \u001b[0;32m/opt/coiled/env/lib/python3.12/site-packages/xarray/core/dataset.py:846\u001b[0m, in \u001b[0;36mDataset.load\u001b[0;34m(self, **kwargs)\u001b[0m\n\u001b[1;32m    843\u001b[0m chunkmanager \u001b[38;5;241m=\u001b[39m get_chunked_array_type(\u001b[38;5;241m*\u001b[39mlazy_data\u001b[38;5;241m.\u001b[39mvalues())\n\u001b[1;32m    845\u001b[0m \u001b[38;5;66;03m# evaluate all the chunked arrays simultaneously\u001b[39;00m\n\u001b[0;32m--> 846\u001b[0m evaluated_data \u001b[38;5;241m=\u001b[39m \u001b[43mchunkmanager\u001b[49m\u001b[38;5;241;43m.\u001b[39;49m\u001b[43mcompute\u001b[49m\u001b[43m(\u001b[49m\u001b[38;5;241;43m*\u001b[39;49m\u001b[43mlazy_data\u001b[49m\u001b[38;5;241;43m.\u001b[39;49m\u001b[43mvalues\u001b[49m\u001b[43m(\u001b[49m\u001b[43m)\u001b[49m\u001b[43m,\u001b[49m\u001b[43m \u001b[49m\u001b[38;5;241;43m*\u001b[39;49m\u001b[38;5;241;43m*\u001b[39;49m\u001b[43mkwargs\u001b[49m\u001b[43m)\u001b[49m\n\u001b[1;32m    848\u001b[0m \u001b[38;5;28;01mfor\u001b[39;00m k, data \u001b[38;5;129;01min\u001b[39;00m \u001b[38;5;28mzip\u001b[39m(lazy_data, evaluated_data):\n\u001b[1;32m    849\u001b[0m     \u001b[38;5;28mself\u001b[39m\u001b[38;5;241m.\u001b[39mvariables[k]\u001b[38;5;241m.\u001b[39mdata \u001b[38;5;241m=\u001b[39m data\n",
      "File \u001b[0;32m/opt/coiled/env/lib/python3.12/site-packages/xarray/core/daskmanager.py:70\u001b[0m, in \u001b[0;36mDaskManager.compute\u001b[0;34m(self, *data, **kwargs)\u001b[0m\n\u001b[1;32m     67\u001b[0m \u001b[38;5;28;01mdef\u001b[39;00m \u001b[38;5;21mcompute\u001b[39m(\u001b[38;5;28mself\u001b[39m, \u001b[38;5;241m*\u001b[39mdata: DaskArray, \u001b[38;5;241m*\u001b[39m\u001b[38;5;241m*\u001b[39mkwargs) \u001b[38;5;241m-\u001b[39m\u001b[38;5;241m>\u001b[39m \u001b[38;5;28mtuple\u001b[39m[np\u001b[38;5;241m.\u001b[39mndarray, \u001b[38;5;241m.\u001b[39m\u001b[38;5;241m.\u001b[39m\u001b[38;5;241m.\u001b[39m]:\n\u001b[1;32m     68\u001b[0m     \u001b[38;5;28;01mfrom\u001b[39;00m \u001b[38;5;21;01mdask\u001b[39;00m\u001b[38;5;21;01m.\u001b[39;00m\u001b[38;5;21;01marray\u001b[39;00m \u001b[38;5;28;01mimport\u001b[39;00m compute\n\u001b[0;32m---> 70\u001b[0m     \u001b[38;5;28;01mreturn\u001b[39;00m \u001b[43mcompute\u001b[49m\u001b[43m(\u001b[49m\u001b[38;5;241;43m*\u001b[39;49m\u001b[43mdata\u001b[49m\u001b[43m,\u001b[49m\u001b[43m \u001b[49m\u001b[38;5;241;43m*\u001b[39;49m\u001b[38;5;241;43m*\u001b[39;49m\u001b[43mkwargs\u001b[49m\u001b[43m)\u001b[49m\n",
      "File \u001b[0;32m/opt/coiled/env/lib/python3.12/site-packages/dask/base.py:661\u001b[0m, in \u001b[0;36mcompute\u001b[0;34m(traverse, optimize_graph, scheduler, get, *args, **kwargs)\u001b[0m\n\u001b[1;32m    658\u001b[0m     postcomputes\u001b[38;5;241m.\u001b[39mappend(x\u001b[38;5;241m.\u001b[39m__dask_postcompute__())\n\u001b[1;32m    660\u001b[0m \u001b[38;5;28;01mwith\u001b[39;00m shorten_traceback():\n\u001b[0;32m--> 661\u001b[0m     results \u001b[38;5;241m=\u001b[39m \u001b[43mschedule\u001b[49m\u001b[43m(\u001b[49m\u001b[43mdsk\u001b[49m\u001b[43m,\u001b[49m\u001b[43m \u001b[49m\u001b[43mkeys\u001b[49m\u001b[43m,\u001b[49m\u001b[43m \u001b[49m\u001b[38;5;241;43m*\u001b[39;49m\u001b[38;5;241;43m*\u001b[39;49m\u001b[43mkwargs\u001b[49m\u001b[43m)\u001b[49m\n\u001b[1;32m    663\u001b[0m \u001b[38;5;28;01mreturn\u001b[39;00m repack([f(r, \u001b[38;5;241m*\u001b[39ma) \u001b[38;5;28;01mfor\u001b[39;00m r, (f, a) \u001b[38;5;129;01min\u001b[39;00m \u001b[38;5;28mzip\u001b[39m(results, postcomputes)])\n",
      "File \u001b[0;32m/opt/coiled/env/lib/python3.12/site-packages/distributed/client.py:2234\u001b[0m, in \u001b[0;36mClient._gather\u001b[0;34m(self, futures, errors, direct, local_worker)\u001b[0m\n\u001b[1;32m   2232\u001b[0m         exc \u001b[38;5;241m=\u001b[39m CancelledError(key)\n\u001b[1;32m   2233\u001b[0m     \u001b[38;5;28;01melse\u001b[39;00m:\n\u001b[0;32m-> 2234\u001b[0m         \u001b[38;5;28;01mraise\u001b[39;00m exception\u001b[38;5;241m.\u001b[39mwith_traceback(traceback)\n\u001b[1;32m   2235\u001b[0m     \u001b[38;5;28;01mraise\u001b[39;00m exc\n\u001b[1;32m   2236\u001b[0m \u001b[38;5;28;01mif\u001b[39;00m errors \u001b[38;5;241m==\u001b[39m \u001b[38;5;124m\"\u001b[39m\u001b[38;5;124mskip\u001b[39m\u001b[38;5;124m\"\u001b[39m:\n",
      "\u001b[0;31mRuntimeError\u001b[0m: Error during deserialization of the task graph. This frequently\noccurs if the Scheduler and Client have different environments.\nFor more information, see\nhttps://docs.dask.org/en/stable/deployment-considerations.html#consistent-software-environments\n"
     ]
    }
   ],
   "source": [
    "%%time\n",
    "seasonal_cycle = seasonal_cycle_regional(sst, lat_region, lon_region).compute()"
   ]
  },
  {
   "cell_type": "code",
   "execution_count": 71,
   "id": "7937d3d8-a446-4fb4-ac92-13cc01ae8109",
   "metadata": {},
   "outputs": [],
   "source": [
    "client.shutdown()"
   ]
  },
  {
   "cell_type": "code",
   "execution_count": null,
   "id": "f4a4a16b-9a8a-421d-8cd1-dbeb984ec8fa",
   "metadata": {},
   "outputs": [],
   "source": []
  }
 ],
 "metadata": {
  "kernelspec": {
   "display_name": "Python 3 (ipykernel)",
   "language": "python",
   "name": "python3"
  },
  "language_info": {
   "codemirror_mode": {
    "name": "ipython",
    "version": 3
   },
   "file_extension": ".py",
   "mimetype": "text/x-python",
   "name": "python",
   "nbconvert_exporter": "python",
   "pygments_lexer": "ipython3",
   "version": "3.12.9"
  }
 },
 "nbformat": 4,
 "nbformat_minor": 5
}
